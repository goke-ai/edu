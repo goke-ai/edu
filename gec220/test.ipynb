{
 "cells": [
  {
   "cell_type": "code",
   "execution_count": null,
   "metadata": {},
   "outputs": [],
   "source": []
  },
  {
   "attachments": {},
   "cell_type": "markdown",
   "metadata": {},
   "source": [
    "\n",
    "$$\n",
    "\\left[\n",
    "    \\begin{matrix}\n",
    "        (1-\\alpha_{11k}) & \\alpha_{12k} & \\alpha_{13k} & \\alpha_{14k} & \\alpha_{15k} & \\alpha_{16k} & \\alpha_{17k} \\\\\n",
    "        \\alpha_{21k} & (1-\\alpha_{21k}) & \\alpha_{23k} & \\alpha_{24k} & \\alpha_{25k} & \\alpha_{26k} & \\alpha_{27k} \\\\\n",
    "        \\alpha_{31k} & \\alpha_{32k} & (1-\\alpha_{33k}) & \\alpha_{34k} & \\alpha_{35k} & \\alpha_{36k} & \\alpha_{37k} \\\\\n",
    "        \\alpha_{41k} & \\alpha_{42k} & \\alpha_{43k} & (1-\\alpha_{44k}) & \\alpha_{45k} & \\alpha_{46k} & \\alpha_{47k} \\\\\n",
    "        \\alpha_{51k} & \\alpha_{52k} & \\alpha_{53k} & \\alpha_{54k} & (1-\\alpha_{55k}) & \\alpha_{56k} & \\alpha_{57k} \\\\\n",
    "        \\alpha_{61k} & \\alpha_{62k} & \\alpha_{63k} & \\alpha_{64k} & \\alpha_{65k} & (1-\\alpha_{66k}) & \\alpha_{67k} \\\\\n",
    "        \\alpha_{71k} & \\alpha_{72k} & \\alpha_{73k} & \\alpha_{74k} & \\alpha_{75k} & \\alpha_{76k} & (1-\\alpha_{77k}) \\\\\n",
    "    \\end{matrix}\n",
    "    \\right]\n",
    "    \\left[\n",
    "    \\begin{matrix}\n",
    "        \\lambda_{1k}  \\\\\n",
    "        \\lambda_{2k}  \\\\\n",
    "        \\lambda_{3k}  \\\\\n",
    "        \\lambda_{4k}  \\\\\n",
    "        \\lambda_{5k}  \\\\\n",
    "        \\lambda_{6k}  \\\\\n",
    "        \\lambda_{7k}  \\\\\n",
    "    \\end{matrix}\n",
    "    \\right]\n",
    "    =\n",
    "    \\left[\n",
    "    \\begin{matrix}\n",
    "        g_{10k}  \\\\\n",
    "        g_{20k}  \\\\\n",
    "        g_{30k}  \\\\\n",
    "        g_{40k}  \\\\\n",
    "        g_{50k}  \\\\\n",
    "        g_{60k}  \\\\\n",
    "        g_{70k}  \\\\\n",
    "    \\end{matrix}\n",
    "    \\right]\n",
    "$$\n",
    "\n"
   ]
  },
  {
   "cell_type": "markdown",
   "metadata": {},
   "source": []
  }
 ],
 "metadata": {
  "kernelspec": {
   "display_name": "Python 3",
   "language": "python",
   "name": "python3"
  },
  "language_info": {
   "name": "python",
   "version": "3.10.8 (tags/v3.10.8:aaaf517, Oct 11 2022, 16:50:30) [MSC v.1933 64 bit (AMD64)]"
  },
  "orig_nbformat": 4,
  "vscode": {
   "interpreter": {
    "hash": "51c941cbf7f5e8c3563d6b2d33bfbfa06869b4bf5d466a1f940d73ca27351b1d"
   }
  }
 },
 "nbformat": 4,
 "nbformat_minor": 2
}
