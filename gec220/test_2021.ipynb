{
 "cells": [
  {
   "cell_type": "code",
   "execution_count": 5,
   "metadata": {},
   "outputs": [
    {
     "name": "stdout",
     "output_type": "stream",
     "text": [
      "order of \n",
      " [[-3.]] =  1 x 1\n"
     ]
    }
   ],
   "source": [
    "import numpy as np\n",
    "\n",
    "A = np.array(\n",
    "    [\n",
    "    [-3]\n",
    "    ], dtype=float\n",
    ")\n",
    "\n",
    "(m,n) = np.shape(A)\n",
    "\n",
    "print('order of \\n', A, '= ', f'{m} x {n}')"
   ]
  },
  {
   "cell_type": "code",
   "execution_count": 6,
   "id": "e9830502",
   "metadata": {},
   "outputs": [
    {
     "data": {
      "text/plain": [
       "(1, 1)"
      ]
     },
     "execution_count": 6,
     "metadata": {},
     "output_type": "execute_result"
    }
   ],
   "source": [
    "from sympy import shape, Matrix\n",
    "\n",
    "M = Matrix(\n",
    "    [\n",
    "    [-3]\n",
    "    ]\n",
    ")\n",
    "\n",
    "shape(M)\n"
   ]
  },
  {
   "cell_type": "code",
   "execution_count": 28,
   "metadata": {},
   "outputs": [
    {
     "name": "stdout",
     "output_type": "stream",
     "text": [
      "order of \n",
      " [[ 8  3  9  4  7]\n",
      " [ 2  6  9  4  5]\n",
      " [ 9 10  3  6  6]\n",
      " [ 7 11  4  1  6]\n",
      " [ 5  1 11  1  8]\n",
      " [ 1  5 10  6  7]\n",
      " [ 5  3  6  7  6]\n",
      " [ 3  6  9 11  8]\n",
      " [ 1  1  9  1  3]\n",
      " [ 5  8  8  2 10]\n",
      " [ 2  3  8  3  1]] =  11 x 5\n"
     ]
    }
   ],
   "source": [
    "import numpy as np\n",
    "\n",
    "A = np.random.randint(1,12,size=(11,5))\n",
    "\n",
    "(m,n) = np.shape(A)\n",
    "\n",
    "print('order of \\n', A, '= ', f'{m} x {n}')"
   ]
  },
  {
   "cell_type": "code",
   "execution_count": 29,
   "metadata": {},
   "outputs": [
    {
     "name": "stdout",
     "output_type": "stream",
     "text": [
      "(11, 5)\n"
     ]
    },
    {
     "data": {
      "text/latex": [
       "$\\displaystyle \\left[\\begin{matrix}1 & 1 & 1 & 1 & 1\\\\1 & 1 & 1 & 1 & 1\\\\1 & 1 & 1 & 1 & 1\\\\1 & 1 & 1 & 1 & 1\\\\1 & 1 & 1 & 1 & 1\\\\1 & 1 & 1 & 1 & 1\\\\1 & 1 & 1 & 1 & 1\\\\1 & 1 & 1 & 1 & 1\\\\1 & 1 & 1 & 1 & 1\\\\1 & 1 & 1 & 1 & 1\\\\1 & 1 & 1 & 1 & 1\\end{matrix}\\right]$"
      ],
      "text/plain": [
       "Matrix([\n",
       "[1, 1, 1, 1, 1],\n",
       "[1, 1, 1, 1, 1],\n",
       "[1, 1, 1, 1, 1],\n",
       "[1, 1, 1, 1, 1],\n",
       "[1, 1, 1, 1, 1],\n",
       "[1, 1, 1, 1, 1],\n",
       "[1, 1, 1, 1, 1],\n",
       "[1, 1, 1, 1, 1],\n",
       "[1, 1, 1, 1, 1],\n",
       "[1, 1, 1, 1, 1],\n",
       "[1, 1, 1, 1, 1]])"
      ]
     },
     "execution_count": 29,
     "metadata": {},
     "output_type": "execute_result"
    }
   ],
   "source": [
    "from sympy import shape, Matrix\n",
    "\n",
    "M = Matrix(11,5, lambda i,j: 1)\n",
    "\n",
    "print(shape(M))\n",
    "M"
   ]
  },
  {
   "cell_type": "code",
   "execution_count": 44,
   "metadata": {},
   "outputs": [
    {
     "name": "stdout",
     "output_type": "stream",
     "text": [
      "A*B=\n",
      " [[ 6  6  8]\n",
      " [ 9  9 10]\n",
      " [10 10  8]]\n",
      "\n",
      "B*A=\n",
      " [[15 20]\n",
      " [ 9  8]]\n",
      "\n",
      "A*B^T=\n",
      "Error multiplying A*B^T\n",
      "\n",
      "B*A^T=\n",
      "Error multiplying B*A^T=\n"
     ]
    },
    {
     "data": {
      "text/plain": [
       "(array([[1, 3],\n",
       "        [2, 3],\n",
       "        [3, 1]]),\n",
       " array([[3, 3, 2],\n",
       "        [1, 1, 2]]))"
      ]
     },
     "execution_count": 44,
     "metadata": {},
     "output_type": "execute_result"
    }
   ],
   "source": [
    "import numpy as np\n",
    "\n",
    "A = np.random.randint(1,4,size=(3,2))\n",
    "B = np.random.randint(1,4,size=(2,3))\n",
    "\n",
    "try:\n",
    "    print('A*B=\\n', A @ B)\n",
    "except ValueError:\n",
    "    print('A*B=\\nError multiplying A*B')\n",
    "\n",
    "print()\n",
    "\n",
    "try:\n",
    "    print('B*A=\\n', B @ A)\n",
    "except ValueError:\n",
    "    print('B*A=\\nError multiplying B*A')\n",
    "\n",
    "print()\n",
    "\n",
    "try:\n",
    "    print('A*B^T=\\n', A @ np.transpose(B))\n",
    "except ValueError:\n",
    "    print('A*B^T=\\nError multiplying A*B^T')\n",
    "\n",
    "print()\n",
    "\n",
    "try:\n",
    "    print('B*A^T=\\n', B @ np.transpose(A))\n",
    "except ValueError:\n",
    "    print('B*A^T=\\nError multiplying B*A^T=')\n",
    "\n",
    "A,B"
   ]
  },
  {
   "cell_type": "code",
   "execution_count": 43,
   "id": "ad4a1ac2",
   "metadata": {},
   "outputs": [
    {
     "name": "stdout",
     "output_type": "stream",
     "text": [
      "\n",
      "A*B=\n",
      " Matrix([[2, 2, 2], [2, 2, 2], [2, 2, 2]])\n",
      "\n",
      "B*A=\n",
      " Matrix([[3, 3], [3, 3]])\n",
      "\n",
      "A*B^T=\n",
      "Error multiplying A*B^T\n",
      "\n",
      "B*A^T=\n",
      "Error multiplying B*A^T=\n"
     ]
    },
    {
     "data": {
      "text/latex": [
       "$\\displaystyle \\left[\\begin{matrix}1 & 1 & 1\\\\1 & 1 & 1\\end{matrix}\\right]$"
      ],
      "text/plain": [
       "Matrix([\n",
       "[1, 1, 1],\n",
       "[1, 1, 1]])"
      ]
     },
     "execution_count": 43,
     "metadata": {},
     "output_type": "execute_result"
    }
   ],
   "source": [
    "from sympy import Matrix\n",
    "\n",
    "A = Matrix(3,2, lambda i,j: 1)\n",
    "B = Matrix(2,3, lambda i,j: 1)\n",
    "\n",
    "\n",
    "print()\n",
    "\n",
    "try:\n",
    "    print('A*B=\\n', A * B)\n",
    "except ValueError:\n",
    "    print('A*B=\\nError multiplying A*B')\n",
    "\n",
    "print()\n",
    "\n",
    "try:\n",
    "    print('B*A=\\n', B * A)\n",
    "except ValueError:\n",
    "    print('B*A=\\nError multiplying B*A')\n",
    "\n",
    "print()\n",
    "\n",
    "try:\n",
    "    print('A*B^T=\\n', A * B.T)\n",
    "except ValueError:\n",
    "    print('A*B^T=\\nError multiplying A*B^T')\n",
    "\n",
    "print()\n",
    "\n",
    "try:\n",
    "    print('B*A^T=\\n', B * A.T)\n",
    "except ValueError:\n",
    "    print('B*A^T=\\nError multiplying B*A^T=')\n",
    "\n"
   ]
  },
  {
   "cell_type": "code",
   "execution_count": 57,
   "metadata": {},
   "outputs": [
    {
     "name": "stdout",
     "output_type": "stream",
     "text": [
      "27314.0\n"
     ]
    },
    {
     "data": {
      "text/plain": [
       "array([[ 8, -3, -6,  0,  8,  8],\n",
       "       [-7,  5,  4,  4, -7, -3],\n",
       "       [ 5,  6,  5,  0, -9, -2],\n",
       "       [-3, -7, -9, -6,  7,  4],\n",
       "       [-6,  0, -1,  6,  4, -2],\n",
       "       [ 5, -6, -6, -6,  4, -3]])"
      ]
     },
     "execution_count": 57,
     "metadata": {},
     "output_type": "execute_result"
    }
   ],
   "source": [
    "import numpy as np\n",
    "\n",
    "A = np.random.randint(-9,9,size=(6,6))\n",
    "\n",
    "print(np.linalg.det(A))\n",
    "\n",
    "A"
   ]
  },
  {
   "cell_type": "code",
   "execution_count": 27,
   "metadata": {},
   "outputs": [
    {
     "name": "stdout",
     "output_type": "stream",
     "text": [
      "x = \n",
      " [[ 2.57894737]\n",
      " [-1.21052632]\n",
      " [-0.21052632]\n",
      " [ 1.10526316]]\n"
     ]
    }
   ],
   "source": [
    "import numpy as np\n",
    "\n",
    "A = np.array(\n",
    "    [\n",
    "        [1, -1, -1, 0],\n",
    "        [0, -2, 3, 2],\n",
    "        [2, 1, 5, 1],\n",
    "        [-2, 1, -2, 9],\n",
    "    ]\n",
    ")\n",
    "\n",
    "b = np.array(\n",
    "    [\n",
    "        [4],\n",
    "        [4],\n",
    "        [4],\n",
    "        [4],\n",
    "    ]\n",
    ")\n",
    "\n",
    "x = np.linalg.solve(A,b)\n",
    "\n",
    "print('x = \\n', x)\n"
   ]
  },
  {
   "cell_type": "code",
   "execution_count": 29,
   "metadata": {},
   "outputs": [
    {
     "data": {
      "text/latex": [
       "$\\displaystyle \\left\\{\\left( - \\frac{21}{13}, \\  -7, \\  - \\frac{24}{13}\\right)\\right\\}$"
      ],
      "text/plain": [
       "FiniteSet((-21/13, -7, -24/13))"
      ]
     },
     "execution_count": 29,
     "metadata": {},
     "output_type": "execute_result"
    }
   ],
   "source": [
    "from sympy import *\n",
    "\n",
    "x,y,z=symbols('x y z')\n",
    "\n",
    "linsolve(\n",
    "    Matrix(\n",
    "        (\n",
    "            [3, -1, -1, 4],\n",
    "            [4, -2, 3, 2],\n",
    "            [2, 1, -5, -1]\n",
    "        )\n",
    "    ), \n",
    "    (x, y, z)\n",
    ")\n"
   ]
  },
  {
   "cell_type": "code",
   "execution_count": 28,
   "metadata": {},
   "outputs": [
    {
     "name": "stdout",
     "output_type": "stream",
     "text": [
      "M =\n",
      " [[ 3. -1. -1.  4.]\n",
      " [ 4. -2.  3.  2.]\n",
      " [ 2.  1. -5. -1.]]\n",
      "mxn =\n",
      " 3 x 4\n",
      "|A| = \n",
      " [[ 3. -1. -1.]\n",
      " [ 4. -2.  3.]\n",
      " [ 2.  1. -5.]] \n",
      " = -13.0\n",
      "M =\n",
      " [[ 3.         -1.         -1.          4.        ]\n",
      " [ 0.         -0.66666667  4.33333333 -3.33333333]\n",
      " [ 2.          1.         -5.         -1.        ]]\n",
      "M =\n",
      " [[ 3.         -1.         -1.          4.        ]\n",
      " [ 0.         -0.66666667  4.33333333 -3.33333333]\n",
      " [ 0.          1.66666667 -4.33333333 -3.66666667]]\n",
      "M =\n",
      " [[  3.          -1.          -1.           4.        ]\n",
      " [  0.          -0.66666667   4.33333333  -3.33333333]\n",
      " [  0.           0.           6.5        -12.        ]]\n",
      "|A| = -12.999999999999995\n"
     ]
    }
   ],
   "source": [
    "import numpy as np\n",
    "from fractions import Fraction\n",
    "\n",
    "M = np.array(\n",
    "    [\n",
    "        [3, -1, -1, 4],\n",
    "        [4, -2, 3, 2],\n",
    "        [2, 1, -5, -1],\n",
    "    ],dtype=float\n",
    ")\n",
    "\n",
    "print('M =\\n', M)\n",
    "(m,n) = M.shape\n",
    "print('mxn =\\n', m, 'x', n)\n",
    "print('|A| = \\n', M[:3,:3], '\\n =', np.linalg.det(M[:3,:3]))\n",
    "\n",
    "k = 0\n",
    "p = 0\n",
    "\n",
    "for p in range(0,m-1):\n",
    "    for i in range(p+1,m):\n",
    "        if M[p,p] == 0:\n",
    "            # change row\n",
    "            for j in range(i,m):\n",
    "                if M[j,p] != 0:\n",
    "                    k += 1\n",
    "                    Mp = np.copy(M[p])\n",
    "                    M[p] = M[j]\n",
    "                    M[j] = Mp\n",
    "\n",
    "                    print('Mx =\\n', M)\n",
    "                    break\n",
    "\n",
    "        M[i] = M[i,:] - M[p,:]*M[i,p]/M[p,p]\n",
    "        print('M =\\n', M)\n",
    "\n",
    "detA = 1\n",
    "for p in range(m):\n",
    "    detA *= M[p,p]\n",
    "\n",
    "print('|A| =', detA)\n"
   ]
  },
  {
   "cell_type": "code",
   "execution_count": null,
   "metadata": {},
   "outputs": [],
   "source": []
  },
  {
   "cell_type": "markdown",
   "metadata": {},
   "source": [
    "$$\n",
    "\\left[\n",
    "    \\begin{matrix}\n",
    "        (1-\\alpha_{11k}) & -\\alpha_{12k} & -\\alpha_{13k} & -\\alpha_{14k} & -\\alpha_{15k} & -\\alpha_{16k} & -\\alpha_{17k} & -\\alpha_{18k} & -\\alpha_{19k} & -\\alpha_{110k} \\\\\n",
    "        \n",
    "    \\end{matrix}\n",
    "\\right]\n",
    "$$  "
   ]
  },
  {
   "cell_type": "markdown",
   "metadata": {},
   "source": [
    "$$\n",
    "\\left[\n",
    "    \\begin{matrix}\n",
    "        (1-\\alpha_{11k}) & -\\alpha_{12k} & -\\alpha_{13k} & -\\alpha_{14k} & -\\alpha_{15k} & -\\alpha_{16k} & -\\alpha_{17k} & -\\alpha_{18k} & -\\alpha_{19k} & -\\alpha_{110k} \\\\\n",
    "        -\\alpha_{21k} & (1-\\alpha_{21k}) & -\\alpha_{23k} & -\\alpha_{24k} & -\\alpha_{25k} & -\\alpha_{26k} & -\\alpha_{27k} & -\\alpha_{28k} & -\\alpha_{29k} & -\\alpha_{210k} \\\\\n",
    "        -\\alpha_{31k} & -\\alpha_{31k} & (1-\\alpha_{33k}) & -\\alpha_{34k} & -\\alpha_{35k} & -\\alpha_{36k} & -\\alpha_{37k} & -\\alpha_{38k} & -\\alpha_{39k} & -\\alpha_{310k} \\\\\n",
    "        -\\alpha_{41k} & (1-\\alpha_{41k}) & -\\alpha_{43k} & (1-\\alpha_{44k}) & -\\alpha_{45k} & -\\alpha_{46k} & -\\alpha_{47k} & -\\alpha_{48k} & -\\alpha_{49k} & -\\alpha_{410k} \\\\\n",
    "        \n",
    "    \\end{matrix}\n",
    "\\right]\n",
    "$$  "
   ]
  },
  {
   "cell_type": "code",
   "execution_count": 1,
   "metadata": {},
   "outputs": [
    {
     "data": {
      "text/latex": [
       "$\\displaystyle \\left\\{\\left( \\frac{20}{9}, \\  \\frac{22}{15}, \\  - \\frac{4}{5}\\right)\\right\\}$"
      ],
      "text/plain": [
       "FiniteSet((20/9, 22/15, -4/5))"
      ]
     },
     "execution_count": 1,
     "metadata": {},
     "output_type": "execute_result"
    }
   ],
   "source": [
    "from sympy import *\n",
    "\n",
    "a, b, c = symbols('a b c')\n",
    "\n",
    "linsolve(Matrix((\n",
    "        [3, -1, -1, 6],\n",
    "        [3, -1, 4, 2],\n",
    "        [3, -4, 1, 0],\n",
    "        )), (a,b,c))"
   ]
  },
  {
   "cell_type": "code",
   "execution_count": null,
   "metadata": {},
   "outputs": [],
   "source": []
  }
 ],
 "metadata": {
  "interpreter": {
   "hash": "c1a7846af735771808fbc8272134e7984cc669109ae413ca91ad8b74a534aa1b"
  },
  "kernelspec": {
   "display_name": "Python 3.9.6 64-bit",
   "name": "python3"
  },
  "language_info": {
   "codemirror_mode": {
    "name": "ipython",
    "version": 3
   },
   "file_extension": ".py",
   "mimetype": "text/x-python",
   "name": "python",
   "nbconvert_exporter": "python",
   "pygments_lexer": "ipython3",
   "version": "3.9.6"
  }
 },
 "nbformat": 4,
 "nbformat_minor": 5
}
