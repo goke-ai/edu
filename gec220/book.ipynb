{
 "cells": [
  {
   "cell_type": "code",
   "execution_count": 58,
   "metadata": {},
   "outputs": [
    {
     "data": {
      "text/plain": [
       "array([[ 3., -3., -4.],\n",
       "       [ 1., -1., -1.],\n",
       "       [ 2., -1.,  4.]])"
      ]
     },
     "execution_count": 58,
     "metadata": {},
     "output_type": "execute_result"
    }
   ],
   "source": [
    "import numpy as np\n",
    "\n",
    "A = np.array([\n",
    "    [3., -3, -4],\n",
    "    [1, -1, -1],\n",
    "    [2, -1, 4],\n",
    "])\n",
    "\n",
    "A"
   ]
  },
  {
   "cell_type": "code",
   "execution_count": 59,
   "metadata": {},
   "outputs": [
    {
     "data": {
      "text/plain": [
       "(array([ 3.03248022+2.48958756j,  3.03248022-2.48958756j,\n",
       "        -0.06496045+0.j        ]),\n",
       " array([[ 0.81800407+0.j        ,  0.81800407-0.j        ,\n",
       "         -0.61677134+0.j        ],\n",
       "        [ 0.23416349-0.02249742j,  0.23416349+0.02249742j,\n",
       "         -0.7791653 +0.j        ],\n",
       "        [-0.18226486-0.49225013j, -0.18226486+0.49225013j,\n",
       "          0.11177904+0.j        ]]))"
      ]
     },
     "execution_count": 59,
     "metadata": {},
     "output_type": "execute_result"
    }
   ],
   "source": [
    "np.linalg.eig(A)"
   ]
  },
  {
   "cell_type": "code",
   "execution_count": 81,
   "metadata": {},
   "outputs": [
    {
     "data": {
      "text/plain": [
       "(array([ 6.4313753 , -0.52089263,  2.08951733]),\n",
       " array([[-0.76735724, -0.75533823, -0.20982171],\n",
       "        [-0.02330182,  0.62539479, -0.75866959],\n",
       "        [-0.6407963 ,  0.1958201 ,  0.61676195]]))"
      ]
     },
     "execution_count": 81,
     "metadata": {},
     "output_type": "execute_result"
    }
   ],
   "source": [
    "import numpy as np\n",
    "\n",
    "A = np.array([\n",
    "    [3., 3, 4],\n",
    "    [1, 1, -1],\n",
    "    [2, 1, 4],\n",
    "])\n",
    "\n",
    "np.linalg.eig(A)"
   ]
  },
  {
   "cell_type": "code",
   "execution_count": 65,
   "metadata": {},
   "outputs": [
    {
     "data": {
      "text/plain": [
       "(array([ 5., -2.]),\n",
       " array([[ 0.70710678, -0.6       ],\n",
       "        [ 0.70710678,  0.8       ]]))"
      ]
     },
     "execution_count": 65,
     "metadata": {},
     "output_type": "execute_result"
    }
   ],
   "source": [
    "import numpy as np\n",
    "\n",
    "A = np.array([\n",
    "    [2., 3],\n",
    "    [4, 1],\n",
    "])\n",
    "\n",
    "np.linalg.eig(A)"
   ]
  },
  {
   "cell_type": "code",
   "execution_count": 66,
   "metadata": {},
   "outputs": [
    {
     "data": {
      "text/plain": [
       "1.3333333333333335"
      ]
     },
     "execution_count": 66,
     "metadata": {},
     "output_type": "execute_result"
    }
   ],
   "source": [
    "0.8/.6"
   ]
  },
  {
   "cell_type": "code",
   "execution_count": 67,
   "metadata": {},
   "outputs": [
    {
     "data": {
      "text/plain": [
       "1.3333333333333333"
      ]
     },
     "execution_count": 67,
     "metadata": {},
     "output_type": "execute_result"
    }
   ],
   "source": [
    "4/3"
   ]
  },
  {
   "cell_type": "code",
   "execution_count": 68,
   "metadata": {},
   "outputs": [
    {
     "data": {
      "text/plain": [
       "(array([  4.57774721, -11.57774721]),\n",
       " array([[ 0.9383953 , -0.45823608],\n",
       "        [ 0.34556369,  0.88883052]]))"
      ]
     },
     "execution_count": 68,
     "metadata": {},
     "output_type": "execute_result"
    }
   ],
   "source": [
    "import numpy as np\n",
    "\n",
    "A = np.array([\n",
    "    [2., 7],\n",
    "    [5, -9],\n",
    "])\n",
    "\n",
    "np.linalg.eig(A)"
   ]
  },
  {
   "cell_type": "code",
   "execution_count": null,
   "metadata": {},
   "outputs": [],
   "source": []
  },
  {
   "cell_type": "code",
   "execution_count": 71,
   "metadata": {},
   "outputs": [
    {
     "data": {
      "text/plain": [
       "{4.57774721070176: 1, -11.5777472107018: 1}"
      ]
     },
     "execution_count": 71,
     "metadata": {},
     "output_type": "execute_result"
    }
   ],
   "source": [
    "from sympy import *\n",
    "\n",
    "M = Matrix([\n",
    "    [2., 7],\n",
    "    [5, -9],\n",
    "])\n",
    "\n",
    "M.eigenvals()\n"
   ]
  },
  {
   "cell_type": "code",
   "execution_count": 72,
   "metadata": {},
   "outputs": [
    {
     "data": {
      "text/plain": [
       "[(4.57774721070176,\n",
       "  1,\n",
       "  [Matrix([\n",
       "   [0.938395296916184],\n",
       "   [0.345563694165906]])]),\n",
       " (-11.5777472107018,\n",
       "  1,\n",
       "  [Matrix([\n",
       "   [-0.461734115502309],\n",
       "   [ 0.895615585549618]])])]"
      ]
     },
     "execution_count": 72,
     "metadata": {},
     "output_type": "execute_result"
    }
   ],
   "source": [
    "M.eigenvects()\n"
   ]
  },
  {
   "cell_type": "code",
   "execution_count": 70,
   "metadata": {},
   "outputs": [
    {
     "data": {
      "text/latex": [
       "$\\displaystyle \\left[\\begin{matrix}3.0 & -3 & -4\\\\1 & -1 & -1\\\\2 & -1 & 4\\end{matrix}\\right]$"
      ],
      "text/plain": [
       "Matrix([\n",
       "[3.0, -3, -4],\n",
       "[  1, -1, -1],\n",
       "[  2, -1,  4]])"
      ]
     },
     "execution_count": 70,
     "metadata": {},
     "output_type": "execute_result"
    }
   ],
   "source": [
    "from sympy import *\n",
    "\n",
    "M = Matrix([\n",
    "    [3., -3, -4],\n",
    "    [1, -1, -1],\n",
    "    [2, -1, 4],\n",
    "])\n",
    "\n",
    "M"
   ]
  },
  {
   "cell_type": "code",
   "execution_count": 20,
   "metadata": {},
   "outputs": [
    {
     "data": {
      "text/latex": [
       "$\\displaystyle -1.0$"
      ],
      "text/plain": [
       "-1.00000000000000"
      ]
     },
     "execution_count": 20,
     "metadata": {},
     "output_type": "execute_result"
    }
   ],
   "source": [
    "M.det()"
   ]
  },
  {
   "cell_type": "code",
   "execution_count": 21,
   "metadata": {},
   "outputs": [
    {
     "data": {
      "text/plain": [
       "{-0.0649604478220922 - 9.46733982568332e-64*I: 1,\n",
       " 3.03248022391105 - 2.48958756389532*I: 1,\n",
       " 3.03248022391105 + 2.48958756389532*I: 1}"
      ]
     },
     "execution_count": 21,
     "metadata": {},
     "output_type": "execute_result"
    }
   ],
   "source": [
    "Eiv = M.eigenvals()\n",
    "Eiv"
   ]
  },
  {
   "cell_type": "code",
   "execution_count": 22,
   "metadata": {},
   "outputs": [
    {
     "data": {
      "text/plain": [
       "[(-0.0649604478220922 - 9.46733982568332e-64*I,\n",
       "  1,\n",
       "  [Matrix([\n",
       "   [  0.605929384171092 + 0.115136709162195*I],\n",
       "   [  0.765468697581534 + 0.145451844899015*I],\n",
       "   [-0.109814124021752 - 0.0208665187556304*I]])]),\n",
       " (3.03248022391105 - 2.48958756389532*I,\n",
       "  1,\n",
       "  [Matrix([\n",
       "   [0.902070608999798 - 0.721023165140121*I],\n",
       "   [0.278058713304286 - 0.181592058671222*I],\n",
       "   [ 0.232893677484134 + 0.70349473494596*I]])]),\n",
       " (3.03248022391105 + 2.48958756389532*I,\n",
       "  1,\n",
       "  [Matrix([\n",
       "   [ -0.539953240139931 + 1.02081158239527*I],\n",
       "   [-0.126492906813434 + 0.307069810210603*I],\n",
       "   [0.734604085798276 + 0.0974738130845893*I]])])]"
      ]
     },
     "execution_count": 22,
     "metadata": {},
     "output_type": "execute_result"
    }
   ],
   "source": [
    "Eivec = M.eigenvects()\n",
    "Eivec"
   ]
  },
  {
   "cell_type": "code",
   "execution_count": 38,
   "metadata": {},
   "outputs": [
    {
     "data": {
      "text/latex": [
       "$\\displaystyle \\left\\{1.0, 2.0, 11.0\\right\\}$"
      ],
      "text/plain": [
       "{1.0, 2.0, 11.0}"
      ]
     },
     "execution_count": 38,
     "metadata": {},
     "output_type": "execute_result"
    }
   ],
   "source": [
    "x = symbols('x')\n",
    "solveset(-x**3 + 14.0*x**2 -35*x + 22, x)"
   ]
  },
  {
   "cell_type": "code",
   "execution_count": 47,
   "metadata": {},
   "outputs": [
    {
     "data": {
      "text/latex": [
       "$x \\mapsto \\text{22.0} - \\text{35.0}\\,x + \\text{14.0}\\,x^{2} - \\text{1.0}\\,x^{3}$"
      ],
      "text/plain": [
       "Polynomial([ 22., -35.,  14.,  -1.], domain=[-1,  1], window=[-1,  1])"
      ]
     },
     "execution_count": 47,
     "metadata": {},
     "output_type": "execute_result"
    }
   ],
   "source": [
    "import numpy as np \n",
    "\n",
    "p = np.polynomial.Polynomial([22,-35,14,-1])\n",
    "p"
   ]
  },
  {
   "cell_type": "code",
   "execution_count": 52,
   "metadata": {},
   "outputs": [
    {
     "data": {
      "text/plain": [
       "array([ 1.,  2., 11.])"
      ]
     },
     "execution_count": 52,
     "metadata": {},
     "output_type": "execute_result"
    }
   ],
   "source": [
    "np.polynomial.polynomial.polyroots(p.coef)"
   ]
  },
  {
   "cell_type": "code",
   "execution_count": 50,
   "metadata": {},
   "outputs": [
    {
     "data": {
      "text/plain": [
       "array([ 1.,  2., 11.])"
      ]
     },
     "execution_count": 50,
     "metadata": {},
     "output_type": "execute_result"
    }
   ],
   "source": [
    "p.roots()"
   ]
  },
  {
   "cell_type": "code",
   "execution_count": 42,
   "metadata": {},
   "outputs": [
    {
     "data": {
      "text/plain": [
       "array([-22.,  35., -14.,   1.])"
      ]
     },
     "execution_count": 42,
     "metadata": {},
     "output_type": "execute_result"
    }
   ],
   "source": [
    "p2 = np.polynomial.polynomial.polyfromroots([1,2,11])\n",
    "p2"
   ]
  },
  {
   "cell_type": "code",
   "execution_count": 43,
   "metadata": {},
   "outputs": [
    {
     "data": {
      "text/plain": [
       "array([ 1.,  2., 11.])"
      ]
     },
     "execution_count": 43,
     "metadata": {},
     "output_type": "execute_result"
    }
   ],
   "source": [
    "np.polynomial.polynomial.polyroots(p2)"
   ]
  },
  {
   "cell_type": "code",
   "execution_count": 18,
   "metadata": {},
   "outputs": [
    {
     "data": {
      "text/plain": [
       "(array([ 5., -2.]),\n",
       " array([[ 0.70710678, -0.6       ],\n",
       "        [ 0.70710678,  0.8       ]]))"
      ]
     },
     "execution_count": 18,
     "metadata": {},
     "output_type": "execute_result"
    }
   ],
   "source": [
    "import numpy as np\n",
    "\n",
    "A = np.array([\n",
    "    [2., 3],\n",
    "    [4, 1],\n",
    "])\n",
    "\n",
    "evv = np.linalg.eig(A)\n",
    "evv"
   ]
  },
  {
   "cell_type": "code",
   "execution_count": 22,
   "metadata": {},
   "outputs": [
    {
     "data": {
      "text/plain": [
       "(array([[-3.,  3.],\n",
       "        [ 4., -4.]]),\n",
       " array([[4., 3.],\n",
       "        [4., 3.]]))"
      ]
     },
     "execution_count": 22,
     "metadata": {},
     "output_type": "execute_result"
    }
   ],
   "source": [
    "import numpy as np\n",
    "\n",
    "v1 = 5\n",
    "v2 = -2\n",
    "\n",
    "I = np.identity(2)\n",
    "\n",
    "E1 = A - v1*I\n",
    "E2 = A - v2*I\n",
    "\n",
    "E1, E2"
   ]
  },
  {
   "cell_type": "code",
   "execution_count": 23,
   "metadata": {},
   "outputs": [
    {
     "data": {
      "text/plain": [
       "array([[0.],\n",
       "       [0.]])"
      ]
     },
     "execution_count": 23,
     "metadata": {},
     "output_type": "execute_result"
    }
   ],
   "source": [
    "b = np.zeros((2,1))\n",
    "b"
   ]
  },
  {
   "cell_type": "code",
   "execution_count": 6,
   "metadata": {},
   "outputs": [
    {
     "data": {
      "text/plain": [
       "array([[0.],\n",
       "       [0.]])"
      ]
     },
     "execution_count": 6,
     "metadata": {},
     "output_type": "execute_result"
    }
   ],
   "source": [
    "E @ b"
   ]
  },
  {
   "cell_type": "code",
   "execution_count": 28,
   "metadata": {},
   "outputs": [
    {
     "name": "stdout",
     "output_type": "stream",
     "text": [
      "[[-3.  3.]\n",
      " [ 4. -4.]]\n",
      "[[-3.  3.]\n",
      " [ 0.  0.]]\n"
     ]
    }
   ],
   "source": [
    "M = np.copy(E1)\n",
    "m,n = M.shape\n",
    "P = m-1\n",
    "\n",
    "for p in range(P):\n",
    "    print(M)\n",
    "    for i in range(p+1,m):\n",
    "        M[i] = M[i] - M[p]*M[i,p]/M[p,p]\n",
    "        print(M)\n",
    "        \n",
    "    "
   ]
  },
  {
   "cell_type": "code",
   "execution_count": 24,
   "metadata": {},
   "outputs": [
    {
     "name": "stdout",
     "output_type": "stream",
     "text": [
      "[[4. 3.]\n",
      " [4. 3.]]\n",
      "[[4. 3.]\n",
      " [0. 0.]]\n"
     ]
    }
   ],
   "source": [
    "M = np.copy(E2)\n",
    "m,n = M.shape\n",
    "P = m-1\n",
    "\n",
    "for p in range(P):\n",
    "    print(M)\n",
    "    for i in range(p+1,m):\n",
    "        M[i] = M[i] - M[p]*M[i,p]/M[p,p]\n",
    "        print(M)\n",
    "        \n",
    "    "
   ]
  },
  {
   "cell_type": "code",
   "execution_count": 29,
   "metadata": {},
   "outputs": [
    {
     "name": "stdout",
     "output_type": "stream",
     "text": [
      "[[-3  3]\n",
      " [ 4  3]]\n",
      "[[-3  3]\n",
      " [ 0  7]]\n"
     ]
    }
   ],
   "source": [
    "M = np.array([[-3,3],\n",
    "              [4,3]])\n",
    "\n",
    "m,n = M.shape\n",
    "P = m-1\n",
    "\n",
    "for p in range(P):\n",
    "    print(M)\n",
    "    for i in range(p+1,m):\n",
    "        M[i] = M[i] - M[p]*M[i,p]/M[p,p]\n",
    "        print(M)\n"
   ]
  },
  {
   "cell_type": "code",
   "execution_count": null,
   "metadata": {},
   "outputs": [],
   "source": []
  }
 ],
 "metadata": {
  "interpreter": {
   "hash": "daf545e9c8d1f6d971c9121d175f68d500da6da1b984137958b2bb126fd81e67"
  },
  "kernelspec": {
   "display_name": "Python 3.10.3 64-bit",
   "language": "python",
   "name": "python3"
  },
  "language_info": {
   "codemirror_mode": {
    "name": "ipython",
    "version": 3
   },
   "file_extension": ".py",
   "mimetype": "text/x-python",
   "name": "python",
   "nbconvert_exporter": "python",
   "pygments_lexer": "ipython3",
   "version": "3.10.5"
  },
  "orig_nbformat": 4
 },
 "nbformat": 4,
 "nbformat_minor": 2
}
