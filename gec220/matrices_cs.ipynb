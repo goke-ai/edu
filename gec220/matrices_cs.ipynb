{
 "cells": [
  {
   "cell_type": "code",
   "execution_count": null,
   "metadata": {
    "dotnet_interactive": {
     "language": "csharp"
    },
    "vscode": {
     "languageId": "dotnet-interactive.csharp"
    }
   },
   "outputs": [
    {
     "name": "stdout",
     "output_type": "stream",
     "text": [
      "Hello, Matrices!\r\n"
     ]
    }
   ],
   "source": [
    "Console.WriteLine(\"Hello, Matrices!\")"
   ]
  },
  {
   "cell_type": "code",
   "execution_count": null,
   "metadata": {
    "dotnet_interactive": {
     "language": "csharp"
    },
    "vscode": {
     "languageId": "dotnet-interactive.csharp"
    }
   },
   "outputs": [
    {
     "data": {
      "text/html": [
       "<table><thead><tr><th><i>index</i></th><th>value</th></tr></thead><tbody><tr><td>0</td><td><div class=\"dni-plaintext\">0</div></td></tr><tr><td>1</td><td><div class=\"dni-plaintext\">1</div></td></tr><tr><td>2</td><td><div class=\"dni-plaintext\">2</div></td></tr><tr><td>3</td><td><div class=\"dni-plaintext\">3</div></td></tr><tr><td>4</td><td><div class=\"dni-plaintext\">4</div></td></tr><tr><td>5</td><td><div class=\"dni-plaintext\">5</div></td></tr><tr><td>6</td><td><div class=\"dni-plaintext\">6</div></td></tr><tr><td>7</td><td><div class=\"dni-plaintext\">7</div></td></tr><tr><td>8</td><td><div class=\"dni-plaintext\">8</div></td></tr><tr><td>9</td><td><div class=\"dni-plaintext\">9</div></td></tr></tbody></table>"
      ]
     },
     "metadata": {},
     "output_type": "display_data"
    }
   ],
   "source": [
    "// list\n",
    "var x = Enumerable.Range(0,10).ToList<int>();\n",
    "x"
   ]
  },
  {
   "cell_type": "code",
   "execution_count": null,
   "metadata": {
    "dotnet_interactive": {
     "language": "csharp"
    },
    "vscode": {
     "languageId": "dotnet-interactive.csharp"
    }
   },
   "outputs": [
    {
     "data": {
      "text/html": [
       "<table><thead><tr><th><i>index</i></th><th>value</th></tr></thead><tbody><tr><td>0</td><td><div class=\"dni-plaintext\">-3</div></td></tr><tr><td>1</td><td><div class=\"dni-plaintext\">0</div></td></tr><tr><td>2</td><td><div class=\"dni-plaintext\">5</div></td></tr><tr><td>3</td><td><div class=\"dni-plaintext\">12</div></td></tr><tr><td>4</td><td><div class=\"dni-plaintext\">21</div></td></tr><tr><td>5</td><td><div class=\"dni-plaintext\">32</div></td></tr><tr><td>6</td><td><div class=\"dni-plaintext\">45</div></td></tr><tr><td>7</td><td><div class=\"dni-plaintext\">60</div></td></tr><tr><td>8</td><td><div class=\"dni-plaintext\">77</div></td></tr><tr><td>9</td><td><div class=\"dni-plaintext\">96</div></td></tr></tbody></table>"
      ]
     },
     "metadata": {},
     "output_type": "display_data"
    }
   ],
   "source": [
    "List<double> y = new ();\n",
    "x.ForEach(o => y.Add(Math.Pow(o,2) + 2*o -3));\n",
    "y\n",
    " "
   ]
  },
  {
   "cell_type": "code",
   "execution_count": null,
   "metadata": {
    "dotnet_interactive": {
     "language": "csharp"
    },
    "vscode": {
     "languageId": "dotnet-interactive.csharp"
    }
   },
   "outputs": [
    {
     "data": {
      "text/html": [
       "<div><div></div><div></div><div><strong>Installed Packages</strong><ul><li><span>Plotly.NET, 3.0.0</span></li><li><span>Plotly.NET.Interactive, 3.0.2</span></li></ul></div></div>"
      ]
     },
     "metadata": {},
     "output_type": "display_data"
    },
    {
     "data": {
      "text/markdown": [
       "Loading extensions from `Plotly.NET.Interactive.dll`"
      ]
     },
     "metadata": {},
     "output_type": "display_data"
    }
   ],
   "source": [
    "#r \"nuget: Plotly.NET\"\n",
    "#r \"nuget: Plotly.NET.Interactive\""
   ]
  },
  {
   "cell_type": "code",
   "execution_count": null,
   "metadata": {
    "dotnet_interactive": {
     "language": "csharp"
    },
    "vscode": {
     "languageId": "dotnet-interactive.csharp"
    }
   },
   "outputs": [
    {
     "ename": "Error",
     "evalue": "(3,19): error CS0117: 'Chart' does not contain a definition for 'Point'",
     "output_type": "error",
     "traceback": [
      "(3,19): error CS0117: 'Chart' does not contain a definition for 'Point'"
     ]
    }
   ],
   "source": [
    "using Plotly.NET;\n",
    "\n",
    "var chart = Chart.Point(x: x, y: y, Name: \"\");\n",
    "chart\n",
    "    .WithTraceName(\"Daily Vaccinations\", true)\n",
    "    .WithX_AxisStyle(title: \"Vaccinations\", Showgrid: false, Showline: true)\n",
    "    .WithY_AxisStyle(title: \"Date\", Showgrid: false, Showline: true);\n",
    "\n",
    "chart.show()"
   ]
  }
 ],
 "metadata": {
  "kernelspec": {
   "display_name": ".NET (C#)",
   "language": "C#",
   "name": ".net-csharp"
  },
  "language_info": {
   "name": "C#"
  }
 },
 "nbformat": 4,
 "nbformat_minor": 2
}
