{
 "cells": [
  {
   "cell_type": "markdown",
   "source": [
    "# Matrices  \r\n",
    "\r\n",
    "Olagoke Oladokun  \r\n",
    "Covenant University, Ota, Nigeria  \r\n",
    "\r\n",
    "©2021  \r\n"
   ],
   "metadata": {}
  },
  {
   "cell_type": "code",
   "execution_count": 1,
   "source": [
    "!pip install -q numpy\r\n",
    "!pip install -q scipy\r\n",
    "!pip install -q sympy"
   ],
   "outputs": [
    {
     "output_type": "stream",
     "name": "stdout",
     "text": [
      "\u001b[33mWARNING: You are using pip version 21.1.3; however, version 21.2.1 is available.\n",
      "You should consider upgrading via the '/usr/bin/python3 -m pip install --upgrade pip' command.\u001b[0m\n",
      "\u001b[33mWARNING: You are using pip version 21.1.3; however, version 21.2.1 is available.\n",
      "You should consider upgrading via the '/usr/bin/python3 -m pip install --upgrade pip' command.\u001b[0m\n",
      "\u001b[33mWARNING: You are using pip version 21.1.3; however, version 21.2.1 is available.\n",
      "You should consider upgrading via the '/usr/bin/python3 -m pip install --upgrade pip' command.\u001b[0m\n"
     ]
    }
   ],
   "metadata": {}
  },
  {
   "cell_type": "markdown",
   "source": [],
   "metadata": {}
  },
  {
   "cell_type": "markdown",
   "source": [
    "## GEC220  \r\n",
    "## Engineering Mathematics II  \r\n",
    "\r\n",
    "\r\n",
    "Matrices and Determinants: Solution of system of linear equations by determinants. Linear dependence and independence, rank of a matrix. General system of linear equations, existence and properties of solution, Gaussian elimination. Matrix inverse by elementary matrices, adjoint, and partitioning methods. Characteristic polynomial, characteristic equation, eigenvalues and eigenvectors.  \r\n",
    "\r\n"
   ],
   "metadata": {}
  },
  {
   "cell_type": "markdown",
   "source": [
    " \r\n",
    "GEC220\r\n",
    "Engineering Mathematics II \r\n",
    "3 Units\r\n",
    "LH 45\r\n",
    "Lecturers\r\n",
    "\tProf. Vincent \r\n",
    "\tDr. Adeeyo\r\n",
    "\tDr. Olagoke\r\n",
    "\r\n",
    "Partial Differentiation: Functions of several variables, continuity and partial derivatives. Total differentials, approximate calculations using differentials. Chain rule. Implicit differentiation. Series representation of functions (Maclaurin & Taylor’s), Taylor’s Theorem. Extremum problems, (analytic method) without and with constraints, Lagrange multipliers, global extremum. Ordinary Differential Equations: Definition, degree, order, linear, non-linear, solution. First order equations, separable variables, equations reducible to separable form, exact equations, integrating factors, homogenous differential equations. Modeling of engineering systems leading to first order differential equations- electric circuit, mixing/dilution, radioactive decay, bacterial culture. 2nd order differential equations with constant coefficients, homogeneous, non-homogeneous, complementary functions, particular integrals, D-operator method. General linear second-order differential equations (without using matrices). Power series solution, Legendre’s differential equation. Modeling of engineering systems leading to 2nd order differential equations- electric circuit, mechanical oscillations-free and forced, resonance. Pre-requisites: MAT 121 and MAT 122.\r\n",
    "Matrices and Determinants: Solution of system of linear equations by determinants. Linear dependence and independence, rank of a matrix. General system of linear equations, existence and properties of solution, Gaussian elimination. Matrix inverse by elementary matrices, adjoint, and partitioning methods. Characteristic polynomial, characteristic equation, eigenvalues and eigenvectors.\r\n"
   ],
   "metadata": {}
  },
  {
   "cell_type": "markdown",
   "source": [
    "Contents\r\n",
    "1\tMatrices\t6\r\n",
    "1.1\tMatrix notation\t7\r\n",
    "1.2\tAddition and Subtraction of Matrices\t7\r\n",
    "1.3\tMultiplication of Matrices\t8\r\n",
    "1.3.1\tScalar Multiplication\t8\r\n",
    "1.3.2\tTwo matrices multiplication\t8\r\n",
    "1.4\tTranspose of matrix\t10\r\n",
    "1.5\tSquare matrix\t10\r\n",
    "1.5.1\tSymmetry matrix\t10\r\n",
    "1.6\tTriangular matrix\t11\r\n",
    "1.7\tDiagonal matrix\t11\r\n",
    "1.8\tUnit matrix\t11\r\n",
    "1.9\tNull matrix\t12\r\n",
    "2\tDeterminants\t13\r\n",
    "2.1\tDeterminants of the second order\t13\r\n",
    "2.2\tDeterminants of the third order\t14\r\n",
    "3\tSolution of system of linear equations by determinants\t17\r\n",
    "3.1\tDeterminant Equation Method\t18\r\n",
    "3.1.1\tSecondary Degree\t18\r\n",
    "3.1.2\tThird Degree\t19\r\n",
    "3.2\tCramers Rule\t22\r\n",
    "3.2.1\tFor second degree\t22\r\n",
    "3.2.2\tThird degree\t22\r\n",
    "4\tLinear dependence and independence\t25\r\n",
    "5\tRank of a matrix\t27\r\n",
    "6\tGeneral system of linear equations,\t28\r\n",
    "7\tExistence and properties of solution\t31\r\n",
    "7.1\tExistence of solution\t31\r\n",
    "7.2\tOther properties of the solution\t31\r\n",
    "8\tGaussian elimination.\t33\r\n",
    "8.1\tAlgorithm of Gaussian Elimination\t33\r\n",
    "8.2\tDeterminant from Gaussian Elimination\t38\r\n",
    "9\tMatrix inverse by elementary matrices, adjoint, and partitioning methods.\t39\r\n",
    "9.1\tInverse of a square matrix\t39\r\n",
    "9.2\tCofactors\t39\r\n",
    "9.3\tAdjoint\t41\r\n",
    "10\tEigenvalues and Eigenvectors.\t43\r\n",
    "10.1\tEigenvalues\t43\r\n",
    "10.1.1\tExample\t43\r\n",
    "10.2\tEigenvectors\t44\r\n",
    "10.2.1\tExample\t44\r\n"
   ],
   "metadata": {}
  },
  {
   "cell_type": "markdown",
   "source": [
    "# Matrices"
   ],
   "metadata": {}
  },
  {
   "cell_type": "markdown",
   "source": [
    "A matrix is a set of real or complex numbers (or elements) arranged in rows and columns to form a rectangular array.\r\n",
    "A matrix can be identified by its order denoted as $m \\times n \\quad (m \\ by \\ n)$ matrix.  \r\n",
    "\r\n",
    "$$\r\n",
    "\\left[\\begin{matrix}3&-3&-4\\\\1&-1&-1\\\\2&-1&4\\\\\\end{matrix}\\right]\t\r\n",
    "$$  \r\n",
    "\r\n",
    "What is the order of matrix above?. Matrix  has order $3\\times 3$. The number of rows of A, $m = 3$ and number of column, $n = 3$  \r\n"
   ],
   "metadata": {}
  },
  {
   "cell_type": "code",
   "execution_count": 20,
   "source": [
    "import numpy as np\r\n",
    "\r\n",
    "A = np.array([\r\n",
    "    [3,-3,-4],\r\n",
    "    [1,-1,-1],\r\n",
    "    [2,-1,4]\r\n",
    "])\r\n",
    "\r\n",
    "print('===============================')\r\n",
    "print('matrix A =')\r\n",
    "print(A)\r\n",
    "print()\r\n",
    "print('mxn =', np.shape(A))\r\n",
    "print('===============================')"
   ],
   "outputs": [
    {
     "output_type": "stream",
     "name": "stdout",
     "text": [
      "===============================\n",
      "matrix A =\n",
      "[[ 3 -3 -4]\n",
      " [ 1 -1 -1]\n",
      " [ 2 -1  4]]\n",
      "\n",
      "mxn = (3, 3)\n",
      "===============================\n"
     ]
    }
   ],
   "metadata": {}
  },
  {
   "cell_type": "markdown",
   "source": [
    "Similarly, the matrix $C$ below is of order $4\\times2$  \r\n",
    "\r\n",
    "$$\r\n",
    "\\left[\r\n",
    "    \\begin{matrix}\r\n",
    "        \\begin{matrix}\r\n",
    "            1&2\\\\\r\n",
    "        \\end{matrix}\\\\\r\n",
    "        \\begin{matrix}\r\n",
    "            4&3\\\\-1&-5\\\\3&3\\\\\\end{matrix}\\\\\\end{matrix}\\right]=m\\times n=4\\times2\t\r\n",
    "$$\r\n",
    "$$\r\n",
    "C=\\left[\\begin{matrix}\\begin{matrix}1&2\\\\\\end{matrix}\\\\\\begin{matrix}4&3\\\\-1&-5\\\\3&3\\\\\\end{matrix}\\\\\\end{matrix}\\right]=m\\times n=4\\times2\t\r\n",
    "$$"
   ],
   "metadata": {}
  },
  {
   "cell_type": "code",
   "execution_count": 21,
   "source": [
    "import numpy as np\r\n",
    "\r\n",
    "C = np.array([\r\n",
    "    [1,2], [4,3],[-1,-5], [3,3],\r\n",
    "])\r\n",
    "\r\n",
    "print('===============================')\r\n",
    "print('matrix C =\\n', C)\r\n",
    "print()\r\n",
    "print('mxn =', np.shape(C))\r\n",
    "print('===============================')\r\n"
   ],
   "outputs": [
    {
     "output_type": "stream",
     "name": "stdout",
     "text": [
      "===============================\n",
      "matrix C =\n",
      " [[ 1  2]\n",
      " [ 4  3]\n",
      " [-1 -5]\n",
      " [ 3  3]]\n",
      "\n",
      "mxn = (4, 2)\n",
      "===============================\n"
     ]
    }
   ],
   "metadata": {}
  },
  {
   "cell_type": "markdown",
   "source": [
    "Exercises\r\n",
    "\r\n",
    "What are the order of the matrices below:\r\n",
    "$$\r\n",
    "\\left[\r\n",
    "    \\begin{matrix}\r\n",
    "        1 & -2 & -4 \r\n",
    "    \\end{matrix}\r\n",
    "\\right]\t\r\n",
    "$$  \r\n",
    "(A) $2 \\times 2$ (B) $1 \\times -3$ (C) $3 \\times 1$ (D) $1 \\times 3$"
   ],
   "metadata": {}
  },
  {
   "cell_type": "markdown",
   "source": [
    "## Matrix notation  \r\n",
    "\r\n",
    "$$\r\n",
    "A=\\left[\r\n",
    "    \\begin{matrix}\r\n",
    "        a_{11}&a_{12}&a_{13}\\\\\r\n",
    "        a_{21}&a_{22}&a_{23}\\\\\r\n",
    "        a_{31}&a_{32}&a_{33}\\\\\r\n",
    "    \\end{matrix}\r\n",
    "    \\right]\t\r\n",
    "$$\r\n",
    "Matrix $A$ is of order $3 \\times 3$ with elements $a_{ij}$ where $i$ and $j$ represents the index of the row and column it belongs in the matrix."
   ],
   "metadata": {}
  },
  {
   "cell_type": "markdown",
   "source": [
    "## Addition and Subtraction of Matrices\r\n",
    "\r\n",
    "Addition and subtraction of two matrices can only be achieved if they are the same order.\r\n",
    "$$\r\n",
    "A\\pm B\r\n",
    "$$\r\n",
    "\r\n",
    "Only possible if  \r\n",
    "$$\r\n",
    "\\left.A\\right|m{==}\\left.B\\right|m\\ \\\\ and \\\\  \\left.A\\right|n{==}\\left.B\\right|n\t\r\n",
    "$$\r\n",
    "\r\n",
    "Example\r\n",
    "\r\n",
    "$$\r\n",
    "A=\\left[\\begin{matrix}1&-3\\\\4&-2\\\\\\end{matrix}\\right]\t\r\n",
    "$$\r\n",
    "$$\r\n",
    "B=\\left[\\begin{matrix}2&-3\\\\4.1&-4.5\\\\\\end{matrix}\\right]\t\r\n",
    "$$\r\n",
    "Then \r\n",
    "Check the order of $A (2 \\times 2)$ and compare to order $B (2 \\times 2)$?\r\n",
    "Since they are both equal the addition and subtraction is possible.\r\n",
    "\r\n",
    "$$\r\n",
    "\\left[\\begin{matrix}1&-3\\\\4&-2\\\\\\end{matrix}\\right]+\\left[\\begin{matrix}2&-3\\\\4.1&-4.5\\\\\\end{matrix}\\right]=\\left[\\begin{matrix}3&-6\\\\8.1&-6.5\\\\\\end{matrix}\\right]\t\r\n",
    "$$\r\n",
    "$$\r\n",
    "\\left[\\begin{matrix}1&-3\\\\4&-2\\\\\\end{matrix}\\right]-\\left[\\begin{matrix}2&-3\\\\4.1&-4.5\\\\\\end{matrix}\\right]=\\left[\\begin{matrix}-1&0\\\\-0.1&2.5\\\\\\end{matrix}\\right]\t\r\n",
    "$$\r\n",
    "\r\n"
   ],
   "metadata": {}
  },
  {
   "cell_type": "code",
   "execution_count": 22,
   "source": [
    "import numpy as np\r\n",
    "\r\n",
    "A = np.array([[1,-3],[4,-2]])\r\n",
    "B = np.array([[2,-3],[4.1,-4.5]])\r\n",
    "\r\n",
    "sum = A + B\r\n",
    "diff = A - B\r\n",
    "\r\n",
    "print('============================')\r\n",
    "\r\n",
    "print('sum = \\n', sum)\r\n",
    "print()\r\n",
    "print('diff = \\n', diff)\r\n",
    "\r\n",
    "print('============================')\r\n"
   ],
   "outputs": [
    {
     "output_type": "stream",
     "name": "stdout",
     "text": [
      "============================\n",
      "sum = \n",
      " [[ 3.  -6. ]\n",
      " [ 8.1 -6.5]]\n",
      "\n",
      "diff = \n",
      " [[-1.   0. ]\n",
      " [-0.1  2.5]]\n",
      "============================\n"
     ]
    }
   ],
   "metadata": {}
  },
  {
   "cell_type": "markdown",
   "source": [
    "## Multiplication of Matrices  \r\n",
    "### Scalar Multiplication\r\n",
    "\r\n",
    "$$ \r\n",
    "4\\times A= 4\\times\\left[\r\n",
    "    \\begin{matrix}\r\n",
    "    1&-3 \\\\\r\n",
    "    4&-2 \\\\\r\n",
    "    \\end{matrix}\r\n",
    "    \\right]\r\n",
    "    =\r\n",
    "    \\left[\r\n",
    "        \\begin{matrix}\r\n",
    "        4&-12\\\\\r\n",
    "        16&-8\\\\\r\n",
    "        \\end{matrix}\r\n",
    "    \\right]\r\n",
    "$$ "
   ],
   "metadata": {}
  },
  {
   "cell_type": "code",
   "execution_count": 23,
   "source": [
    "import numpy as np\r\n",
    "\r\n",
    "A = np.array(\r\n",
    "    [\r\n",
    "        [1, -3],\r\n",
    "        [4, -2]\r\n",
    "    ])\r\n",
    "\r\n",
    "prod = 4*A\r\n",
    "\r\n",
    "print('============================')\r\n",
    "print('A= ')\r\n",
    "print(A)\r\n",
    "print('4*A =\\n', prod)\r\n",
    "print('============================')\r\n"
   ],
   "outputs": [
    {
     "output_type": "stream",
     "name": "stdout",
     "text": [
      "============================\n",
      "A= \n",
      "[[ 1 -3]\n",
      " [ 4 -2]]\n",
      "4*A =\n",
      " [[  4 -12]\n",
      " [ 16  -8]]\n",
      "============================\n"
     ]
    }
   ],
   "metadata": {}
  },
  {
   "cell_type": "markdown",
   "source": [
    "## Two matrices multiplication  \r\n",
    "To multiply any two matrices the number of columns in the first matrix must be equal to the number of rows of the second matrix. The product matrix will have number of rows of the first matrix and number of columns of the second matrix\r\n",
    "$$\r\n",
    "A\\times B =P\r\n",
    "$$\r\n",
    "Is possible if and only if\r\n",
    "$$\r\n",
    "    A|n == B|m \\quad \\Rightarrow \\quad P=A|m\\times B|n\r\n",
    "$$"
   ],
   "metadata": {}
  },
  {
   "cell_type": "markdown",
   "source": [
    "Example\r\n",
    "$$\r\n",
    "C=\\left[\\begin{matrix}\\begin{matrix}1&2\\\\\\end{matrix}\\\\\\begin{matrix}4&3\\\\-1&-5\\\\3&3\\\\\\end{matrix}\\\\\\end{matrix}\\right]=m\\times n=4\\times2\t\r\n",
    "$$\r\n",
    "$$\r\n",
    "A=\\left[\\begin{matrix}1&-3\\\\4&-2\\\\\\end{matrix}\\right]=m\\times n=2\\times2\r\n",
    "$$\t\r\n",
    "\r\n",
    "$$\r\n",
    "A\\times C \\\\\r\n",
    "(2\\times2)\\ \\times(4\\times2) \\\\\r\n",
    "2\\times(2\\neq4)\\times2 \r\n",
    "$$\r\n",
    "  \r\n",
    "$$\r\n",
    "(2\\neq4)∶\\ A\\times C \\textrm{ is not possible.}\r\n",
    "$$\r\n"
   ],
   "metadata": {}
  },
  {
   "cell_type": "code",
   "execution_count": 5,
   "source": [
    "import numpy as np\r\n",
    "\r\n",
    "C = np.array(\r\n",
    "    [\r\n",
    "        [1,2],\r\n",
    "        [4,3],\r\n",
    "        [-1,-5],\r\n",
    "        [3,3],\r\n",
    "    ]\r\n",
    ")\r\n",
    "\r\n",
    "A = np.array(\r\n",
    "    [\r\n",
    "        [1,-3],\r\n",
    "        [4,-2]\r\n",
    "    ]\r\n",
    ")\r\n",
    "\r\n",
    "P = A @ C"
   ],
   "outputs": [
    {
     "output_type": "error",
     "ename": "ValueError",
     "evalue": "matmul: Input operand 1 has a mismatch in its core dimension 0, with gufunc signature (n?,k),(k,m?)->(n?,m?) (size 4 is different from 2)",
     "traceback": [
      "\u001b[0;31m---------------------------------------------------------------------------\u001b[0m",
      "\u001b[0;31mValueError\u001b[0m                                Traceback (most recent call last)",
      "\u001b[0;32m<ipython-input-5-df629c1bc95c>\u001b[0m in \u001b[0;36m<module>\u001b[0;34m\u001b[0m\n\u001b[1;32m     17\u001b[0m )\n\u001b[1;32m     18\u001b[0m \u001b[0;34m\u001b[0m\u001b[0m\n\u001b[0;32m---> 19\u001b[0;31m \u001b[0mP\u001b[0m \u001b[0;34m=\u001b[0m \u001b[0mA\u001b[0m \u001b[0;34m@\u001b[0m \u001b[0mC\u001b[0m\u001b[0;34m\u001b[0m\u001b[0;34m\u001b[0m\u001b[0m\n\u001b[0m",
      "\u001b[0;31mValueError\u001b[0m: matmul: Input operand 1 has a mismatch in its core dimension 0, with gufunc signature (n?,k),(k,m?)->(n?,m?) (size 4 is different from 2)"
     ]
    }
   ],
   "metadata": {}
  },
  {
   "cell_type": "markdown",
   "source": [
    "Interchanging \r\n",
    "$$\r\n",
    "C\\times A \\\\\r\n",
    "(4\\times2)\\ \\times(2\\times2) \\\\\r\n",
    "4\\times(2=2)\\times2 \\\\\r\n",
    "$$\r\n",
    "$$\r\n",
    "(2=4)∶\\ C\\times A \\textrm{ is possible.} \\\\\r\n",
    "C\\times A\\equiv4\\times2\t\r\n",
    "$$"
   ],
   "metadata": {}
  },
  {
   "cell_type": "markdown",
   "source": [
    "Let’s carryout the multiplication.\r\n",
    "$$\r\n",
    "C\\times A=\\left[\\begin{matrix}\\begin{matrix}c_{11}&c_{12}\\\\\\end{matrix}\\\\\\begin{matrix}c_{21}&c_{22}\\\\c_{31}&c_{32}\\\\c_{41}&c_{42}\\\\\\end{matrix}\\\\\\end{matrix}\\right]\\times\\left[\\begin{matrix}a_{11}&a_{12}\\\\a_{21}&a_{22}\\\\\\end{matrix}\\right]\r\n",
    "$$"
   ],
   "metadata": {}
  },
  {
   "cell_type": "markdown",
   "source": [
    "$$\r\n",
    "C\\times A=\\left[\\begin{matrix}\\begin{matrix}c_{11}a_{11}+c_{12}a_{21}&c_{11}a_{12}+c_{12}a_{22}\\\\\\end{matrix}\\\\\\begin{matrix}c_{21}a_{11}+c_{22}a_{21}&c_{21}a_{12}+c_{22}a_{22}\\\\c_{31}a_{11}+c_{32}a_{21}&c_{31}a_{12}+c_{32}a_{22}\\\\c_{41}a_{11}+c_{42}a_{21}&c_{41}a_{12}+c_{42}a_{22}\\\\\\end{matrix}\\\\\\end{matrix}\\right]\t\r\n",
    "$$"
   ],
   "metadata": {}
  },
  {
   "cell_type": "markdown",
   "source": [
    "$$\r\n",
    "C\\times A=\\left[\\begin{matrix}\\begin{matrix}1\\times1+2\\times4\\ \\ \\ \\ \\ \\ &1\\times-3+2\\times-2\\\\\\end{matrix}\\\\\\begin{matrix}4\\times1+3\\times4&4\\times-3+3\\times-2\\\\-1\\times1+-5\\times4&-1\\times-3+-5\\times-2\\\\3\\times1+3\\times4&3\\times-3+3\\times-2\\\\\\end{matrix}\\\\\\end{matrix}\\right]=\\left[\\begin{matrix}\\begin{matrix}9&-7\\\\\\end{matrix}\\\\\\begin{matrix}16&-18\\\\-21&13\\\\15&-15\\\\\\end{matrix}\\\\\\end{matrix}\\right]\t\r\n",
    "$$"
   ],
   "metadata": {}
  },
  {
   "cell_type": "code",
   "execution_count": 7,
   "source": [
    "import numpy as np\r\n",
    "\r\n",
    "C = np.array(\r\n",
    "    [\r\n",
    "        [1,2],\r\n",
    "        [4,3],\r\n",
    "        [-1,-5],\r\n",
    "        [3,3],\r\n",
    "    ]\r\n",
    ")\r\n",
    "\r\n",
    "A = np.array(\r\n",
    "    [\r\n",
    "        [1,-3],\r\n",
    "        [4,-2]\r\n",
    "    ]\r\n",
    ")\r\n",
    "\r\n",
    "P = C @ A\r\n",
    "\r\n",
    "print('=========================')\r\n",
    "print('P=\\n', P)\r\n",
    "print('=========================')\r\n"
   ],
   "outputs": [
    {
     "output_type": "stream",
     "name": "stdout",
     "text": [
      "=========================\n",
      "P=\n",
      " [[  9  -7]\n",
      " [ 16 -18]\n",
      " [-21  13]\n",
      " [ 15 -15]]\n",
      "=========================\n"
     ]
    }
   ],
   "metadata": {}
  },
  {
   "cell_type": "markdown",
   "source": [
    "## Transpose of matrix\r\n",
    "Interchanging the rows and columns of a matrix is called transpose.\r\n",
    "$$\r\n",
    "A=\\left[\\begin{matrix}1&-3\\\\4&-2\\\\\\end{matrix}\\right]\t\r\n",
    "$$\r\n",
    "$$\r\n",
    "A^T=\\left[\\begin{matrix}1&4\\\\-3&-2\\\\\\end{matrix}\\right]\t\r\n",
    "$$\r\n"
   ],
   "metadata": {}
  },
  {
   "cell_type": "code",
   "execution_count": 11,
   "source": [
    "import numpy as np\r\n",
    "\r\n",
    "C = np.array(\r\n",
    "    [\r\n",
    "        [1,2],\r\n",
    "        [4,3],\r\n",
    "        [-1,-5],\r\n",
    "        [3,3],\r\n",
    "    ]\r\n",
    ")\r\n",
    "\r\n",
    "A = np.array(\r\n",
    "    [\r\n",
    "        [1,-3],\r\n",
    "        [4,-2]\r\n",
    "    ]\r\n",
    ")\r\n",
    "\r\n",
    "Atrp = np.transpose(A)\r\n",
    "\r\n",
    "print('=========================')\r\n",
    "print('A=\\n', A)\r\n",
    "print('A^T=\\n', Atrp)\r\n",
    "print()\r\n",
    "print('C=\\n', C)\r\n",
    "print('C^T=\\n', np.transpose(C))\r\n",
    "print('=========================')\r\n"
   ],
   "outputs": [
    {
     "output_type": "stream",
     "name": "stdout",
     "text": [
      "=========================\n",
      "A=\n",
      " [[ 1 -3]\n",
      " [ 4 -2]]\n",
      "A^T=\n",
      " [[ 1  4]\n",
      " [-3 -2]]\n",
      "\n",
      "C=\n",
      " [[ 1  2]\n",
      " [ 4  3]\n",
      " [-1 -5]\n",
      " [ 3  3]]\n",
      "C^T=\n",
      " [[ 1  4 -1  3]\n",
      " [ 2  3 -5  3]]\n",
      "=========================\n"
     ]
    }
   ],
   "metadata": {}
  },
  {
   "cell_type": "markdown",
   "source": [
    "### Exercise 2\r\n",
    "$$\r\n",
    "A=\\left(\\begin{matrix}1&-1&-1\\\\0&-2&3\\\\2&1&5\\\\\\end{matrix}\\right),\\ B=\\left(\\begin{matrix}1&1&1\\\\1&1&1\\\\\\end{matrix}\\right)\r\n",
    "$$\r\n",
    "\r\n",
    "1. $A \\times B$\r\n",
    "2. $B \\times A$\r\n",
    "3. $A \\times B^T$\r\n",
    "4. $B \\times A^T$"
   ],
   "metadata": {}
  },
  {
   "cell_type": "code",
   "execution_count": 16,
   "source": [
    "import numpy as np\r\n",
    "\r\n",
    "A = np.array(\r\n",
    "    [\r\n",
    "        [1, -1, -1],\r\n",
    "        [0, -2, 3],\r\n",
    "        [2, 1, 5],\r\n",
    "    ]\r\n",
    ")\r\n",
    "\r\n",
    "B = np.array(\r\n",
    "    [\r\n",
    "        [1, 1, 1],\r\n",
    "        [1, 1, 1],\r\n",
    "    ]\r\n",
    ")\r\n",
    "\r\n",
    "tr y:\r\n",
    "    print('A*B=\\n', A * B)\r\n",
    "except ValueError:\r\n",
    "    print('Error multiplying A*B')\r\n",
    " \r\n",
    "\r\n",
    "try:\r\n",
    "    print('B*A=\\n', B @ A)\r\n",
    "except ValueError:\r\n",
    "    print('Error multiplying B*A')\r\n",
    "\r\n",
    "try:\r\n",
    "    print('A*B^T=\\n', A @ np.transpose(B))\r\n",
    "except ValueError:\r\n",
    "    print('Error multiplying A*B^T')\r\n",
    "\r\n",
    "try:\r\n",
    "    print('B*A^T=\\n', B @ np.transpose(A))\r\n",
    "except ValueError:\r\n",
    "    print('Error multiplying B*A^T=')\r\n",
    "\r\n"
   ],
   "outputs": [
    {
     "output_type": "stream",
     "name": "stdout",
     "text": [
      "Error multiplying A*B\n",
      "B*A=\n",
      " [[ 3 -2  7]\n",
      " [ 3 -2  7]]\n",
      "A*B^T=\n",
      " [[-1 -1]\n",
      " [ 1  1]\n",
      " [ 8  8]]\n",
      "B*A^T=\n",
      " [[-1  1  8]\n",
      " [-1  1  8]]\n"
     ]
    }
   ],
   "metadata": {}
  },
  {
   "cell_type": "markdown",
   "source": [
    "### Exercise 3\r\n",
    "\r\n",
    "$$\r\n",
    "A=\\left(\\begin{matrix}1&-1&-1\\\\0&-2&3\\\\2&1&5\\\\\\end{matrix}\\right)\r\n",
    "$$\r\n",
    "\r\n",
    "Find the determinant of A:\r\n"
   ],
   "metadata": {}
  },
  {
   "cell_type": "code",
   "execution_count": 1,
   "source": [
    "import numpy as np\r\n",
    "\r\n",
    "A = np.array(\r\n",
    "    [\r\n",
    "        [1, -1, -1, 0],\r\n",
    "        [0, -2, 3, 2],\r\n",
    "        [2, 1, 5, 1],\r\n",
    "        [-2, 1, -2, 9],\r\n",
    "    ]\r\n",
    ")\r\n",
    "\r\n",
    "np.linalg.det(A)"
   ],
   "outputs": [
    {
     "output_type": "execute_result",
     "data": {
      "text/plain": [
       "-227.99999999999986"
      ]
     },
     "metadata": {},
     "execution_count": 1
    }
   ],
   "metadata": {}
  },
  {
   "cell_type": "markdown",
   "source": [
    "### Exercise 4\r\n",
    "$$\r\n",
    "A . x = b \\\\\r\n",
    "$$\r\n",
    "$$\r\n",
    "A=  \\left(\r\n",
    "        \\begin{matrix}\r\n",
    "            1 & -1 & -1 & 0\\\\\r\n",
    "            0 & -2 & 3 & 2\\\\\r\n",
    "            2 & 1 & 5 & 1\\\\\r\n",
    "            -2 & 1 & -2 & 9\\\r\n",
    "        \\end{matrix}\r\n",
    "    \\right) \\\\ \r\n",
    "b=  \\left(\r\n",
    "        \\begin{matrix}\r\n",
    "            4\\\\ \r\n",
    "            4\\\\ \r\n",
    "            4\\\\ \r\n",
    "            4\\\\ \r\n",
    "        \\end{matrix}\r\n",
    "    \\right)\r\n",
    "$$\r\n",
    "\r\n",
    "\r\n"
   ],
   "metadata": {}
  },
  {
   "cell_type": "code",
   "execution_count": 4,
   "source": [
    "import numpy as np\r\n",
    "\r\n",
    "A = np.array(\r\n",
    "    [\r\n",
    "        [1, -1, -1, 0],\r\n",
    "        [0, -2, 3, 2],\r\n",
    "        [2, 1, 5, 1],\r\n",
    "        [-2, 1, -2, 9],\r\n",
    "    ]\r\n",
    ")\r\n",
    "\r\n",
    "b = np.array(\r\n",
    "    [\r\n",
    "        [4],\r\n",
    "        [4],\r\n",
    "        [4],\r\n",
    "        [4],\r\n",
    "    ]\r\n",
    ")\r\n",
    "\r\n",
    "x = np.linalg.solve(A,b)\r\n",
    "\r\n",
    "print('x = \\n', x)\r\n"
   ],
   "outputs": [
    {
     "output_type": "stream",
     "name": "stdout",
     "text": [
      "x = \n",
      " [[ 2.57894737]\n",
      " [-1.21052632]\n",
      " [-0.21052632]\n",
      " [ 1.10526316]]\n"
     ]
    }
   ],
   "metadata": {}
  },
  {
   "cell_type": "code",
   "execution_count": 5,
   "source": [
    "from sympy import *\r\n",
    "\r\n",
    "a, b, c, d = symbols('a b c d')\r\n",
    "\r\n",
    "linsolve(Matrix((\r\n",
    "        [1, -1, -1, 0, 4],\r\n",
    "        [0, -2, 3, 2, 4],\r\n",
    "        [2, 1, 5, 1, 4],\r\n",
    "        [-2, 1, -2, 9, 4])), (a,b,c,d))"
   ],
   "outputs": [
    {
     "output_type": "execute_result",
     "data": {
      "text/latex": [
       "$\\displaystyle \\left\\{\\left( \\frac{49}{19}, \\  - \\frac{23}{19}, \\  - \\frac{4}{19}, \\  \\frac{21}{19}\\right)\\right\\}$"
      ],
      "text/plain": [
       "FiniteSet((49/19, -23/19, -4/19, 21/19))"
      ]
     },
     "metadata": {},
     "execution_count": 5
    }
   ],
   "metadata": {}
  },
  {
   "cell_type": "markdown",
   "source": [
    "### Exercise 5\r\n",
    "Solve for $x, y, z$ in the augment matrix $M$.\r\n",
    "\r\n",
    "$$\r\n",
    "M =  \\left(\r\n",
    "        \\begin{matrix}\r\n",
    "            8 & 4 & -1 & 3\\\\\r\n",
    "            1 & 6 & 2 & 3\\\\\r\n",
    "            4 & 0 & 2 & 3\\\\\r\n",
    "        \\end{matrix}\r\n",
    "    \\right)\r\n",
    "$$\r\n",
    "\r\n",
    "\r\n"
   ],
   "metadata": {}
  },
  {
   "cell_type": "code",
   "execution_count": 8,
   "source": [
    "from sympy import *\r\n",
    "\r\n",
    "x,y,z=symbols('x y z')\r\n",
    "\r\n",
    "linsolve(Matrix((\r\n",
    "    [8, 4, -1, 3], \r\n",
    "    [1, 6, 2, 3], \r\n",
    "    [4, 0, 2, 3])), (x, y, z))\r\n"
   ],
   "outputs": [
    {
     "output_type": "execute_result",
     "data": {
      "text/latex": [
       "$\\displaystyle \\left\\{\\left( \\frac{3}{8}, \\  \\frac{3}{16}, \\  \\frac{3}{4}\\right)\\right\\}$"
      ],
      "text/plain": [
       "FiniteSet((3/8, 3/16, 3/4))"
      ]
     },
     "metadata": {},
     "execution_count": 8
    }
   ],
   "metadata": {}
  },
  {
   "cell_type": "markdown",
   "source": [
    "### Exercise 6\r\n",
    "Solve for $x, y, z$ in the augment matrix $M$.\r\n",
    "\r\n",
    "$$\r\n",
    "M =  \\left(\r\n",
    "        \\begin{matrix}\r\n",
    "            3 & -1 & -1 & 4\\\\\r\n",
    "            4 & -2 & 3 & 2\\\\\r\n",
    "            2 & 1 & -5 & -1\\\\\r\n",
    "        \\end{matrix}\r\n",
    "    \\right)\r\n",
    "$$"
   ],
   "metadata": {}
  },
  {
   "cell_type": "code",
   "execution_count": 24,
   "source": [
    "import numpy as np\r\n",
    "from fractions import Fraction\r\n",
    "\r\n",
    "M = np.array(\r\n",
    "    [\r\n",
    "        [3, -1, -1, 4],\r\n",
    "        [4, -2, 3, 2],\r\n",
    "        [2, 1, -5, -1],\r\n",
    "    ],dtype=float\r\n",
    ")\r\n",
    "\r\n",
    "print('M =\\n', M)\r\n",
    "(m,n) = M.shape\r\n",
    "print('mxn =\\n', m, 'x', n)\r\n",
    "print('|A| = \\n', M[:3,:3], '\\n =', np.linalg.det(M[:3,:3]))\r\n",
    "\r\n",
    "k = 0\r\n",
    "p = 0\r\n",
    "\r\n",
    "for p in range(0,m-1):\r\n",
    "    for i in range(p+1,m):\r\n",
    "        if M[p,p] == 0:\r\n",
    "            # change row\r\n",
    "            for j in range(i,m):\r\n",
    "                if M[j,p] != 0:\r\n",
    "                    k += 1\r\n",
    "                    Mp = np.copy(M[p])\r\n",
    "                    M[p] = M[j]\r\n",
    "                    M[j] = Mp\r\n",
    "\r\n",
    "                    print('Mx =\\n', M)\r\n",
    "                    break\r\n",
    "\r\n",
    "        M[i] = M[i,:] - M[p,:]*M[i,p]/M[p,p]\r\n",
    "        print('M =\\n', M)\r\n",
    "\r\n",
    "detA = 1\r\n",
    "for p in range(m):\r\n",
    "    detA *= M[p,p]\r\n",
    "\r\n",
    "print('|A| =', detA)\r\n",
    "\r\n",
    "\r\n",
    "\r\n",
    "\r\n"
   ],
   "outputs": [
    {
     "output_type": "stream",
     "name": "stdout",
     "text": [
      "M =\n",
      " [[ 3. -1. -1.  4.]\n",
      " [ 4. -2.  3.  2.]\n",
      " [ 2.  1. -5. -1.]]\n",
      "mxn =\n",
      " 3 x 4\n",
      "|A| = \n",
      " [[ 3. -1. -1.]\n",
      " [ 4. -2.  3.]\n",
      " [ 2.  1. -5.]] \n",
      " = -13.0\n",
      "M =\n",
      " [[ 3.         -1.         -1.          4.        ]\n",
      " [ 0.         -0.66666667  4.33333333 -3.33333333]\n",
      " [ 2.          1.         -5.         -1.        ]]\n",
      "M =\n",
      " [[ 3.         -1.         -1.          4.        ]\n",
      " [ 0.         -0.66666667  4.33333333 -3.33333333]\n",
      " [ 0.          1.66666667 -4.33333333 -3.66666667]]\n",
      "M =\n",
      " [[  3.          -1.          -1.           4.        ]\n",
      " [  0.          -0.66666667   4.33333333  -3.33333333]\n",
      " [  0.           0.           6.5        -12.        ]]\n",
      "|A| = -12.999999999999995\n"
     ]
    }
   ],
   "metadata": {}
  },
  {
   "cell_type": "code",
   "execution_count": 2,
   "source": [
    "from sympy import *\r\n",
    "\r\n",
    "x,y,z=symbols('x y z')\r\n",
    "\r\n",
    "linsolve(\r\n",
    "    Matrix(\r\n",
    "        (\r\n",
    "            [3, -1, -1, 4],\r\n",
    "            [4, -2, 3, 2],\r\n",
    "            [2, 1, -5, -1]\r\n",
    "        )\r\n",
    "    ), \r\n",
    "    (x, y, z)\r\n",
    ")\r\n"
   ],
   "outputs": [
    {
     "output_type": "execute_result",
     "data": {
      "text/latex": [
       "$\\displaystyle \\left\\{\\left( - \\frac{21}{13}, \\  -7, \\  - \\frac{24}{13}\\right)\\right\\}$"
      ],
      "text/plain": [
       "FiniteSet((-21/13, -7, -24/13))"
      ]
     },
     "metadata": {},
     "execution_count": 2
    }
   ],
   "metadata": {}
  },
  {
   "cell_type": "code",
   "execution_count": 3,
   "source": [
    "from sympy import *\r\n",
    "x, y, z=symbols('x y z')\r\n",
    "\r\n",
    "linsolve(Matrix((\r\n",
    "    [1, 1, 1, 1], \r\n",
    "    [1, 1, 2, 3], \r\n",
    "    [1, 0, 2, 3])), (x, y, z))"
   ],
   "outputs": [
    {
     "output_type": "execute_result",
     "data": {
      "text/latex": [
       "$\\displaystyle \\left\\{\\left( -1, \\  0, \\  2\\right)\\right\\}$"
      ],
      "text/plain": [
       "FiniteSet((-1, 0, 2))"
      ]
     },
     "metadata": {},
     "execution_count": 3
    }
   ],
   "metadata": {}
  },
  {
   "cell_type": "markdown",
   "source": [
    "# Test 2 Make Up\r\n",
    "\r\n",
    "Consider the system of linear equation below:\r\n",
    "\r\n",
    "$$\r\n",
    "3x\\ -y-2-z=\\ 4\\bigm4z-2y+3x\\ +y=2\\bigm2x+y-5y-1+z+x\\ \\ \\ =-1\r\n",
    "$$\r\n",
    "\r\n",
    "Q1.\r\n",
    "\tWrite the matrices form.\tA\\bullet x=b \r\n",
    "\tWhat is the order of matrix  A\r\n",
    "\tWhat is the order of matrix b.\r\n",
    "\tDeterminant of matrix A\r\n",
    "\tRank of A\r\n",
    "Q2.\r\n",
    "\tWrite the augment matrix A_b,\tA_b=\\left[A|b\\right]\r\n",
    "\tWhat is the order of matrix A_b.\r\n",
    "\tSolve the system of linear equation using Gaussian Elimination. \r\n"
   ],
   "metadata": {}
  },
  {
   "cell_type": "code",
   "execution_count": 6,
   "source": [
    "import numpy as np\r\n",
    "\r\n",
    "A = np.array(\r\n",
    "    [\r\n",
    "        [3.0, -1., -1.],\r\n",
    "        [3., -1., 4.],\r\n",
    "        [2., -4., 1.],\r\n",
    "    ]\r\n",
    ")\r\n",
    "\r\n",
    "b = np.array(\r\n",
    "    [\r\n",
    "        [6.0],\r\n",
    "        [2.0],\r\n",
    "        [0.0],\r\n",
    "    ]\r\n",
    ")\r\n",
    "\r\n",
    "x = np.linalg.solve(A,b)\r\n",
    "print('x = \\n', x)\r\n",
    "\r\n",
    "d = np.linalg.det(A)\r\n",
    "print('det(A) = ', d)\r\n",
    "\r\n"
   ],
   "outputs": [
    {
     "output_type": "stream",
     "name": "stdout",
     "text": [
      "x = \n",
      " [[ 2. ]\n",
      " [ 0.8]\n",
      " [-0.8]]\n",
      "det(A) =  50.000000000000014\n"
     ]
    }
   ],
   "metadata": {}
  },
  {
   "cell_type": "code",
   "execution_count": 7,
   "source": [
    "from sympy import *\r\n",
    "x, y, z=symbols('x y z')\r\n",
    "\r\n",
    "linsolve(Matrix((\r\n",
    "    [3.0, -1., -1., 6.0],\r\n",
    "    [3., -1., 4., 2.0],\r\n",
    "    [2., -4., 1., 0],\r\n",
    "    )), (x, y, z))"
   ],
   "outputs": [
    {
     "output_type": "execute_result",
     "data": {
      "text/latex": [
       "$\\displaystyle \\left\\{\\left( 2.0, \\  0.8, \\  -0.8\\right)\\right\\}$"
      ],
      "text/plain": [
       "FiniteSet((2.0, 0.8, -0.8))"
      ]
     },
     "metadata": {},
     "execution_count": 7
    }
   ],
   "metadata": {}
  },
  {
   "cell_type": "markdown",
   "source": [
    "## Square matrix\r\n",
    "Square matrix is a matrix of order $m \\times m$ or $n \\times n$. It contains same number of rows and columns.\r\n",
    "\r\n",
    "$$\r\n",
    "A=  \\left[\r\n",
    "        \\begin{matrix}\r\n",
    "            a_{11} & a_{12} & \\cdots & a_{1n}\\\\\r\n",
    "            a_{21} & a_{22} & \\cdots & a_{2n}\\\\\r\n",
    "            \\vdots & \\vdots & \\ddots & \\vdots \\\\\r\n",
    "            a_{n1} & a_{n2} & \\cdots & a_{nn}\\\\\r\n",
    "        \\end{matrix}\r\n",
    "    \\right]\r\n",
    "    =n\\times n\r\n",
    "    =m\\times m\t\r\n",
    "$$\r\n",
    "$$\r\n",
    "A=\\left[\\begin{matrix}3&-3&-4\\\\1&-1&-1\\\\2&-1&4\\\\\\end{matrix}\\right]=3\\times3\t\r\n",
    "$$\r\n"
   ],
   "metadata": {}
  },
  {
   "cell_type": "code",
   "execution_count": 13,
   "source": [
    "import numpy as np\r\n",
    "\r\n",
    "A = np.array(\r\n",
    "    [\r\n",
    "        [3,-3,-4],\r\n",
    "        [1, -1, -2],\r\n",
    "        [2, -1, 4],\r\n",
    "    ]\r\n",
    ")\r\n",
    "\r\n",
    "Atrp = np.transpose(A)\r\n",
    "\r\n",
    "print('=========================')\r\n",
    "print('A=\\n', A)\r\n",
    "print('\\nmxn= ', np.shape(A))\r\n",
    "print()\r\n",
    "print('A^T=\\n', Atrp)\r\n",
    "print('\\nmxn= ', np.shape(Atrp))\r\n",
    "print('=========================')\r\n"
   ],
   "outputs": [
    {
     "output_type": "stream",
     "name": "stdout",
     "text": [
      "=========================\n",
      "A=\n",
      " [[ 3 -3 -4]\n",
      " [ 1 -1 -2]\n",
      " [ 2 -1  4]]\n",
      "\n",
      "mxn=  (3, 3)\n",
      "\n",
      "A^T=\n",
      " [[ 3  1  2]\n",
      " [-3 -1 -1]\n",
      " [-4 -2  4]]\n",
      "\n",
      "mxn=  (3, 3)\n",
      "=========================\n"
     ]
    }
   ],
   "metadata": {}
  },
  {
   "cell_type": "markdown",
   "source": [
    "### Symmetry matrix \r\n",
    "A square matrix is symmetrical if   $a_{ij}=a_{ji}$, meaning $S=S^T$.\r\n",
    "$$\r\n",
    "S=\\left[\\begin{matrix}1&2&3\\\\2&4&5\\\\3&5&6\\\\\\end{matrix}\\right]\t\r\n",
    "$$\r\n",
    "$$\r\n",
    "S^T=\\left[\\begin{matrix}1&2&3\\\\2&4&5\\\\3&5&6\\\\\\end{matrix}\\right]\t\r\n",
    "$$"
   ],
   "metadata": {}
  },
  {
   "cell_type": "code",
   "execution_count": 1,
   "source": [
    "import numpy as np\r\n",
    "\r\n",
    "A = np.array(\r\n",
    "    [\r\n",
    "        [3,-3,-4],\r\n",
    "        [1, -1, -2],\r\n",
    "        [2, -1, 4],\r\n",
    "    ]\r\n",
    ")\r\n",
    "\r\n",
    "A_T = np.transpose(A)\r\n",
    "\r\n",
    "S = np.array(\r\n",
    "    [\r\n",
    "        [1, 2, 3],\r\n",
    "        [2, 4, 5],\r\n",
    "        [3, 5, 6],\r\n",
    "    ]\r\n",
    ")\r\n",
    "\r\n",
    "S_T = np.transpose(S)\r\n",
    "print('=========================')\r\n",
    "print('S=\\n', S)\r\n",
    "print('\\nmxn= ', np.shape(S))\r\n",
    "print()\r\n",
    "print('S^T=\\n', S_T)\r\n",
    "print('\\nmxn= ', np.shape(S_T))\r\n",
    "print() \r\n",
    "print('S == S^T')\r\n",
    "print(S == S_T)\r\n",
    "\r\n",
    "print('=========================')\r\n",
    "\r\n",
    "print('A=\\n', A)\r\n",
    "print('\\nmxn= ', np.shape(A))\r\n",
    "print()\r\n",
    "print('A^T=\\n', A_T)\r\n",
    "print('\\nmxn= ', np.shape(A_T))\r\n",
    "print()\r\n",
    "print('A == A^T')\r\n",
    "print(A == A_T)\r\n",
    "print('=========================')\r\n"
   ],
   "outputs": [
    {
     "output_type": "stream",
     "name": "stdout",
     "text": [
      "=========================\n",
      "S=\n",
      " [[1 2 3]\n",
      " [2 4 5]\n",
      " [3 5 6]]\n",
      "\n",
      "mxn=  (3, 3)\n",
      "\n",
      "S^T=\n",
      " [[1 2 3]\n",
      " [2 4 5]\n",
      " [3 5 6]]\n",
      "\n",
      "mxn=  (3, 3)\n",
      "\n",
      "S == S^T\n",
      "[[ True  True  True]\n",
      " [ True  True  True]\n",
      " [ True  True  True]]\n",
      "=========================\n",
      "A=\n",
      " [[ 3 -3 -4]\n",
      " [ 1 -1 -2]\n",
      " [ 2 -1  4]]\n",
      "\n",
      "mxn=  (3, 3)\n",
      "\n",
      "A^T=\n",
      " [[ 3  1  2]\n",
      " [-3 -1 -1]\n",
      " [-4 -2  4]]\n",
      "\n",
      "mxn=  (3, 3)\n",
      "\n",
      "A == A^T\n",
      "[[ True False False]\n",
      " [False  True False]\n",
      " [False False  True]]\n",
      "=========================\n"
     ]
    }
   ],
   "metadata": {}
  },
  {
   "cell_type": "markdown",
   "source": [
    "### Triangular matrix\r\n",
    "A triangular matrix is a square matrix with all elements below the leading diagonal equal to zero.\r\n",
    "$$\r\n",
    "A=\\left[\\begin{matrix}1&2&3\\\\0&4&5\\\\0&0&6\\\\\\end{matrix}\\right]\t\r\n",
    "$$"
   ],
   "metadata": {}
  },
  {
   "cell_type": "markdown",
   "source": [
    "### Diagonal matrix\r\n",
    "A diagonal matrix is a square matrix with all elements zero except the leading diagonal.\r\n",
    "$$\r\n",
    "A=\\left[\\begin{matrix}1&0&0\\\\0&4&0\\\\0&0&6\\\\\\end{matrix}\\right]\t\r\n",
    "$$"
   ],
   "metadata": {}
  },
  {
   "cell_type": "markdown",
   "source": [
    "### Unit matrix\r\n",
    "A Unit matrix is a special diagonal matrix with the leading diagonal element values all unity or ones. The unit matrix is denoted by I. \r\n",
    "$$\r\n",
    "\\mathbb{I}=\\left[\\begin{matrix}1&0&0\\\\0&1&0\\\\0&0&1\\\\\\end{matrix}\\right]\t\r\n",
    "$$\r\n"
   ],
   "metadata": {}
  },
  {
   "cell_type": "markdown",
   "source": [
    "#### Useful property\r\n",
    "A useful property\r\n",
    "$$\r\n",
    "A.I=I.A=A\t\r\n",
    "$$\r\n"
   ],
   "metadata": {}
  },
  {
   "cell_type": "code",
   "execution_count": 2,
   "source": [
    "import numpy as np\r\n",
    "\r\n",
    "A = np.array(\r\n",
    "    [\r\n",
    "        [3,-3,-4],\r\n",
    "        [1, -1, -2],\r\n",
    "        [2, -1, 4],\r\n",
    "    ]\r\n",
    ")\r\n",
    "\r\n",
    "I = np.identity(3)\r\n",
    "\r\n",
    "print('=========================')\r\n",
    "print('A =\\n', A)\r\n",
    "print()\r\n",
    "print('I =\\n', I)\r\n",
    "print()\r\n",
    "print('A * I=\\n', A @ I)\r\n",
    "print()\r\n",
    "print('I * A=\\n', I @ A)\r\n",
    "print('=========================')\r\n"
   ],
   "outputs": [
    {
     "output_type": "stream",
     "name": "stdout",
     "text": [
      "=========================\n",
      "A =\n",
      " [[ 3 -3 -4]\n",
      " [ 1 -1 -2]\n",
      " [ 2 -1  4]]\n",
      "\n",
      "I =\n",
      " [[1. 0. 0.]\n",
      " [0. 1. 0.]\n",
      " [0. 0. 1.]]\n",
      "\n",
      "A * I=\n",
      " [[ 3. -3. -4.]\n",
      " [ 1. -1. -2.]\n",
      " [ 2. -1.  4.]]\n",
      "\n",
      "I * A=\n",
      " [[ 3. -3. -4.]\n",
      " [ 1. -1. -2.]\n",
      " [ 2. -1.  4.]]\n",
      "=========================\n"
     ]
    }
   ],
   "metadata": {}
  },
  {
   "cell_type": "markdown",
   "source": [
    "## Null matrix\r\n",
    "A null matrix is one whose elements are all zero.\r\n",
    "$$\r\n",
    "N=\\left[\\begin{matrix}0&0&0\\\\0&0&0\\\\0&0&0\\\\\\end{matrix}\\right]\t\r\n",
    "$$"
   ],
   "metadata": {}
  },
  {
   "cell_type": "markdown",
   "source": [
    "#### Useful property\r\n",
    "A useful property\r\n",
    "$$\r\n",
    "A.B=0\r\n",
    "$$\r\n",
    "we cannot say $A=0$ or $B=0$\t\r\n"
   ],
   "metadata": {}
  },
  {
   "cell_type": "code",
   "execution_count": 3,
   "source": [
    "import numpy as np\r\n",
    "\r\n",
    "A = np.array(\r\n",
    "    [\r\n",
    "        [3,-3,-4],\r\n",
    "        [1, -1, -2],\r\n",
    "        [2, -1, 4],\r\n",
    "    ]\r\n",
    ")\r\n",
    "\r\n",
    "N = np.zeros(3)\r\n",
    "\r\n",
    "print('=========================')\r\n",
    "print('A =\\n', A)\r\n",
    "print()\r\n",
    "print('N =\\n', N)\r\n",
    "print()\r\n",
    "print('A * N=\\n', A @ N)\r\n",
    "print()\r\n",
    "print('N * A=\\n', N @ A)\r\n",
    "print('=========================')\r\n"
   ],
   "outputs": [
    {
     "output_type": "stream",
     "name": "stdout",
     "text": [
      "=========================\n",
      "A =\n",
      " [[ 3 -3 -4]\n",
      " [ 1 -1 -2]\n",
      " [ 2 -1  4]]\n",
      "\n",
      "N =\n",
      " [0. 0. 0.]\n",
      "\n",
      "A * N=\n",
      " [0. 0. 0.]\n",
      "\n",
      "N * A=\n",
      " [0. 0. 0.]\n",
      "=========================\n"
     ]
    }
   ],
   "metadata": {}
  },
  {
   "cell_type": "markdown",
   "source": [
    "# Determinants"
   ],
   "metadata": {}
  },
  {
   "cell_type": "markdown",
   "source": [
    "The arrangement of numbers in an equal rows and columns bounded by a straight bar is called determinant.\r\n",
    "\r\n",
    "$$\r\n",
    "\\left|\\begin{matrix}a_{11}&a_{12}\\\\a_{21}&a_{22}\\\\\\end{matrix}\\right|\t\r\n",
    "$$"
   ],
   "metadata": {}
  },
  {
   "cell_type": "markdown",
   "source": [
    "## Determinants of the second order\r\n",
    "The symbol above is determinant of a $2\\times 2$ (two by two matrix) with element $a_{11}$ on row 1 and column 1 and $a_{12}$  is element on row 1 and column 2.  It means each element is identified by row and column number subscript $i \\textrm{and} j: a_{ij}$.  \r\n",
    "\r\n",
    "By definition,\r\n",
    "$$\r\n",
    "\\left|\\begin{matrix}a_{11}&a_{12}\\\\a_{21}&a_{22}\\\\\\end{matrix}\\right|=a_{11}a_{22}-a_{12}a_{21}\t\r\n",
    "$$"
   ],
   "metadata": {}
  },
  {
   "cell_type": "markdown",
   "source": [
    "To find determinant of \r\n",
    "$$\r\n",
    "\\left|\\begin{matrix}a_{11}&a_{12}\\\\a_{21}&a_{22}\\\\\\end{matrix}\\right| \r\n",
    "$$  \r\n",
    "\r\n",
    "we must multiply the elements diagonally to form the product terms in the expansion: \r\n",
    "\r\n",
    "$$\r\n",
    "\\textrm{we multiply }\r\n",
    "\\left|\r\n",
    "    \\begin{matrix}\r\n",
    "        a_{11} & \\\\\r\n",
    "        & a_{22}\\\\\r\n",
    "    \\end{matrix}\r\n",
    "\\right| \r\n",
    "\r\n",
    "\\textrm{ then subtract the product } \r\n",
    "\r\n",
    "\\left|\r\n",
    "    \\begin{matrix}\r\n",
    "         & a_{12}\\\\\r\n",
    "        a_{21} & \\\\\r\n",
    "    \\end{matrix}\r\n",
    "\\right|\r\n",
    "$$"
   ],
   "metadata": {}
  },
  {
   "cell_type": "markdown",
   "source": [
    "Note:  \r\n",
    "$a_{11}$ before $a_{12}$ i.e column 1 before 2.  \r\n",
    "\r\n",
    "$$\r\n",
    "\\left|\r\n",
    "    \\begin{matrix}\r\n",
    "        1 & -3\\\\\r\n",
    "        4 & -2\\\\\r\n",
    "    \\end{matrix}\r\n",
    "\\right|\r\n",
    "=(1)(-2)-(-3)(4)=-2+12=10\t\r\n",
    "$$\r\n",
    "\r\n",
    "Or\r\n",
    "\r\n",
    "$$\r\n",
    "\\left|\r\n",
    "    \\begin{matrix}\r\n",
    "        1&\\\\\r\n",
    "        &-2\\\\\r\n",
    "    \\end{matrix}\r\n",
    "\\right|\r\n",
    "-\r\n",
    "\\left|\r\n",
    "    \\begin{matrix}\r\n",
    "         & -3\\\\\r\n",
    "        4 & \\\\\r\n",
    "    \\end{matrix}\r\n",
    "\\right|\r\n",
    "= 1\\times -2 --3\\times 4 = 10\t\r\n",
    "$$\r\n"
   ],
   "metadata": {}
  },
  {
   "cell_type": "markdown",
   "source": [
    "More example in class  "
   ],
   "metadata": {}
  },
  {
   "cell_type": "markdown",
   "source": [
    "## Determinants of the third order\r\n",
    "A determinant of the third order contains 3 rows and 3 columns.\r\n",
    "$$\r\n",
    "\\left|\\begin{matrix}a_{11}&a_{12}&a_{13}\\\\a_{21}&a_{22}&a_{23}\\\\a_{31}&a_{32}&a_{33}\\\\\\end{matrix}\\right|\t\r\n",
    "$$\r\n"
   ],
   "metadata": {}
  },
  {
   "cell_type": "markdown",
   "source": [
    "In order to find the determinant of a higher order the matrix minor must be developed until second order is reached.\r\n",
    "Developing each element in the first row minor:\r\n",
    "$$\r\n",
    "\\left|\\begin{matrix}a_{11}&a_{12}&a_{13}\\\\a_{21}&a_{22}&a_{23}\\\\a_{31}&a_{32}&a_{33}\\\\\\end{matrix}\\right|\r\n",
    "\\left|\\begin{matrix}+&-&+\\\\& &\\\\&&\\\\\\end{matrix}\\right|\t\r\n",
    "$$\r\n",
    "\r\n",
    "For $a_{11}$\r\n",
    "$$\r\n",
    "\\left|\\begin{matrix}a_{11}&&\\\\&a_{22}&a_{23}\\\\&a_{32}&a_{33}\\\\\\end{matrix}\\right|\t\r\n",
    "\\begin{matrix}a_{11}\\\\\\\\\\end{matrix}\\left|\\begin{matrix}a_{22}&a_{23}\\\\a_{32}&a_{33}\\\\\\end{matrix}\\right|=a_{11}\\left(a_{22}a_{33}-a_{23}a_{32}\\right)\t\r\n",
    "$$\r\n",
    "For $a_{12}$\r\n",
    "$$\r\n",
    "\\left|\\begin{matrix}&a_{12}&\\\\a_{21}&&a_{23}\\\\a_{31}&&a_{33}\\\\\\end{matrix}\\right|\t\r\n",
    "\\begin{matrix}{-a}_{12}\\\\\\\\\\end{matrix}\\left|\\begin{matrix}a_{21}&a_{23}\\\\a_{31}&a_{33}\\\\\\end{matrix}\\right|=-a_{12}\\left(a_{21}a_{33}-a_{23}a_{31}\\right)\t\r\n",
    "$$\r\n",
    "For $a_{13}$\r\n",
    "$$\r\n",
    "\\left|\\begin{matrix}&&a_{13}\\\\a_{21}&a_{22}&\\\\a_{31}&a_{32}&\\\\\\end{matrix}\\right|\t\r\n",
    "\\begin{matrix}a_{13}\\\\\\\\\\end{matrix}\\left|\\begin{matrix}a_{21}&a_{22}\\\\a_{31}&a_{32}\\\\\\end{matrix}\\right|=a_{13}\\left(a_{21}a_{32}-a_{22}a_{31}\\right)\t\r\n",
    "$$\r\n"
   ],
   "metadata": {}
  },
  {
   "cell_type": "markdown",
   "source": [
    "Summing all together:\r\n",
    "$$\r\n",
    "\\left|\\begin{matrix}a_{11}&a_{12}&a_{13}\\\\a_{21}&a_{22}&a_{23}\\\\a_{31}&a_{32}&a_{33}\\\\\\end{matrix}\\right|=\\begin{matrix}a_{11}\\\\\\\\\\end{matrix}\\left|\\begin{matrix}a_{22}&a_{23}\\\\a_{32}&a_{33}\\\\\\end{matrix}\\right|\\begin{matrix}{-a}_{12}\\\\\\\\\\end{matrix}\\left|\\begin{matrix}a_{21}&a_{23}\\\\a_{31}&a_{33}\\\\\\end{matrix}\\right|\\begin{matrix}{+a}_{13}\\\\\\\\\\end{matrix}\\left|\\begin{matrix}a_{21}&a_{22}\\\\a_{31}&a_{32}\\\\\\end{matrix}\\right|\t\r\n",
    "$$"
   ],
   "metadata": {}
  },
  {
   "cell_type": "markdown",
   "source": [
    "$$\r\n",
    "\\left|\\begin{matrix}3&-3&-4\\\\1&-1&-1\\\\2&-1&4\\\\\\end{matrix}\\right|\t\r\n",
    "=\\begin{matrix}3\\\\\\\\\\end{matrix}\\left|\\begin{matrix}-1&-1\\\\-1&4\\\\\\end{matrix}\\right|\\begin{matrix}-\\\\\\\\\\end{matrix}\\begin{matrix}-3\\\\\\\\\\end{matrix}\\left|\\begin{matrix}1&-1\\\\2&4\\\\\\end{matrix}\\right|\\begin{matrix}+\\\\\\\\\\end{matrix}\\begin{matrix}-4\\\\\\\\\\end{matrix}\\left|\\begin{matrix}1&-1\\\\2&-1\\\\\\end{matrix}\\right|\t\r\n",
    "$$\r\n",
    "$$\r\n",
    "=3\\left((-1\\times4)-(-1\\times-1)\\right)--3((1\\times4)-(-1\\times2))+-4((1\\times-1)-(-1\\times2))\t\r\n",
    "$$\r\n",
    "$$\r\n",
    "=3\\left(-4-1\\right)--3(4-(-2))+-4(-1-(-2))\t\r\n",
    "$$\r\n",
    "$$\r\n",
    "=3\\left(-5\\right)+3(6)-4(1)\t\r\n",
    "$$\r\n",
    "$$\r\n",
    "=-15+18-4=-1\r\n",
    "$$"
   ],
   "metadata": {}
  },
  {
   "cell_type": "markdown",
   "source": [
    "Try \r\n",
    "$$\r\n",
    "\\left|\\begin{matrix}2&3&4\\\\6&1&0\\\\2&3&4\\\\\\end{matrix}\\right|\r\n",
    "$$\r\n",
    "\r\n",
    "Answer  \r\n",
    "$$\r\n",
    "\\left|\\begin{matrix}2&3&4\\\\6&1&0\\\\2&3&4\\\\\\end{matrix}\\right|=0\r\n",
    "$$"
   ],
   "metadata": {}
  },
  {
   "cell_type": "markdown",
   "source": [
    "# Solution of system of linear equations by determinants\r\n"
   ],
   "metadata": {}
  },
  {
   "cell_type": "markdown",
   "source": [
    "A system of linear equations of the second degree of two unknowns can be written below: \r\n",
    "$$\r\n",
    "a_{11}x+a_{12}y=b_1 \\\\\r\n",
    "a_{21}x+a_{22}y=b_2 \t\r\n",
    "$$\r\n",
    "and can further be written in matrices form as  \r\n",
    "$$\r\n",
    "\\left[\\begin{matrix}a_{11}&a_{11}\\\\a_{11}&a_{11}\\\\\\end{matrix}\\right]\\ \\ \\left[\\begin{matrix}x\\\\y\\\\\\end{matrix}\\right]=\\left[\\begin{matrix}b_1\\\\b_2\\\\\\end{matrix}\\right]\\ \\ \r\n",
    "$$\r\n",
    "$$\t\r\n",
    "A . x=b\r\n",
    "$$\t"
   ],
   "metadata": {}
  },
  {
   "cell_type": "markdown",
   "source": [
    "Solving Simultaneous Equation\r\n",
    "$$\r\n",
    "2x + 3y = 10\\\\\r\n",
    "4x + y = 1\r\n",
    "$$ \t\r\n",
    "\r\n",
    "By elimination and substitution \r\n",
    "$$\r\n",
    "x=-\\frac{7}{10},\\quad y=\\frac{38}{10}\t\r\n",
    "$$\r\n"
   ],
   "metadata": {}
  },
  {
   "cell_type": "markdown",
   "source": [
    "## Determinant Equation Method\r\n",
    "### Secondary Degree\r\n",
    "$$\r\n",
    "2x + 3y = 10\\\\\r\n",
    "4x + y = 1\r\n",
    "$$ \t\r\n",
    "could be written as: \r\n",
    "$$\r\n",
    "2x+3y-10=0 \\quad \\left(a\\right) \\\\\r\n",
    "4x+y-1=0 \\quad \\left(b\\right)\t\r\n",
    "$$\r\n",
    "and\r\n",
    "$$\r\n",
    "a_{11}x+a_{12}y+b_1=0 \\quad \\left(a\\right) \\\\\r\n",
    "a_{21}x+a_{22}y+b_2=0 \\quad \\left(b\\right)\t\r\n",
    "$$"
   ],
   "metadata": {}
  },
  {
   "cell_type": "markdown",
   "source": [
    "The solution\r\n",
    "$$\r\n",
    "\\frac{x}{∆_1}=\\frac{-y}{∆_2}=\\frac{1}{∆_0}\r\n",
    "$$\r\n",
    "$$\r\n",
    "x=\\frac{∆_1}{∆_0}, \\quad y=\\frac{-∆_2}{∆_0}\r\n",
    "$$\r\n",
    "where\r\n",
    "$$\r\n",
    "∆_0=\\left|\r\n",
    "        \\begin{matrix} \r\n",
    "            a_{11} & a_{12} \\\\ \r\n",
    "            a_{21} & a_{22}\r\n",
    "        \\end{matrix}\r\n",
    "    \\right|\r\n",
    ",\\quad\r\n",
    "∆_1=\\left|\r\n",
    "        \\begin{matrix} \r\n",
    "            a_{12} & b_{1} \\\\ \r\n",
    "            a_{22} & b_{2}\r\n",
    "        \\end{matrix}\r\n",
    "    \\right|\r\n",
    ",\\quad\r\n",
    "∆_2=\\left|\r\n",
    "        \\begin{matrix} \r\n",
    "            a_{11} & b_{1} \\\\ \r\n",
    "            a_{21} & b_{2}\r\n",
    "        \\end{matrix}\r\n",
    "    \\right|\r\n",
    "$$"
   ],
   "metadata": {}
  },
  {
   "cell_type": "markdown",
   "source": [
    "Solving Equation \r\n",
    "$$\r\n",
    "2x+3y-10=0 \\quad \\left(a\\right) \\\\\r\n",
    "4x+y-1=0 \\quad \\left(b\\right)\t\r\n",
    "$$\r\n",
    "$$\r\n",
    "∆_0=\\left|\r\n",
    "        \\begin{matrix} \r\n",
    "            2 & 3 \\\\ \r\n",
    "            4 & 1\r\n",
    "        \\end{matrix}\r\n",
    "    \\right|\r\n",
    "    =\r\n",
    "    (2\\times 1)-(3\\times 4)=2-12=-10\r\n",
    "$$\r\n",
    "$$\r\n",
    "∆_1=\\left|\r\n",
    "        \\begin{matrix} \r\n",
    "            3 & -10 \\\\ \r\n",
    "            1 & -1\r\n",
    "        \\end{matrix}\r\n",
    "    \\right|\r\n",
    "    =\r\n",
    "    (3\\times -1)-(-10 \\times 1)=-3--10=7\r\n",
    "$$\r\n",
    "$$\r\n",
    "∆_2=\\left|\r\n",
    "        \\begin{matrix} \r\n",
    "            2 & -10 \\\\ \r\n",
    "            4 & -1\r\n",
    "        \\end{matrix}\r\n",
    "    \\right|\r\n",
    "    =\r\n",
    "    (2 \\times -1)-(-10 \\times 4)=-2--40=38\r\n",
    "$$\r\n",
    "$$\r\n",
    "x=\\frac{∆_1}{∆_0}=\\frac{7}{-10} =\\left. -\\frac{7}{10} \\right. \\\\    \r\n",
    "y=\\frac{-∆_2}{∆_0}=\\left.-\\frac{38}{-10}\\right.=\\frac{38}{10}\r\n",
    "$$"
   ],
   "metadata": {}
  },
  {
   "cell_type": "markdown",
   "source": [
    "### The solution for higher degree system of linear equations are:\r\n",
    "### For third degree:\r\n",
    "\r\n",
    "$$\r\n",
    "\\frac {x}{∆_1}=\\frac {-y}{∆_2}= \\frac {z}{∆_2}=\\frac {-1}{∆_0} \r\n",
    "$$\r\n",
    "$$\r\n",
    "x=\\frac {-∆_1}{∆_0}, \\quad y=\\frac {∆_2}{∆_0}, \\quad z=\\frac {-∆_3}{∆_0}\r\n",
    "$$\r\n",
    "\r\n",
    "Note: The positive and negative signs alternate has the degree increases.\r\n"
   ],
   "metadata": {}
  },
  {
   "cell_type": "markdown",
   "source": [
    "### Third Degree\r\n",
    "Solve \r\n",
    "$$\r\n",
    "3x -3y - 4z = 1 \\\\\r\n",
    "x - y - z = 2 \\\\\r\n",
    "2x-y+ 4z =3\t\r\n",
    "$$\r\n",
    "\r\n",
    "Rearrange\r\n",
    "$$\r\n",
    "3x -3y -4z -1= 0 \\\\\r\n",
    "x - y - z -2 =0 \\\\\r\n",
    "2x - y + 4z -3 = 0\t\r\n",
    "$$"
   ],
   "metadata": {}
  },
  {
   "cell_type": "markdown",
   "source": [
    "Extract the matrix of coefficients:\t\r\n",
    "\r\n",
    "$$\r\n",
    "\\left[\\begin{matrix}\\begin{matrix}\\begin{matrix}3\\\\1\\\\2\\\\\\end{matrix}&\\begin{matrix}-3\\\\-1\\\\-1\\\\\\end{matrix}\\\\\\end{matrix}&\\begin{matrix}\\begin{matrix}-4\\\\-1\\\\4\\\\\\end{matrix}&\\begin{matrix}-1\\\\-2\\\\-3\\\\\\end{matrix}\\\\\\end{matrix}\\\\\\end{matrix}\\right]\r\n",
    "$$"
   ],
   "metadata": {}
  },
  {
   "cell_type": "code",
   "execution_count": null,
   "source": [],
   "outputs": [],
   "metadata": {}
  },
  {
   "cell_type": "code",
   "execution_count": null,
   "source": [],
   "outputs": [],
   "metadata": {}
  },
  {
   "cell_type": "code",
   "execution_count": null,
   "source": [],
   "outputs": [],
   "metadata": {}
  },
  {
   "cell_type": "code",
   "execution_count": null,
   "source": [
    "\t\r\n",
    "\r\n",
    "From Example 1.2\r\n",
    "∆0=3-3-41-1-12-14=-1\r\n",
    "\r\n",
    "\r\n",
    "\r\n",
    "∆1=-3-4-1-1-1-2-14-3=\r\n",
    "\r\n",
    "=\\begin{matrix}-3\\\\\\\\\\end{matrix}\\left|\\begin{matrix}-1&-2\\\\4&-3\\\\\\end{matrix}\\right|\\begin{matrix}-\\\\\\\\\\end{matrix}\\begin{matrix}-4\\\\\\\\\\end{matrix}\\left|\\begin{matrix}-1&-2\\\\-1&-3\\\\\\end{matrix}\\right|\\begin{matrix}+\\\\\\\\\\end{matrix}\\begin{matrix}-1\\\\\\\\\\end{matrix}\\left|\\begin{matrix}-1&-1\\\\-1&4\\\\\\end{matrix}\\right|\t\r\n",
    "=-3\\left(3--8\\right)--4(3-2)+-1(-4-1)\t\r\n",
    "=-3\\left(11\\right)+4(1)-(-5)=-24\t\r\n",
    "\r\n",
    "\r\n",
    "∆2=3-4-11-1-224-3\r\n",
    "\r\n",
    "=\\begin{matrix}3\\\\\\\\\\end{matrix}\\left|\\begin{matrix}-1&-2\\\\4&-3\\\\\\end{matrix}\\right|\\begin{matrix}-\\\\\\\\\\end{matrix}\\begin{matrix}-4\\\\\\\\\\end{matrix}\\left|\\begin{matrix}1&-2\\\\2&-3\\\\\\end{matrix}\\right|\\begin{matrix}+\\\\\\\\\\end{matrix}\\begin{matrix}-1\\\\\\\\\\end{matrix}\\left|\\begin{matrix}1&-1\\\\2&4\\\\\\end{matrix}\\right|\t\r\n",
    "=3\\left(3--8\\right)--4(-3--4)+-1(4--2)\t\r\n",
    "=3\\left(11\\right)+4(1)-(6)=31\t\r\n",
    "\r\n",
    "\r\n",
    "∆3=3-3-11-1-22-1-3\r\n",
    "\r\n",
    "=\\begin{matrix}3\\\\\\\\\\end{matrix}\\left|\\begin{matrix}-1&-2\\\\-1&-3\\\\\\end{matrix}\\right|\\begin{matrix}-\\\\\\\\\\end{matrix}\\begin{matrix}-3\\\\\\\\\\end{matrix}\\left|\\begin{matrix}1&-2\\\\2&-3\\\\\\end{matrix}\\right|\\begin{matrix}+\\\\\\\\\\end{matrix}\\begin{matrix}-1\\\\\\\\\\end{matrix}\\left|\\begin{matrix}1&-1\\\\2&-1\\\\\\end{matrix}\\right|\t\r\n",
    "=3\\left(3-2\\right)--3(-3--4)+-1(-1--2)\t\r\n",
    "=3\\left(1\\right)+3(1)-(1)=5\t\r\n",
    "\r\n",
    "From Equation 2.13\r\n",
    "x=-∆1∆0,    y=∆2∆0,    z=-∆3∆0\r\n",
    "\r\n",
    "x=-\\frac{-24}{-1},\\ \\ \\ \\ y=\\frac{31}{-1},\\ \\ \\ \\ z=-\\frac{5}{-1}\t\r\n",
    "x=-24,\\ \\ \\ \\ y=-31,\\ \\ \\ \\ z=5\t\r\n",
    "\r\n",
    "\r\n",
    "Cramers Rule\r\n",
    "For second degree\r\n",
    "For a system of two linear equations in two unknowns (x, y) given below:\r\n",
    "a_{11}x+a_{12}y=b_1\\ \\ \\ \\ \\bigma_{21}x+a_{22}y=b_2\\ \\ \\ \\ \t\r\n",
    "Cramer’s rule states that:\r\n",
    "x=\\frac{\\left|\\begin{matrix}b_1&a_{12}\\\\b_2&a_{22}\\\\\\end{matrix}\\right|}{\\left|\\begin{matrix}a_{11}&a_{12}\\\\a_{21}&a_{22}\\\\\\end{matrix}\\right|},\\ \\ \\ \\ y=\\frac{\\left|\\begin{matrix}a_{11}&b_1\\\\a_{21}&b_2\\\\\\end{matrix}\\right|}{\\left|\\begin{matrix}a_{11}&a_{12}\\\\a_{21}&a_{22}\\\\\\end{matrix}\\right|}\\ \t\r\n",
    "The denominator is the determinant of the coefficients of x and y. The numerator for x is the determinant of coefficient matrix when coefficient of x is replaced by b. Similarly, the numerator for y is the determinant of coefficient matrix when coefficient of y is replaced by b.\r\n",
    "\r\n",
    "\r\n",
    "Third degree\r\n",
    "a_{11}x+a_{12}y+a_{13}z=b_1\\ \\ \\ \\ \\bigma_{21}x+a_{22}y+a_{23}z=b_2\\bigma_{31}x+a_{32}y+a_{33}z=b_3\t\r\n",
    "x=\\frac{\\left|\\begin{matrix}b_1&a_{12}&a_{13}\\\\b_2&a_{22}&a_{23}\\\\b_3&a_{32}&a_{33}\\\\\\end{matrix}\\right|}{\\left|\\begin{matrix}a_{11}&a_{12}&a_{13}\\\\a_{21}&a_{22}&a_{23}\\\\a_{31}&a_{32}&a_{33}\\\\\\end{matrix}\\right|},\\ \\ \\ \\ y=?,\\ \\ z=?\t\r\n",
    "\r\n",
    "y=\\frac{\\left|\\begin{matrix}a_{11}&b_1&a_{13}\\\\a_{21}&b_2&a_{23}\\\\a_{31}&b_3&a_{33}\\\\\\end{matrix}\\right|}{\\left|\\begin{matrix}a_{11}&a_{12}&a_{13}\\\\a_{21}&a_{22}&a_{23}\\\\a_{31}&a_{32}&a_{33}\\\\\\end{matrix}\\right|},\\ \\ \\ \\ \t\r\n",
    "z=\\frac{\\left|\\begin{matrix}a_{11}&a_{12}&b_1\\\\a_{21}&a_{22}&b_2\\\\a_{31}&a_{32}&b_3\\\\\\end{matrix}\\right|}{\\left|\\begin{matrix}a_{11}&a_{12}&a_{13}\\\\a_{21}&a_{22}&a_{23}\\\\a_{31}&a_{32}&a_{33}\\\\\\end{matrix}\\right|},\\ \\ \\ \\ \t\r\n",
    "\r\n",
    "The Cramer’s rule can be generalized:\r\n",
    "x=\\frac{D_x}{D},\\ \\ \\ \\ \\ \\ \\ \\ \\ y=\\frac{D_y}{D},\\ \\ z=\\frac{D_z}{D}\\ \t\r\n",
    "\r\n",
    "Solve\r\n",
    "3x\\ -3y-4z=\\ 1\\bigmx-y-\\ z\\ \\ \\ \\ \\ \\ \\ =2\\bigm2x-y+\\ 4y\\ \\ \\ =3\t\r\n",
    "\r\n",
    "x=\\frac{\\left|\\begin{matrix}1&-3&-4\\\\2&-1&-1\\\\3&-1&4\\\\\\end{matrix}\\right|}{\\left|\\begin{matrix}3&-3&-4\\\\1&-1&-1\\\\2&-1&4\\\\\\end{matrix}\\right|}=\\frac{24}{-1}=-24\t\r\n",
    "y=\\frac{\\left|\\begin{matrix}3&1&-4\\\\1&2&-1\\\\2&3&4\\\\\\end{matrix}\\right|}{\\left|\\begin{matrix}3&-3&-4\\\\1&-1&-1\\\\2&-1&4\\\\\\end{matrix}\\right|}=\\frac{31}{-1}=-31\t\r\n",
    "z=\\frac{\\left|\\begin{matrix}3&-3&1\\\\1&-1&2\\\\2&-1&3\\\\\\end{matrix}\\right|}{\\left|\\begin{matrix}3&-3&-4\\\\1&-1&-1\\\\2&-1&4\\\\\\end{matrix}\\right|}=\\frac{-5}{-1}=5\t\r\n",
    "\r\n",
    "Note: For both the determinant Equation Method and Cramer’s rule determinant, ∆0 or D , the coefficient of the unknown must not equal zero. \r\n",
    "∆0≠0; D≠0\r\n",
    "\r\n",
    "\r\n",
    " \r\n",
    "\r\n",
    " \r\n",
    "\r\n",
    "Linear dependence and independence\r\n",
    "A matrix is said to be linearly dependent if the determinant is zero and linearly independent if the determinant is not zero.\r\n",
    "Linear dependence\r\n",
    "D=\\left|A\\right|=\\ 0\t\r\n",
    "And Linear independence\r\n",
    "D=\\left|A\\right|\\neq\\ 0\t\r\n",
    "\r\n",
    "Check if the matrices below are linear dependence or independence:\r\n",
    "A=\\left|\\begin{matrix}2&3&4\\\\6&1&0\\\\2&3&4\\\\\\end{matrix}\\right|\t\r\n",
    "B=\\left|\\begin{matrix}3&-3&-4\\\\1&-1&-1\\\\2&-1&4\\\\\\end{matrix}\\right|\t\r\n",
    "\r\n",
    "What is your answer?\r\n",
    "A=\\left|\\begin{matrix}2&3&4\\\\6&1&0\\\\2&3&4\\\\\\end{matrix}\\right|=0\t\r\n",
    "B=\\left|\\begin{matrix}3&-3&-4\\\\1&-1&-1\\\\2&-1&4\\\\\\end{matrix}\\right|=-1\t\r\n",
    "\r\n",
    "\r\n",
    "\r\n",
    "\r\n",
    " \r\n",
    "\r\n",
    " \r\n",
    "\r\n",
    "Rank of a matrix\r\n",
    "The rank of an m x n matrix A is the order of the largest square, linear independence sub-matrix. In order to get a matrix rank you must get a non-zero determinant matrix of the original m x n matrix or a sub-matrix.\r\n",
    "\r\n",
    "Check the rank of matrix B below:\r\n",
    "B=\\left|\\begin{matrix}3&-3&-4\\\\1&-1&-1\\\\2&-1&4\\\\\\end{matrix}\\right|=-1\t\r\n",
    "Since the determinant is non-zero the rank = 3.\r\n",
    "\r\n",
    "Similarly, check for matrix A.\r\n",
    "A=\\left|\\begin{matrix}2&3&4\\\\6&1&0\\\\2&3&4\\\\\\end{matrix}\\right|=0\t\r\n",
    "The determinant is zero, we need to check for the determinant of its sub-matrix:\r\n",
    "A_1=\\left|\\begin{matrix}2&3\\\\6&1\\\\\\end{matrix}\\right|=-16\t\r\n",
    "Since the determinant of the sub-matrix A1 is non-zero, we can conclude that matrix A is of rank =2.\r\n",
    "\r\n",
    "\r\n",
    " \r\n",
    "\r\n",
    " \r\n",
    "\r\n",
    "General system of linear equations, \r\n",
    "A system linear of equations below with three unknown x, y, z:\r\n",
    "a_{11}x_1+a_{12}x_2+a_{13}x_3=b_1\\ \\ \\ \\ \\bigma_{21}x_1+a_{22}x_2+a_{23}x_3=b_2\\bigma_{31}x_1+a_{32}x_2+a_{33}x_3=b_3\t\r\n",
    "can be represented using matrix notation:\r\n",
    "\\left[\\begin{matrix}a_{11}&a_{12}&a_{13}\\\\a_{21}&a_{22}&a_{23}\\\\a_{31}&a_{32}&a_{33}\\\\\\end{matrix}\\right]\\left[\\begin{matrix}x_1\\\\x_2\\\\x_3\\\\\\end{matrix}\\right]=\\left[\\begin{matrix}b_1\\\\b_2\\\\b_3\\\\\\end{matrix}\\right]\t\r\n",
    "\r\n",
    "Similarly,\r\n",
    "a_{11}x_1+a_{12}x_2+a_{13}x_3=b_1\\ \\ \\ \\ \\bigma_{21}x_1+a_{22}x_2+a_{23}x_3=b_2\t\r\n",
    "\\left[\\begin{matrix}a_{11}&a_{12}&a_{13}\\\\a_{21}&a_{22}&a_{23}\\\\\\end{matrix}\\right]\\left[\\begin{matrix}x_1\\\\x_2\\\\x_3\\\\\\end{matrix}\\right]=\\left[\\begin{matrix}b_1\\\\b_2\\\\\\end{matrix}\\right]\t\r\n",
    "\r\n",
    "\r\n",
    "Generally,\r\n",
    "\\begin{matrix}\\begin{matrix}\\begin{matrix}a_{11}x_1\\\\a_{21}x_1\\\\a_{31}x_1\\\\\\end{matrix}&\\begin{matrix}a_{12}x_2\\\\a_{22}x_2\\\\a_{32}x_2\\\\\\end{matrix}&\\begin{matrix}a_{13}x_3\\\\a_{23}x_3\\\\a_{33}x_3\\\\\\end{matrix}\\\\\\end{matrix}&\\begin{matrix}\\ldots\\\\\\ldots\\\\\\ldots\\\\\\end{matrix}&\\begin{matrix}\\begin{matrix}a_{1n}x_n&=&b_1\\\\\\end{matrix}\\\\\\begin{matrix}a_{2n}x_n&=&b_1\\\\\\end{matrix}\\\\\\begin{matrix}a_{3n}x_n&=&b_1\\\\\\end{matrix}\\\\\\end{matrix}\\\\\\begin{matrix}\\vdots\\ \\ \\ \\ \\ &\\ \\ \\ \\vdots\\ \\ &\\ \\ \\ \\ \\ \\ \\ \\ \\vdots\\\\\\end{matrix}&&\\ \\ \\ \\begin{matrix}\\vdots&&\\ \\ \\ \\ \\ \\ \\vdots\\\\\\end{matrix}\\\\\\begin{matrix}a_{m1}x_1&a_{m2}x_2&a_{m3}x_3\\\\\\end{matrix}&\\ldots&\\begin{matrix}a_{mn}x_n&=&b_m\\\\\\end{matrix}\\\\\\end{matrix}\t\r\n",
    "\\left[\\begin{matrix}\\begin{matrix}\\begin{matrix}a_{11}\\\\a_{21}\\\\a_{31}\\\\\\end{matrix}&\\begin{matrix}a_{12}\\\\a_{22}\\\\a_{32}\\\\\\end{matrix}&\\begin{matrix}a_{13}\\\\a_{23}\\\\a_{33}\\\\\\end{matrix}\\\\\\end{matrix}&\\begin{matrix}\\ldots\\\\\\ldots\\\\\\ldots\\\\\\end{matrix}&\\begin{matrix}a_{1n}\\\\a_{2n}\\\\a_{3n}\\\\\\end{matrix}\\\\\\begin{matrix}\\vdots\\ \\ &\\ \\ \\ \\vdots\\ &\\ \\ \\ \\ \\vdots\\\\\\end{matrix}&&\\vdots\\\\\\begin{matrix}a_{m1}&a_{m2}&a_{m3}\\\\\\end{matrix}&\\ldots&a_{mn}\\\\\\end{matrix}\\right]\\left[\\begin{matrix}x_1\\\\\\begin{matrix}x_2\\\\x_3\\\\\\vdots\\\\\\end{matrix}\\\\x_n\\\\\\end{matrix}\\right]=\\left[\\begin{matrix}b_1\\\\\\begin{matrix}b_2\\\\b_3\\\\\\vdots\\\\\\end{matrix}\\\\b_m\\\\\\end{matrix}\\right]\t\r\n",
    "A\\bullet x=b\t\r\n",
    "where\r\n",
    "A=\\left[\\begin{matrix}\\begin{matrix}\\begin{matrix}a_{11}\\\\a_{21}\\\\a_{31}\\\\\\end{matrix}&\\begin{matrix}a_{12}\\\\a_{22}\\\\a_{32}\\\\\\end{matrix}&\\begin{matrix}a_{13}\\\\a_{23}\\\\a_{33}\\\\\\end{matrix}\\\\\\end{matrix}&\\begin{matrix}\\ldots\\\\\\ldots\\\\\\ldots\\\\\\end{matrix}&\\begin{matrix}a_{1n}\\\\a_{2n}\\\\a_{3n}\\\\\\end{matrix}\\\\\\begin{matrix}\\vdots\\ \\ &\\ \\ \\ \\vdots\\ &\\ \\ \\ \\ \\vdots\\\\\\end{matrix}&&\\vdots\\\\\\begin{matrix}a_{m1}&a_{m2}&a_{m3}\\\\\\end{matrix}&\\ldots&a_{mn}\\\\\\end{matrix}\\right];\\ \\ x=\\left[\\begin{matrix}x_1\\\\\\begin{matrix}x_2\\\\x_3\\\\\\vdots\\\\\\end{matrix}\\\\x_n\\\\\\end{matrix}\\right];\\ \\ b=\\left[\\begin{matrix}b_1\\\\\\begin{matrix}b_2\\\\b_3\\\\\\vdots\\\\\\end{matrix}\\\\b_m\\\\\\end{matrix}\\right]\t\r\n",
    "If we multiply Eq (6.7) by A-1 the inverse of A. \r\n",
    "A^{-1}.A.x=A^{-1}.b\t\r\n",
    "A^{-1}.A=\\mathbit{I}\t\r\n",
    "\\mathbit{I}.x=A^{-1}.b\t\r\n",
    "x=A^{-1}.b\t\r\n",
    "and\t\r\n",
    "A^{-1}=\\frac{C^T}{\\left|A\\right|}\t\r\n",
    "\r\n",
    "\r\n",
    " \r\n",
    "\r\n",
    " \r\n",
    "\r\n",
    "Existence and properties of solution\r\n",
    "Existence of solution\r\n",
    "Looking at the equations below:\r\n",
    "A.x=b\t\r\n",
    "x=A^{-1}.b\t\r\n",
    "A^{-1}=\\frac{C^T}{\\left|A\\right|}\t\r\n",
    "Forming an augmented matrix A_b.\r\n",
    "A_b.=[A|b]\t\r\n",
    "\r\n",
    "For a solution to exist for a set of linear equations the following must be true:\r\n",
    "\tDeterminant of A must not be equal to zero, i.e \\left|A\\right|\\neq0. \r\n",
    "\tA unique solution exists:\r\n",
    "rank\\ of\\ A=rank\\ of\\ A_b=n\r\n",
    "\tAn infinite number of solutions exist:\r\n",
    "rank\\ of\\ A=rank\\ of\\ A_b=m<n\r\n",
    "\tNo solution exists:\r\n",
    "rank\\ A<rank\\ A_b\r\n",
    "Other properties of the solution\r\n",
    "x=0,\\ \\ A^{-1}=0\\ or\\ b=0\t\r\n",
    "\r\n",
    " \r\n",
    "\r\n",
    " \r\n",
    "\r\n",
    "Gaussian elimination. \r\n",
    "Algorithm of Gaussian Elimination\r\n",
    "Gaussian elimination method converts the combine matrix of A and b, [A|b] to triangular matrix. Then proceed with backward substitution to obtain x.\r\n",
    "For a system of linear equations\r\n",
    "a_{11}x_1+a_{12}x_2+a_{13}x_3=b_1\\ \\ \\ \\ \\bigma_{21}x_1+a_{22}x_2+a_{23}x_3=b_2\\bigma_{31}x_1+a_{32}x_2+a_{33}x_3=b_3\t\r\n",
    "\r\n",
    "Step 1: Write in matrix form.\r\n",
    "\\left[\\begin{matrix}a_{11}&a_{12}&a_{13}\\\\a_{21}&a_{22}&a_{23}\\\\a_{31}&a_{32}&a_{33}\\\\\\end{matrix}\\right]\\left[\\begin{matrix}x_1\\\\x_2\\\\x_3\\\\\\end{matrix}\\right]=\\left[\\begin{matrix}b_1\\\\b_2\\\\b_3\\\\\\end{matrix}\\right]\t\r\n",
    "A\\bullet x=b\t\r\n",
    "\r\n",
    "Step 2: Arrange matrix A and b together to form augmented matrix A_b.\r\n",
    "A_b=\\left[A|b\\right]\t\r\n",
    "A_b=\\left[\\begin{matrix}a_{11}&a_{12}&\\begin{matrix}a_{13}&|&b_1\\\\\\end{matrix}\\\\a_{21}&a_{22}&\\begin{matrix}a_{23}&|&b_2\\\\\\end{matrix}\\\\a_{31}&a_{32}&\\begin{matrix}a_{33}&|&b_3\\\\\\end{matrix}\\\\\\end{matrix}\\right]\t\r\n",
    "Step 3: Using matrix row equivalent operation reduce A_b to triangular matrix \\widetilde{A_b}.\r\n",
    "A_b\\rightarrow\\widetilde{A_b}\t\r\n",
    "\\left[\\begin{matrix}a_{11}&a_{12}&\\begin{matrix}a_{13}&|&b_1\\\\\\end{matrix}\\\\a_{21}&a_{22}&\\begin{matrix}a_{23}&|&b_2\\\\\\end{matrix}\\\\a_{31}&a_{32}&\\begin{matrix}a_{33}&|&b_3\\\\\\end{matrix}\\\\\\end{matrix}\\right]\\rightarrow\\left[\\begin{matrix}{\\widetilde{a}}_{11}&{\\widetilde{a}}_{12}&\\begin{matrix}{\\widetilde{a}}_{13}&|&{\\widetilde{b}}_1\\\\\\end{matrix}\\\\0&{\\widetilde{a}}_{22}&\\begin{matrix}{\\widetilde{a}}_{23}&|&{\\widetilde{b}}_2\\\\\\end{matrix}\\\\0&0&\\begin{matrix}{\\widetilde{a}}_{33}&|&{\\widetilde{b}}_3\\\\\\end{matrix}\\\\\\end{matrix}\\right]\t\r\n",
    "\\widetilde{M}=\\left[\\begin{matrix}{\\widetilde{a}}_{11}&{\\widetilde{a}}_{12}&\\begin{matrix}{\\widetilde{a}}_{13}&|&{\\widetilde{b}}_1\\\\\\end{matrix}\\\\0&{\\widetilde{a}}_{22}&\\begin{matrix}{\\widetilde{a}}_{23}&|&{\\widetilde{b}}_2\\\\\\end{matrix}\\\\0&0&\\begin{matrix}{\\widetilde{a}}_{33}&|&{\\widetilde{b}}_3\\\\\\end{matrix}\\\\\\end{matrix}\\right]\t\r\n",
    "Step 4: Back substitution\r\n",
    "\\begin{matrix}\\begin{matrix}{\\widetilde{a}}_{11}x_1&+\\\\\\end{matrix}&\\begin{matrix}{\\widetilde{a}}_{12}x_2&+\\\\\\end{matrix}&\\begin{matrix}{\\widetilde{a}}_{13}x_3&=&{\\widetilde{b}}_1\\\\\\end{matrix}\\\\&\\begin{matrix}{\\widetilde{a}}_{22}x_2&+\\\\\\end{matrix}&\\begin{matrix}{\\widetilde{a}}_{23}x_3&=&{\\widetilde{b}}_2\\\\\\end{matrix}\\\\&&\\begin{matrix}{\\widetilde{a}}_{33}x_3&=&{\\widetilde{b}}_3\\\\\\end{matrix}\\\\\\end{matrix}\t\r\n",
    "\\begin{matrix}x_3&=&\\sfrac{{\\widetilde{b}}_3}{{\\widetilde{a}}_{33}}\\\\\\end{matrix}\t\r\n",
    "\\begin{matrix}x_2&=&\\frac{{\\widetilde{b}}_2-{\\widetilde{a}}_{23}x_3}{{\\widetilde{a}}_{22}}\\\\\\end{matrix}\t\r\n",
    "\\begin{matrix}x_1&=&\\frac{{\\widetilde{b}}_1-{\\widetilde{a}}_{12}x_2-{\\widetilde{a}}_{13}x_3}{{\\widetilde{a}}_{11}}\\\\\\end{matrix}\t\r\n",
    "\r\n",
    "Solve the set of equations.\r\n",
    "3x\\ -3y-4z=\\ 1\\bigmx-y-\\ z\\ \\ \\ \\ \\ \\ \\ =2\\bigm2x-y+\\ 4y\\ \\ \\ =3\t\r\n",
    "Step 1: Write in matrix form.\r\n",
    "A\\bullet x=b\t\r\n",
    "\\left[\\begin{matrix}3&-3&-4\\\\1&-1&-1\\\\2&-1&4\\\\\\end{matrix}\\right]\\left[\\begin{matrix}x\\\\y\\\\z\\\\\\end{matrix}\\right]=\\left[\\begin{matrix}1\\\\2\\\\3\\\\\\end{matrix}\\right]\t\r\n",
    "\r\n",
    "Step 2: Arrange matrix A and b together augmented matrix A_b.\r\n",
    "A_b=\\left[A|b\\right]\t\r\n",
    "A_b=\\left[\\begin{matrix}3&-3&\\begin{matrix}-4&|&1\\\\\\end{matrix}\\\\1&-1&\\begin{matrix}-1&|&2\\\\\\end{matrix}\\\\2&-1&\\begin{matrix}\\ \\ \\ 4&|&3\\\\\\end{matrix}\\\\\\end{matrix}\\right]\t\r\n",
    "Step 3: Using matrix row equivalent operation reduce M to triangular matrix \\widetilde{M}.\r\n",
    "A_b\\rightarrow\\widetilde{A_b}\t\r\n",
    "pivot,\\ p=1,\\ldots,\\ m-1\\ \r\n",
    "i=p+1,\\ ...,\\ m\\ \\ \\ \\ \r\n",
    "Note: \r\n",
    "a_{pp}\\neq0\\ \\ \\ \\ \r\n",
    "If a_{pp}\\neq0\\ \\ \\ \\ \\ interchange\\ row\\ with\\ a\\ none-zero\\ pivot\\ column\\ element.\t\r\n",
    "R_i\\ =R_i-\\left(R_p\\times\\ \\frac{a_{ip}}{a_{pp}}\\right)\\ \\ \\ \t\r\n",
    "\r\n",
    "p=1,...,2;\\ i=2,...,3\t\r\n",
    "Reduce {\\widetilde{A_b}}_{p=1}\r\n",
    "\\ p=1;\\ i=2\t\r\n",
    "a_{pp}=a_{11}=3\\ \\ \\ \\ \t\r\n",
    "R_2=\\left[\\begin{matrix}1&-1&\\begin{matrix}-1&|&2\\\\\\end{matrix}\\\\\\end{matrix}\\right]-\\left(\\left[\\begin{matrix}3&-3&\\begin{matrix}-4&|&1\\\\\\end{matrix}\\\\\\end{matrix}\\right]\\times\\frac{1}{3}\\right)=\\left[\\begin{matrix}0&0&\\begin{matrix}0.33&|&1.67\\\\\\end{matrix}\\\\\\end{matrix}\\right]\t\r\n",
    "p=1;\\ i=3\\ \\ \\ \\ \t\r\n",
    "R_3=\\left[\\begin{matrix}2&-1&\\begin{matrix}4&|&3\\\\\\end{matrix}\\\\\\end{matrix}\\right]-\\left(\\left[\\begin{matrix}3&-3&\\begin{matrix}-4&|&1\\\\\\end{matrix}\\\\\\end{matrix}\\right]\\times\\frac{2}{3}\\right)=\\left[\\begin{matrix}0&1&\\begin{matrix}6.67&|&2.33\\\\\\end{matrix}\\\\\\end{matrix}\\right]\t\r\n",
    "{\\widetilde{A_b}}_{p=1}=\\left[\\begin{matrix}3&-3&\\begin{matrix}-4&|&1\\\\\\end{matrix}\\\\0&0&\\begin{matrix}0.33&|&1.67\\\\\\end{matrix}\\\\0&1&\\begin{matrix}6.67&|&2.33\\\\\\end{matrix}\\\\\\end{matrix}\\right]\t\r\n",
    "Reduce {\\widetilde{A_b}}_{p=2}\r\n",
    "p=2;\\ i=3\\ \\ \\ \\ \t\r\n",
    "a_{pp}=a_{22}=0\\ \\ \\ \\ \t\r\n",
    "Interchange row 2 and 3\r\n",
    "{\\widetilde{A_b}}_{p=1}=\\left[\\begin{matrix}3&-3&\\begin{matrix}-4&|&1\\\\\\end{matrix}\\\\0&1&\\begin{matrix}6.67&|&2.33\\\\\\end{matrix}\\\\0&0&\\begin{matrix}0.33&|&1.67\\\\\\end{matrix}\\\\\\end{matrix}\\right]\t\r\n",
    "\\ p=2;\\ i=3\\ \\ \\ \\ \t\r\n",
    "a_{pp}=a_{22}=1\\ \\ \\ \\ \t\r\n",
    "R_3=\\left[\\begin{matrix}0&0&\\begin{matrix}0.33&|&1.67\\\\\\end{matrix}\\\\\\end{matrix}\\right]-\\left(\\left[\\begin{matrix}0&1&\\begin{matrix}6.67&|&2.33\\\\\\end{matrix}\\\\\\end{matrix}\\right]\\times\\frac{0}{1}\\right)=\\left[\\begin{matrix}0&0&\\begin{matrix}0.33&|&1.67\\\\\\end{matrix}\\\\\\end{matrix}\\right]\t\r\n",
    "{\\widetilde{A_b}}_{p=2}=\\left[\\begin{matrix}3&-3&\\begin{matrix}-4&|&1\\\\\\end{matrix}\\\\0&1&\\begin{matrix}6.67&|&2.33\\\\\\end{matrix}\\\\0&0&\\begin{matrix}0.33&|&1.67\\\\\\end{matrix}\\\\\\end{matrix}\\right]\t\r\n",
    "\r\n",
    "Step 4: Back substitution\r\n",
    "\\begin{matrix}\\begin{matrix}3x_1&-\\\\\\end{matrix}&\\begin{matrix}3x_2&-\\\\\\end{matrix}&\\begin{matrix}4x_3&=&1\\\\\\end{matrix}\\\\&\\begin{matrix}x_2&+\\\\\\end{matrix}&\\begin{matrix}6.67x_3&=&2.33\\\\\\end{matrix}\\\\&&\\begin{matrix}0.33x_3&=&1.67\\\\\\end{matrix}\\\\\\end{matrix}\t\r\n",
    "\\begin{matrix}x_3&=&\\sfrac{1.67}{0.33}\\\\\\end{matrix}=5.06\t\r\n",
    "\\begin{matrix}x_2&=&\\frac{2.33-6.67(5.06)}{1}\\\\\\end{matrix}=-31.42\t\r\n",
    "\\begin{matrix}x_1&=&\\frac{1--3(-31.42)--4(5.06)}{3}\\\\\\end{matrix}=-24.34\t\r\n",
    "\r\n",
    "Determinant from Gaussian Elimination \r\n",
    "\\widetilde{A_b}=\\left[\\begin{matrix}{\\widetilde{a}}_{11}&{\\widetilde{a}}_{12}&\\begin{matrix}{\\widetilde{a}}_{13}&|&{\\widetilde{b}}_1\\\\\\end{matrix}\\\\0&{\\widetilde{a}}_{22}&\\begin{matrix}{\\widetilde{a}}_{23}&|&{\\widetilde{b}}_2\\\\\\end{matrix}\\\\0&0&\\begin{matrix}{\\widetilde{a}}_{33}&|&{\\widetilde{b}}_3\\\\\\end{matrix}\\\\\\end{matrix}\\right]\t\r\n",
    "\\left|A\\right|={(-1)}^k\\prod_{i}^{m}{\\widetilde{a}}_{ii}={\\widetilde{a}}_{11}\\times{\\widetilde{a}}_{22}\\times{\\widetilde{a}}_{33}\t\r\n",
    "where k is the number of times rows were interchanged.\r\n",
    "From the example above and Eq (8.34)\r\n",
    "\\left|A\\right|={(-1)}^1\\prod_{i=1}^{m=3}{\\widetilde{a}}_{ii}={(-1)}^1(3\\times1\\times0.33)=-0.99\t\r\n",
    "\r\n",
    "\r\n",
    " \r\n",
    "\r\n",
    " \r\n",
    "\r\n",
    "Matrix inverse by elementary matrices, adjoint, and partitioning methods. \r\n",
    "Inverse of a square matrix\r\n",
    "Recall the solution to system of linear equation:\r\n",
    "A.x=b\t\r\n",
    "x=A^{-1}.b\t\r\n",
    "A^{-1}=\\frac{C^T}{\\left|A\\right|}\t\r\n",
    "To solve Eq (9.3) the inverse of matrix A, {(A}^{-1}) must be evaluated.\r\n",
    "where C^Tis the adjoint of matrix A, and Adjoint is the transpose of the co-factor of matrix A.\r\n",
    "\r\n",
    "Cofactors\r\n",
    "Cofactor of a square matrix is obtained from the determinant of its elements.\r\n",
    "\\left|A\\right|=\\left|\\begin{matrix}\\begin{matrix}\\begin{matrix}a_{11}\\\\a_{21}\\\\a_{31}\\\\\\end{matrix}&\\begin{matrix}a_{12}\\\\a_{22}\\\\a_{32}\\\\\\end{matrix}&\\begin{matrix}a_{13}\\\\a_{23}\\\\a_{33}\\\\\\end{matrix}\\\\\\end{matrix}&\\begin{matrix}\\ldots\\\\\\ldots\\\\\\ldots\\\\\\end{matrix}&\\begin{matrix}a_{1n}\\\\a_{2n}\\\\a_{3n}\\\\\\end{matrix}\\\\\\begin{matrix}\\vdots\\ \\ &\\ \\ \\ \\vdots\\ &\\ \\ \\ \\ \\vdots\\\\\\end{matrix}&&\\vdots\\\\\\begin{matrix}a_{n1}&a_{n2}&a_{n3}\\\\\\end{matrix}&\\ldots&a_{nn}\\\\\\end{matrix}\\right|\t\r\n",
    "Cofactor=\\left[\\begin{matrix}\\begin{matrix}\\begin{matrix}c_{11}\\\\c_{21}\\\\c_{31}\\\\\\end{matrix}&\\begin{matrix}c_{12}\\\\c_{22}\\\\c_{32}\\\\\\end{matrix}&\\begin{matrix}c_{13}\\\\c_{23}\\\\c_{33}\\\\\\end{matrix}\\\\\\end{matrix}&\\begin{matrix}\\ldots\\\\\\ldots\\\\\\ldots\\\\\\end{matrix}&\\begin{matrix}c_{1n}\\\\c_{2n}\\\\c_{3n}\\\\\\end{matrix}\\\\\\begin{matrix}\\vdots\\ \\ &\\ \\ \\ \\vdots\\ &\\ \\ \\ \\ \\vdots\\\\\\end{matrix}&&\\vdots\\\\\\begin{matrix}c_{n1}&c_{n2}&c_{n3}\\\\\\end{matrix}&\\ldots&c_{nn}\\\\\\end{matrix}\\right]\t\r\n",
    "where each element of the cofactor is formed from the determinant of its sub-matrix multiplied by element position sign. The element positional sign alternate between plus + and minus -.\r\n",
    "Evaluate the cofactor of the matrix A below:\r\n",
    "A=\\left[\\begin{matrix}3&-3&-4\\\\1&-1&-1\\\\2&-1&4\\\\\\end{matrix}\\right]\t\r\n",
    "For element a_{11}=3;\r\n",
    "c_{11}=+\\left|\\begin{matrix}-1&-1\\\\-1&4\\\\\\end{matrix}\\right|=-5\t\r\n",
    "For element a_{12}=-3;\r\n",
    "c_{12}=-\\left|\\begin{matrix}1&-1\\\\2&4\\\\\\end{matrix}\\right|=-6\t\r\n",
    "For element a_{13}=-4;\r\n",
    "c_{13}=+\\left|\\begin{matrix}1&-1\\\\2&-1\\\\\\end{matrix}\\right|=1\t\r\n",
    "For element a_{21}=1;\r\n",
    "c_{21}=-\\left|\\begin{matrix}-3&-4\\\\-1&4\\\\\\end{matrix}\\right|=16\t\r\n",
    "For element a_{22}=-1;\r\n",
    "c_{22}=+\\left|\\begin{matrix}3&-4\\\\2&4\\\\\\end{matrix}\\right|=20\t\r\n",
    "For element a_{23}=-1;\r\n",
    "c_{23}=-\\left|\\begin{matrix}3&-3\\\\2&-1\\\\\\end{matrix}\\right|=-3\t\r\n",
    "For element a_{31}=2;\r\n",
    "c_{31}=+\\left|\\begin{matrix}-3&-4\\\\-1&-1\\\\\\end{matrix}\\right|=-1\t\r\n",
    "For element a_{32}=-1;\r\n",
    "c_{32}=-\\left|\\begin{matrix}3&-4\\\\1&-1\\\\\\end{matrix}\\right|=-1\t\r\n",
    "For element a_{33}=4;\r\n",
    "c_{13}=+\\left|\\begin{matrix}3&-3\\\\1&-1\\\\\\end{matrix}\\right|=0\t\r\n",
    "The cofactor form is:\r\n",
    "Cofactor\\ A=\\left[\\begin{matrix}-5&-6&1\\\\16&20&-3\\\\-1&-1&0\\\\\\end{matrix}\\right]\t\r\n",
    "\r\n",
    "\r\n",
    "\r\n",
    "Adjoint\r\n",
    "Adjoint of matrix A is the transpose of the cofactor of A.\r\n",
    "From Eq (9.16)\r\n",
    "Adj\\ A=C^T\\ =\\left[\\begin{matrix}-5&16&-1\\\\-6&20&-1\\\\1&-3&0\\\\\\end{matrix}\\right]\t\r\n",
    "\r\n",
    "A^{-1}=\\frac{C^T}{\\left|A\\right|}\t\r\n",
    "\\left|A\\right|=\\left|\\begin{matrix}3&-3&-4\\\\1&-1&-1\\\\2&-1&4\\\\\\end{matrix}\\right|=-1\t\r\n",
    "Therefore\r\n",
    "A^{-1}=\\frac{1}{-1}\\left[\\begin{matrix}-5&16&-1\\\\-6&20&-1\\\\1&-3&0\\\\\\end{matrix}\\right]=\\left[\\begin{matrix}5&-16&1\\\\6&-20&1\\\\-1&3&0\\\\\\end{matrix}\\right]\t\r\n",
    "To solve the system linear of equation\r\n",
    "x=A^{-1}.b\t\r\n",
    "\\left[\\begin{matrix}x\\\\y\\\\z\\\\\\end{matrix}\\right]=\\left[\\begin{matrix}5&-16&1\\\\6&-20&1\\\\-1&3&0\\\\\\end{matrix}\\right]\\left[\\begin{matrix}1\\\\2\\\\3\\\\\\end{matrix}\\right]\r\n",
    "\\left[\\begin{matrix}x\\\\y\\\\z\\\\\\end{matrix}\\right]=\\left[\\begin{matrix}(5\\times1)+(-16\\times2)+(1\\times3)\\\\(6\\times1)+(-20\\times2)+(1\\times3)\\\\(-1\\times1)+(3\\times2)+(0\\times3)\\\\\\end{matrix}\\right]=\\left[\\begin{matrix}-24\\\\-31\\\\5\\\\\\end{matrix}\\right]\t\r\n",
    "\r\n",
    "\r\n",
    " \r\n",
    "\r\n",
    " \r\n",
    "\r\n",
    "Eigenvalues and Eigenvectors.\r\n",
    "Eigenvalues\r\n",
    "Eigenvalues are characteristic scalar value (\\lambda) of a square matrix (A) that satisfy the equation 10.1.\r\n",
    "Ax=\\lambda x\t\r\n",
    "In other to find the eigenvalues, we develop the characteristic equation and solve the characteristic polynomial of matrix A.\r\n",
    "(A-\\lambda\\mathbit{I})x=0\t\r\n",
    "To prevent the trivial solution x\\neq0. Therefore we have the characteristic equation Eq (10.3).\r\n",
    "\\left|A-\\lambda\\mathbit{I}\\right|=0\t\r\n",
    "The solution of Eq (10.3) gives the eigenvalues \\lambda.\r\n",
    "\r\n",
    "Example\r\n",
    "Find the eigenvalues of the matrix. \r\n",
    "A=\\left[\\begin{matrix}2&3\\\\4&1\\\\\\end{matrix}\\right]\t\r\n",
    "A-\\lambda\\mathbit{I}=\\left[\\begin{matrix}2&3\\\\4&1\\\\\\end{matrix}\\right]-\\lambda\\left[\\begin{matrix}1&0\\\\0&1\\\\\\end{matrix}\\right]=\\left[\\begin{matrix}(2-\\lambda)&3\\\\4&(1-\\lambda)\\\\\\end{matrix}\\right]\t\r\n",
    "\\left|A-\\lambda\\mathbit{I}\\right|=\\left|\\begin{matrix}\\left(2-\\lambda\\right)&3\\\\4&\\left(1-\\lambda\\right)\\\\\\end{matrix}\\right|=\\left(2-\\lambda\\right)\\left(1-\\lambda\\right)-12=2-2\\lambda-\\lambda+\\lambda^2-12\r\n",
    "\\left|A-\\lambda\\mathbit{I}\\right|=\\lambda^2-3\\lambda-10=0\t\r\n",
    "The solutions to the characteristic polynomial in Eq 10.6\r\n",
    "\\lambda=-2\\ or\\ 5\t\r\n",
    "\\lambda_1=-2,\\ \\ \\lambda_2=5\t\r\n",
    "\r\n",
    "Eigenvectors\r\n",
    "Each eigenvalues obtained has a corresponding eigenvector or eigenline associated with it.\r\n",
    "Ax=\\lambda x\t\r\n",
    "Example\r\n",
    "When matrix A is:\r\n",
    "A=\\left[\\begin{matrix}2&3\\\\4&1\\\\\\end{matrix}\\right]\r\n",
    "\\lambda_1=-2,\\ \\ \\lambda_2=5\t\r\n",
    "For \\lambda_1=-2\r\n",
    "\\left[\\begin{matrix}2&3\\\\4&1\\\\\\end{matrix}\\right]\\left[\\begin{matrix}x_1\\\\x_2\\\\\\end{matrix}\\right]=-2\\left[\\begin{matrix}x_1\\\\x_2\\\\\\end{matrix}\\right]\t\r\n",
    "\\begin{matrix}\\begin{matrix}2x_1&+\\\\\\end{matrix}&\\begin{matrix}3x_2&=\\\\\\end{matrix}\\ \\ \\\\\\begin{matrix}4x_1&+\\\\\\end{matrix}&\\begin{matrix}x_2&=\\\\\\end{matrix}\\\\\\end{matrix}\\begin{matrix}{-2x}_1\\\\{-2x}_2\\\\\\end{matrix}\t\r\n",
    "x_2=-\\frac{4}{3}x_1\t\r\n",
    "The eigenvector for \\lambda_1=-2\r\n",
    "x_1=\\left[\\begin{matrix}k\\\\-{\\frac{4}{3}}k\\\\\\end{matrix}\\right]\\ and\\ the\\ smallest:\\ x_1=\\left[\\begin{matrix}1\\\\-{\\frac{4}{3}}\\\\\\end{matrix}\\right]\t\r\n",
    "For \\lambda_2=5\r\n",
    "\\left[\\begin{matrix}2&3\\\\4&1\\\\\\end{matrix}\\right]\\left[\\begin{matrix}x_1\\\\x_2\\\\\\end{matrix}\\right]=5\\left[\\begin{matrix}x_1\\\\x_2\\\\\\end{matrix}\\right]\t\r\n",
    "\\begin{matrix}\\begin{matrix}2x_1&+\\\\\\end{matrix}&\\begin{matrix}3x_2&=\\\\\\end{matrix}\\ \\ \\\\\\begin{matrix}4x_1&+\\\\\\end{matrix}&\\begin{matrix}x_2&=\\\\\\end{matrix}\\\\\\end{matrix}\\begin{matrix}{5x}_1\\\\{5x}_2\\\\\\end{matrix}\t\r\n",
    "x_2=x_1\t\r\n",
    "The eigenvector for \\lambda_2=5\r\n",
    "x_2=\\left[\\begin{matrix}k\\\\k\\\\\\end{matrix}\\right]\\ and\\ the\\ smallest:\\ x_2=\\left[\\begin{matrix}1\\\\1\\\\\\end{matrix}\\right]\t\r\n",
    "\r\n",
    "\r\n",
    "\r\n",
    " \r\n",
    "\r\n"
   ],
   "outputs": [],
   "metadata": {}
  },
  {
   "cell_type": "code",
   "execution_count": null,
   "source": [],
   "outputs": [],
   "metadata": {}
  }
 ],
 "metadata": {
  "interpreter": {
   "hash": "c1a7846af735771808fbc8272134e7984cc669109ae413ca91ad8b74a534aa1b"
  },
  "kernelspec": {
   "display_name": "Python 3 (ipykernel)",
   "language": "python",
   "name": "python3"
  },
  "language_info": {
   "codemirror_mode": {
    "name": "ipython",
    "version": 3
   },
   "file_extension": ".py",
   "mimetype": "text/x-python",
   "name": "python",
   "nbconvert_exporter": "python",
   "pygments_lexer": "ipython3",
   "version": "3.9.6"
  }
 },
 "nbformat": 4,
 "nbformat_minor": 4
}