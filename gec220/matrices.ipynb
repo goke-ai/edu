{
 "cells": [
  {
   "cell_type": "markdown",
   "metadata": {},
   "source": [
    "# Matrices\n",
    "\n",
    "Olagoke Oladokun  \n",
    "Covenant University, Ota, Nigeria\n",
    "\n",
    "©2021\n"
   ]
  },
  {
   "cell_type": "code",
   "execution_count": null,
   "metadata": {
    "dotnet_interactive": {
     "language": "csharp"
    }
   },
   "outputs": [
    {
     "ename": "Error",
     "evalue": "System.OperationCanceledException: Command :SubmitCode: !pip install - q numpy\n!pip install - q scipy\n!pip ... cancelled.",
     "output_type": "error",
     "traceback": [
      "System.OperationCanceledException: Command :SubmitCode: !pip install - q numpy\n",
      "!pip install - q scipy\n",
      "!pip ... cancelled."
     ]
    }
   ],
   "source": [
    "!pip install - q numpy\n",
    "!pip install - q scipy\n",
    "!pip install - q sympy\n"
   ]
  },
  {
   "cell_type": "markdown",
   "metadata": {},
   "source": []
  },
  {
   "cell_type": "markdown",
   "metadata": {},
   "source": [
    "# GEC220\n",
    "\n",
    "# Engineering Mathematics II\n",
    "\n",
    "Matrices and Determinants: Solution of system of linear equations by determinants. Linear dependence and independence, rank of a matrix. General system of linear equations, existence and properties of solution, Gaussian elimination. Matrix inverse by elementary matrices, adjoint, and partitioning methods. Characteristic polynomial, characteristic equation, eigenvalues and eigenvectors.\n"
   ]
  },
  {
   "cell_type": "markdown",
   "metadata": {},
   "source": [
    "GEC220\n",
    "Engineering Mathematics II\n",
    "3 Units\n",
    "LH 45\n",
    "Lecturers\n",
    "Prof. Vincent\n",
    "Dr. Adeeyo\n",
    "Dr. Olagoke\n",
    "\n",
    "Partial Differentiation: Functions of several variables, continuity and partial derivatives. Total differentials, approximate calculations using differentials. Chain rule. Implicit differentiation. Series representation of functions (Maclaurin & Taylor’s), Taylor’s Theorem. Extremum problems, (analytic method) without and with constraints, Lagrange multipliers, global extremum. Ordinary Differential Equations: Definition, degree, order, linear, non-linear, solution. First order equations, separable variables, equations reducible to separable form, exact equations, integrating factors, homogenous differential equations. Modeling of engineering systems leading to first order differential equations- electric circuit, mixing/dilution, radioactive decay, bacterial culture. 2nd order differential equations with constant coefficients, homogeneous, non-homogeneous, complementary functions, particular integrals, D-operator method. General linear second-order differential equations (without using matrices). Power series solution, Legendre’s differential equation. Modeling of engineering systems leading to 2nd order differential equations- electric circuit, mechanical oscillations-free and forced, resonance. Pre-requisites: MAT 121 and MAT 122.\n",
    "Matrices and Determinants: Solution of system of linear equations by determinants. Linear dependence and independence, rank of a matrix. General system of linear equations, existence and properties of solution, Gaussian elimination. Matrix inverse by elementary matrices, adjoint, and partitioning methods. Characteristic polynomial, characteristic equation, eigenvalues and eigenvectors.\n"
   ]
  },
  {
   "cell_type": "markdown",
   "metadata": {},
   "source": [
    "Contents\n",
    "1 Matrices 6\n",
    "1.1 Matrix notation 7\n",
    "1.2 Addition and Subtraction of Matrices 7\n",
    "1.3 Multiplication of Matrices 8\n",
    "1.3.1 Scalar Multiplication 8\n",
    "1.3.2 Two matrices multiplication 8\n",
    "1.4 Transpose of matrix 10\n",
    "1.5 Square matrix 10\n",
    "1.5.1 Symmetry matrix 10\n",
    "1.6 Triangular matrix 11\n",
    "1.7 Diagonal matrix 11\n",
    "1.8 Unit matrix 11\n",
    "1.9 Null matrix 12\n",
    "2 Determinants 13\n",
    "2.1 Determinants of the second order 13\n",
    "2.2 Determinants of the third order 14\n",
    "3 Solution of system of linear equations by determinants 17\n",
    "3.1 Determinant Equation Method 18\n",
    "3.1.1 Secondary Degree 18\n",
    "3.1.2 Third Degree 19\n",
    "3.2 Cramers Rule 22\n",
    "3.2.1 For second degree 22\n",
    "3.2.2 Third degree 22\n",
    "4 Linear dependence and independence 25\n",
    "5 Rank of a matrix 27\n",
    "6 General system of linear equations, 28\n",
    "7 Existence and properties of solution 31\n",
    "7.1 Existence of solution 31\n",
    "7.2 Other properties of the solution 31\n",
    "8 Gaussian elimination. 33\n",
    "8.1 Algorithm of Gaussian Elimination 33\n",
    "8.2 Determinant from Gaussian Elimination 38\n",
    "9 Matrix inverse by elementary matrices, adjoint, and partitioning methods. 39\n",
    "9.1 Inverse of a square matrix 39\n",
    "9.2 Cofactors 39\n",
    "9.3 Adjoint 41\n",
    "10 Eigenvalues and Eigenvectors. 43\n",
    "10.1 Eigenvalues 43\n",
    "10.1.1 Example 43\n",
    "10.2 Eigenvectors 44\n",
    "10.2.1 Example 44\n"
   ]
  },
  {
   "cell_type": "markdown",
   "metadata": {},
   "source": [
    "# Matrices\n"
   ]
  },
  {
   "cell_type": "markdown",
   "metadata": {},
   "source": [
    "A matrix is a set of real or complex numbers (or elements) arranged in rows and columns to form a rectangular array.\n",
    "A matrix can be identified by its order denoted as $m \\times n \\quad (m \\ by \\ n)$ matrix.\n",
    "\n",
    "$$\n",
    "\\left[\\begin{matrix}3&-3&-4\\\\1&-1&-1\\\\2&-1&4\\\\\\end{matrix}\\right]\n",
    "$$\n",
    "\n",
    "What is the order of matrix above?. Matrix has $order \\ 3\\times 3$. The number of rows of $A$, $m = 3$ and number of column, $n = 3$\n"
   ]
  },
  {
   "cell_type": "code",
   "execution_count": 4,
   "metadata": {
    "dotnet_interactive": {
     "language": "csharp"
    }
   },
   "outputs": [
    {
     "name": "stdout",
     "output_type": "stream",
     "text": [
      "===============================\n",
      "matrix A =\n",
      "[[ 3 -3 -4]\n",
      " [ 1 -1 -1]\n",
      " [ 2 -1  4]]\n",
      "\n",
      "mxn = (3, 3)\n",
      "===============================\n"
     ]
    }
   ],
   "source": [
    "import numpy as np\n",
    "\n",
    "A = np.array([\n",
    "    [3, -3, -4],\n",
    "    [1, -1, -1],\n",
    "    [2, -1, 4]\n",
    "])\n",
    "\n",
    "print('===============================')\n",
    "print('matrix A =')\n",
    "print(A)\n",
    "print()\n",
    "print('mxn =', np.shape(A))\n",
    "print('===============================')\n"
   ]
  },
  {
   "cell_type": "markdown",
   "metadata": {},
   "source": [
    "Use symbolic code\n"
   ]
  },
  {
   "cell_type": "code",
   "execution_count": 5,
   "metadata": {
    "dotnet_interactive": {
     "language": "csharp"
    }
   },
   "outputs": [
    {
     "data": {
      "text/latex": [
       "$\\displaystyle \\left[\\begin{matrix}3 & -3 & -4\\\\1 & -1 & -1\\\\2 & -1 & 4\\end{matrix}\\right]$"
      ],
      "text/plain": [
       "Matrix([\n",
       "[3, -3, -4],\n",
       "[1, -1, -1],\n",
       "[2, -1,  4]])"
      ]
     },
     "execution_count": 4,
     "metadata": {},
     "output_type": "execute_result"
    }
   ],
   "source": [
    "from sympy import *\n",
    "\n",
    "A = Matrix([\n",
    "    [3, -3, -4],\n",
    "    [1, -1, -1],\n",
    "    [2, -1, 4]\n",
    "])\n",
    "\n",
    "A\n"
   ]
  },
  {
   "cell_type": "code",
   "execution_count": 6,
   "metadata": {
    "dotnet_interactive": {
     "language": "csharp"
    }
   },
   "outputs": [
    {
     "name": "stdout",
     "output_type": "stream",
     "text": [
      "mxn = (3, 3)\n"
     ]
    }
   ],
   "source": [
    "print('mxn =', A.shape)\n"
   ]
  },
  {
   "cell_type": "markdown",
   "metadata": {},
   "source": [
    "Similarly, the matrix $C$ below is of $order \\ 4\\times2$\n",
    "\n",
    "$$\n",
    "\\left[\n",
    "    \\begin{matrix}\n",
    "        \\begin{matrix}\n",
    "            1&2\\\\\n",
    "        \\end{matrix}\\\\\n",
    "        \\begin{matrix}\n",
    "            4&3\\\\-1&-5\\\\3&3\\\\\\end{matrix}\\\\\\end{matrix}\\right]=m\\times n=4\\times2\n",
    "$$\n",
    "\n",
    "$$\n",
    "C=\\left[\\begin{matrix}\\begin{matrix}1&2\\\\\\end{matrix}\\\\\\begin{matrix}4&3\\\\-1&-5\\\\3&3\\\\\\end{matrix}\\\\\\end{matrix}\\right]=m\\times n=4\\times2\n",
    "$$\n"
   ]
  },
  {
   "cell_type": "code",
   "execution_count": 21,
   "metadata": {
    "dotnet_interactive": {
     "language": "csharp"
    }
   },
   "outputs": [
    {
     "name": "stdout",
     "output_type": "stream",
     "text": [
      "===============================\n",
      "matrix C =\n",
      " [[ 1  2]\n",
      " [ 4  3]\n",
      " [-1 -5]\n",
      " [ 3  3]]\n",
      "\n",
      "mxn = (4, 2)\n",
      "===============================\n"
     ]
    }
   ],
   "source": [
    "import numpy as np\n",
    "\n",
    "C = np.array([\n",
    "    [1, 2], [4, 3], [-1, -5], [3, 3],\n",
    "])\n",
    "\n",
    "print('===============================')\n",
    "print('matrix C =\\n', C)\n",
    "print()\n",
    "print('mxn =', np.shape(C))\n",
    "print('===============================')\n"
   ]
  },
  {
   "cell_type": "code",
   "execution_count": 8,
   "metadata": {
    "dotnet_interactive": {
     "language": "csharp"
    }
   },
   "outputs": [
    {
     "data": {
      "text/latex": [
       "$\\displaystyle \\left[\\begin{matrix}1 & 2\\\\4 & 3\\\\-1 & -5\\\\3 & 3\\end{matrix}\\right]$"
      ],
      "text/plain": [
       "Matrix([\n",
       "[ 1,  2],\n",
       "[ 4,  3],\n",
       "[-1, -5],\n",
       "[ 3,  3]])"
      ]
     },
     "execution_count": 7,
     "metadata": {},
     "output_type": "execute_result"
    }
   ],
   "source": [
    "from sympy import *\n",
    "\n",
    "C = Matrix([\n",
    "    [1, 2], [4, 3], [-1, -5], [3, 3],\n",
    "])\n",
    "\n",
    "C\n"
   ]
  },
  {
   "cell_type": "code",
   "execution_count": 9,
   "metadata": {
    "dotnet_interactive": {
     "language": "csharp"
    }
   },
   "outputs": [
    {
     "name": "stdout",
     "output_type": "stream",
     "text": [
      "mxn = (4, 2)\n"
     ]
    }
   ],
   "source": [
    "print('mxn =', C.shape)\n"
   ]
  },
  {
   "cell_type": "markdown",
   "metadata": {},
   "source": [
    "# Quiz\n",
    "\n",
    "What is the $order$ of the matrices below:\n",
    "\n",
    "$$\n",
    "\\left[\n",
    "    \\begin{matrix}\n",
    "        1 & -2 & -4\n",
    "    \\end{matrix}\n",
    "\\right]\n",
    "$$\n",
    "\n",
    "(A) $2 \\times 2$  \n",
    "(B) $1 \\times -3$  \n",
    "(C) $3 \\times 1$  \n",
    "(D) $1 \\times 3$\n"
   ]
  },
  {
   "cell_type": "markdown",
   "metadata": {},
   "source": [
    "## Matrix notation\n",
    "\n",
    "$$\n",
    "A=\\left[\n",
    "    \\begin{matrix}\n",
    "        a_{11}&a_{12}&a_{13}\\\\\n",
    "        a_{21}&a_{22}&a_{23}\\\\\n",
    "        a_{31}&a_{32}&a_{33}\\\\\n",
    "    \\end{matrix}\n",
    "    \\right]\n",
    "$$\n",
    "\n",
    "Matrix $A$ is of order $3 \\times 3$ with elements $a_{ij}$ where $i$ and $j$ represents the index of the row and column it belongs in the matrix.\n"
   ]
  },
  {
   "cell_type": "markdown",
   "metadata": {},
   "source": [
    "## Addition and Subtraction of Matrices\n",
    "\n",
    "Addition and subtraction of two matrices can only be achieved if they are the same order.\n"
   ]
  },
  {
   "cell_type": "markdown",
   "metadata": {},
   "source": [
    "\n",
    "$$\n",
    "A\\pm B\n",
    "$$\n"
   ]
  },
  {
   "cell_type": "markdown",
   "metadata": {},
   "source": [
    "\n",
    "Only possible if\n"
   ]
  },
  {
   "cell_type": "markdown",
   "metadata": {},
   "source": [
    "\n",
    "$$\n",
    "\\left.A\\right|m{==}\\left.B\\right|m\\ \n",
    "$$\n",
    "and \n",
    "$$\n",
    "\\left.A\\right|n{==}\\left.B\\right|n\n",
    "$$\n"
   ]
  },
  {
   "cell_type": "markdown",
   "metadata": {},
   "source": [
    "Example\n"
   ]
  },
  {
   "cell_type": "markdown",
   "metadata": {},
   "source": [
    "\n",
    "$$\n",
    "A=\\left[\\begin{matrix}1&-3\\\\4&-2\\\\\\end{matrix}\\right]\n",
    "$$\n"
   ]
  },
  {
   "cell_type": "markdown",
   "metadata": {},
   "source": [
    "\n",
    "$$\n",
    "B=\\left[\\begin{matrix}2&-3\\\\4.1&-4.5\\\\\\end{matrix}\\right]\n",
    "$$\n"
   ]
  },
  {
   "cell_type": "markdown",
   "metadata": {},
   "source": [
    "\n",
    "Then\n",
    "Check the order of $A (2 \\times 2)$ and compare to order $B (2 \\times 2)$?\n",
    "Since they are both equal the addition and subtraction is possible.\n"
   ]
  },
  {
   "cell_type": "markdown",
   "metadata": {},
   "source": [
    "\n",
    "$$\n",
    "\\left[\\begin{matrix}1&-3\\\\4&-2\\\\\\end{matrix}\\right]+\\left[\\begin{matrix}2&-3\\\\4.1&-4.5\\\\\\end{matrix}\\right]=\\left[\\begin{matrix}3&-6\\\\8.1&-6.5\\\\\\end{matrix}\\right]\n",
    "$$\n"
   ]
  },
  {
   "cell_type": "markdown",
   "metadata": {},
   "source": [
    "\n",
    "$$\n",
    "\\left[\\begin{matrix}1&-3\\\\4&-2\\\\\\end{matrix}\\right]-\\left[\\begin{matrix}2&-3\\\\4.1&-4.5\\\\\\end{matrix}\\right]=\\left[\\begin{matrix}-1&0\\\\-0.1&2.5\\\\\\end{matrix}\\right]\n",
    "$$\n"
   ]
  },
  {
   "cell_type": "code",
   "execution_count": 10,
   "metadata": {
    "dotnet_interactive": {
     "language": "csharp"
    }
   },
   "outputs": [
    {
     "name": "stdout",
     "output_type": "stream",
     "text": [
      "============================\n",
      "sum = \n",
      " [[ 3.  -6. ]\n",
      " [ 8.1 -6.5]]\n",
      "\n",
      "diference = \n",
      " [[-1.   0. ]\n",
      " [-0.1  2.5]]\n",
      "============================\n"
     ]
    }
   ],
   "source": [
    "import numpy as np\n",
    "\n",
    "A = np.array([[1, -3], [4, -2]])\n",
    "B = np.array([[2, -3], [4.1, -4.5]])\n",
    "\n",
    "sum = A + B\n",
    "dif = A - B\n",
    "\n",
    "print('============================')\n",
    "\n",
    "print('sum = \\n', sum)\n",
    "print()\n",
    "print('diference = \\n', dif)\n",
    "\n",
    "print('============================')\n"
   ]
  },
  {
   "cell_type": "code",
   "execution_count": 11,
   "metadata": {
    "dotnet_interactive": {
     "language": "csharp"
    }
   },
   "outputs": [],
   "source": [
    "from sympy import *\n",
    "\n",
    "A = Matrix([[1, -3], [4, -2]])\n",
    "B = Matrix([[2, -3], [4.1, -4.5]])\n",
    "\n",
    "sum = A + B\n",
    "dif = A - B\n"
   ]
  },
  {
   "cell_type": "code",
   "execution_count": 6,
   "metadata": {
    "dotnet_interactive": {
     "language": "csharp"
    }
   },
   "outputs": [
    {
     "data": {
      "text/latex": [
       "$\\displaystyle \\left[\\begin{matrix}3 & -6\\\\8.1 & -6.5\\end{matrix}\\right]$"
      ],
      "text/plain": [
       "Matrix([\n",
       "[  3,   -6],\n",
       "[8.1, -6.5]])"
      ]
     },
     "execution_count": 11,
     "metadata": {},
     "output_type": "execute_result"
    }
   ],
   "source": [
    "sum\n"
   ]
  },
  {
   "cell_type": "code",
   "execution_count": 12,
   "metadata": {
    "dotnet_interactive": {
     "language": "csharp"
    }
   },
   "outputs": [
    {
     "data": {
      "text/latex": [
       "$\\displaystyle \\left[\\begin{matrix}-1 & 0\\\\-0.0999999999999996 & 2.5\\end{matrix}\\right]$"
      ],
      "text/plain": [
       "Matrix([\n",
       "[                 -1,   0],\n",
       "[-0.0999999999999996, 2.5]])"
      ]
     },
     "execution_count": 12,
     "metadata": {},
     "output_type": "execute_result"
    }
   ],
   "source": [
    "dif\n"
   ]
  },
  {
   "cell_type": "markdown",
   "metadata": {},
   "source": [
    "## Multiplication of Matrices\n",
    "\n",
    "### Scalar Multiplication\n",
    "\n",
    "$$\n",
    "4\\times A= 4\\times\\left[\n",
    "    \\begin{matrix}\n",
    "    1&-3 \\\\\n",
    "    4&-2 \\\\\n",
    "    \\end{matrix}\n",
    "    \\right]\n",
    "    =\n",
    "    \\left[\n",
    "        \\begin{matrix}\n",
    "        4&-12\\\\\n",
    "        16&-8\\\\\n",
    "        \\end{matrix}\n",
    "    \\right]\n",
    "$$\n"
   ]
  },
  {
   "cell_type": "code",
   "execution_count": 14,
   "metadata": {
    "dotnet_interactive": {
     "language": "csharp"
    }
   },
   "outputs": [
    {
     "name": "stdout",
     "output_type": "stream",
     "text": [
      "============================\n",
      "A= \n",
      "[[ 1 -3]\n",
      " [ 4 -2]]\n",
      "4*A =\n",
      " [[  4 -12]\n",
      " [ 16  -8]]\n",
      "============================\n"
     ]
    }
   ],
   "source": [
    "import numpy as np\n",
    "\n",
    "A = np.array(\n",
    "    [\n",
    "        [1, -3],\n",
    "        [4, -2]\n",
    "    ])\n",
    "\n",
    "prod = 4*A\n",
    "\n",
    "print('============================')\n",
    "print('A= ')\n",
    "print(A)\n",
    "print('4*A =\\n', prod)\n",
    "print('============================')\n"
   ]
  },
  {
   "cell_type": "code",
   "execution_count": 19,
   "metadata": {
    "dotnet_interactive": {
     "language": "csharp"
    }
   },
   "outputs": [
    {
     "name": "stdout",
     "output_type": "stream",
     "text": [
      "4*A =\n"
     ]
    },
    {
     "data": {
      "text/latex": [
       "$\\displaystyle \\left[\\begin{matrix}4 & -12\\\\16 & -8\\end{matrix}\\right]$"
      ],
      "text/plain": [
       "Matrix([\n",
       "[ 4, -12],\n",
       "[16,  -8]])"
      ]
     },
     "execution_count": 14,
     "metadata": {},
     "output_type": "execute_result"
    }
   ],
   "source": [
    "from sympy import *\n",
    "\n",
    "A = Matrix(\n",
    "    [\n",
    "        [1, -3],\n",
    "        [4, -2]\n",
    "    ])\n",
    "\n",
    "prod = 4*A\n",
    "\n",
    "print('4*A =')\n",
    "\n",
    "prod\n"
   ]
  },
  {
   "cell_type": "markdown",
   "metadata": {},
   "source": [
    "## Two matrices multiplication\n",
    "\n",
    "To multiply any two matrices the number of columns in the first matrix must be equal to the number of rows of the second matrix. The product matrix will have number of rows of the first matrix and number of columns of the second matrix\n",
    "\n",
    "$$\n",
    "A\\times B =P\n",
    "$$\n",
    "\n",
    "Is possible if and only if\n",
    "\n",
    "$$\n",
    "    A|n == B|m \\quad \\Rightarrow \\quad P=A|m\\times B|n\n",
    "$$\n"
   ]
  },
  {
   "cell_type": "markdown",
   "metadata": {},
   "source": [
    "# Example\n"
   ]
  },
  {
   "cell_type": "markdown",
   "metadata": {},
   "source": [
    "\n",
    "$$\n",
    "C=\\left[\\begin{matrix}\\begin{matrix}1&2\\\\\\end{matrix}\\\\\\begin{matrix}4&3\\\\-1&-5\\\\3&3\\\\\\end{matrix}\\\\\\end{matrix}\\right]=m\\times n=4\\times2\n",
    "$$\n"
   ]
  },
  {
   "cell_type": "markdown",
   "metadata": {},
   "source": [
    "\n",
    "$$\n",
    "A=\\left[\\begin{matrix}1&-3\\\\4&-2\\\\\\end{matrix}\\right]=m\\times n=2\\times2\n",
    "$$\n",
    "\n"
   ]
  },
  {
   "cell_type": "markdown",
   "metadata": {},
   "source": [
    "\n",
    "$$\n",
    "A \\times C \n",
    "$$\n",
    "$$\n",
    "(2 \\times 2)\\ \\times (4 \\times 2) \n",
    "$$\n"
   ]
  },
  {
   "cell_type": "markdown",
   "metadata": {},
   "source": [
    "$$\n",
    "2 \\times (2 \\neq 4) \\times 2\n",
    "$$\n"
   ]
  },
  {
   "cell_type": "markdown",
   "metadata": {},
   "source": [
    "\n",
    "$$\n",
    "(2 \\neq 4) ∶ \\ A \\times C \\textrm{ is not possible.}\n",
    "$$\n"
   ]
  },
  {
   "cell_type": "code",
   "execution_count": 5,
   "metadata": {
    "dotnet_interactive": {
     "language": "csharp"
    }
   },
   "outputs": [
    {
     "ename": "ValueError",
     "evalue": "matmul: Input operand 1 has a mismatch in its core dimension 0, with gufunc signature (n?,k),(k,m?)->(n?,m?) (size 4 is different from 2)",
     "output_type": "error",
     "traceback": [
      "\u001b[1;31m---------------------------------------------------------------------------\u001b[0m",
      "\u001b[1;31mValueError\u001b[0m                                Traceback (most recent call last)",
      "\u001b[1;32m~\\AppData\\Local\\Temp/ipykernel_3984/1568524905.py\u001b[0m in \u001b[0;36m<module>\u001b[1;34m\u001b[0m\n\u001b[0;32m     17\u001b[0m )\n\u001b[0;32m     18\u001b[0m \u001b[1;33m\u001b[0m\u001b[0m\n\u001b[1;32m---> 19\u001b[1;33m \u001b[0mP\u001b[0m \u001b[1;33m=\u001b[0m \u001b[0mA\u001b[0m \u001b[1;33m@\u001b[0m \u001b[0mC\u001b[0m\u001b[1;33m\u001b[0m\u001b[1;33m\u001b[0m\u001b[0m\n\u001b[0m",
      "\u001b[1;31mValueError\u001b[0m: matmul: Input operand 1 has a mismatch in its core dimension 0, with gufunc signature (n?,k),(k,m?)->(n?,m?) (size 4 is different from 2)"
     ]
    }
   ],
   "source": [
    "import numpy as np\n",
    "\n",
    "C = np.array(\n",
    "    [\n",
    "        [1, 2],\n",
    "        [4, 3],\n",
    "        [-1, -5],\n",
    "        [3, 3],\n",
    "    ]\n",
    ")\n",
    "\n",
    "A = np.array(\n",
    "    [\n",
    "        [1, -3],\n",
    "        [4, -2]\n",
    "    ]\n",
    ")\n",
    "\n",
    "P = A @ C\n"
   ]
  },
  {
   "cell_type": "code",
   "execution_count": 20,
   "metadata": {
    "dotnet_interactive": {
     "language": "csharp"
    }
   },
   "outputs": [
    {
     "ename": "ShapeError",
     "evalue": "Matrix size mismatch: (2, 2) * (4, 2).",
     "output_type": "error",
     "traceback": [
      "\u001b[1;31m---------------------------------------------------------------------------\u001b[0m",
      "\u001b[1;31mShapeError\u001b[0m                                Traceback (most recent call last)",
      "\u001b[1;32m~\\AppData\\Local\\Temp/ipykernel_9168/922994730.py\u001b[0m in \u001b[0;36m<module>\u001b[1;34m\u001b[0m\n\u001b[0;32m     17\u001b[0m )\n\u001b[0;32m     18\u001b[0m \u001b[1;33m\u001b[0m\u001b[0m\n\u001b[1;32m---> 19\u001b[1;33m \u001b[0mP\u001b[0m \u001b[1;33m=\u001b[0m \u001b[0mA\u001b[0m \u001b[1;33m*\u001b[0m \u001b[0mC\u001b[0m\u001b[1;33m\u001b[0m\u001b[1;33m\u001b[0m\u001b[0m\n\u001b[0m\u001b[0;32m     20\u001b[0m \u001b[1;33m\u001b[0m\u001b[0m\n\u001b[0;32m     21\u001b[0m \u001b[0mP\u001b[0m\u001b[1;33m\u001b[0m\u001b[1;33m\u001b[0m\u001b[0m\n",
      "\u001b[1;32mC:\\sdk\\Python310\\lib\\site-packages\\sympy\\core\\decorators.py\u001b[0m in \u001b[0;36mbinary_op_wrapper\u001b[1;34m(self, other)\u001b[0m\n\u001b[0;32m    104\u001b[0m                     \u001b[1;32mif\u001b[0m \u001b[0mf\u001b[0m \u001b[1;32mis\u001b[0m \u001b[1;32mnot\u001b[0m \u001b[1;32mNone\u001b[0m\u001b[1;33m:\u001b[0m\u001b[1;33m\u001b[0m\u001b[1;33m\u001b[0m\u001b[0m\n\u001b[0;32m    105\u001b[0m                         \u001b[1;32mreturn\u001b[0m \u001b[0mf\u001b[0m\u001b[1;33m(\u001b[0m\u001b[0mself\u001b[0m\u001b[1;33m)\u001b[0m\u001b[1;33m\u001b[0m\u001b[1;33m\u001b[0m\u001b[0m\n\u001b[1;32m--> 106\u001b[1;33m             \u001b[1;32mreturn\u001b[0m \u001b[0mfunc\u001b[0m\u001b[1;33m(\u001b[0m\u001b[0mself\u001b[0m\u001b[1;33m,\u001b[0m \u001b[0mother\u001b[0m\u001b[1;33m)\u001b[0m\u001b[1;33m\u001b[0m\u001b[1;33m\u001b[0m\u001b[0m\n\u001b[0m\u001b[0;32m    107\u001b[0m         \u001b[1;32mreturn\u001b[0m \u001b[0mbinary_op_wrapper\u001b[0m\u001b[1;33m\u001b[0m\u001b[1;33m\u001b[0m\u001b[0m\n\u001b[0;32m    108\u001b[0m     \u001b[1;32mreturn\u001b[0m \u001b[0mpriority_decorator\u001b[0m\u001b[1;33m\u001b[0m\u001b[1;33m\u001b[0m\u001b[0m\n",
      "\u001b[1;32mC:\\sdk\\Python310\\lib\\site-packages\\sympy\\matrices\\common.py\u001b[0m in \u001b[0;36m__mul__\u001b[1;34m(self, other)\u001b[0m\n\u001b[0;32m   2772\u001b[0m         \"\"\"\n\u001b[0;32m   2773\u001b[0m \u001b[1;33m\u001b[0m\u001b[0m\n\u001b[1;32m-> 2774\u001b[1;33m         \u001b[1;32mreturn\u001b[0m \u001b[0mself\u001b[0m\u001b[1;33m.\u001b[0m\u001b[0mmultiply\u001b[0m\u001b[1;33m(\u001b[0m\u001b[0mother\u001b[0m\u001b[1;33m)\u001b[0m\u001b[1;33m\u001b[0m\u001b[1;33m\u001b[0m\u001b[0m\n\u001b[0m\u001b[0;32m   2775\u001b[0m \u001b[1;33m\u001b[0m\u001b[0m\n\u001b[0;32m   2776\u001b[0m     \u001b[1;32mdef\u001b[0m \u001b[0mmultiply\u001b[0m\u001b[1;33m(\u001b[0m\u001b[0mself\u001b[0m\u001b[1;33m,\u001b[0m \u001b[0mother\u001b[0m\u001b[1;33m,\u001b[0m \u001b[0mdotprodsimp\u001b[0m\u001b[1;33m=\u001b[0m\u001b[1;32mNone\u001b[0m\u001b[1;33m)\u001b[0m\u001b[1;33m:\u001b[0m\u001b[1;33m\u001b[0m\u001b[1;33m\u001b[0m\u001b[0m\n",
      "\u001b[1;32mC:\\sdk\\Python310\\lib\\site-packages\\sympy\\matrices\\common.py\u001b[0m in \u001b[0;36mmultiply\u001b[1;34m(self, other, dotprodsimp)\u001b[0m\n\u001b[0;32m   2794\u001b[0m              getattr(other, 'is_MatrixLike', True))):\n\u001b[0;32m   2795\u001b[0m             \u001b[1;32mif\u001b[0m \u001b[0mself\u001b[0m\u001b[1;33m.\u001b[0m\u001b[0mshape\u001b[0m\u001b[1;33m[\u001b[0m\u001b[1;36m1\u001b[0m\u001b[1;33m]\u001b[0m \u001b[1;33m!=\u001b[0m \u001b[0mother\u001b[0m\u001b[1;33m.\u001b[0m\u001b[0mshape\u001b[0m\u001b[1;33m[\u001b[0m\u001b[1;36m0\u001b[0m\u001b[1;33m]\u001b[0m\u001b[1;33m:\u001b[0m\u001b[1;33m\u001b[0m\u001b[1;33m\u001b[0m\u001b[0m\n\u001b[1;32m-> 2796\u001b[1;33m                 raise ShapeError(\"Matrix size mismatch: %s * %s.\" % (\n\u001b[0m\u001b[0;32m   2797\u001b[0m                     self.shape, other.shape))\n\u001b[0;32m   2798\u001b[0m \u001b[1;33m\u001b[0m\u001b[0m\n",
      "\u001b[1;31mShapeError\u001b[0m: Matrix size mismatch: (2, 2) * (4, 2)."
     ]
    }
   ],
   "source": [
    "from sympy import *\n",
    "\n",
    "C = Matrix(\n",
    "    [\n",
    "        [1, 2],\n",
    "        [4, 3],\n",
    "        [-1, -5],\n",
    "        [3, 3],\n",
    "    ]\n",
    ")\n",
    "\n",
    "A = Matrix(\n",
    "    [\n",
    "        [1, -3],\n",
    "        [4, -2]\n",
    "    ]\n",
    ")\n",
    "\n",
    "P = A * C\n",
    "\n",
    "P\n"
   ]
  },
  {
   "cell_type": "markdown",
   "metadata": {},
   "source": [
    "Interchanging\n",
    "\n",
    "$$\n",
    "C\\times A \\\\\n",
    "(4\\times2)\\ \\times(2\\times2) \\\\\n",
    "4\\times(2=2)\\times2 \\\\\n",
    "$$\n",
    "\n",
    "$$\n",
    "(2=4)∶\\ C\\times A \\textrm{ is possible.} \\\\\n",
    "C\\times A\\equiv4\\times2\n",
    "$$\n"
   ]
  },
  {
   "cell_type": "markdown",
   "metadata": {},
   "source": [
    "Let’s carryout the multiplication.\n",
    "\n",
    "$$\n",
    "C\\times A=\\left[\\begin{matrix}\\begin{matrix}c_{11}&c_{12}\\\\\\end{matrix}\\\\\\begin{matrix}c_{21}&c_{22}\\\\c_{31}&c_{32}\\\\c_{41}&c_{42}\\\\\\end{matrix}\\\\\\end{matrix}\\right]\\times\\left[\\begin{matrix}a_{11}&a_{12}\\\\a_{21}&a_{22}\\\\\\end{matrix}\\right]\n",
    "$$\n"
   ]
  },
  {
   "cell_type": "markdown",
   "metadata": {},
   "source": [
    "$$\n",
    "C\\times A=\\left[\\begin{matrix}\\begin{matrix}c_{11}a_{11}+c_{12}a_{21}&c_{11}a_{12}+c_{12}a_{22}\\\\\\end{matrix}\\\\\\begin{matrix}c_{21}a_{11}+c_{22}a_{21}&c_{21}a_{12}+c_{22}a_{22}\\\\c_{31}a_{11}+c_{32}a_{21}&c_{31}a_{12}+c_{32}a_{22}\\\\c_{41}a_{11}+c_{42}a_{21}&c_{41}a_{12}+c_{42}a_{22}\\\\\\end{matrix}\\\\\\end{matrix}\\right]\n",
    "$$\n"
   ]
  },
  {
   "cell_type": "markdown",
   "metadata": {},
   "source": [
    "$$\n",
    "C\\times A=\\left[\\begin{matrix}\\begin{matrix}1\\times1+2\\times4\\ \\ \\ \\ \\ \\ &1\\times-3+2\\times-2\\\\\\end{matrix}\\\\\\begin{matrix}4\\times1+3\\times4&4\\times-3+3\\times-2\\\\-1\\times1+-5\\times4&-1\\times-3+-5\\times-2\\\\3\\times1+3\\times4&3\\times-3+3\\times-2\\\\\\end{matrix}\\\\\\end{matrix}\\right]=\\left[\\begin{matrix}\\begin{matrix}9&-7\\\\\\end{matrix}\\\\\\begin{matrix}16&-18\\\\-21&13\\\\15&-15\\\\\\end{matrix}\\\\\\end{matrix}\\right]\n",
    "$$\n"
   ]
  },
  {
   "cell_type": "code",
   "execution_count": 7,
   "metadata": {
    "dotnet_interactive": {
     "language": "csharp"
    }
   },
   "outputs": [
    {
     "name": "stdout",
     "output_type": "stream",
     "text": [
      "=========================\n",
      "P=\n",
      " [[  9  -7]\n",
      " [ 16 -18]\n",
      " [-21  13]\n",
      " [ 15 -15]]\n",
      "=========================\n"
     ]
    }
   ],
   "source": [
    "import numpy as np\n",
    "\n",
    "C = np.array(\n",
    "    [\n",
    "        [1, 2],\n",
    "        [4, 3],\n",
    "        [-1, -5],\n",
    "        [3, 3],\n",
    "    ]\n",
    ")\n",
    "\n",
    "A = np.array(\n",
    "    [\n",
    "        [1, -3],\n",
    "        [4, -2]\n",
    "    ]\n",
    ")\n",
    "\n",
    "P = C @ A\n",
    "\n",
    "print('=========================')\n",
    "print('P=\\n', P)\n",
    "print('=========================')\n"
   ]
  },
  {
   "cell_type": "code",
   "execution_count": 21,
   "metadata": {
    "dotnet_interactive": {
     "language": "csharp"
    }
   },
   "outputs": [
    {
     "name": "stdout",
     "output_type": "stream",
     "text": [
      "P=\n"
     ]
    },
    {
     "data": {
      "text/latex": [
       "$\\displaystyle \\left[\\begin{matrix}9 & -7\\\\16 & -18\\\\-21 & 13\\\\15 & -15\\end{matrix}\\right]$"
      ],
      "text/plain": [
       "Matrix([\n",
       "[  9,  -7],\n",
       "[ 16, -18],\n",
       "[-21,  13],\n",
       "[ 15, -15]])"
      ]
     },
     "execution_count": 21,
     "metadata": {},
     "output_type": "execute_result"
    }
   ],
   "source": [
    "from sympy import *\n",
    "\n",
    "C = Matrix(\n",
    "    [\n",
    "        [1, 2],\n",
    "        [4, 3],\n",
    "        [-1, -5],\n",
    "        [3, 3],\n",
    "    ]\n",
    ")\n",
    "\n",
    "A = Matrix(\n",
    "    [\n",
    "        [1, -3],\n",
    "        [4, -2]\n",
    "    ]\n",
    ")\n",
    "\n",
    "P = C * A\n",
    "\n",
    "print('P=')\n",
    "\n",
    "P\n"
   ]
  },
  {
   "cell_type": "markdown",
   "metadata": {},
   "source": [
    "## Transpose of matrix\n",
    "\n",
    "Interchanging the rows and columns of a matrix is called transpose.\n",
    "\n",
    "$$\n",
    "A=\\left[\\begin{matrix}1&-3\\\\4&-2\\\\\\end{matrix}\\right]\n",
    "$$\n",
    "\n",
    "$$\n",
    "A^T=\\left[\\begin{matrix}1&4\\\\-3&-2\\\\\\end{matrix}\\right]\n",
    "$$\n"
   ]
  },
  {
   "cell_type": "code",
   "execution_count": 11,
   "metadata": {
    "dotnet_interactive": {
     "language": "csharp"
    }
   },
   "outputs": [
    {
     "name": "stdout",
     "output_type": "stream",
     "text": [
      "=========================\n",
      "A=\n",
      " [[ 1 -3]\n",
      " [ 4 -2]]\n",
      "A^T=\n",
      " [[ 1  4]\n",
      " [-3 -2]]\n",
      "\n",
      "C=\n",
      " [[ 1  2]\n",
      " [ 4  3]\n",
      " [-1 -5]\n",
      " [ 3  3]]\n",
      "C^T=\n",
      " [[ 1  4 -1  3]\n",
      " [ 2  3 -5  3]]\n",
      "=========================\n"
     ]
    }
   ],
   "source": [
    "import numpy as np\n",
    "\n",
    "C = np.array(\n",
    "    [\n",
    "        [1, 2],\n",
    "        [4, 3],\n",
    "        [-1, -5],\n",
    "        [3, 3],\n",
    "    ]\n",
    ")\n",
    "\n",
    "A = np.array(\n",
    "    [\n",
    "        [1, -3],\n",
    "        [4, -2]\n",
    "    ]\n",
    ")\n",
    "\n",
    "Atrp = np.transpose(A)\n",
    "\n",
    "print('=========================')\n",
    "print('A=\\n', A)\n",
    "print('A^T=\\n', Atrp)\n",
    "print()\n",
    "print('C=\\n', C)\n",
    "print('C^T=\\n', np.transpose(C))\n",
    "print('=========================')\n"
   ]
  },
  {
   "cell_type": "code",
   "execution_count": 28,
   "metadata": {
    "dotnet_interactive": {
     "language": "csharp"
    }
   },
   "outputs": [],
   "source": [
    "from sympy import *\n",
    "\n",
    "C = Matrix(\n",
    "    [\n",
    "        [1, 2],\n",
    "        [4, 3],\n",
    "        [-1, -5],\n",
    "        [3, 3],\n",
    "    ]\n",
    ")\n",
    "\n",
    "A = Matrix(\n",
    "    [\n",
    "        [1, -3],\n",
    "        [4, -2]\n",
    "    ]\n",
    ")\n",
    "\n",
    "A_T = transpose(A)\n",
    "C_T = transpose(C)\n"
   ]
  },
  {
   "cell_type": "code",
   "execution_count": 29,
   "metadata": {
    "dotnet_interactive": {
     "language": "csharp"
    }
   },
   "outputs": [
    {
     "name": "stdout",
     "output_type": "stream",
     "text": [
      "A=\n",
      "\n"
     ]
    },
    {
     "data": {
      "text/latex": [
       "$\\displaystyle \\left[\\begin{matrix}1 & -3\\\\4 & -2\\end{matrix}\\right]$"
      ],
      "text/plain": [
       "Matrix([\n",
       "[1, -3],\n",
       "[4, -2]])"
      ]
     },
     "execution_count": 29,
     "metadata": {},
     "output_type": "execute_result"
    }
   ],
   "source": [
    "\n",
    "print('A=\\n')\n",
    "A\n"
   ]
  },
  {
   "cell_type": "code",
   "execution_count": 30,
   "metadata": {
    "dotnet_interactive": {
     "language": "csharp"
    }
   },
   "outputs": [
    {
     "name": "stdout",
     "output_type": "stream",
     "text": [
      "A_T=\n",
      "\n"
     ]
    },
    {
     "data": {
      "text/latex": [
       "$\\displaystyle \\left[\\begin{matrix}1 & 4\\\\-3 & -2\\end{matrix}\\right]$"
      ],
      "text/plain": [
       "Matrix([\n",
       "[ 1,  4],\n",
       "[-3, -2]])"
      ]
     },
     "execution_count": 30,
     "metadata": {},
     "output_type": "execute_result"
    }
   ],
   "source": [
    "\n",
    "print('A_T=\\n')\n",
    "A_T\n"
   ]
  },
  {
   "cell_type": "code",
   "execution_count": 31,
   "metadata": {
    "dotnet_interactive": {
     "language": "csharp"
    }
   },
   "outputs": [
    {
     "name": "stdout",
     "output_type": "stream",
     "text": [
      "C=\n",
      "\n"
     ]
    },
    {
     "data": {
      "text/latex": [
       "$\\displaystyle \\left[\\begin{matrix}1 & 2\\\\4 & 3\\\\-1 & -5\\\\3 & 3\\end{matrix}\\right]$"
      ],
      "text/plain": [
       "Matrix([\n",
       "[ 1,  2],\n",
       "[ 4,  3],\n",
       "[-1, -5],\n",
       "[ 3,  3]])"
      ]
     },
     "execution_count": 31,
     "metadata": {},
     "output_type": "execute_result"
    }
   ],
   "source": [
    "\n",
    "print('C=\\n')\n",
    "C\n"
   ]
  },
  {
   "cell_type": "code",
   "execution_count": 27,
   "metadata": {
    "dotnet_interactive": {
     "language": "csharp"
    }
   },
   "outputs": [
    {
     "name": "stdout",
     "output_type": "stream",
     "text": [
      "C_T=\n",
      "\n"
     ]
    },
    {
     "data": {
      "text/latex": [
       "$\\displaystyle \\left[\\begin{matrix}1 & 4 & -1 & 3\\\\2 & 3 & -5 & 3\\end{matrix}\\right]$"
      ],
      "text/plain": [
       "Matrix([\n",
       "[1, 4, -1, 3],\n",
       "[2, 3, -5, 3]])"
      ]
     },
     "execution_count": 27,
     "metadata": {},
     "output_type": "execute_result"
    }
   ],
   "source": [
    "\n",
    "print('C_T=\\n')\n",
    "C_T\n"
   ]
  },
  {
   "cell_type": "markdown",
   "metadata": {},
   "source": [
    "# Exercise\n",
    "\n",
    "$$\n",
    "A=\\left(\\begin{matrix}1&-1&-1\\\\0&-2&3\\\\2&1&5\\\\\\end{matrix}\\right),\\quad B=\\left(\\begin{matrix}1&1&1\\\\1&1&1\\\\\\end{matrix}\\right)\n",
    "$$\n",
    "\n",
    "1. $A \\times B$\n",
    "2. $B \\times A$\n",
    "3. $A \\times B^T$\n",
    "4. $B \\times A^T$\n"
   ]
  },
  {
   "cell_type": "code",
   "execution_count": 44,
   "metadata": {
    "dotnet_interactive": {
     "language": "csharp"
    }
   },
   "outputs": [
    {
     "name": "stdout",
     "output_type": "stream",
     "text": [
      "Error multiplying A*B\n",
      "B*A=\n",
      " [[ 3 -2  7]\n",
      " [ 3 -2  7]]\n",
      "A*B^T=\n",
      " [[-1 -1]\n",
      " [ 1  1]\n",
      " [ 8  8]]\n",
      "B*A^T=\n",
      " [[-1  1  8]\n",
      " [-1  1  8]]\n"
     ]
    }
   ],
   "source": [
    "import numpy as np\n",
    "\n",
    "A = np.array(\n",
    "    [\n",
    "        [1, -1, -1],\n",
    "        [0, -2, 3],\n",
    "        [2, 1, 5],\n",
    "    ]\n",
    ")\n",
    "\n",
    "B = np.array(\n",
    "    [\n",
    "        [1, 1, 1],\n",
    "        [1, 1, 1],\n",
    "    ]\n",
    ")\n",
    "\n",
    "try:\n",
    "    print('A*B=\\n', A * B)\n",
    "except ValueError:\n",
    "    print('Error multiplying A*B')\n",
    "\n",
    "\n",
    "try:\n",
    "    print('B*A=\\n', B @ A)\n",
    "except ValueError:\n",
    "    print('Error multiplying B*A')\n",
    "\n",
    "try:\n",
    "    print('A*B^T=\\n', A @ np.transpose(B))\n",
    "except ValueError:\n",
    "    print('Error multiplying A*B^T')\n",
    "\n",
    "try:\n",
    "    print('B*A^T=\\n', B @ np.transpose(A))\n",
    "except ValueError:\n",
    "    print('Error multiplying B*A^T=')\n"
   ]
  },
  {
   "cell_type": "code",
   "execution_count": 54,
   "metadata": {
    "dotnet_interactive": {
     "language": "csharp"
    }
   },
   "outputs": [],
   "source": [
    "from sympy import *\n",
    "\n",
    "A = Matrix(\n",
    "    [\n",
    "        [1, -1, -1],\n",
    "        [0, -2, 3],\n",
    "        [2, 1, 5],\n",
    "    ]\n",
    ")\n",
    "\n",
    "B = Matrix(\n",
    "    [\n",
    "        [1, 1, 1],\n",
    "        [1, 1, 1],\n",
    "    ]\n",
    ")\n"
   ]
  },
  {
   "cell_type": "code",
   "execution_count": 55,
   "metadata": {
    "dotnet_interactive": {
     "language": "csharp"
    }
   },
   "outputs": [
    {
     "name": "stdout",
     "output_type": "stream",
     "text": [
      "A*B=\n",
      "\n",
      "Error multiplying A*B\n",
      "error:  Matrix size mismatch: (3, 3) * (2, 3).\n"
     ]
    }
   ],
   "source": [
    "try:\n",
    "    print('A*B=\\n')\n",
    "    P = None\n",
    "    P = A * B\n",
    "except Exception as ex:\n",
    "    print('Error multiplying A*B')\n",
    "    print('error: ', ex.args[0])\n",
    "\n",
    "P\n"
   ]
  },
  {
   "cell_type": "code",
   "execution_count": 56,
   "metadata": {
    "dotnet_interactive": {
     "language": "csharp"
    }
   },
   "outputs": [
    {
     "name": "stdout",
     "output_type": "stream",
     "text": [
      "B*A=\n",
      "\n"
     ]
    },
    {
     "data": {
      "text/latex": [
       "$\\displaystyle \\left[\\begin{matrix}3 & -2 & 7\\\\3 & -2 & 7\\end{matrix}\\right]$"
      ],
      "text/plain": [
       "Matrix([\n",
       "[3, -2, 7],\n",
       "[3, -2, 7]])"
      ]
     },
     "execution_count": 56,
     "metadata": {},
     "output_type": "execute_result"
    }
   ],
   "source": [
    "print('B*A=\\n')\n",
    "\n",
    "try:\n",
    "    P = None\n",
    "    P = B * A\n",
    "except Exception as ex:\n",
    "    print('error: ', ex.args[0])\n",
    "\n",
    "P\n"
   ]
  },
  {
   "cell_type": "code",
   "execution_count": 57,
   "metadata": {
    "dotnet_interactive": {
     "language": "csharp"
    }
   },
   "outputs": [
    {
     "name": "stdout",
     "output_type": "stream",
     "text": [
      "A*B^T=\n",
      "\n"
     ]
    },
    {
     "data": {
      "text/latex": [
       "$\\displaystyle \\left[\\begin{matrix}-1 & -1\\\\1 & 1\\\\8 & 8\\end{matrix}\\right]$"
      ],
      "text/plain": [
       "Matrix([\n",
       "[-1, -1],\n",
       "[ 1,  1],\n",
       "[ 8,  8]])"
      ]
     },
     "execution_count": 57,
     "metadata": {},
     "output_type": "execute_result"
    }
   ],
   "source": [
    "print('A*B^T=\\n')\n",
    "\n",
    "try:\n",
    "    P = None\n",
    "    P = A * transpose(B)\n",
    "except Exception as ex:\n",
    "    print('error: ', ex.args[0])\n",
    "\n",
    "P\n"
   ]
  },
  {
   "cell_type": "code",
   "execution_count": 58,
   "metadata": {
    "dotnet_interactive": {
     "language": "csharp"
    }
   },
   "outputs": [
    {
     "name": "stdout",
     "output_type": "stream",
     "text": [
      "B*A^T=\n",
      "\n"
     ]
    },
    {
     "data": {
      "text/latex": [
       "$\\displaystyle \\left[\\begin{matrix}-1 & 1 & 8\\\\-1 & 1 & 8\\end{matrix}\\right]$"
      ],
      "text/plain": [
       "Matrix([\n",
       "[-1, 1, 8],\n",
       "[-1, 1, 8]])"
      ]
     },
     "execution_count": 58,
     "metadata": {},
     "output_type": "execute_result"
    }
   ],
   "source": [
    "print('B*A^T=\\n')\n",
    "\n",
    "try:\n",
    "    P = None\n",
    "    P = B * transpose(A)\n",
    "except Exception as ex:\n",
    "    print('error: ', ex.args[0])\n",
    "\n",
    "P\n"
   ]
  },
  {
   "cell_type": "markdown",
   "metadata": {},
   "source": [
    "## Square matrix\n"
   ]
  },
  {
   "cell_type": "markdown",
   "metadata": {},
   "source": [
    "Square matrix is a matrix of order $m \\times m$ or $n \\times n$. It contains same number of rows and columns.\n"
   ]
  },
  {
   "cell_type": "markdown",
   "metadata": {},
   "source": [
    "$$\n",
    "A=  \\left[\n",
    "        \\begin{matrix}\n",
    "            a_{11} & a_{12} & \\cdots & a_{1n}\\\\\n",
    "            a_{21} & a_{22} & \\cdots & a_{2n}\\\\\n",
    "            \\vdots & \\vdots & \\ddots & \\vdots \\\\\n",
    "            a_{n1} & a_{n2} & \\cdots & a_{nn}\\\\\n",
    "        \\end{matrix}\n",
    "    \\right]\n",
    "    =n\\times n\n",
    "    =m\\times m\n",
    "$$\n"
   ]
  },
  {
   "cell_type": "markdown",
   "metadata": {},
   "source": [
    "$$\n",
    "A=\\left[\\begin{matrix}3&-3&-4\\\\1&-1&-1\\\\2&-1&4\\\\\\end{matrix}\\right]=3\\times3\n",
    "$$\n"
   ]
  },
  {
   "cell_type": "code",
   "execution_count": 66,
   "metadata": {
    "dotnet_interactive": {
     "language": "csharp"
    }
   },
   "outputs": [
    {
     "name": "stdout",
     "output_type": "stream",
     "text": [
      "=========================\n",
      "A=\n",
      " [[ 3 -3 -4]\n",
      " [ 1 -1 -2]\n",
      " [ 2 -1  4]]\n",
      "\n",
      "mxn=  (3, 3)\n",
      "\n",
      "A^T=\n",
      " [[ 3  1  2]\n",
      " [-3 -1 -1]\n",
      " [-4 -2  4]]\n",
      "\n",
      "mxn=  (3, 3)\n",
      "=========================\n"
     ]
    }
   ],
   "source": [
    "import numpy as np\n",
    "\n",
    "A = np.array(\n",
    "    [\n",
    "        [3, -3, -4],\n",
    "        [1, -1, -2],\n",
    "        [2, -1, 4],\n",
    "    ]\n",
    ")\n",
    "\n",
    "Atrp = np.transpose(A)\n",
    "\n",
    "print('=========================')\n",
    "print('A=\\n', A)\n",
    "print('\\nmxn= ', np.shape(A))\n",
    "print()\n",
    "print('A^T=\\n', Atrp)\n",
    "print('\\nmxn= ', np.shape(Atrp))\n",
    "print('=========================')\n"
   ]
  },
  {
   "cell_type": "code",
   "execution_count": 67,
   "metadata": {
    "dotnet_interactive": {
     "language": "csharp"
    }
   },
   "outputs": [
    {
     "name": "stdout",
     "output_type": "stream",
     "text": [
      "A=\n",
      "\n"
     ]
    },
    {
     "data": {
      "text/latex": [
       "$\\displaystyle \\left[\\begin{matrix}3 & -3 & -4\\\\1 & -1 & -2\\\\2 & -1 & 4\\end{matrix}\\right]$"
      ],
      "text/plain": [
       "Matrix([\n",
       "[3, -3, -4],\n",
       "[1, -1, -2],\n",
       "[2, -1,  4]])"
      ]
     },
     "execution_count": 67,
     "metadata": {},
     "output_type": "execute_result"
    }
   ],
   "source": [
    "from sympy import *\n",
    "\n",
    "A = Matrix(\n",
    "    [\n",
    "        [3, -3, -4],\n",
    "        [1, -1, -2],\n",
    "        [2, -1, 4],\n",
    "    ]\n",
    ")\n",
    "\n",
    "A_T = transpose(A)\n",
    "\n",
    "print('A=\\n')\n",
    "\n",
    "A\n"
   ]
  },
  {
   "cell_type": "code",
   "execution_count": 71,
   "metadata": {
    "dotnet_interactive": {
     "language": "csharp"
    }
   },
   "outputs": [
    {
     "name": "stdout",
     "output_type": "stream",
     "text": [
      "mxn= \n"
     ]
    },
    {
     "data": {
      "text/plain": [
       "(3, 3)"
      ]
     },
     "execution_count": 71,
     "metadata": {},
     "output_type": "execute_result"
    }
   ],
   "source": [
    "print('mxn= ')\n",
    "A.shape\n"
   ]
  },
  {
   "cell_type": "code",
   "execution_count": 73,
   "metadata": {
    "dotnet_interactive": {
     "language": "csharp"
    }
   },
   "outputs": [
    {
     "name": "stdout",
     "output_type": "stream",
     "text": [
      "A^T=\n"
     ]
    },
    {
     "data": {
      "text/latex": [
       "$\\displaystyle \\left[\\begin{matrix}3 & 1 & 2\\\\-3 & -1 & -1\\\\-4 & -2 & 4\\end{matrix}\\right]$"
      ],
      "text/plain": [
       "Matrix([\n",
       "[ 3,  1,  2],\n",
       "[-3, -1, -1],\n",
       "[-4, -2,  4]])"
      ]
     },
     "execution_count": 73,
     "metadata": {},
     "output_type": "execute_result"
    }
   ],
   "source": [
    "print('A^T=')\n",
    "A_T\n"
   ]
  },
  {
   "cell_type": "code",
   "execution_count": 74,
   "metadata": {
    "dotnet_interactive": {
     "language": "csharp"
    }
   },
   "outputs": [
    {
     "name": "stdout",
     "output_type": "stream",
     "text": [
      "mxn= \n"
     ]
    },
    {
     "data": {
      "text/plain": [
       "(3, 3)"
      ]
     },
     "execution_count": 74,
     "metadata": {},
     "output_type": "execute_result"
    }
   ],
   "source": [
    "print('mxn= ')\n",
    "A_T.shape\n"
   ]
  },
  {
   "cell_type": "markdown",
   "metadata": {},
   "source": [
    "### Symmetry matrix\n",
    "\n",
    "A square matrix is symmetrical if $a_{ij}=a_{ji}$, meaning $S=S^T$.\n",
    "\n",
    "$$\n",
    "S=\\left[\\begin{matrix}1&2&3\\\\2&4&5\\\\3&5&6\\\\\\end{matrix}\\right]\n",
    "$$\n",
    "\n",
    "$$\n",
    "S^T=\\left[\\begin{matrix}1&2&3\\\\2&4&5\\\\3&5&6\\\\\\end{matrix}\\right]\n",
    "$$\n"
   ]
  },
  {
   "cell_type": "code",
   "execution_count": 80,
   "metadata": {
    "dotnet_interactive": {
     "language": "csharp"
    }
   },
   "outputs": [
    {
     "name": "stdout",
     "output_type": "stream",
     "text": [
      "=========================\n",
      "S=\n",
      " [[1 2 3]\n",
      " [2 4 5]\n",
      " [3 5 6]]\n",
      "\n",
      "mxn =  (3, 3)\n",
      "\n",
      "S^T=\n",
      " [[1 2 3]\n",
      " [2 4 5]\n",
      " [3 5 6]]\n",
      "\n",
      "mxn =  (3, 3)\n",
      "\n",
      "S == S^T\n",
      "[[ True  True  True]\n",
      " [ True  True  True]\n",
      " [ True  True  True]]\n",
      "=========================\n"
     ]
    }
   ],
   "source": [
    "import numpy as np\n",
    "\n",
    "S = np.array(\n",
    "    [\n",
    "        [1, 2, 3],\n",
    "        [2, 4, 5],\n",
    "        [3, 5, 6],\n",
    "    ]\n",
    ")\n",
    "\n",
    "S_T = np.transpose(S)\n",
    "print('=========================')\n",
    "print('S=\\n', S)\n",
    "print('\\nmxn = ', np.shape(S))\n",
    "print()\n",
    "print('S^T=\\n', S_T)\n",
    "print('\\nmxn = ', np.shape(S_T))\n",
    "print()\n",
    "print('S == S^T')\n",
    "print(S == S_T)\n",
    "print('=========================')\n"
   ]
  },
  {
   "cell_type": "code",
   "execution_count": 81,
   "metadata": {
    "dotnet_interactive": {
     "language": "csharp"
    }
   },
   "outputs": [
    {
     "name": "stdout",
     "output_type": "stream",
     "text": [
      "=========================\n",
      "A=\n",
      " [[ 3 -3 -4]\n",
      " [ 1 -1 -2]\n",
      " [ 2 -1  4]]\n",
      "\n",
      "mxn =  (3, 3)\n",
      "\n",
      "A^T=\n",
      " [[ 3  1  2]\n",
      " [-3 -1 -1]\n",
      " [-4 -2  4]]\n",
      "\n",
      "mxn =  (3, 3)\n",
      "\n",
      "A == A^T\n",
      "[[ True False False]\n",
      " [False  True False]\n",
      " [False False  True]]\n",
      "=========================\n"
     ]
    }
   ],
   "source": [
    "A = np.array(\n",
    "    [\n",
    "        [3, -3, -4],\n",
    "        [1, -1, -2],\n",
    "        [2, -1, 4],\n",
    "    ]\n",
    ")\n",
    "\n",
    "A_T = np.transpose(A)\n",
    "\n",
    "print('=========================')\n",
    "\n",
    "print('A=\\n', A)\n",
    "print('\\nmxn = ', np.shape(A))\n",
    "print()\n",
    "print('A^T=\\n', A_T)\n",
    "print('\\nmxn = ', np.shape(A_T))\n",
    "print()\n",
    "print('A == A^T')\n",
    "print(A == A_T)\n",
    "print('=========================')\n"
   ]
  },
  {
   "cell_type": "code",
   "execution_count": 89,
   "metadata": {
    "dotnet_interactive": {
     "language": "csharp"
    }
   },
   "outputs": [
    {
     "name": "stdout",
     "output_type": "stream",
     "text": [
      "S=\n"
     ]
    },
    {
     "data": {
      "text/latex": [
       "$\\displaystyle \\left[\\begin{matrix}1 & 2 & 3\\\\2 & 4 & 5\\\\3 & 5 & 6\\end{matrix}\\right]$"
      ],
      "text/plain": [
       "Matrix([\n",
       "[1, 2, 3],\n",
       "[2, 4, 5],\n",
       "[3, 5, 6]])"
      ]
     },
     "execution_count": 89,
     "metadata": {},
     "output_type": "execute_result"
    }
   ],
   "source": [
    "from sympy import *\n",
    "\n",
    "S = Matrix(\n",
    "    [\n",
    "        [1, 2, 3],\n",
    "        [2, 4, 5],\n",
    "        [3, 5, 6],\n",
    "    ]\n",
    ")\n",
    "\n",
    "S_T = transpose(S)\n",
    "\n",
    "print('S=')\n",
    "\n",
    "S\n"
   ]
  },
  {
   "cell_type": "code",
   "execution_count": 90,
   "metadata": {
    "dotnet_interactive": {
     "language": "csharp"
    }
   },
   "outputs": [
    {
     "name": "stdout",
     "output_type": "stream",
     "text": [
      "mxn =  (3, 3)\n"
     ]
    }
   ],
   "source": [
    "print('mxn = ', S.shape)\n"
   ]
  },
  {
   "cell_type": "code",
   "execution_count": 91,
   "metadata": {
    "dotnet_interactive": {
     "language": "csharp"
    }
   },
   "outputs": [
    {
     "name": "stdout",
     "output_type": "stream",
     "text": [
      "S^T=\n"
     ]
    },
    {
     "data": {
      "text/latex": [
       "$\\displaystyle \\left[\\begin{matrix}1 & 2 & 3\\\\2 & 4 & 5\\\\3 & 5 & 6\\end{matrix}\\right]$"
      ],
      "text/plain": [
       "Matrix([\n",
       "[1, 2, 3],\n",
       "[2, 4, 5],\n",
       "[3, 5, 6]])"
      ]
     },
     "execution_count": 91,
     "metadata": {},
     "output_type": "execute_result"
    }
   ],
   "source": [
    "print('S^T=')\n",
    "S_T\n"
   ]
  },
  {
   "cell_type": "code",
   "execution_count": 99,
   "metadata": {
    "dotnet_interactive": {
     "language": "csharp"
    }
   },
   "outputs": [
    {
     "name": "stdout",
     "output_type": "stream",
     "text": [
      "mxn = (3, 3)\n"
     ]
    }
   ],
   "source": [
    "print('mxn =', S_T.shape)\n"
   ]
  },
  {
   "cell_type": "code",
   "execution_count": 97,
   "metadata": {
    "dotnet_interactive": {
     "language": "csharp"
    }
   },
   "outputs": [
    {
     "name": "stdout",
     "output_type": "stream",
     "text": [
      "(S == S^T) = True\n"
     ]
    }
   ],
   "source": [
    "print('(S == S^T) =', S == S_T)\n"
   ]
  },
  {
   "cell_type": "markdown",
   "metadata": {},
   "source": [
    "# Example\n"
   ]
  },
  {
   "cell_type": "code",
   "execution_count": 102,
   "metadata": {
    "dotnet_interactive": {
     "language": "csharp"
    }
   },
   "outputs": [
    {
     "name": "stdout",
     "output_type": "stream",
     "text": [
      "A=\n"
     ]
    },
    {
     "data": {
      "text/latex": [
       "$\\displaystyle \\left[\\begin{matrix}3 & -3 & -4\\\\1 & -1 & -2\\\\2 & -1 & 4\\end{matrix}\\right]$"
      ],
      "text/plain": [
       "Matrix([\n",
       "[3, -3, -4],\n",
       "[1, -1, -2],\n",
       "[2, -1,  4]])"
      ]
     },
     "execution_count": 102,
     "metadata": {},
     "output_type": "execute_result"
    }
   ],
   "source": [
    "A = Matrix(\n",
    "    [\n",
    "        [3, -3, -4],\n",
    "        [1, -1, -2],\n",
    "        [2, -1, 4],\n",
    "    ]\n",
    ")\n",
    "\n",
    "A_T = transpose(A)\n",
    "\n",
    "print('A=')\n",
    "A\n"
   ]
  },
  {
   "cell_type": "code",
   "execution_count": 103,
   "metadata": {
    "dotnet_interactive": {
     "language": "csharp"
    }
   },
   "outputs": [
    {
     "name": "stdout",
     "output_type": "stream",
     "text": [
      "mxn =  (3, 3)\n"
     ]
    }
   ],
   "source": [
    "print('mxn = ', A.shape)\n"
   ]
  },
  {
   "cell_type": "code",
   "execution_count": 104,
   "metadata": {
    "dotnet_interactive": {
     "language": "csharp"
    }
   },
   "outputs": [
    {
     "name": "stdout",
     "output_type": "stream",
     "text": [
      "A^T=\n"
     ]
    },
    {
     "data": {
      "text/latex": [
       "$\\displaystyle \\left[\\begin{matrix}3 & 1 & 2\\\\-3 & -1 & -1\\\\-4 & -2 & 4\\end{matrix}\\right]$"
      ],
      "text/plain": [
       "Matrix([\n",
       "[ 3,  1,  2],\n",
       "[-3, -1, -1],\n",
       "[-4, -2,  4]])"
      ]
     },
     "execution_count": 104,
     "metadata": {},
     "output_type": "execute_result"
    }
   ],
   "source": [
    "print('A^T=')\n",
    "A_T\n"
   ]
  },
  {
   "cell_type": "code",
   "execution_count": 105,
   "metadata": {
    "dotnet_interactive": {
     "language": "csharp"
    }
   },
   "outputs": [
    {
     "name": "stdout",
     "output_type": "stream",
     "text": [
      "mxn =  (3, 3)\n"
     ]
    }
   ],
   "source": [
    "print('mxn = ', A_T.shape)\n"
   ]
  },
  {
   "cell_type": "code",
   "execution_count": 106,
   "metadata": {
    "dotnet_interactive": {
     "language": "csharp"
    }
   },
   "outputs": [
    {
     "name": "stdout",
     "output_type": "stream",
     "text": [
      "(A == A^T) = False\n"
     ]
    }
   ],
   "source": [
    "print('(A == A^T) =', A == A_T)\n"
   ]
  },
  {
   "cell_type": "markdown",
   "metadata": {},
   "source": [
    "### Triangular matrix\n",
    "\n",
    "A triangular matrix is a square matrix with all elements below the leading diagonal equal to zero.\n",
    "\n",
    "$$\n",
    "A=\\left[\\begin{matrix}1&2&3\\\\0&4&5\\\\0&0&6\\\\\\end{matrix}\\right]\n",
    "$$\n"
   ]
  },
  {
   "cell_type": "code",
   "execution_count": 107,
   "metadata": {
    "dotnet_interactive": {
     "language": "csharp"
    }
   },
   "outputs": [
    {
     "name": "stdout",
     "output_type": "stream",
     "text": [
      "A=\n",
      " [[1 2 3]\n",
      " [0 4 5]\n",
      " [0 0 6]]\n"
     ]
    }
   ],
   "source": [
    "import numpy as np\n",
    "\n",
    "A = np.array(\n",
    "    [\n",
    "        [1, 2, 3],\n",
    "        [0, 4, 5],\n",
    "        [0, 0, 6],\n",
    "    ]\n",
    ")\n",
    "\n",
    "print('A=\\n', A)\n"
   ]
  },
  {
   "cell_type": "code",
   "execution_count": 108,
   "metadata": {
    "dotnet_interactive": {
     "language": "csharp"
    }
   },
   "outputs": [
    {
     "name": "stdout",
     "output_type": "stream",
     "text": [
      "A=\n"
     ]
    },
    {
     "data": {
      "text/latex": [
       "$\\displaystyle \\left[\\begin{matrix}1 & 2 & 3\\\\0 & 4 & 5\\\\0 & 0 & 6\\end{matrix}\\right]$"
      ],
      "text/plain": [
       "Matrix([\n",
       "[1, 2, 3],\n",
       "[0, 4, 5],\n",
       "[0, 0, 6]])"
      ]
     },
     "execution_count": 108,
     "metadata": {},
     "output_type": "execute_result"
    }
   ],
   "source": [
    "from sympy import *\n",
    "\n",
    "A = Matrix(\n",
    "    [\n",
    "        [1, 2, 3],\n",
    "        [0, 4, 5],\n",
    "        [0, 0, 6],\n",
    "    ]\n",
    ")\n",
    "\n",
    "print('A=')\n",
    "A\n"
   ]
  },
  {
   "cell_type": "markdown",
   "metadata": {},
   "source": [
    "### Diagonal matrix\n",
    "\n",
    "A diagonal matrix is a square matrix with all elements zero except the leading diagonal.\n",
    "\n",
    "$$\n",
    "A=\\left[\\begin{matrix}1&0&0\\\\0&4&0\\\\0&0&6\\\\\\end{matrix}\\right]\n",
    "$$\n"
   ]
  },
  {
   "cell_type": "code",
   "execution_count": 109,
   "metadata": {
    "dotnet_interactive": {
     "language": "csharp"
    }
   },
   "outputs": [
    {
     "name": "stdout",
     "output_type": "stream",
     "text": [
      "A=\n",
      " [[1 0 0]\n",
      " [0 4 0]\n",
      " [0 0 6]]\n"
     ]
    }
   ],
   "source": [
    "import numpy as np\n",
    "\n",
    "A = np.array(\n",
    "    [\n",
    "        [1, 0, 0],\n",
    "        [0, 4, 0],\n",
    "        [0, 0, 6],\n",
    "    ]\n",
    ")\n",
    "\n",
    "print('A=\\n', A)\n"
   ]
  },
  {
   "cell_type": "code",
   "execution_count": 110,
   "metadata": {
    "dotnet_interactive": {
     "language": "csharp"
    }
   },
   "outputs": [
    {
     "name": "stdout",
     "output_type": "stream",
     "text": [
      "A=\n"
     ]
    },
    {
     "data": {
      "text/latex": [
       "$\\displaystyle \\left[\\begin{matrix}1 & 0 & 0\\\\0 & 4 & 0\\\\0 & 0 & 6\\end{matrix}\\right]$"
      ],
      "text/plain": [
       "Matrix([\n",
       "[1, 0, 0],\n",
       "[0, 4, 0],\n",
       "[0, 0, 6]])"
      ]
     },
     "execution_count": 110,
     "metadata": {},
     "output_type": "execute_result"
    }
   ],
   "source": [
    "from sympy import *\n",
    "\n",
    "A = Matrix(\n",
    "    [\n",
    "        [1, 0, 0],\n",
    "        [0, 4, 0],\n",
    "        [0, 0, 6],\n",
    "    ]\n",
    ")\n",
    "\n",
    "print('A=')\n",
    "A\n"
   ]
  },
  {
   "cell_type": "markdown",
   "metadata": {},
   "source": [
    "### Unit matrix\n",
    "\n",
    "A Unit matrix is a special diagonal matrix with the leading diagonal element values all unity or ones. The unit matrix is denoted by I.\n",
    "\n",
    "$$\n",
    "\\mathbb{I}=\\left[\\begin{matrix}1&0&0\\\\0&1&0\\\\0&0&1\\\\\\end{matrix}\\right]\n",
    "$$\n"
   ]
  },
  {
   "cell_type": "code",
   "execution_count": 112,
   "metadata": {
    "dotnet_interactive": {
     "language": "csharp"
    }
   },
   "outputs": [
    {
     "name": "stdout",
     "output_type": "stream",
     "text": [
      "I=\n",
      " [[1 0 0]\n",
      " [0 1 0]\n",
      " [0 0 1]]\n"
     ]
    }
   ],
   "source": [
    "import numpy as np\n",
    "\n",
    "I = np.array(\n",
    "    [\n",
    "        [1, 0, 0],\n",
    "        [0, 1, 0],\n",
    "        [0, 0, 1],\n",
    "    ]\n",
    ")\n",
    "\n",
    "print('I=\\n', I)\n"
   ]
  },
  {
   "cell_type": "code",
   "execution_count": 111,
   "metadata": {
    "dotnet_interactive": {
     "language": "csharp"
    }
   },
   "outputs": [
    {
     "name": "stdout",
     "output_type": "stream",
     "text": [
      "I=\n"
     ]
    },
    {
     "data": {
      "text/latex": [
       "$\\displaystyle \\left[\\begin{matrix}1 & 0 & 0\\\\0 & 1 & 0\\\\0 & 0 & 1\\end{matrix}\\right]$"
      ],
      "text/plain": [
       "Matrix([\n",
       "[1, 0, 0],\n",
       "[0, 1, 0],\n",
       "[0, 0, 1]])"
      ]
     },
     "execution_count": 111,
     "metadata": {},
     "output_type": "execute_result"
    }
   ],
   "source": [
    "from sympy import *\n",
    "\n",
    "I = Matrix(\n",
    "    [\n",
    "        [1, 0, 0],\n",
    "        [0, 1, 0],\n",
    "        [0, 0, 1],\n",
    "    ]\n",
    ")\n",
    "\n",
    "print('I=')\n",
    "I\n"
   ]
  },
  {
   "cell_type": "code",
   "execution_count": 119,
   "metadata": {
    "dotnet_interactive": {
     "language": "csharp"
    }
   },
   "outputs": [
    {
     "name": "stdout",
     "output_type": "stream",
     "text": [
      "I=\n",
      " [[1 0 0]\n",
      " [0 1 0]\n",
      " [0 0 1]]\n"
     ]
    }
   ],
   "source": [
    "import numpy as np\n",
    "\n",
    "I = np.eye(3, dtype=int)\n",
    "\n",
    "print('I=\\n', I)\n"
   ]
  },
  {
   "cell_type": "markdown",
   "metadata": {},
   "source": [
    "#### Useful property\n",
    "\n",
    "A useful property\n",
    "\n",
    "$$\n",
    "A.I=I.A=A\n",
    "$$\n"
   ]
  },
  {
   "cell_type": "code",
   "execution_count": 2,
   "metadata": {
    "dotnet_interactive": {
     "language": "csharp"
    }
   },
   "outputs": [
    {
     "name": "stdout",
     "output_type": "stream",
     "text": [
      "=========================\n",
      "A =\n",
      " [[ 3 -3 -4]\n",
      " [ 1 -1 -2]\n",
      " [ 2 -1  4]]\n",
      "\n",
      "I =\n",
      " [[1. 0. 0.]\n",
      " [0. 1. 0.]\n",
      " [0. 0. 1.]]\n",
      "\n",
      "A * I=\n",
      " [[ 3. -3. -4.]\n",
      " [ 1. -1. -2.]\n",
      " [ 2. -1.  4.]]\n",
      "\n",
      "I * A=\n",
      " [[ 3. -3. -4.]\n",
      " [ 1. -1. -2.]\n",
      " [ 2. -1.  4.]]\n",
      "=========================\n"
     ]
    }
   ],
   "source": [
    "import numpy as np\n",
    "\n",
    "A = np.array(\n",
    "    [\n",
    "        [3, -3, -4],\n",
    "        [1, -1, -2],\n",
    "        [2, -1, 4],\n",
    "    ]\n",
    ")\n",
    "\n",
    "I = np.identity(3)\n",
    "\n",
    "print('=========================')\n",
    "print('A =\\n', A)\n",
    "print()\n",
    "print('I =\\n', I)\n",
    "print()\n",
    "print('A * I=\\n', A @ I)\n",
    "print()\n",
    "print('I * A=\\n', I @ A)\n",
    "print('=========================')\n"
   ]
  },
  {
   "cell_type": "code",
   "execution_count": 125,
   "metadata": {
    "dotnet_interactive": {
     "language": "csharp"
    }
   },
   "outputs": [
    {
     "name": "stdout",
     "output_type": "stream",
     "text": [
      "A =\n"
     ]
    },
    {
     "data": {
      "text/latex": [
       "$\\displaystyle \\left[\\begin{matrix}3 & -3 & -4\\\\1 & -1 & -2\\\\2 & -1 & 4\\end{matrix}\\right]$"
      ],
      "text/plain": [
       "Matrix([\n",
       "[3, -3, -4],\n",
       "[1, -1, -2],\n",
       "[2, -1,  4]])"
      ]
     },
     "execution_count": 125,
     "metadata": {},
     "output_type": "execute_result"
    }
   ],
   "source": [
    "from sympy import *\n",
    "\n",
    "A = Matrix(\n",
    "    [\n",
    "        [3, -3, -4],\n",
    "        [1, -1, -2],\n",
    "        [2, -1, 4],\n",
    "    ]\n",
    ")\n",
    "\n",
    "print('A =')\n",
    "A\n"
   ]
  },
  {
   "cell_type": "code",
   "execution_count": 126,
   "metadata": {
    "dotnet_interactive": {
     "language": "csharp"
    }
   },
   "outputs": [
    {
     "name": "stdout",
     "output_type": "stream",
     "text": [
      "I =\n"
     ]
    },
    {
     "data": {
      "text/latex": [
       "$\\displaystyle \\mathbb{I}$"
      ],
      "text/plain": [
       "I"
      ]
     },
     "execution_count": 126,
     "metadata": {},
     "output_type": "execute_result"
    }
   ],
   "source": [
    "I = Identity(3)\n",
    "print('I =')\n",
    "I\n"
   ]
  },
  {
   "cell_type": "code",
   "execution_count": 127,
   "metadata": {
    "dotnet_interactive": {
     "language": "csharp"
    }
   },
   "outputs": [
    {
     "name": "stdout",
     "output_type": "stream",
     "text": [
      "A * I=\n"
     ]
    },
    {
     "data": {
      "text/latex": [
       "$\\displaystyle \\left[\\begin{matrix}3 & -3 & -4\\\\1 & -1 & -2\\\\2 & -1 & 4\\end{matrix}\\right]$"
      ],
      "text/plain": [
       "Matrix([\n",
       "[3, -3, -4],\n",
       "[1, -1, -2],\n",
       "[2, -1,  4]])"
      ]
     },
     "execution_count": 127,
     "metadata": {},
     "output_type": "execute_result"
    }
   ],
   "source": [
    "print('A * I=')\n",
    "A * I\n"
   ]
  },
  {
   "cell_type": "code",
   "execution_count": 128,
   "metadata": {
    "dotnet_interactive": {
     "language": "csharp"
    }
   },
   "outputs": [
    {
     "name": "stdout",
     "output_type": "stream",
     "text": [
      "I * A=\n"
     ]
    },
    {
     "data": {
      "text/latex": [
       "$\\displaystyle \\left[\\begin{matrix}3 & -3 & -4\\\\1 & -1 & -2\\\\2 & -1 & 4\\end{matrix}\\right]$"
      ],
      "text/plain": [
       "Matrix([\n",
       "[3, -3, -4],\n",
       "[1, -1, -2],\n",
       "[2, -1,  4]])"
      ]
     },
     "execution_count": 128,
     "metadata": {},
     "output_type": "execute_result"
    }
   ],
   "source": [
    "print('I * A=')\n",
    "I * A\n"
   ]
  },
  {
   "cell_type": "markdown",
   "metadata": {},
   "source": [
    "## Null matrix\n",
    "\n",
    "A null matrix is one whose elements are all zero.\n",
    "\n",
    "$$\n",
    "N=\\left[\\begin{matrix}0&0&0\\\\0&0&0\\\\0&0&0\\\\\\end{matrix}\\right]\n",
    "$$\n"
   ]
  },
  {
   "cell_type": "code",
   "execution_count": 130,
   "metadata": {
    "dotnet_interactive": {
     "language": "csharp"
    }
   },
   "outputs": [
    {
     "name": "stdout",
     "output_type": "stream",
     "text": [
      "=========================\n",
      "N =\n",
      " [[0 0 0]\n",
      " [0 0 0]\n",
      " [0 0 0]]\n",
      "=========================\n"
     ]
    }
   ],
   "source": [
    "import numpy as np\n",
    "\n",
    "N = np.array(\n",
    "    [\n",
    "        [0, 0, 0],\n",
    "        [0, 0, 0],\n",
    "        [0, 0, 0],\n",
    "    ]\n",
    ")\n",
    "\n",
    "print('=========================')\n",
    "print('N =\\n', N)\n",
    "print('=========================')\n"
   ]
  },
  {
   "cell_type": "code",
   "execution_count": 131,
   "metadata": {
    "dotnet_interactive": {
     "language": "csharp"
    }
   },
   "outputs": [
    {
     "name": "stdout",
     "output_type": "stream",
     "text": [
      "=========================\n",
      "N =\n",
      " [[0. 0. 0.]\n",
      " [0. 0. 0.]\n",
      " [0. 0. 0.]]\n",
      "=========================\n"
     ]
    }
   ],
   "source": [
    "import numpy as np\n",
    "\n",
    "N = np.zeros((3, 3))\n",
    "\n",
    "print('=========================')\n",
    "print('N =\\n', N)\n",
    "print('=========================')\n"
   ]
  },
  {
   "cell_type": "code",
   "execution_count": 133,
   "metadata": {
    "dotnet_interactive": {
     "language": "csharp"
    }
   },
   "outputs": [
    {
     "name": "stdout",
     "output_type": "stream",
     "text": [
      "N =\n"
     ]
    },
    {
     "data": {
      "text/latex": [
       "$\\displaystyle \\left[\\begin{matrix}0 & 0 & 0\\\\0 & 0 & 0\\\\0 & 0 & 0\\end{matrix}\\right]$"
      ],
      "text/plain": [
       "Matrix([\n",
       "[0, 0, 0],\n",
       "[0, 0, 0],\n",
       "[0, 0, 0]])"
      ]
     },
     "execution_count": 133,
     "metadata": {},
     "output_type": "execute_result"
    }
   ],
   "source": [
    "from sympy import *\n",
    "\n",
    "N = zeros(3)\n",
    "\n",
    "print('N =')\n",
    "N\n"
   ]
  },
  {
   "cell_type": "markdown",
   "metadata": {},
   "source": [
    "#### Useful property\n",
    "\n",
    "A useful property\n",
    "\n",
    "$$\n",
    "A.B=0\n",
    "$$\n",
    "\n",
    "we cannot say $A=0$ or $B=0$\n"
   ]
  },
  {
   "cell_type": "code",
   "execution_count": 136,
   "metadata": {
    "dotnet_interactive": {
     "language": "csharp"
    }
   },
   "outputs": [
    {
     "name": "stdout",
     "output_type": "stream",
     "text": [
      "=========================\n",
      "A =\n",
      " [[ 3 -3 -4]\n",
      " [ 1 -1 -2]\n",
      " [ 2 -1  4]]\n",
      "\n",
      "N =\n",
      " [[0. 0. 0.]\n",
      " [0. 0. 0.]\n",
      " [0. 0. 0.]]\n",
      "\n",
      "A * N=\n",
      " [[0. 0. 0.]\n",
      " [0. 0. 0.]\n",
      " [0. 0. 0.]]\n",
      "\n",
      "N * A=\n",
      " [[0. 0. 0.]\n",
      " [0. 0. 0.]\n",
      " [0. 0. 0.]]\n",
      "=========================\n"
     ]
    }
   ],
   "source": [
    "import numpy as np\n",
    "\n",
    "A = np.array(\n",
    "    [\n",
    "        [3, -3, -4],\n",
    "        [1, -1, -2],\n",
    "        [2, -1, 4],\n",
    "    ]\n",
    ")\n",
    "\n",
    "N = np.zeros((3, 3))\n",
    "\n",
    "print('=========================')\n",
    "print('A =\\n', A)\n",
    "print()\n",
    "print('N =\\n', N)\n",
    "print()\n",
    "print('A * N=\\n', A @ N)\n",
    "print()\n",
    "print('N * A=\\n', N @ A)\n",
    "print('=========================')\n"
   ]
  },
  {
   "cell_type": "code",
   "execution_count": 138,
   "metadata": {
    "dotnet_interactive": {
     "language": "csharp"
    }
   },
   "outputs": [
    {
     "name": "stdout",
     "output_type": "stream",
     "text": [
      "=========================\n",
      "A =\n",
      " Matrix([[3, -3, -4], [1, -1, -2], [2, -1, 4]])\n",
      "\n",
      "N =\n",
      " Matrix([[0, 0, 0], [0, 0, 0], [0, 0, 0]])\n",
      "\n",
      "A * N=\n",
      " Matrix([[0, 0, 0], [0, 0, 0], [0, 0, 0]])\n",
      "\n",
      "N * A=\n",
      " Matrix([[0, 0, 0], [0, 0, 0], [0, 0, 0]])\n",
      "=========================\n"
     ]
    }
   ],
   "source": [
    "from sympy import *\n",
    "\n",
    "A = Matrix(\n",
    "    [\n",
    "        [3, -3, -4],\n",
    "        [1, -1, -2],\n",
    "        [2, -1, 4],\n",
    "    ]\n",
    ")\n",
    "\n",
    "N = zeros(3)\n",
    "\n",
    "print('=========================')\n",
    "print('A =\\n', A)\n",
    "print()\n",
    "print('N =\\n', N)\n",
    "print()\n",
    "print('A * N=\\n', A @ N)\n",
    "print()\n",
    "print('N * A=\\n', N @ A)\n",
    "print('=========================')\n"
   ]
  },
  {
   "cell_type": "code",
   "execution_count": 139,
   "metadata": {
    "dotnet_interactive": {
     "language": "csharp"
    }
   },
   "outputs": [
    {
     "name": "stdout",
     "output_type": "stream",
     "text": [
      "A =\n"
     ]
    },
    {
     "data": {
      "text/latex": [
       "$\\displaystyle \\left[\\begin{matrix}3 & -3 & -4\\\\1 & -1 & -2\\\\2 & -1 & 4\\end{matrix}\\right]$"
      ],
      "text/plain": [
       "Matrix([\n",
       "[3, -3, -4],\n",
       "[1, -1, -2],\n",
       "[2, -1,  4]])"
      ]
     },
     "execution_count": 139,
     "metadata": {},
     "output_type": "execute_result"
    }
   ],
   "source": [
    "print('A =')\n",
    "A\n"
   ]
  },
  {
   "cell_type": "code",
   "execution_count": 140,
   "metadata": {
    "dotnet_interactive": {
     "language": "csharp"
    }
   },
   "outputs": [
    {
     "name": "stdout",
     "output_type": "stream",
     "text": [
      "N =\n"
     ]
    },
    {
     "data": {
      "text/latex": [
       "$\\displaystyle \\left[\\begin{matrix}0 & 0 & 0\\\\0 & 0 & 0\\\\0 & 0 & 0\\end{matrix}\\right]$"
      ],
      "text/plain": [
       "Matrix([\n",
       "[0, 0, 0],\n",
       "[0, 0, 0],\n",
       "[0, 0, 0]])"
      ]
     },
     "execution_count": 140,
     "metadata": {},
     "output_type": "execute_result"
    }
   ],
   "source": [
    "print('N =')\n",
    "N\n"
   ]
  },
  {
   "cell_type": "code",
   "execution_count": 141,
   "metadata": {
    "dotnet_interactive": {
     "language": "csharp"
    }
   },
   "outputs": [
    {
     "name": "stdout",
     "output_type": "stream",
     "text": [
      "A * N=\n"
     ]
    },
    {
     "data": {
      "text/latex": [
       "$\\displaystyle \\left[\\begin{matrix}0 & 0 & 0\\\\0 & 0 & 0\\\\0 & 0 & 0\\end{matrix}\\right]$"
      ],
      "text/plain": [
       "Matrix([\n",
       "[0, 0, 0],\n",
       "[0, 0, 0],\n",
       "[0, 0, 0]])"
      ]
     },
     "execution_count": 141,
     "metadata": {},
     "output_type": "execute_result"
    }
   ],
   "source": [
    "print('A * N=')\n",
    "A * N\n"
   ]
  },
  {
   "cell_type": "code",
   "execution_count": 142,
   "metadata": {
    "dotnet_interactive": {
     "language": "csharp"
    }
   },
   "outputs": [
    {
     "name": "stdout",
     "output_type": "stream",
     "text": [
      "N * A=\n"
     ]
    },
    {
     "data": {
      "text/latex": [
       "$\\displaystyle \\left[\\begin{matrix}0 & 0 & 0\\\\0 & 0 & 0\\\\0 & 0 & 0\\end{matrix}\\right]$"
      ],
      "text/plain": [
       "Matrix([\n",
       "[0, 0, 0],\n",
       "[0, 0, 0],\n",
       "[0, 0, 0]])"
      ]
     },
     "execution_count": 142,
     "metadata": {},
     "output_type": "execute_result"
    }
   ],
   "source": [
    "print('N * A=')\n",
    "N * A\n"
   ]
  },
  {
   "cell_type": "markdown",
   "metadata": {},
   "source": [
    "# Determinants\n"
   ]
  },
  {
   "cell_type": "markdown",
   "metadata": {},
   "source": [
    "The arrangement of numbers in an equal rows and columns bounded by a straight bar is called determinant.\n",
    "\n",
    "$$\n",
    "\\left|\\begin{matrix}a_{11}&a_{12}\\\\a_{21}&a_{22}\\\\\\end{matrix}\\right|\n",
    "$$\n"
   ]
  },
  {
   "cell_type": "markdown",
   "metadata": {},
   "source": [
    "## Determinants of the second order\n",
    "\n",
    "The symbol above is determinant of a $2\\times 2$ (two by two matrix) with element $a_{11}$ on row 1 and column 1 and $a_{12}$ is element on row 1 and column 2. It means each element is identified by row and column number subscript $i \\textrm{and} j: a_{ij}$.\n",
    "\n",
    "By definition,\n",
    "\n",
    "$$\n",
    "\\left|\\begin{matrix}a_{11}&a_{12}\\\\a_{21}&a_{22}\\\\\\end{matrix}\\right|=a_{11}a_{22}-a_{12}a_{21}\n",
    "$$\n"
   ]
  },
  {
   "cell_type": "markdown",
   "metadata": {},
   "source": [
    "To find determinant of\n",
    "\n",
    "$$\n",
    "\\left|\\begin{matrix}a_{11}&a_{12}\\\\a_{21}&a_{22}\\\\\\end{matrix}\\right|\n",
    "$$\n",
    "\n",
    "we must multiply the elements diagonally to form the product terms in the expansion:\n",
    "\n",
    "$$\n",
    "\\textrm{we multiply }\n",
    "\\left|\n",
    "    \\begin{matrix}\n",
    "        a_{11} & \\\\\n",
    "        & a_{22}\\\\\n",
    "    \\end{matrix}\n",
    "\\right|\n",
    "\n",
    "\\textrm{ then subtract the product }\n",
    "\n",
    "\\left|\n",
    "    \\begin{matrix}\n",
    "         & a_{12}\\\\\n",
    "        a_{21} & \\\\\n",
    "    \\end{matrix}\n",
    "\\right|\n",
    "$$\n"
   ]
  },
  {
   "cell_type": "markdown",
   "metadata": {},
   "source": [
    "Note:  \n",
    "$a_{11}$ before $a_{12}$ i.e column 1 before 2.\n",
    "\n",
    "$$\n",
    "\\left|\n",
    "    \\begin{matrix}\n",
    "        1 & -3\\\\\n",
    "        4 & -2\\\\\n",
    "    \\end{matrix}\n",
    "\\right|\n",
    "=(1)(-2)-(-3)(4)=-2+12=10\n",
    "$$\n",
    "\n",
    "Or\n",
    "\n",
    "$$\n",
    "\\left|\n",
    "    \\begin{matrix}\n",
    "        1&\\\\\n",
    "        &-2\\\\\n",
    "    \\end{matrix}\n",
    "\\right|\n",
    "-\n",
    "\\left|\n",
    "    \\begin{matrix}\n",
    "         & -3\\\\\n",
    "        4 & \\\\\n",
    "    \\end{matrix}\n",
    "\\right|\n",
    "= 1\\times -2 --3\\times 4 = 10\n",
    "$$\n"
   ]
  },
  {
   "cell_type": "code",
   "execution_count": 3,
   "metadata": {
    "dotnet_interactive": {
     "language": "csharp"
    }
   },
   "outputs": [
    {
     "name": "stdout",
     "output_type": "stream",
     "text": [
      "A = \n",
      " [[ 1 -3]\n",
      " [ 4 -2]]\n",
      "|A| =  10.000000000000002\n"
     ]
    }
   ],
   "source": [
    "import numpy as np\n",
    "\n",
    "A = np.array(\n",
    "    [\n",
    "        [1, -3],\n",
    "        [4, -2],\n",
    "    ]\n",
    ")\n",
    "\n",
    "print(\"A = \\n\", A)\n",
    "\n",
    "det_A = np.linalg.det(A)\n",
    "\n",
    "print(\"|A| = \", det_A)\n"
   ]
  },
  {
   "cell_type": "code",
   "execution_count": 144,
   "metadata": {
    "dotnet_interactive": {
     "language": "csharp"
    }
   },
   "outputs": [
    {
     "name": "stdout",
     "output_type": "stream",
     "text": [
      "A=\n"
     ]
    },
    {
     "data": {
      "text/latex": [
       "$\\displaystyle \\left[\\begin{matrix}1.0 & -3\\\\4 & -2\\end{matrix}\\right]$"
      ],
      "text/plain": [
       "Matrix([\n",
       "[1.0, -3],\n",
       "[  4, -2]])"
      ]
     },
     "execution_count": 144,
     "metadata": {},
     "output_type": "execute_result"
    }
   ],
   "source": [
    "from sympy import *\n",
    "x, y = symbols('x y')\n",
    "\n",
    "A = Matrix(\n",
    "    [\n",
    "        [1.0, -3],\n",
    "        [4, -2]\n",
    "    ]\n",
    ")\n",
    "print(\"A=\")\n",
    "A\n"
   ]
  },
  {
   "cell_type": "code",
   "execution_count": 148,
   "metadata": {
    "dotnet_interactive": {
     "language": "csharp"
    }
   },
   "outputs": [
    {
     "name": "stdout",
     "output_type": "stream",
     "text": [
      "|A| = 10.0000000000000\n"
     ]
    }
   ],
   "source": [
    "print('|A| =', A.det())\n"
   ]
  },
  {
   "cell_type": "markdown",
   "metadata": {},
   "source": [
    "# More example in class\n",
    "\n",
    "Generate question from the students/participants\n"
   ]
  },
  {
   "cell_type": "markdown",
   "metadata": {},
   "source": [
    "## Determinants of the third order\n",
    "\n",
    "A determinant of the third order contains 3 rows and 3 columns.\n",
    "\n",
    "$$\n",
    "\\left|\\begin{matrix}a_{11}&a_{12}&a_{13}\\\\a_{21}&a_{22}&a_{23}\\\\a_{31}&a_{32}&a_{33}\\\\\\end{matrix}\\right|\n",
    "$$\n"
   ]
  },
  {
   "cell_type": "markdown",
   "metadata": {},
   "source": [
    "In order to find the determinant of a higher order the matrix minor must be developed until second order is reached.\n",
    "Developing each element in the first row minor:\n",
    "\n",
    "$$\n",
    "\\left|\\begin{matrix}a_{11}&a_{12}&a_{13}\\\\a_{21}&a_{22}&a_{23}\\\\a_{31}&a_{32}&a_{33}\\\\\\end{matrix}\\right|\n",
    "\\left|\\begin{matrix}+&-&+\\\\& &\\\\&&\\\\\\end{matrix}\\right|\n",
    "$$\n",
    "\n",
    "For $a_{11}$\n",
    "\n",
    "$$\n",
    "\\left|\\begin{matrix}a_{11}&&\\\\&a_{22}&a_{23}\\\\&a_{32}&a_{33}\\\\\\end{matrix}\\right|\n",
    "\\begin{matrix}a_{11}\\\\\\\\\\end{matrix}\\left|\\begin{matrix}a_{22}&a_{23}\\\\a_{32}&a_{33}\\\\\\end{matrix}\\right|=a_{11}\\left(a_{22}a_{33}-a_{23}a_{32}\\right)\n",
    "$$\n",
    "\n",
    "For $a_{12}$\n",
    "\n",
    "$$\n",
    "\\left|\\begin{matrix}&a_{12}&\\\\a_{21}&&a_{23}\\\\a_{31}&&a_{33}\\\\\\end{matrix}\\right|\n",
    "\\begin{matrix}{-a}_{12}\\\\\\\\\\end{matrix}\\left|\\begin{matrix}a_{21}&a_{23}\\\\a_{31}&a_{33}\\\\\\end{matrix}\\right|=-a_{12}\\left(a_{21}a_{33}-a_{23}a_{31}\\right)\n",
    "$$\n",
    "\n",
    "For $a_{13}$\n",
    "\n",
    "$$\n",
    "\\left|\\begin{matrix}&&a_{13}\\\\a_{21}&a_{22}&\\\\a_{31}&a_{32}&\\\\\\end{matrix}\\right|\n",
    "\\begin{matrix}a_{13}\\\\\\\\\\end{matrix}\\left|\\begin{matrix}a_{21}&a_{22}\\\\a_{31}&a_{32}\\\\\\end{matrix}\\right|=a_{13}\\left(a_{21}a_{32}-a_{22}a_{31}\\right)\n",
    "$$\n"
   ]
  },
  {
   "cell_type": "markdown",
   "metadata": {},
   "source": [
    "Summing all together:\n",
    "\n",
    "$$\n",
    "\\left|\\begin{matrix}a_{11}&a_{12}&a_{13}\\\\a_{21}&a_{22}&a_{23}\\\\a_{31}&a_{32}&a_{33}\\\\\\end{matrix}\\right|=\\begin{matrix}a_{11}\\\\\\\\\\end{matrix}\\left|\\begin{matrix}a_{22}&a_{23}\\\\a_{32}&a_{33}\\\\\\end{matrix}\\right|\\begin{matrix}{-a}_{12}\\\\\\\\\\end{matrix}\\left|\\begin{matrix}a_{21}&a_{23}\\\\a_{31}&a_{33}\\\\\\end{matrix}\\right|\\begin{matrix}{+a}_{13}\\\\\\\\\\end{matrix}\\left|\\begin{matrix}a_{21}&a_{22}\\\\a_{31}&a_{32}\\\\\\end{matrix}\\right|\n",
    "$$\n"
   ]
  },
  {
   "cell_type": "markdown",
   "metadata": {},
   "source": [
    "# Example\n"
   ]
  },
  {
   "cell_type": "markdown",
   "metadata": {},
   "source": [
    "$$\n",
    "\\left|\\begin{matrix}3&-3&-4\\\\1&-1&-1\\\\2&-1&4\\\\\\end{matrix}\\right|\n",
    "=\\begin{matrix}3\\\\\\\\\\end{matrix}\\left|\\begin{matrix}-1&-1\\\\-1&4\\\\\\end{matrix}\\right|\\begin{matrix}-\\\\\\\\\\end{matrix}\\begin{matrix}-3\\\\\\\\\\end{matrix}\\left|\\begin{matrix}1&-1\\\\2&4\\\\\\end{matrix}\\right|\\begin{matrix}+\\\\\\\\\\end{matrix}\\begin{matrix}-4\\\\\\\\\\end{matrix}\\left|\\begin{matrix}1&-1\\\\2&-1\\\\\\end{matrix}\\right|\n",
    "$$\n",
    "\n",
    "$$\n",
    "=3\\left((-1\\times4)-(-1\\times-1)\\right)--3((1\\times4)-(-1\\times2))+-4((1\\times-1)-(-1\\times2))\n",
    "$$\n",
    "\n",
    "$$\n",
    "=3\\left(-4-1\\right)--3(4-(-2))+-4(-1-(-2))\n",
    "$$\n",
    "\n",
    "$$\n",
    "=3\\left(-5\\right)+3(6)-4(1)\n",
    "$$\n",
    "\n",
    "$$\n",
    "=-15+18-4=-1\n",
    "$$\n"
   ]
  },
  {
   "cell_type": "markdown",
   "metadata": {},
   "source": [
    "Try\n",
    "\n",
    "$$\n",
    "\\left|\\begin{matrix}2&3&4\\\\6&1&0\\\\2&3&4\\\\\\end{matrix}\\right|\n",
    "$$\n",
    "\n",
    "Answer\n",
    "\n",
    "$$\n",
    "\\left|\\begin{matrix}2&3&4\\\\6&1&0\\\\2&3&4\\\\\\end{matrix}\\right|=0\n",
    "$$\n"
   ]
  },
  {
   "cell_type": "code",
   "execution_count": 152,
   "metadata": {
    "dotnet_interactive": {
     "language": "csharp"
    }
   },
   "outputs": [
    {
     "name": "stdout",
     "output_type": "stream",
     "text": [
      "A = \n",
      " [[ 3 -3 -4]\n",
      " [ 1 -1 -1]\n",
      " [ 2 -1  4]]\n",
      "|A| =  -0.9999999999999998\n"
     ]
    }
   ],
   "source": [
    "import numpy as np\n",
    "\n",
    "A = np.array([\n",
    "    [3, -3, -4],\n",
    "    [1, -1, -1],\n",
    "    [2, -1, 4],\n",
    "])\n",
    "\n",
    "detA = np.linalg.det(A)\n",
    "\n",
    "print(\"A = \\n\", A)\n",
    "\n",
    "print(\"|A| = \", detA)\n"
   ]
  },
  {
   "cell_type": "code",
   "execution_count": 157,
   "metadata": {
    "dotnet_interactive": {
     "language": "csharp"
    }
   },
   "outputs": [
    {
     "name": "stdout",
     "output_type": "stream",
     "text": [
      "A = \n",
      "\n"
     ]
    },
    {
     "data": {
      "text/latex": [
       "$\\displaystyle \\left[\\begin{matrix}3 & -3 & -4\\\\1 & -1 & -1\\\\2 & -1 & 4\\end{matrix}\\right]$"
      ],
      "text/plain": [
       "Matrix([\n",
       "[3, -3, -4],\n",
       "[1, -1, -1],\n",
       "[2, -1,  4]])"
      ]
     },
     "execution_count": 157,
     "metadata": {},
     "output_type": "execute_result"
    }
   ],
   "source": [
    "from sympy import *\n",
    "\n",
    "A = Matrix([\n",
    "    [3, -3, -4],\n",
    "    [1, -1, -1],\n",
    "    [2, -1, 4],\n",
    "])\n",
    "\n",
    "detA = A.det()\n",
    "\n",
    "print(\"A = \\n\")\n",
    "A\n"
   ]
  },
  {
   "cell_type": "code",
   "execution_count": 158,
   "metadata": {
    "dotnet_interactive": {
     "language": "csharp"
    }
   },
   "outputs": [
    {
     "name": "stdout",
     "output_type": "stream",
     "text": [
      "|A| =  -1\n"
     ]
    }
   ],
   "source": [
    "print(\"|A| = \", detA)\n"
   ]
  },
  {
   "cell_type": "code",
   "execution_count": 159,
   "metadata": {
    "dotnet_interactive": {
     "language": "csharp"
    }
   },
   "outputs": [
    {
     "name": "stdout",
     "output_type": "stream",
     "text": [
      "A = \n",
      "\n"
     ]
    },
    {
     "data": {
      "text/latex": [
       "$\\displaystyle \\left[\\begin{matrix}3.0 & -3 & -4\\\\1 & -1 & -1\\\\2 & -1 & 4\\end{matrix}\\right]$"
      ],
      "text/plain": [
       "Matrix([\n",
       "[3.0, -3, -4],\n",
       "[  1, -1, -1],\n",
       "[  2, -1,  4]])"
      ]
     },
     "execution_count": 159,
     "metadata": {},
     "output_type": "execute_result"
    }
   ],
   "source": [
    "from sympy import *\n",
    "\n",
    "A = Matrix([\n",
    "    [3.0, -3, -4],\n",
    "    [1, -1, -1],\n",
    "    [2, -1, 4],\n",
    "])\n",
    "\n",
    "detA = A.det()\n",
    "\n",
    "print(\"A = \\n\")\n",
    "A\n"
   ]
  },
  {
   "cell_type": "code",
   "execution_count": 160,
   "metadata": {
    "dotnet_interactive": {
     "language": "csharp"
    }
   },
   "outputs": [
    {
     "name": "stdout",
     "output_type": "stream",
     "text": [
      "|A| =  -1.00000000000000\n"
     ]
    }
   ],
   "source": [
    "print(\"|A| = \", detA)\n"
   ]
  },
  {
   "cell_type": "markdown",
   "metadata": {},
   "source": [
    "# Solution of system of linear equations by determinants\n"
   ]
  },
  {
   "cell_type": "markdown",
   "metadata": {},
   "source": [
    "A system of linear equations of the second degree of two unknowns can be written below:"
   ]
  },
  {
   "cell_type": "markdown",
   "metadata": {},
   "source": [
    "$$\n",
    "a_{11}x+a_{12}y=b_1 \\\\\n",
    "a_{21}x+a_{22}y=b_2\n",
    "$$"
   ]
  },
  {
   "cell_type": "markdown",
   "metadata": {},
   "source": [
    "and can further be written in matrices form as\n"
   ]
  },
  {
   "cell_type": "markdown",
   "metadata": {},
   "source": [
    "$$\n",
    "\\left[\\begin{matrix}a_{11}&a_{11}\\\\a_{11}&a_{11}\\\\\\end{matrix}\\right]\\ \\ \\left[\\begin{matrix}x\\\\y\\\\\\end{matrix}\\right]=\\left[\\begin{matrix}b_1\\\\b_2\\\\\\end{matrix}\\right]\\ \\\n",
    "$$\n"
   ]
  },
  {
   "cell_type": "markdown",
   "metadata": {},
   "source": [
    "$$\n",
    "A . x=b\n",
    "$$"
   ]
  },
  {
   "cell_type": "markdown",
   "metadata": {},
   "source": [
    "Solving Simultaneous Equation"
   ]
  },
  {
   "cell_type": "markdown",
   "metadata": {},
   "source": [
    "$$\n",
    "2x + 3y = 10\\\\\n",
    "4x + y = 1\n",
    "$$"
   ]
  },
  {
   "cell_type": "markdown",
   "metadata": {},
   "source": [
    "By elimination and substitution\n"
   ]
  },
  {
   "cell_type": "markdown",
   "metadata": {},
   "source": [
    "$$\n",
    "x=-\\frac{7}{10},\\quad y=\\frac{38}{10}\n",
    "$$"
   ]
  },
  {
   "cell_type": "markdown",
   "metadata": {},
   "source": [
    "## Determinant Equation Method\n",
    "\n",
    "### Secondary Degree"
   ]
  },
  {
   "cell_type": "markdown",
   "metadata": {},
   "source": [
    "$$\n",
    "2x + 3y = 10\\\\\n",
    "4x + y = 1\n",
    "$$"
   ]
  },
  {
   "cell_type": "markdown",
   "metadata": {},
   "source": [
    "could be written as:\n"
   ]
  },
  {
   "cell_type": "markdown",
   "metadata": {},
   "source": [
    "$$\n",
    "2x+3y-10=0 \\quad \\left(a\\right) \\\\\n",
    "4x+y-1=0 \\quad \\left(b\\right)\n",
    "$$"
   ]
  },
  {
   "cell_type": "markdown",
   "metadata": {},
   "source": [
    "and"
   ]
  },
  {
   "cell_type": "markdown",
   "metadata": {},
   "source": [
    "$$\n",
    "a_{11}x+a_{12}y+b_1=0 \\quad \\left(a\\right) \\\\\n",
    "a_{21}x+a_{22}y+b_2=0 \\quad \\left(b\\right)\n",
    "$$\n"
   ]
  },
  {
   "cell_type": "markdown",
   "metadata": {},
   "source": [
    "The solution\n",
    "\n",
    "$$\n",
    "\\frac{x}{∆_1}=\\frac{-y}{∆_2}=\\frac{1}{∆_0}\n",
    "$$\n",
    "\n",
    "$$\n",
    "x=\\frac{∆_1}{∆_0}, \\quad y=\\frac{-∆_2}{∆_0}\n",
    "$$\n",
    "\n",
    "where\n",
    "\n",
    "$$\n",
    "∆_0=\\left|\n",
    "        \\begin{matrix}\n",
    "            a_{11} & a_{12} \\\\\n",
    "            a_{21} & a_{22}\n",
    "        \\end{matrix}\n",
    "    \\right|\n",
    ",\\quad\n",
    "∆_1=\\left|\n",
    "        \\begin{matrix}\n",
    "            a_{12} & b_{1} \\\\\n",
    "            a_{22} & b_{2}\n",
    "        \\end{matrix}\n",
    "    \\right|\n",
    ",\\quad\n",
    "∆_2=\\left|\n",
    "        \\begin{matrix}\n",
    "            a_{11} & b_{1} \\\\\n",
    "            a_{21} & b_{2}\n",
    "        \\end{matrix}\n",
    "    \\right|\n",
    "$$\n"
   ]
  },
  {
   "cell_type": "markdown",
   "metadata": {},
   "source": [
    "Solving Equation\n",
    "\n",
    "$$\n",
    "2x+3y-10=0 \\quad \\left(a\\right) \\\\\n",
    "4x+y-1=0 \\quad \\left(b\\right)\n",
    "$$\n",
    "\n",
    "$$\n",
    "∆_0=\\left|\n",
    "        \\begin{matrix}\n",
    "            2 & 3 \\\\\n",
    "            4 & 1\n",
    "        \\end{matrix}\n",
    "    \\right|\n",
    "    =\n",
    "    (2\\times 1)-(3\\times 4)=2-12=-10\n",
    "$$\n",
    "\n",
    "$$\n",
    "∆_1=\\left|\n",
    "        \\begin{matrix}\n",
    "            3 & -10 \\\\\n",
    "            1 & -1\n",
    "        \\end{matrix}\n",
    "    \\right|\n",
    "    =\n",
    "    (3\\times -1)-(-10 \\times 1)=-3--10=7\n",
    "$$\n",
    "\n",
    "$$\n",
    "∆_2=\\left|\n",
    "        \\begin{matrix}\n",
    "            2 & -10 \\\\\n",
    "            4 & -1\n",
    "        \\end{matrix}\n",
    "    \\right|\n",
    "    =\n",
    "    (2 \\times -1)-(-10 \\times 4)=-2--40=38\n",
    "$$\n",
    "\n",
    "$$\n",
    "x=\\frac{∆_1}{∆_0}=\\frac{7}{-10} =\\left. -\\frac{7}{10} \\right. \\\\\n",
    "y=\\frac{-∆_2}{∆_0}=\\left.-\\frac{38}{-10}\\right.=\\frac{38}{10}\n",
    "$$\n"
   ]
  },
  {
   "cell_type": "markdown",
   "metadata": {},
   "source": [
    "### The solution for higher degree system of linear equations are:\n",
    "\n",
    "### For third degree:\n",
    "\n",
    "$$\n",
    "\\frac {x}{∆_1}=\\frac {-y}{∆_2}= \\frac {z}{∆_2}=\\frac {-1}{∆_0}\n",
    "$$\n",
    "\n",
    "$$\n",
    "x=\\frac {-∆_1}{∆_0}, \\quad y=\\frac {∆_2}{∆_0}, \\quad z=\\frac {-∆_3}{∆_0}\n",
    "$$\n",
    "\n",
    "Note: The positive and negative signs alternate has the degree increases.\n"
   ]
  },
  {
   "cell_type": "markdown",
   "metadata": {},
   "source": [
    "### Third Degree\n"
   ]
  },
  {
   "cell_type": "markdown",
   "metadata": {},
   "source": [
    "Solve\n",
    "\n",
    "$$\n",
    "3x -3y - 4z = 1 \\\\\n",
    "x - y - z = 2 \\\\\n",
    "2x-y+ 4z =3\n",
    "$$\n",
    "\n",
    "Rearrange\n",
    "\n",
    "$$\n",
    "3x -3y -4z -1= 0 \\\\\n",
    "x - y - z -2 =0 \\\\\n",
    "2x - y + 4z -3 = 0\n",
    "$$\n"
   ]
  },
  {
   "cell_type": "markdown",
   "metadata": {},
   "source": [
    "Extract the matrix of coefficients:\n",
    "\n",
    "$$\n",
    "\\left[\\begin{matrix}\\begin{matrix}\\begin{matrix}3\\\\1\\\\2\\\\\\end{matrix}&\\begin{matrix}-3\\\\-1\\\\-1\\\\\\end{matrix}\\\\\\end{matrix}&\\begin{matrix}\\begin{matrix}-4\\\\-1\\\\4\\\\\\end{matrix}&\\begin{matrix}-1\\\\-2\\\\-3\\\\\\end{matrix}\\\\\\end{matrix}\\\\\\end{matrix}\\right]\n",
    "$$\n"
   ]
  },
  {
   "cell_type": "markdown",
   "metadata": {},
   "source": [
    "$$\n",
    "∆_0 =\n",
    "    \\begin{bmatrix}\n",
    "    3 & -3 & -4 \\\\\n",
    "    1 & -1 & -1 \\\\\n",
    "    2 & -1 &  4 \\\\\n",
    "    \\end{bmatrix}\n",
    "    =-1\n",
    "$$\n"
   ]
  },
  {
   "cell_type": "markdown",
   "metadata": {},
   "source": [
    "$$\n",
    "∆_1 = \\left|\\begin{matrix}\n",
    "\n",
    "-3 & -4 & -1 \\\\\n",
    "-1 & -1 & -2 \\\\\n",
    "-1 & 4 & -3\n",
    "\\end{matrix} \\right|\n",
    "=\n",
    "$$"
   ]
  },
  {
   "cell_type": "markdown",
   "metadata": {},
   "source": [
    "\n",
    "\n",
    "$$\n",
    "=\\begin{matrix}-3\\\\\\\\\\end{matrix}\\left|\\begin{matrix}-1&-2\\\\4&-3\\\\\\end{matrix}\\right|\\begin{matrix}-\\\\\\\\\\end{matrix}\\begin{matrix}-4\\\\\\\\\\end{matrix}\\left|\\begin{matrix}-1&-2\\\\-1&-3\\\\\\end{matrix}\\right|\\begin{matrix}+\\\\\\\\\\end{matrix}\\begin{matrix}-1\\\\\\\\\\end{matrix}\\left|\\begin{matrix}-1&-1\\\\-1&4\\\\\\end{matrix}\\right|\n",
    "$$\n",
    "\n",
    "$$\n",
    "=-3\\left(3--8\\right)--4(3-2)+-1(-4-1)\n",
    "$$\n",
    "\n",
    "$$\n",
    "=-3\\left(11\\right)+4(1)-(-5)=-24\n",
    "$$\n"
   ]
  },
  {
   "cell_type": "markdown",
   "metadata": {},
   "source": [
    "$$\n",
    "∆_2= \\left|\n",
    "    \\begin{matrix}\n",
    "    3 & -4 & -1 \\\\\n",
    "    1 & -1 & -2 \\\\\n",
    "    2 & 4 & -3\n",
    "    \\end{matrix}\n",
    "    \\right|\n",
    "$$\n",
    "\n",
    "$$\n",
    "=\\begin{matrix}3\\\\\\\\\\end{matrix}\\left|\\begin{matrix}-1&-2\\\\4&-3\\\\\\end{matrix}\\right|\\begin{matrix}-\\\\\\\\\\end{matrix}\\begin{matrix}-4\\\\\\\\\\end{matrix}\\left|\\begin{matrix}1&-2\\\\2&-3\\\\\\end{matrix}\\right|\\begin{matrix}+\\\\\\\\\\end{matrix}\\begin{matrix}-1\\\\\\\\\\end{matrix}\\left|\\begin{matrix}1&-1\\\\2&4\\\\\\end{matrix}\\right|\n",
    "$$\n",
    "\n",
    "$$\n",
    "=3\\left(3--8\\right)--4(-3--4)+-1(4--2)\n",
    "$$\n",
    "\n",
    "$$\n",
    "=3\\left(11\\right)+4(1)-(6)=31\n",
    "$$\n"
   ]
  },
  {
   "cell_type": "markdown",
   "metadata": {},
   "source": [
    "$$\n",
    "∆_3 = \\left|\n",
    "    \\begin{matrix}\n",
    "    3 & -3 & -1 \\\\\n",
    "    1 & -1 & -2 \\\\\n",
    "    2 & -1 & -3\n",
    "    \\end{matrix}\n",
    "    \\right|\n",
    "$$\n",
    "\n",
    "$$\n",
    "=\\begin{matrix}3\\\\\\\\\\end{matrix}\\left|\\begin{matrix}-1&-2\\\\-1&-3\\\\\\end{matrix}\\right|\\begin{matrix}-\\\\\\\\\\end{matrix}\\begin{matrix}-3\\\\\\\\\\end{matrix}\\left|\\begin{matrix}1&-2\\\\2&-3\\\\\\end{matrix}\\right|\\begin{matrix}+\\\\\\\\\\end{matrix}\\begin{matrix}-1\\\\\\\\\\end{matrix}\\left|\\begin{matrix}1&-1\\\\2&-1\\\\\\end{matrix}\\right|\n",
    "$$\n",
    "\n",
    "$$\n",
    "=3\\left(3-2\\right)--3(-3--4)+-1(-1--2)\n",
    "$$\n",
    "\n",
    "$$\n",
    "=3\\left(1\\right)+3(1)-(1)=5\n",
    "$$\n"
   ]
  },
  {
   "cell_type": "markdown",
   "metadata": {},
   "source": [
    "From Equation 2.13\n"
   ]
  },
  {
   "cell_type": "markdown",
   "metadata": {},
   "source": [
    "$$\n",
    "x= \\frac{-∆_1}{∆_0},    y=\\frac{∆_2}{∆_0},    z=\\frac{-∆_3}{∆_0}\n",
    "$$\n",
    "\n",
    "$$\n",
    "x=-\\frac{-24}{-1},\\ \\ \\ \\ y=\\frac{31}{-1},\\ \\ \\ \\ z=-\\frac{5}{-1}\n",
    "$$\n",
    "\n",
    "$$\n",
    "x=-24,\\ \\ \\ \\ y=-31,\\ \\ \\ \\ z=5\n",
    "$$\n"
   ]
  },
  {
   "cell_type": "code",
   "execution_count": 33,
   "metadata": {
    "dotnet_interactive": {
     "language": "csharp"
    }
   },
   "outputs": [
    {
     "name": "stdout",
     "output_type": "stream",
     "text": [
      "M =\n",
      " [[ 3. -3. -4. -1.]\n",
      " [ 1. -1. -1. -2.]\n",
      " [ 2. -1.  4. -3.]]\n",
      "M0 =\n",
      " [[ 3. -3. -4.]\n",
      " [ 1. -1. -1.]\n",
      " [ 2. -1.  4.]]\n",
      "M1 =\n",
      " [[-3. -4. -1.]\n",
      " [-1. -1. -2.]\n",
      " [-1.  4. -3.]]\n",
      "M2 =\n",
      " [[ 3. -4. -1.]\n",
      " [ 1. -1. -2.]\n",
      " [ 2.  4. -3.]]\n",
      "M3 =\n",
      " [[ 3. -3. -1.]\n",
      " [ 1. -1. -2.]\n",
      " [ 2. -1. -3.]]\n",
      "D0 =  -0.9999999999999998\n",
      "D1 =  -24.000000000000014\n",
      "D2 =  31.000000000000014\n",
      "D3 =  5.000000000000001\n",
      "x =  -24.00000000000002\n",
      "y =  -31.00000000000002\n",
      "z =  5.000000000000002\n"
     ]
    }
   ],
   "source": [
    "import numpy as np\n",
    "\n",
    "A = np.array([\n",
    "    [3, -3, -4],\n",
    "    [1, -1, -1],\n",
    "    [2, -1, 4]\n",
    "])\n",
    "\n",
    "b = np.array([1, 2, 3])\n",
    "\n",
    "M = np.zeros((3,4))\n",
    "\n",
    "M[:,:3] = A[:]\n",
    "M[:,3] = -np.transpose(b)\n",
    "\n",
    "print('M =\\n', M)\n",
    "\n",
    "M0 = M[:,:3]\n",
    "print('M0 =\\n', M0)\n",
    "\n",
    "M1 = M[:,1:]\n",
    "print('M1 =\\n', M1)\n",
    "\n",
    "M2 = M[:,[0,2,3]]\n",
    "print('M2 =\\n', M2)\n",
    "\n",
    "M3 = M[:,[0,1,3]]\n",
    "print('M3 =\\n', M3)\n",
    "\n",
    "D0 = np.linalg.det(M0)\n",
    "D1 = np.linalg.det(M1)\n",
    "D2 = np.linalg.det(M2)\n",
    "D3 = np.linalg.det(M3)\n",
    "\n",
    "print('D0 = ', D0)\n",
    "print('D1 = ', D1)\n",
    "print('D2 = ', D2)\n",
    "print('D3 = ', D3)\n",
    "\n",
    "x = -D1/D0\n",
    "y = D2/D0\n",
    "z = -D3/D0\n",
    "\n",
    "print('x = ',x)\n",
    "print('y = ',y)\n",
    "print('z = ',z)\n"
   ]
  },
  {
   "cell_type": "code",
   "execution_count": 6,
   "metadata": {
    "dotnet_interactive": {
     "language": "csharp"
    }
   },
   "outputs": [
    {
     "data": {
      "text/plain": [
       "(-24.00000000000001, -31.00000000000001, 5.000000000000002)"
      ]
     },
     "execution_count": 6,
     "metadata": {},
     "output_type": "execute_result"
    }
   ],
   "source": [
    "import numpy as np\n",
    "\n",
    "A = np.array([\n",
    "    [3, -3, -4],\n",
    "    [1, -1, -1],\n",
    "    [2, -1, 4]\n",
    "])\n",
    "\n",
    "b = np.array([1, 2, 3])\n",
    "\n",
    "[x,y,z] = np.linalg.solve(A, b)\n",
    "\n",
    "x,y,z"
   ]
  },
  {
   "cell_type": "code",
   "execution_count": 9,
   "metadata": {
    "dotnet_interactive": {
     "language": "csharp"
    }
   },
   "outputs": [
    {
     "data": {
      "text/latex": [
       "$\\displaystyle \\left\\{\\left( -24, \\  -31, \\  5\\right)\\right\\}$"
      ],
      "text/plain": [
       "{(-24, -31, 5)}"
      ]
     },
     "execution_count": 9,
     "metadata": {},
     "output_type": "execute_result"
    }
   ],
   "source": [
    "from sympy import * \n",
    "\n",
    "M = Matrix([\n",
    "    [3, -3, -4, 1],\n",
    "    [1, -1, -1, 2],\n",
    "    [2, -1, 4, 3]\n",
    "])\n",
    "\n",
    "x = linsolve(M)\n",
    "\n",
    "x"
   ]
  },
  {
   "cell_type": "code",
   "execution_count": 63,
   "metadata": {
    "dotnet_interactive": {
     "language": "csharp"
    }
   },
   "outputs": [
    {
     "name": "stdout",
     "output_type": "stream",
     "text": [
      "M =\n",
      " [[ 3. -3. -4. -1.]\n",
      " [ 1. -1. -1. -2.]\n",
      " [ 2. -1.  4. -3.]]\n",
      "M[ 0 ] =\n",
      " [[ 3. -3. -4.]\n",
      " [ 1. -1. -1.]\n",
      " [ 2. -1.  4.]]\n",
      "D[ 0 ] =\n",
      " -0.9999999999999998\n",
      "M[ 1 ] =\n",
      " [[-3. -4. -1.]\n",
      " [-1. -1. -2.]\n",
      " [-1.  4. -3.]]\n",
      "D[ 1 ] =\n",
      " -24.000000000000014\n",
      "M[ 2 ] =\n",
      " [[ 3. -4. -1.]\n",
      " [ 1. -1. -2.]\n",
      " [ 2.  4. -3.]]\n",
      "D[ 2 ] =\n",
      " 31.000000000000014\n",
      "M[ 3 ] =\n",
      " [[ 3. -3. -1.]\n",
      " [ 1. -1. -2.]\n",
      " [ 2. -1. -3.]]\n",
      "D[ 3 ] =\n",
      " 5.000000000000001\n",
      "X= [-24.00000000000002, -31.00000000000002, 5.000000000000002]\n"
     ]
    }
   ],
   "source": [
    "import numpy as np\n",
    "\n",
    "A = np.array([\n",
    "    [3, -3, -4],\n",
    "    [1, -1, -1],\n",
    "    [2, -1, 4]\n",
    "])\n",
    "\n",
    "b = np.array([1, 2, 3])\n",
    "\n",
    "M = np.zeros((3,4))\n",
    "\n",
    "M[:,:3] = A[:]\n",
    "M[:,3] = -np.transpose(b)\n",
    "\n",
    "print('M =\\n', M)\n",
    "\n",
    "m,n = M.shape\n",
    "\n",
    "mk=[]\n",
    "k = []\n",
    "for i in range(n):\n",
    "    k = []\n",
    "    for j in range(n):\n",
    "        if(i == j):\n",
    "            continue\n",
    "        k.append(j)\n",
    "    mk.append(k)\n",
    "\n",
    "\n",
    "MD = []\n",
    "MD.append(M[:,mk[m]])\n",
    "\n",
    "for i in range(1,n):\n",
    "    MD.insert(i, M[:,mk[i-1]])\n",
    "    \n",
    "\n",
    "D = []\n",
    "X = []\n",
    "for i in range(n):\n",
    "    print('M[',i,'] =\\n', MD[i])\n",
    "    D.append(np.linalg.det(MD[i]))\n",
    "    print('D[',i,'] =\\n', D[i])\n",
    "    x = ((-1)**i)*(D[i]/D[0])\n",
    "    X.append(x)\n",
    "    \n",
    "print('X=', X[1:])"
   ]
  },
  {
   "cell_type": "markdown",
   "metadata": {},
   "source": [
    "## Cramers Rule\n"
   ]
  },
  {
   "cell_type": "markdown",
   "metadata": {},
   "source": [
    "### For second degree\n"
   ]
  },
  {
   "cell_type": "markdown",
   "metadata": {},
   "source": [
    "For a system of two linear equations in two unknowns (x, y) given below:\n"
   ]
  },
  {
   "cell_type": "markdown",
   "metadata": {},
   "source": [
    "$$\n",
    "a_{11}x + a_{12}y = b_1  \\\\\n",
    "a_{21}x + a_{22}y = b_2\n",
    "$$\n"
   ]
  },
  {
   "cell_type": "markdown",
   "metadata": {},
   "source": [
    "Cramer’s rule states that:\n"
   ]
  },
  {
   "cell_type": "markdown",
   "metadata": {},
   "source": [
    "$$\n",
    "x=\\frac{\\left|\\begin{matrix}b_1&a_{12}\\\\b_2&a_{22}\\\\\\end{matrix}\\right|}{\\left|\\begin{matrix}a_{11}&a_{12}\\\\a_{21}&a_{22}\\\\\\end{matrix}\\right|},\\ \\ \\ \\ y=\\frac{\\left|\\begin{matrix}a_{11}&b_1\\\\a_{21}&b_2\\\\\\end{matrix}\\right|}{\\left|\\begin{matrix}a_{11}&a_{12}\\\\a_{21}&a_{22}\\\\\\end{matrix}\\right|}\\\n",
    "$$\n"
   ]
  },
  {
   "cell_type": "markdown",
   "metadata": {},
   "source": [
    "The denominator is the determinant of the coefficients of x and y. The numerator for x is the determinant of coefficient matrix when coefficient of x is replaced by b. Similarly, the numerator for y is the determinant of coefficient matrix when coefficient of y is replaced by b.\n"
   ]
  },
  {
   "cell_type": "markdown",
   "metadata": {},
   "source": [
    "### Third degree\n"
   ]
  },
  {
   "cell_type": "markdown",
   "metadata": {},
   "source": [
    "$$\n",
    "a_{11}x+a_{12}y+a_{13}z=b_1 \\\\\n",
    "a_{21}x+a_{22}y+a_{23}z=b_2 \\\\\n",
    "a_{31}x+a_{32}y+a_{33}z=b_3\n",
    "$$\n"
   ]
  },
  {
   "cell_type": "markdown",
   "metadata": {},
   "source": [
    "$$\n",
    "x=\\frac{\\left|\\begin{matrix}b_1&a_{12}&a_{13}\\\\b_2&a_{22}&a_{23}\\\\b_3&a_{32}&a_{33}\\\\\\end{matrix}\\right|}{\\left|\\begin{matrix}a_{11}&a_{12}&a_{13}\\\\a_{21}&a_{22}&a_{23}\\\\a_{31}&a_{32}&a_{33}\\\\\\end{matrix}\\right|},\n",
    "\\quad\n",
    "y=?, \\quad z=?\n",
    "$$\n"
   ]
  },
  {
   "cell_type": "markdown",
   "metadata": {},
   "source": [
    "$$\n",
    "y=\\frac{\\left|\\begin{matrix}a_{11}&b_1&a_{13}\\\\a_{21}&b_2&a_{23}\\\\a_{31}&b_3&a_{33}\\\\\\end{matrix}\\right|}{\\left|\\begin{matrix}a_{11}&a_{12}&a_{13}\\\\a_{21}&a_{22}&a_{23}\\\\a_{31}&a_{32}&a_{33}\\\\\\end{matrix}\\right|}\n",
    "$$\n"
   ]
  },
  {
   "cell_type": "markdown",
   "metadata": {},
   "source": [
    "$$\n",
    "z=\\frac{\\left|\\begin{matrix}a_{11}&a_{12}&b_1\\\\a_{21}&a_{22}&b_2\\\\a_{31}&a_{32}&b_3\\\\\\end{matrix}\\right|}{\\left|\\begin{matrix}a_{11}&a_{12}&a_{13}\\\\a_{21}&a_{22}&a_{23}\\\\a_{31}&a_{32}&a_{33}\\\\\\end{matrix}\\right|}\n",
    "$$\n"
   ]
  },
  {
   "cell_type": "markdown",
   "metadata": {},
   "source": [
    "The Cramer’s rule can be generalized:\n"
   ]
  },
  {
   "cell_type": "markdown",
   "metadata": {},
   "source": [
    "$$\n",
    "x=\\frac{D_x}{D},\n",
    "\\quad\n",
    "y=\\frac{D_y}{D},\n",
    "\\quad\n",
    "z=\\frac{D_z}{D}\n",
    "$$\n"
   ]
  },
  {
   "cell_type": "markdown",
   "metadata": {},
   "source": [
    "Example 3.3\n"
   ]
  },
  {
   "cell_type": "markdown",
   "metadata": {},
   "source": [
    "Solve\n"
   ]
  },
  {
   "cell_type": "markdown",
   "metadata": {},
   "source": [
    "$$\n",
    "3x\\ -3y-4z=1 \\\\\n",
    "x-y- z=2 \\\\\n",
    "2x-y+ 4y=3\n",
    "$$\n"
   ]
  },
  {
   "cell_type": "markdown",
   "metadata": {},
   "source": [
    "$$\n",
    "x=\\frac{\\left|\\begin{matrix}1&-3&-4\\\\2&-1&-1\\\\3&-1&4\\\\\\end{matrix}\\right|}{\\left|\\begin{matrix}3&-3&-4\\\\1&-1&-1\\\\2&-1&4\\\\\\end{matrix}\\right|}=\\frac{24}{-1}=-24\n",
    "$$\n"
   ]
  },
  {
   "cell_type": "markdown",
   "metadata": {},
   "source": [
    "$$\n",
    "y=\\frac{\\left|\\begin{matrix}3&1&-4\\\\1&2&-1\\\\2&3&4\\\\\\end{matrix}\\right|}{\\left|\\begin{matrix}3&-3&-4\\\\1&-1&-1\\\\2&-1&4\\\\\\end{matrix}\\right|}=\\frac{31}{-1}=-31\n",
    "$$\n"
   ]
  },
  {
   "cell_type": "markdown",
   "metadata": {},
   "source": [
    "$$\n",
    "z=\\frac{\\left|\\begin{matrix}3&-3&1\\\\1&-1&2\\\\2&-1&3\\\\\\end{matrix}\\right|}{\\left|\\begin{matrix}3&-3&-4\\\\1&-1&-1\\\\2&-1&4\\\\\\end{matrix}\\right|}=\\frac{-5}{-1}=5\n",
    "$$\n"
   ]
  },
  {
   "cell_type": "markdown",
   "metadata": {},
   "source": [
    "Note: For both the determinant Equation Method and Cramer’s rule determinant, $ ∆_0 or D $ , the coefficient of the unknown must not equal zero.\n",
    "\n",
    "$$\n",
    "∆_0≠0 \\quad or \\quad D≠0\n",
    "$$\n"
   ]
  },
  {
   "cell_type": "code",
   "execution_count": 70,
   "metadata": {
    "dotnet_interactive": {
     "language": "csharp"
    }
   },
   "outputs": [
    {
     "name": "stdout",
     "output_type": "stream",
     "text": [
      "M0 =\n",
      " [[ 3 -3 -4]\n",
      " [ 1 -1 -1]\n",
      " [ 2 -1  4]]\n",
      "M1 =\n",
      " [[ 1 -3 -4]\n",
      " [ 2 -1 -1]\n",
      " [ 3 -1  4]]\n",
      "M2 =\n",
      " [[ 3  1 -4]\n",
      " [ 1  2 -1]\n",
      " [ 2  3  4]]\n",
      "M3 =\n",
      " [[ 3 -3  1]\n",
      " [ 1 -1  2]\n",
      " [ 2 -1  3]]\n",
      "D0 =  -0.9999999999999998\n",
      "D1 =  24.000000000000014\n",
      "D2 =  31.0\n",
      "D3 =  -5.000000000000001\n",
      "x =  -24.00000000000002\n",
      "y =  -31.000000000000007\n",
      "z =  5.000000000000002\n"
     ]
    }
   ],
   "source": [
    "import numpy as np\n",
    "\n",
    "A = np.array([\n",
    "    [3, -3, -4],\n",
    "    [1, -1, -1],\n",
    "    [2, -1, 4]\n",
    "])\n",
    "\n",
    "b = np.array([1, 2, 3])\n",
    "\n",
    "M = A[:]\n",
    "print('M0 =\\n', M)\n",
    "\n",
    "M1 = M.copy()\n",
    "M1[:,0] = np.transpose(b)\n",
    "print('M1 =\\n', M1)\n",
    "\n",
    "M2 = M.copy()\n",
    "M2[:,1] = np.transpose(b)\n",
    "print('M2 =\\n', M2)\n",
    "\n",
    "M3 = M.copy()\n",
    "M3[:,2] = np.transpose(b)\n",
    "print('M3 =\\n', M3)\n",
    "\n",
    "D0 = np.linalg.det(M0)\n",
    "D1 = np.linalg.det(M1)\n",
    "D2 = np.linalg.det(M2)\n",
    "D3 = np.linalg.det(M3)\n",
    "\n",
    "print('D0 = ', D0)\n",
    "print('D1 = ', D1)\n",
    "print('D2 = ', D2)\n",
    "print('D3 = ', D3)\n",
    "\n",
    "x = D1/D0\n",
    "y = D2/D0\n",
    "z = D3/D0\n",
    "\n",
    "print('x = ',x)\n",
    "print('y = ',y)\n",
    "print('z = ',z)\n"
   ]
  },
  {
   "cell_type": "markdown",
   "metadata": {},
   "source": [
    "# Linear dependence and independence\n"
   ]
  },
  {
   "cell_type": "markdown",
   "metadata": {},
   "source": [
    "A matrix is said to be linearly dependent if the determinant is zero and linearly independent if the determinant is not zero.\n"
   ]
  },
  {
   "cell_type": "markdown",
   "metadata": {},
   "source": [
    "Linear dependence\n"
   ]
  },
  {
   "cell_type": "markdown",
   "metadata": {},
   "source": [
    "$$\n",
    "D=\\left|A\\right|=\\ 0\n",
    "$$\n"
   ]
  },
  {
   "cell_type": "markdown",
   "metadata": {},
   "source": [
    "And Linear independence\n"
   ]
  },
  {
   "cell_type": "markdown",
   "metadata": {},
   "source": [
    "$$\n",
    "D=\\left|A\\right|\\neq\\ 0\n",
    "$$\n"
   ]
  },
  {
   "cell_type": "markdown",
   "metadata": {},
   "source": [
    "Check if the matrices below are linear dependence or independence:\n"
   ]
  },
  {
   "cell_type": "markdown",
   "metadata": {},
   "source": [
    "$$\n",
    "A=\\left|\\begin{matrix}2&3&4\\\\6&1&0\\\\2&3&4\\\\\\end{matrix}\\right|\n",
    "$$\n",
    "\n",
    "$$\n",
    "B=\\left|\\begin{matrix}3&-3&-4\\\\1&-1&-1\\\\2&-1&4\\\\\\end{matrix}\\right|\n",
    "$$\n"
   ]
  },
  {
   "cell_type": "markdown",
   "metadata": {},
   "source": [
    "What is your answer?\n"
   ]
  },
  {
   "cell_type": "markdown",
   "metadata": {},
   "source": [
    "$$\n",
    "A=\\left|\\begin{matrix}2&3&4\\\\6&1&0\\\\2&3&4\\\\\\end{matrix}\\right|=0\n",
    "$$\n",
    "\n",
    "$$\n",
    "B=\\left|\\begin{matrix}3&-3&-4\\\\1&-1&-1\\\\2&-1&4\\\\\\end{matrix}\\right|=-1\n",
    "$$\n"
   ]
  },
  {
   "cell_type": "code",
   "execution_count": 71,
   "metadata": {
    "dotnet_interactive": {
     "language": "csharp"
    }
   },
   "outputs": [
    {
     "data": {
      "text/plain": [
       "0.0"
      ]
     },
     "execution_count": 71,
     "metadata": {},
     "output_type": "execute_result"
    }
   ],
   "source": [
    "import numpy as np\n",
    "\n",
    "A = np.array([\n",
    "    [2,3,4],\n",
    "    [6,1,0],\n",
    "    [2,3,4],\n",
    "])\n",
    "\n",
    "np.linalg.det(A)"
   ]
  },
  {
   "cell_type": "code",
   "execution_count": 72,
   "metadata": {
    "dotnet_interactive": {
     "language": "csharp"
    }
   },
   "outputs": [
    {
     "data": {
      "text/plain": [
       "-0.9999999999999998"
      ]
     },
     "execution_count": 72,
     "metadata": {},
     "output_type": "execute_result"
    }
   ],
   "source": [
    "import numpy as np\n",
    "\n",
    "B = np.array([\n",
    "    [3,-3,-4],\n",
    "    [1,-1,-1],\n",
    "    [2,-1,4],\n",
    "])\n",
    "\n",
    "np.linalg.det(B)"
   ]
  },
  {
   "cell_type": "markdown",
   "metadata": {},
   "source": [
    "# Rank of a matrix\n"
   ]
  },
  {
   "cell_type": "markdown",
   "metadata": {},
   "source": [
    "The rank of an $ m x n $ matrix $ A $ is the order of the largest square, linear independence sub-matrix. In order to get a matrix rank you must get a non-zero determinant matrix of the original m x n matrix or a sub-matrix.\n"
   ]
  },
  {
   "cell_type": "markdown",
   "metadata": {},
   "source": [
    "Check the rank of matrix $B$ below:\n"
   ]
  },
  {
   "cell_type": "markdown",
   "metadata": {},
   "source": [
    "$$\n",
    "B=\\left|\\begin{matrix}3&-3&-4\\\\1&-1&-1\\\\2&-1&4\\\\\\end{matrix}\\right|=-1\n",
    "\n",
    "\n",
    "$$\n"
   ]
  },
  {
   "cell_type": "markdown",
   "metadata": {},
   "source": [
    "Since the determinant is non-zero the $ rank = 3 $.\n"
   ]
  },
  {
   "cell_type": "code",
   "execution_count": 76,
   "metadata": {
    "dotnet_interactive": {
     "language": "csharp"
    }
   },
   "outputs": [
    {
     "name": "stdout",
     "output_type": "stream",
     "text": [
      "|B| =  -0.9999999999999998\n",
      "rank =  3\n"
     ]
    }
   ],
   "source": [
    "import numpy as np\n",
    "\n",
    "B = np.array([\n",
    "    [3,-3,-4],\n",
    "    [1,-1,-1],\n",
    "    [2,-1,4],\n",
    "])\n",
    "\n",
    "print('|B| = ', np.linalg.det(B))\n",
    "\n",
    "r = np.linalg.matrix_rank(B)\n",
    "print('rank = ', r)"
   ]
  },
  {
   "cell_type": "markdown",
   "metadata": {},
   "source": [
    "Similarly, check for matrix $A$.\n"
   ]
  },
  {
   "cell_type": "markdown",
   "metadata": {},
   "source": [
    "$$\n",
    "A=\\left|\\begin{matrix}2&3&4\\\\6&1&0\\\\2&3&4\\\\\\end{matrix}\\right|=0\n",
    "$$\n"
   ]
  },
  {
   "cell_type": "markdown",
   "metadata": {},
   "source": [
    "The determinant is zero, we need to check for the determinant of its sub-matrix:\n"
   ]
  },
  {
   "cell_type": "markdown",
   "metadata": {},
   "source": [
    "$$\n",
    "A_1=\\left|\\begin{matrix}2&3\\\\6&1\\\\\\end{matrix}\\right|=-16\n",
    "$$\n"
   ]
  },
  {
   "cell_type": "markdown",
   "metadata": {},
   "source": [
    "Since the determinant of the sub-matrix A1 is non-zero, we can conclude that matrix $A$ is of $rank = 2$.\n"
   ]
  },
  {
   "cell_type": "code",
   "execution_count": 77,
   "metadata": {
    "dotnet_interactive": {
     "language": "csharp"
    }
   },
   "outputs": [
    {
     "name": "stdout",
     "output_type": "stream",
     "text": [
      "|A| =  0.0\n",
      "rank =  2\n"
     ]
    }
   ],
   "source": [
    "import numpy as np\n",
    "\n",
    "A = np.array([\n",
    "    [2,3,4],\n",
    "    [6,1,0],\n",
    "    [2,3,4],\n",
    "])\n",
    "\n",
    "print('|A| = ', np.linalg.det(A))\n",
    "\n",
    "r = np.linalg.matrix_rank(A)\n",
    "print('rank = ', r)"
   ]
  },
  {
   "cell_type": "markdown",
   "metadata": {},
   "source": [
    "# General system of linear equations\n"
   ]
  },
  {
   "cell_type": "markdown",
   "metadata": {},
   "source": [
    "A system linear of equations below with three unknown $x, y, z$:\n"
   ]
  },
  {
   "cell_type": "markdown",
   "metadata": {},
   "source": [
    "$$\n",
    "a_{11}x_1+a_{12}x_2+a_{13}x_3=b_1 \\\\\n",
    "a_{21}x_1+a_{22}x_2+a_{23}x_3=b_2 \\\\\n",
    "a_{31}x_1+a_{32}x_2+a_{33}x_3=b_3\n",
    "$$\n"
   ]
  },
  {
   "cell_type": "markdown",
   "metadata": {},
   "source": [
    "can be represented using matrix notation:\n"
   ]
  },
  {
   "cell_type": "markdown",
   "metadata": {},
   "source": [
    "$$\n",
    "\\left[\\begin{matrix}a_{11}&a_{12}&a_{13}\\\\a_{21}&a_{22}&a_{23}\\\\a_{31}&a_{32}&a_{33}\\\\\\end{matrix}\\right]\\left[\\begin{matrix}x_1\\\\x_2\\\\x_3\\\\\\end{matrix}\\right]=\\left[\\begin{matrix}b_1\\\\b_2\\\\b_3\\\\\\end{matrix}\\right]\n",
    "$$\n"
   ]
  },
  {
   "cell_type": "markdown",
   "metadata": {},
   "source": [
    "Similarly,\n"
   ]
  },
  {
   "cell_type": "markdown",
   "metadata": {},
   "source": [
    "$$\n",
    "a_{11}x_1+a_{12}x_2+a_{13}x_3=b_1 \\\\\n",
    "a_{21}x_1+a_{22}x_2+a_{23}x_3=b_2\n",
    "$$\n"
   ]
  },
  {
   "cell_type": "markdown",
   "metadata": {},
   "source": [
    "$$\n",
    "\\left[\\begin{matrix}a_{11}&a_{12}&a_{13}\\\\a_{21}&a_{22}&a_{23}\\\\\\end{matrix}\\right]\\left[\\begin{matrix}x_1\\\\x_2\\\\x_3\\\\\\end{matrix}\\right]=\\left[\\begin{matrix}b_1\\\\b_2\\\\\\end{matrix}\\right]\n",
    "$$\n"
   ]
  },
  {
   "cell_type": "markdown",
   "metadata": {},
   "source": [
    "Generally,\n"
   ]
  },
  {
   "cell_type": "markdown",
   "metadata": {},
   "source": [
    "$$\n",
    "\\begin{matrix}\n",
    "\\begin{matrix}\n",
    "\\begin{matrix}\n",
    "a_{11}x_1\\\\a_{21}x_1\\\\a_{31}x_1\\\\\\end{matrix}&\\begin{matrix}a_{12}x_2\\\\a_{22}x_2\\\\a_{32}x_2\\\\\\end{matrix}&\\begin{matrix}a_{13}x_3\\\\a_{23}x_3\\\\a_{33}x_3\\\\\\end{matrix}\\\\\\end{matrix}&\\begin{matrix}\\ldots\\\\\\ldots\\\\\\ldots\\\\\\end{matrix}&\\begin{matrix}\\begin{matrix}a_{1n}x_n&=&b_1\\\\\\end{matrix}\\\\\\begin{matrix}a_{2n}x_n&=&b_2\\\\\\end{matrix}\\\\\\begin{matrix}a_{3n}x_n&=&b_3\\\\\\end{matrix}\\\\\\end{matrix}\\\\\\begin{matrix}\\vdots\\ \\ \\ \\ \\ &\\ \\ \\ \\vdots\\ \\ &\\ \\ \\ \\ \\ \\ \\ \\ \\vdots\\\\\\end{matrix}&&\\ \\ \\ \\begin{matrix}\\vdots&&\\ \\ \\ \\ \\ \\ \\vdots\\\\\\end{matrix}\\\\\\begin{matrix}a_{m1}x_1&a_{m2}x_2&a_{m3}x_3\\\\\\end{matrix}&\\ldots&\\begin{matrix}a_{mn}x_n&=&b_m\\\\\\end{matrix}\\\\\\end{matrix}\n",
    "$$\n"
   ]
  },
  {
   "cell_type": "markdown",
   "metadata": {},
   "source": [
    "$$\n",
    "\\left[\\begin{matrix}\\begin{matrix}\\begin{matrix}a_{11}\\\\a_{21}\\\\a_{31}\\\\\\end{matrix}&\\begin{matrix}a_{12}\\\\a_{22}\\\\a_{32}\\\\\\end{matrix}&\\begin{matrix}a_{13}\\\\a_{23}\\\\a_{33}\\\\\\end{matrix}\\\\\\end{matrix}&\\begin{matrix}\\ldots\\\\\\ldots\\\\\\ldots\\\\\\end{matrix}&\\begin{matrix}a_{1n}\\\\a_{2n}\\\\a_{3n}\\\\\\end{matrix}\\\\\\begin{matrix}\\vdots\\ \\ &\\ \\ \\ \\vdots\\ &\\ \\ \\ \\ \\vdots\\\\\\end{matrix}&&\\vdots\\\\\\begin{matrix}a_{m1}&a_{m2}&a_{m3}\\\\\\end{matrix}&\\ldots&a_{mn}\\\\\\end{matrix}\\right]\\left[\\begin{matrix}x_1\\\\\\begin{matrix}x_2\\\\x_3\\\\\\vdots\\\\\\end{matrix}\\\\x_n\\\\\\end{matrix}\\right]=\\left[\\begin{matrix}b_1\\\\\\begin{matrix}b_2\\\\b_3\\\\\\vdots\\\\\\end{matrix}\\\\b_m\\\\\\end{matrix}\\right]\n",
    "$$\n"
   ]
  },
  {
   "cell_type": "markdown",
   "metadata": {},
   "source": [
    "$$\n",
    "A \\bullet x=b\t\\quad (6.7)\n",
    "$$\n",
    "\n",
    "$$\n",
    "A \\cdot x=b\t\\quad (6.7)\n",
    "$$\n"
   ]
  },
  {
   "cell_type": "markdown",
   "metadata": {},
   "source": [
    "where\n"
   ]
  },
  {
   "cell_type": "markdown",
   "metadata": {},
   "source": [
    "$$\n",
    "A=\\left[\\begin{matrix}\\begin{matrix}\\begin{matrix}a_{11}\\\\a_{21}\\\\a_{31}\\\\\\end{matrix}&\\begin{matrix}a_{12}\\\\a_{22}\\\\a_{32}\\\\\\end{matrix}&\\begin{matrix}a_{13}\\\\a_{23}\\\\a_{33}\\\\\\end{matrix}\\\\\\end{matrix}&\\begin{matrix}\\ldots\\\\\\ldots\\\\\\ldots\\\\\\end{matrix}&\\begin{matrix}a_{1n}\\\\a_{2n}\\\\a_{3n}\\\\\\end{matrix}\\\\\\begin{matrix}\\vdots\\ \\ &\\ \\ \\ \\vdots\\ &\\ \\ \\ \\ \\vdots\\\\\\end{matrix}&&\\vdots\\\\\\begin{matrix}a_{m1}&a_{m2}&a_{m3}\\\\\\end{matrix}&\\ldots&a_{mn}\\\\\\end{matrix}\\right];\\ \\ x=\\left[\\begin{matrix}x_1\\\\\\begin{matrix}x_2\\\\x_3\\\\\\vdots\\\\\\end{matrix}\\\\x_n\\\\\\end{matrix}\\right];\\ \\ b=\\left[\\begin{matrix}b_1\\\\\\begin{matrix}b_2\\\\b_3\\\\\\vdots\\\\\\end{matrix}\\\\b_m\\\\\\end{matrix}\\right]\n",
    "$$\n"
   ]
  },
  {
   "cell_type": "markdown",
   "metadata": {},
   "source": [
    "If we multiply $Eqn (6.7)$ by $A^{-1}$ the inverse of $A$.\n"
   ]
  },
  {
   "cell_type": "markdown",
   "metadata": {},
   "source": [
    "$$\n",
    "A^{-1} \\cdot A \\cdot x = A^{-1} \\cdot b\n",
    "$$\n"
   ]
  },
  {
   "cell_type": "markdown",
   "metadata": {},
   "source": [
    "$$\n",
    "A^{-1} \\cdot A = I\n",
    "$$\n",
    "\n",
    "$$\n",
    "I \\cdot x = A^{-1} \\cdot b\n",
    "$$\n"
   ]
  },
  {
   "cell_type": "markdown",
   "metadata": {},
   "source": [
    "$$\n",
    "x=A^{-1} \\cdot b\n",
    "$$\n"
   ]
  },
  {
   "cell_type": "markdown",
   "metadata": {},
   "source": [
    "and\n"
   ]
  },
  {
   "cell_type": "markdown",
   "metadata": {},
   "source": [
    "$$\n",
    "A^{-1}=\\frac{C^T}{\\left|A\\right|}\n",
    "$$\n"
   ]
  },
  {
   "cell_type": "markdown",
   "metadata": {},
   "source": [
    "where $C^T$ is the transpose of the co-factor of matrix $A$\n"
   ]
  },
  {
   "cell_type": "markdown",
   "metadata": {},
   "source": [
    "# Existence and properties of solution\n"
   ]
  },
  {
   "cell_type": "markdown",
   "metadata": {},
   "source": [
    "## Existence of solution\n"
   ]
  },
  {
   "cell_type": "markdown",
   "metadata": {},
   "source": [
    "$$\n",
    "A.x=b\n",
    "$$\n",
    "\n",
    "$$\n",
    "x=A^{-1}.b\n",
    "$$\n"
   ]
  },
  {
   "cell_type": "markdown",
   "metadata": {},
   "source": [
    "$$\n",
    "A^{-1}=\\frac{C^T}{\\left|A\\right|}\n",
    "$$\n"
   ]
  },
  {
   "cell_type": "markdown",
   "metadata": {},
   "source": [
    "Forming an augmented matrix $A_b$.\n"
   ]
  },
  {
   "cell_type": "markdown",
   "metadata": {},
   "source": [
    "$$\n",
    "A_b=[A \\ | \\ b ]\n",
    "$$\n"
   ]
  },
  {
   "cell_type": "markdown",
   "metadata": {},
   "source": [
    "For a solution to exist for a set of linear equations the following must be true:\n"
   ]
  },
  {
   "cell_type": "markdown",
   "metadata": {},
   "source": [
    "1. Determinant of A must not be equal to zero, i.e $\\left|A\\right|\\neq0$.\n",
    "2. A unique solution exists:\n",
    "   - $rank\\ of\\ A=rank\\ of\\ A_b=n$\n",
    "3. An infinite number of solutions exist:\n",
    "   - $rank\\ of\\ A=rank\\ of\\ A_b=m<n$\n",
    "4. No solution exists:\n",
    "   rank\\ A<rank\\ A_b\n"
   ]
  },
  {
   "cell_type": "markdown",
   "metadata": {},
   "source": [
    "## Other properties of the solution\n"
   ]
  },
  {
   "cell_type": "markdown",
   "metadata": {},
   "source": [
    "$$\n",
    "x=0,\\quad A^{-1}=0\\ or\\ b=0\n",
    "$$\n"
   ]
  },
  {
   "cell_type": "markdown",
   "metadata": {},
   "source": [
    "# Gaussian elimination.\n"
   ]
  },
  {
   "cell_type": "markdown",
   "metadata": {},
   "source": [
    "## Algorithm of Gaussian Elimination\n"
   ]
  },
  {
   "cell_type": "markdown",
   "metadata": {},
   "source": [
    "Gaussian elimination method converts the combine matrix of A and b, [A|b] to triangular matrix. Then proceed with backward substitution to obtain x.\n"
   ]
  },
  {
   "cell_type": "markdown",
   "metadata": {},
   "source": [
    "For a system of linear equations\n"
   ]
  },
  {
   "cell_type": "markdown",
   "metadata": {},
   "source": [
    "$$\n",
    "a_{11}x_1+a_{12}x_2+a_{13}x_3=b_1 \\\\\n",
    "a_{21}x_1+a_{22}x_2+a_{23}x_3=b_2 \\\\\n",
    "a_{31}x_1+a_{32}x_2+a_{33}x_3=b_3\n",
    "$$\n"
   ]
  },
  {
   "cell_type": "markdown",
   "metadata": {},
   "source": [
    "Step 1: Write in matrix form.\n"
   ]
  },
  {
   "cell_type": "markdown",
   "metadata": {},
   "source": [
    "$$\n",
    "\\left[\\begin{matrix}a_{11}&a_{12}&a_{13}\\\\a_{21}&a_{22}&a_{23}\\\\a_{31}&a_{32}&a_{33}\\\\\\end{matrix}\\right]\\left[\\begin{matrix}x_1\\\\x_2\\\\x_3\\\\\\end{matrix}\\right]=\\left[\\begin{matrix}b_1\\\\b_2\\\\b_3\\\\\\end{matrix}\\right]\n",
    "$$\n",
    "\n",
    "$$\n",
    "A\\bullet x=b\n",
    "$$\n"
   ]
  },
  {
   "cell_type": "markdown",
   "metadata": {},
   "source": [
    "Step 2: Arrange matrix $A\\ and\\ b$ together to form augmented matrix $A_b$.\n"
   ]
  },
  {
   "cell_type": "markdown",
   "metadata": {},
   "source": [
    "$$\n",
    "A_b=\\left[A|b\\right]\n",
    "$$\n",
    "\n",
    "$$\n",
    "A_b=\\left[\\begin{matrix}a_{11}&a_{12}&\\begin{matrix}a_{13}&|&b_1\\\\\\end{matrix}\\\\a_{21}&a_{22}&\\begin{matrix}a_{23}&|&b_2\\\\\\end{matrix}\\\\a_{31}&a_{32}&\\begin{matrix}a_{33}&|&b_3\\\\\\end{matrix}\\\\\\end{matrix}\\right]\n",
    "$$\n"
   ]
  },
  {
   "cell_type": "markdown",
   "metadata": {},
   "source": [
    "Step 3: Using matrix row equivalent operation reduce $A_b$ to triangular matrix $\\widetilde{A}_{b}$.\n"
   ]
  },
  {
   "cell_type": "markdown",
   "metadata": {},
   "source": [
    "$$\n",
    "A_b\\rightarrow\\widetilde{A}_{b}\n",
    "$$\n",
    "\n",
    "$$\n",
    "\\left[\\begin{matrix}a_{11}&a_{12}&\\begin{matrix}a_{13}&|&b_1\\\\\\end{matrix}\\\\a_{21}&a_{22}&\\begin{matrix}a_{23}&|&b_2\\\\\\end{matrix}\\\\a_{31}&a_{32}&\\begin{matrix}a_{33}&|&b_3\\\\\\end{matrix}\\\\\\end{matrix}\\right]\\rightarrow\\left[\\begin{matrix}{\\widetilde{a}}_{11}&{\\widetilde{a}}_{12}&\\begin{matrix}{\\widetilde{a}}_{13}&|&{\\widetilde{b}}_1\\\\\\end{matrix}\\\\0&{\\widetilde{a}}_{22}&\\begin{matrix}{\\widetilde{a}}_{23}&|&{\\widetilde{b}}_2\\\\\\end{matrix}\\\\0&0&\\begin{matrix}{\\widetilde{a}}_{33}&|&{\\widetilde{b}}_3\\\\\\end{matrix}\\\\\\end{matrix}\\right]\n",
    "$$\n",
    "\n",
    "$$\n",
    "\\widetilde{M}=\\left[\\begin{matrix}{\\widetilde{a}}_{11}&{\\widetilde{a}}_{12}&\\begin{matrix}{\\widetilde{a}}_{13}&|&{\\widetilde{b}}_1\\\\\\end{matrix}\\\\0&{\\widetilde{a}}_{22}&\\begin{matrix}{\\widetilde{a}}_{23}&|&{\\widetilde{b}}_2\\\\\\end{matrix}\\\\0&0&\\begin{matrix}{\\widetilde{a}}_{33}&|&{\\widetilde{b}}_3\\\\\\end{matrix}\\\\\\end{matrix}\\right]\n",
    "$$\n"
   ]
  },
  {
   "cell_type": "markdown",
   "metadata": {},
   "source": [
    "Step 4: Back substitution\n"
   ]
  },
  {
   "cell_type": "markdown",
   "metadata": {},
   "source": [
    "$$\n",
    "\\begin{matrix}\\begin{matrix}{\\widetilde{a}}_{11}x_1&+\\\\\\end{matrix}&\\begin{matrix}{\\widetilde{a}}_{12}x_2&+\\\\\\end{matrix}&\\begin{matrix}{\\widetilde{a}}_{13}x_3&=&{\\widetilde{b}}_1\\\\\\end{matrix}\\\\&\\begin{matrix}{\\widetilde{a}}_{22}x_2&+\\\\\\end{matrix}&\\begin{matrix}{\\widetilde{a}}_{23}x_3&=&{\\widetilde{b}}_2\\\\\\end{matrix}\\\\&&\\begin{matrix}{\\widetilde{a}}_{33}x_3&=&{\\widetilde{b}}_3\\\\\\end{matrix}\\\\\\end{matrix}\n",
    "$$\n"
   ]
  },
  {
   "cell_type": "markdown",
   "metadata": {},
   "source": [
    "$$\n",
    "x_3 =\\frac{{\\widetilde{b}}_3} {{\\widetilde{a}}_{33}}\n",
    "$$\n"
   ]
  },
  {
   "cell_type": "markdown",
   "metadata": {},
   "source": [
    "$$\n",
    "x_2 =\\frac{{\\widetilde{b}}_2-{\\widetilde{a}}_{23}x_3} {{\\widetilde{a}}_{22}}\n",
    "$$\n"
   ]
  },
  {
   "cell_type": "markdown",
   "metadata": {},
   "source": [
    "$$\n",
    "x_1 =\\frac{{\\widetilde{b}}_1-{\\widetilde{a}}_{12}x_2-{\\widetilde{a}}_{13}x_3} {{\\widetilde{a}}_{11}}\n",
    "$$\n"
   ]
  },
  {
   "cell_type": "markdown",
   "metadata": {},
   "source": [
    "# Example \n",
    "\n",
    "Solve the set of equations.\n"
   ]
  },
  {
   "cell_type": "markdown",
   "metadata": {},
   "source": [
    "$$\n",
    "\\begin{matrix}\n",
    "3x & -3y & -4z & = & 1 \\\\\n",
    "x & -y & -z & = & 2 \\\\\n",
    "2x & -y & +4y & = & 3\n",
    "\\end{matrix}\n",
    "$$\n"
   ]
  },
  {
   "cell_type": "markdown",
   "metadata": {},
   "source": [
    "Step 1: Write in matrix form.\n"
   ]
  },
  {
   "cell_type": "markdown",
   "metadata": {},
   "source": [
    "$$\n",
    "A\\bullet x=b\n",
    "$$\n",
    "\n",
    "$$\n",
    "\\left[\\begin{matrix}3&-3&-4\\\\1&-1&-1\\\\2&-1&4\\\\\\end{matrix}\\right]\\left[\\begin{matrix}x\\\\y\\\\z\\\\\\end{matrix}\\right]=\\left[\\begin{matrix}1\\\\2\\\\3\\\\\\end{matrix}\\right]\n",
    "$$\n"
   ]
  },
  {
   "cell_type": "markdown",
   "metadata": {},
   "source": [
    "Step 2: Arrange matrix $A\\ and\\ b$ together augmented matrix $A_b$.\n"
   ]
  },
  {
   "cell_type": "markdown",
   "metadata": {},
   "source": [
    "$$\n",
    "A_b=\\left[A|b\\right]\n",
    "$$\n",
    "\n",
    "$$\n",
    "M = A_b=\\left[\\begin{matrix}3&-3&\\begin{matrix}-4&|&1\\\\\\end{matrix}\\\\1&-1&\\begin{matrix}-1&|&2\\\\\\end{matrix}\\\\2&-1&\\begin{matrix}\\ \\ \\ 4&|&3\\\\\\end{matrix}\\\\\\end{matrix}\\right]\n",
    "$$\n"
   ]
  },
  {
   "cell_type": "markdown",
   "metadata": {},
   "source": [
    "Step 3: Using matrix row equivalent operation reduce $M$ to triangular matrix $\\widetilde{M}$.\n"
   ]
  },
  {
   "cell_type": "markdown",
   "metadata": {},
   "source": [
    "$$\n",
    "A_b \\rightarrow \\widetilde{A}_b\t\\ (\\widetilde{M})\n",
    "$$\n",
    "\n",
    "$$\n",
    "pivot,\\ p=1,\\ldots,\\ m-1\\\n",
    "$$\n",
    "\n",
    "$$\n",
    "i=p+1,\\ ...,\\ m\\ \\ \\ \\\n",
    "$$\n"
   ]
  },
  {
   "cell_type": "markdown",
   "metadata": {},
   "source": [
    "Note:\n"
   ]
  },
  {
   "cell_type": "markdown",
   "metadata": {},
   "source": [
    "$$\n",
    "a_{pp}\\neq0\n",
    "$$\n",
    "\n",
    "If $a_{pp} = 0$ interchange row with a none-zero pivot column element row.\n"
   ]
  },
  {
   "cell_type": "markdown",
   "metadata": {},
   "source": [
    "$$\n",
    "R_i\\ =R_i-\\left(R_p\\times\\ \\frac{a_{ip}}{a_{pp}}\\right)\\ \\ \\\n",
    "\n",
    "\n",
    "$$\n"
   ]
  },
  {
   "cell_type": "markdown",
   "metadata": {},
   "source": [
    "$$\n",
    "p=1,...,2\n",
    "$$\n",
    "\n",
    "$$\n",
    "i=2,...,3\n",
    "$$\n"
   ]
  },
  {
   "cell_type": "markdown",
   "metadata": {},
   "source": [
    "Reduce ${\\widetilde{A}_b}_{p=1}$\n"
   ]
  },
  {
   "cell_type": "markdown",
   "metadata": {},
   "source": [
    "when\n",
    "\n",
    "$$\n",
    "p=1; \\quad  i=2\n",
    "$$\n",
    "\n",
    "$$\n",
    "a_{pp}=a_{11}=3\n",
    "$$\n"
   ]
  },
  {
   "cell_type": "markdown",
   "metadata": {},
   "source": [
    "$$\n",
    "R_2\\ =R_2-\\left(R_1\\times\\ \\frac{a_{21}}{a_{11}}\\right)\\ \\ \\\n",
    "\n",
    "\n",
    "$$\n",
    "\n",
    "$$\n",
    "R_2=\\left[\\begin{matrix}1&-1&\\begin{matrix}-1&|&2\\\\\\end{matrix}\\\\\\end{matrix}\\right]-\\left(\\left[\\begin{matrix}3&-3&\\begin{matrix}-4&|&1\\\\\\end{matrix}\\\\\\end{matrix}\\right]\\times\\frac{1}{3}\\right)\n",
    "$$\n",
    "\n",
    "$$\n",
    "=\\left[\\begin{matrix}0&0&\\begin{matrix}0.33&|&1.67\\\\\\end{matrix}\\\\\\end{matrix}\\right]\n",
    "$$\n"
   ]
  },
  {
   "cell_type": "markdown",
   "metadata": {},
   "source": [
    "$$\n",
    "p=1;\\quad i=3\n",
    "$$\n",
    "\n",
    "$$\n",
    "R_3\\ =R_3-\\left(R_1\\times\\ \\frac{a_{31}}{a_{11}}\\right)\n",
    "\n",
    "\n",
    "$$\n",
    "\n",
    "$$\n",
    "\n",
    "R_3=\\left[\\begin{matrix}2&-1&\\begin{matrix}4&|&3\\\\\\end{matrix}\\\\\\end{matrix}\\right]-\\left(\\left[\\begin{matrix}3&-3&\\begin{matrix}-4&|&1\\\\\\end{matrix}\\\\\\end{matrix}\\right]\\times\\frac{2}{3}\\right)\n",
    "$$\n",
    "\n",
    "$$\n",
    "=\\left[\\begin{matrix}0&1&\\begin{matrix}6.67&|&2.33\\\\\\end{matrix}\\\\\\end{matrix}\\right]\n",
    "$$\n"
   ]
  },
  {
   "cell_type": "markdown",
   "metadata": {},
   "source": [
    "$$\n",
    "{\\widetilde{A}_b}_{p=1}\n",
    "=\\left[\\begin{matrix}3&-3&\\begin{matrix}-4&|&1\\\\\\end{matrix}\\\\0&0&\\begin{matrix}0.33&|&1.67\\\\\\end{matrix}\\\\0&1&\\begin{matrix}6.67&|&2.33\\\\\\end{matrix}\\\\\\end{matrix}\\right]\n",
    "$$\n"
   ]
  },
  {
   "cell_type": "markdown",
   "metadata": {},
   "source": [
    "Reduce ${\\widetilde{A}_b}_{p=2}$\n"
   ]
  },
  {
   "cell_type": "markdown",
   "metadata": {},
   "source": [
    "$$\n",
    "p=2; \\quad i=3\n",
    "$$\n",
    "\n",
    "$$\n",
    "a_{pp}=a_{22}=0\n",
    "$$\n"
   ]
  },
  {
   "cell_type": "markdown",
   "metadata": {},
   "source": [
    "Interchange row 2 and 3\n"
   ]
  },
  {
   "cell_type": "markdown",
   "metadata": {},
   "source": [
    "$$\n",
    "{\\widetilde{A}_b}_{p=1}=\\left[\\begin{matrix}3&-3&\\begin{matrix}-4&|&1\\\\\\end{matrix}\\\\0&1&\\begin{matrix}6.67&|&2.33\\\\\\end{matrix}\\\\0&0&\\begin{matrix}0.33&|&1.67\\\\\\end{matrix}\\\\\\end{matrix}\\right]\n",
    "$$\n"
   ]
  },
  {
   "cell_type": "markdown",
   "metadata": {},
   "source": [
    "$$\n",
    "p=2;\\quad i=3\n",
    "$$\n",
    "\n",
    "$$\n",
    "a_{pp}=a_{22}=1\n",
    "$$\n",
    "\n",
    "$$\n",
    "R_3\\ =R_3-\\left(R_2\\times\\ \\frac{a_{32}}{a_{22}}\\right)\\ \\ \\\n",
    "$$\n",
    "\n",
    "$$\n",
    "R_3=\\left[\\begin{matrix}0&0&\\begin{matrix}0.33&|&1.67\\\\\\end{matrix}\\\\\\end{matrix}\\right]-\\left(\\left[\\begin{matrix}0&1&\\begin{matrix}6.67&|&2.33\\\\\\end{matrix}\\\\\\end{matrix}\\right]\\times\\frac{0}{1}\\right)\n",
    "$$\n",
    "\n",
    "$$\n",
    "=\\left[\\begin{matrix}0&0&\\begin{matrix}0.33&|&1.67\\\\\\end{matrix}\\\\\\end{matrix}\\right]\n",
    "$$\n"
   ]
  },
  {
   "cell_type": "markdown",
   "metadata": {},
   "source": [
    "$$\n",
    "{\\widetilde{A}_b}_{p=2}=\\left[\\begin{matrix}3&-3&\\begin{matrix}-4&|&1\\\\\\end{matrix}\\\\0&1&\\begin{matrix}6.67&|&2.33\\\\\\end{matrix}\\\\0&0&\\begin{matrix}0.33&|&1.67\\\\\\end{matrix}\\\\\\end{matrix}\\right]\n",
    "$$\n"
   ]
  },
  {
   "cell_type": "markdown",
   "metadata": {},
   "source": [
    "Step 4: Back substitution\n"
   ]
  },
  {
   "cell_type": "markdown",
   "metadata": {},
   "source": [
    "$$\n",
    "\\begin{matrix}\n",
    "3x_1 & - & 3x_2 & - & 4x_3 & = & 1 \\\\\n",
    " &   & x_2 & + & 6.67x_3 & = & 2.33 \\\\\n",
    " &   &   &  & 0.33x_3 & = & 1.67 \\\\\n",
    "\\end{matrix}\n",
    "$$\n"
   ]
  },
  {
   "cell_type": "markdown",
   "metadata": {},
   "source": [
    "$$\n",
    "x_3 = \\frac{1.67}{0.33} = 5.06\n",
    "$$\n",
    "\n",
    "$$\n",
    "x_2 = \\frac{2.33-6.67(5.06)}{1} = -31.42\n",
    "$$\n",
    "\n",
    "$$\n",
    "x_1 = \\frac{1--3(-31.42)--4(5.06)}{3} = -24.34\n",
    "$$\n"
   ]
  },
  {
   "cell_type": "markdown",
   "metadata": {},
   "source": [
    "## Determinant from Gaussian Elimination\n"
   ]
  },
  {
   "cell_type": "markdown",
   "metadata": {},
   "source": [
    "$$\n",
    "\\widetilde{A_b}=\\left[\\begin{matrix}{\\widetilde{a}}_{11}&{\\widetilde{a}}_{12}&\\begin{matrix}{\\widetilde{a}}_{13}&|&{\\widetilde{b}}_1\\\\\\end{matrix}\\\\0&{\\widetilde{a}}_{22}&\\begin{matrix}{\\widetilde{a}}_{23}&|&{\\widetilde{b}}_2\\\\\\end{matrix}\\\\0&0&\\begin{matrix}{\\widetilde{a}}_{33}&|&{\\widetilde{b}}_3\\\\\\end{matrix}\\\\\\end{matrix}\\right]\n",
    "$$\n"
   ]
  },
  {
   "cell_type": "markdown",
   "metadata": {},
   "source": [
    "$$\n",
    "\\left|A\\right|={(-1)}^k\\prod_{i}^{m}{\\widetilde{a}}_{ii}={\\widetilde{a}}_{11}\\times{\\widetilde{a}}_{22}\\times{\\widetilde{a}}_{33}\n",
    "$$\n"
   ]
  },
  {
   "cell_type": "markdown",
   "metadata": {},
   "source": [
    "where $k$ is the number of times rows were interchanged.\n"
   ]
  },
  {
   "cell_type": "markdown",
   "metadata": {},
   "source": [
    "From the example above and $Eq (8.34)$\n"
   ]
  },
  {
   "cell_type": "markdown",
   "metadata": {},
   "source": [
    "$$\n",
    "\\left|A\\right|={(-1)}^1\\prod_{i=1}^{m=3}{\\widetilde{a}}_{ii}\n",
    "$$\n",
    "\n",
    "$$\n",
    "={(-1)}^1(3\\times1\\times0.33)=-0.99\n",
    "$$\n"
   ]
  },
  {
   "cell_type": "markdown",
   "metadata": {},
   "source": [
    "# Matrix inverse by elementary matrices, adjoint, and partitioning methods.\n"
   ]
  },
  {
   "cell_type": "markdown",
   "metadata": {},
   "source": [
    "## Inverse of a square matrix\n"
   ]
  },
  {
   "cell_type": "markdown",
   "metadata": {},
   "source": [
    "Recall the solution to system of linear equation:\n"
   ]
  },
  {
   "cell_type": "markdown",
   "metadata": {},
   "source": [
    "$$\n",
    "A \\cdot x=b\n",
    "$$\n",
    "\n",
    "$$\n",
    "x=A^{-1} \\cdot b\n",
    "$$\n",
    "\n",
    "$$\n",
    "A^{-1}=\\frac{C^T}{\\left|A\\right|}\n",
    "$$\n"
   ]
  },
  {
   "cell_type": "markdown",
   "metadata": {},
   "source": [
    "To solve Eq (9.3) the inverse of matrix $A$, ${(A}^{-1})$ must be evaluated.\n"
   ]
  },
  {
   "cell_type": "markdown",
   "metadata": {},
   "source": [
    "where $C^T$ is the adjoint of matrix $A$, and Adjoint is the transpose of the co-factor of matrix $A$.\n"
   ]
  },
  {
   "cell_type": "markdown",
   "metadata": {},
   "source": [
    "## Cofactors\n"
   ]
  },
  {
   "cell_type": "markdown",
   "metadata": {},
   "source": [
    "Cofactor of a square matrix is obtained from the determinant of its elements.\n"
   ]
  },
  {
   "cell_type": "markdown",
   "metadata": {},
   "source": [
    "$$\n",
    "\\left|A\\right|=\\left|\\begin{matrix}\\begin{matrix}\\begin{matrix}a_{11}\\\\a_{21}\\\\a_{31}\\\\\\end{matrix}&\\begin{matrix}a_{12}\\\\a_{22}\\\\a_{32}\\\\\\end{matrix}&\\begin{matrix}a_{13}\\\\a_{23}\\\\a_{33}\\\\\\end{matrix}\\\\\\end{matrix}&\\begin{matrix}\\ldots\\\\\\ldots\\\\\\ldots\\\\\\end{matrix}&\\begin{matrix}a_{1n}\\\\a_{2n}\\\\a_{3n}\\\\\\end{matrix}\\\\\\begin{matrix}\\vdots\\ \\ &\\ \\ \\ \\vdots\\ &\\ \\ \\ \\ \\vdots\\\\\\end{matrix}&&\\vdots\\\\\\begin{matrix}a_{n1}&a_{n2}&a_{n3}\\\\\\end{matrix}&\\ldots&a_{nn}\\\\\\end{matrix}\\right|\n",
    "$$\n"
   ]
  },
  {
   "cell_type": "markdown",
   "metadata": {},
   "source": [
    "$$\n",
    "Cofactor=\\left[\\begin{matrix}\\begin{matrix}\\begin{matrix}c_{11}\\\\c_{21}\\\\c_{31}\\\\\\end{matrix}&\\begin{matrix}c_{12}\\\\c_{22}\\\\c_{32}\\\\\\end{matrix}&\\begin{matrix}c_{13}\\\\c_{23}\\\\c_{33}\\\\\\end{matrix}\\\\\\end{matrix}&\\begin{matrix}\\ldots\\\\\\ldots\\\\\\ldots\\\\\\end{matrix}&\\begin{matrix}c_{1n}\\\\c_{2n}\\\\c_{3n}\\\\\\end{matrix}\\\\\\begin{matrix}\\vdots\\ \\ &\\ \\ \\ \\vdots\\ &\\ \\ \\ \\ \\vdots\\\\\\end{matrix}&&\\vdots\\\\\\begin{matrix}c_{n1}&c_{n2}&c_{n3}\\\\\\end{matrix}&\\ldots&c_{nn}\\\\\\end{matrix}\\right]\n",
    "$$\n"
   ]
  },
  {
   "cell_type": "markdown",
   "metadata": {},
   "source": [
    "where each element of the cofactor is formed from the determinant of its sub-matrix multiplied by element position sign. The element positional sign alternate between plus + and minus -.\n"
   ]
  },
  {
   "cell_type": "markdown",
   "metadata": {},
   "source": [
    "Evaluate the cofactor of the matrix $A$ below:\n"
   ]
  },
  {
   "cell_type": "markdown",
   "metadata": {},
   "source": [
    "$$\n",
    "A=\\left[\\begin{matrix}3&-3&-4\\\\1&-1&-1\\\\2&-1&4\\\\\\end{matrix}\\right]\n",
    "$$\n"
   ]
  },
  {
   "cell_type": "markdown",
   "metadata": {},
   "source": [
    "For element $a_{11}=3$;\n",
    "\n",
    "$$\n",
    "c_{11}=+\\left|\\begin{matrix}-1&-1\\\\-1&4\\\\\\end{matrix}\\right|=-5\n",
    "$$\n",
    "\n",
    "For element $a_{12}=-3$;\n",
    "\n",
    "$$\n",
    "c_{12}=-\\left|\\begin{matrix}1&-1\\\\2&4\\\\\\end{matrix}\\right|=-6\n",
    "$$\n",
    "\n",
    "For element $a_{13}=-4$;\n",
    "\n",
    "$$\n",
    "c_{13}=+\\left|\\begin{matrix}1&-1\\\\2&-1\\\\\\end{matrix}\\right|=1\n",
    "$$\n",
    "\n",
    "For element $a_{21}=1$;\n",
    "\n",
    "$$\n",
    "c_{21}=-\\left|\\begin{matrix}-3&-4\\\\-1&4\\\\\\end{matrix}\\right|=16\n",
    "$$\n",
    "\n",
    "For element $a_{22}=-1$;\n",
    "\n",
    "$$\n",
    "c_{22}=+\\left|\\begin{matrix}3&-4\\\\2&4\\\\\\end{matrix}\\right|=20\n",
    "$$\n",
    "\n",
    "For element $a_{23}=-1$;\n",
    "\n",
    "$$\n",
    "c_{23}=-\\left|\\begin{matrix}3&-3\\\\2&-1\\\\\\end{matrix}\\right|=-3\n",
    "$$\n",
    "\n",
    "For element $a_{31}=2$;\n",
    "\n",
    "$$\n",
    "c_{31}=+\\left|\\begin{matrix}-3&-4\\\\-1&-1\\\\\\end{matrix}\\right|=-1\n",
    "$$\n",
    "\n",
    "For element $a_{32}=-1$;\n",
    "\n",
    "$$\n",
    "c_{32}=-\\left|\\begin{matrix}3&-4\\\\1&-1\\\\\\end{matrix}\\right|=-1\n",
    "$$\n",
    "\n",
    "For element $a_{33}=4$;\n",
    "\n",
    "$$\n",
    "c_{13}=+\\left|\\begin{matrix}3&-3\\\\1&-1\\\\\\end{matrix}\\right|=0\n",
    "$$\n"
   ]
  },
  {
   "cell_type": "markdown",
   "metadata": {},
   "source": [
    "The cofactor form is:\n"
   ]
  },
  {
   "cell_type": "markdown",
   "metadata": {},
   "source": [
    "$$\n",
    "Cofactor\\ A=\\left[\\begin{matrix}-5&-6&1\\\\16&20&-3\\\\-1&-1&0\\\\\\end{matrix}\\right]\n",
    "$$\n"
   ]
  },
  {
   "cell_type": "markdown",
   "metadata": {},
   "source": [
    "## Adjoint\n"
   ]
  },
  {
   "cell_type": "markdown",
   "metadata": {},
   "source": [
    "Adjoint of matrix $A$ is the transpose of the cofactor of $A$.\n"
   ]
  },
  {
   "cell_type": "markdown",
   "metadata": {},
   "source": [
    "From $Eq (9.16)$\n"
   ]
  },
  {
   "cell_type": "markdown",
   "metadata": {},
   "source": [
    "$$\n",
    "Adj\\ A=C^T\\ =\\left[\\begin{matrix}-5&16&-1\\\\-6&20&-1\\\\1&-3&0\\\\\\end{matrix}\\right]\n",
    "$$\n"
   ]
  },
  {
   "cell_type": "markdown",
   "metadata": {},
   "source": [
    "$$\n",
    "A^{-1}=\\frac{C^T}{\\left|A\\right|}\n",
    "$$\n",
    "\n",
    "$$\n",
    "\\left|A\\right|=\\left|\\begin{matrix}3&-3&-4\\\\1&-1&-1\\\\2&-1&4\\\\\\end{matrix}\\right|=-1\n",
    "$$\n"
   ]
  },
  {
   "cell_type": "markdown",
   "metadata": {},
   "source": [
    "Therefore,\n"
   ]
  },
  {
   "cell_type": "markdown",
   "metadata": {},
   "source": [
    "$$\n",
    "A^{-1}=\\frac{1}{-1}\\left[\\begin{matrix}-5&16&-1\\\\-6&20&-1\\\\1&-3&0\\\\\\end{matrix}\\right]\n",
    "$$\n",
    "\n",
    "$$\n",
    "=\\left[\\begin{matrix}5&-16&1\\\\6&-20&1\\\\-1&3&0\\\\\\end{matrix}\\right]\n",
    "$$\n"
   ]
  },
  {
   "cell_type": "markdown",
   "metadata": {},
   "source": [
    "To solve the system linear of equation\n"
   ]
  },
  {
   "cell_type": "markdown",
   "metadata": {},
   "source": [
    "$$\n",
    "x=A^{-1} \\cdot b\n",
    "$$\n"
   ]
  },
  {
   "cell_type": "markdown",
   "metadata": {},
   "source": [
    "$$\n",
    "\n",
    "\\left[\\begin{matrix}x\\\\y\\\\z\\\\\\end{matrix}\\right]=\\left[\\begin{matrix}5&-16&1\\\\6&-20&1\\\\-1&3&0\\\\\\end{matrix}\\right]\\left[\\begin{matrix}1\\\\2\\\\3\\\\\\end{matrix}\\right]\n",
    "$$\n",
    "\n",
    "$$\n",
    "\\left[\\begin{matrix}x\\\\y\\\\z\\\\\\end{matrix}\\right]=\\left[\\begin{matrix}(5\\times1)+(-16\\times2)+(1\\times3)\\\\(6\\times1)+(-20\\times2)+(1\\times3)\\\\(-1\\times1)+(3\\times2)+(0\\times3)\\\\\\end{matrix}\\right]\n",
    "$$\n",
    "\n",
    "$$\n",
    "=\\left[\\begin{matrix}-24\\\\-31\\\\5\\\\\\end{matrix}\\right]\n",
    "$$\n"
   ]
  },
  {
   "cell_type": "markdown",
   "metadata": {},
   "source": [
    "# Eigenvalues and Eigenvectors.\n"
   ]
  },
  {
   "cell_type": "markdown",
   "metadata": {},
   "source": [
    "## Eigenvalues\n"
   ]
  },
  {
   "cell_type": "markdown",
   "metadata": {},
   "source": [
    "Eigenvalues are characteristic scalar value $(\\lambda)$ of a square matrix $A$ that satisfy the $Eq (10.1)$.\n"
   ]
  },
  {
   "cell_type": "markdown",
   "metadata": {},
   "source": [
    "$$\n",
    "Ax=\\lambda x\n",
    "$$\n"
   ]
  },
  {
   "cell_type": "markdown",
   "metadata": {},
   "source": [
    "In other to find the eigenvalues, we develop the characteristic equation and solve the characteristic polynomial of matrix $A$.\n"
   ]
  },
  {
   "cell_type": "markdown",
   "metadata": {},
   "source": [
    "$$\n",
    "(A-\\lambda I)x=0\n",
    "$$\n"
   ]
  },
  {
   "cell_type": "markdown",
   "metadata": {},
   "source": [
    "To prevent the trivial solution $x\\neq0$. Therefore we have the characteristic equation $Eq (10.3)$.\n"
   ]
  },
  {
   "cell_type": "markdown",
   "metadata": {},
   "source": [
    "$$\n",
    "\\left|A-\\lambda I\\right|=0\n",
    "$$\n"
   ]
  },
  {
   "cell_type": "markdown",
   "metadata": {},
   "source": [
    "The solution of $Eq (10.3)$ gives the eigenvalues $\\lambda$.\n"
   ]
  },
  {
   "cell_type": "markdown",
   "metadata": {},
   "source": [
    "Example 10.1\n"
   ]
  },
  {
   "cell_type": "markdown",
   "metadata": {},
   "source": [
    "Find the eigenvalues of the matrix.\n",
    "\n",
    "$$\n",
    "A=\\left[\\begin{matrix}2&3\\\\4&1\\\\\\end{matrix}\\right]\n",
    "$$\n"
   ]
  },
  {
   "cell_type": "markdown",
   "metadata": {},
   "source": [
    "$$\n",
    "A-\\lambda I=\\left[\\begin{matrix}2&3\\\\4&1\\\\\\end{matrix}\\right]-\\lambda\\left[\\begin{matrix}1&0\\\\0&1\\\\\\end{matrix}\\right]\n",
    "$$\n",
    "\n",
    "$$\n",
    "=\\left[\\begin{matrix}(2-\\lambda)&3\\\\4&(1-\\lambda)\\\\\\end{matrix}\\right]\n",
    "$$\n"
   ]
  },
  {
   "cell_type": "markdown",
   "metadata": {},
   "source": [
    "$$\n",
    "\\left|A-\\lambda I\\right|=\\left|\\begin{matrix}\\left(2-\\lambda\\right)&3\\\\4&\\left(1-\\lambda\\right)\\\\\\end{matrix}\\right|\n",
    "$$\n",
    "\n",
    "$$\n",
    "=\\left(2-\\lambda\\right)\\left(1-\\lambda\\right)-12=2-2\\lambda-\\lambda+\\lambda^2-12\n",
    "$$\n"
   ]
  },
  {
   "cell_type": "markdown",
   "metadata": {},
   "source": [
    "$$\n",
    "\\left|A-\\lambda I\\right|=\\lambda^2-3\\lambda-10=0\n",
    "$$\n"
   ]
  },
  {
   "cell_type": "markdown",
   "metadata": {},
   "source": [
    "The solutions to the characteristic polynomial in $Eq (10.6)$\n"
   ]
  },
  {
   "cell_type": "markdown",
   "metadata": {},
   "source": [
    "$$\n",
    "\n",
    "\\lambda=-2\\ or\\ 5\n",
    "$$\n",
    "\n",
    "$$\n",
    "\\lambda_1=-2,\\quad \\lambda_2=5\n",
    "$$\n"
   ]
  },
  {
   "cell_type": "markdown",
   "metadata": {},
   "source": [
    "## Eigenvectors\n"
   ]
  },
  {
   "cell_type": "markdown",
   "metadata": {},
   "source": [
    "Each eigenvalues obtained has a corresponding eigenvector or eigenline associated with it.\n"
   ]
  },
  {
   "cell_type": "markdown",
   "metadata": {},
   "source": [
    "$$\n",
    "Ax=\\lambda x\n",
    "$$\n"
   ]
  },
  {
   "cell_type": "markdown",
   "metadata": {},
   "source": [
    "Example 10.2\n"
   ]
  },
  {
   "cell_type": "markdown",
   "metadata": {},
   "source": [
    "When matrix $A$ is:\n",
    "\n",
    "$$\n",
    "A=\\left[\\begin{matrix}2&3\\\\4&1\\\\\\end{matrix}\\right]\n",
    "$$\n",
    "\n",
    "$$\n",
    "\\lambda_1=-2,\\quad \\lambda_2=5\n",
    "$$\n"
   ]
  },
  {
   "cell_type": "markdown",
   "metadata": {},
   "source": [
    "For $\\lambda_1=-2$\n",
    "\n",
    "$$\n",
    "\\left[\\begin{matrix}2&3\\\\4&1\\\\\\end{matrix}\\right]\\left[\\begin{matrix}x_1\\\\x_2\\\\\\end{matrix}\\right]=-2\\left[\\begin{matrix}x_1\\\\x_2\\\\\\end{matrix}\\right]\n",
    "$$\n",
    "\n",
    "$$\n",
    "\\begin{matrix}\\begin{matrix}2x_1&+\\\\\\end{matrix}&\\begin{matrix}3x_2&=\\\\\\end{matrix}\\ \\ \\\\\\begin{matrix}4x_1&+\\\\\\end{matrix}&\\begin{matrix}x_2&=\\\\\\end{matrix}\\\\\\end{matrix}\\begin{matrix}{-2x}_1\\\\{-2x}_2\\\\\\end{matrix}\n",
    "$$\n",
    "\n",
    "$$\n",
    "x_2=-\\frac{4}{3}x_1\n",
    "$$\n"
   ]
  },
  {
   "cell_type": "markdown",
   "metadata": {},
   "source": [
    "The eigenvector for $\\lambda_1=-2$\n",
    "\n",
    "$$\n",
    "x_1=\\left[\\begin{matrix}k\\\\-{\\frac{4}{3}}k\\\\\\end{matrix}\\right]\\ and\\ the\\ smallest:\\ x_1=\\left[\\begin{matrix}1\\\\-{\\frac{4}{3}}\\\\\\end{matrix}\\right]\n",
    "$$\n"
   ]
  },
  {
   "cell_type": "markdown",
   "metadata": {},
   "source": [
    "For $\\lambda_2=5$\n"
   ]
  },
  {
   "cell_type": "markdown",
   "metadata": {},
   "source": [
    "$$\n",
    "\\left[\\begin{matrix}2&3\\\\4&1\\\\\\end{matrix}\\right]\\left[\\begin{matrix}x_1\\\\x_2\\\\\\end{matrix}\\right]=5\\left[\\begin{matrix}x_1\\\\x_2\\\\\\end{matrix}\\right]\n",
    "$$\n",
    "\n",
    "$$\n",
    "\n",
    "\\begin{matrix}\\begin{matrix}2x_1&+\\\\\\end{matrix}&\\begin{matrix}3x_2&=\\\\\\end{matrix}\\ \\ \\\\\\begin{matrix}4x_1&+\\\\\\end{matrix}&\\begin{matrix}x_2&=\\\\\\end{matrix}\\\\\\end{matrix}\\begin{matrix}{5x}_1\\\\{5x}_2\\\\\\end{matrix}\n",
    "$$\n",
    "\n",
    "$$\n",
    "x_2=x_1\n",
    "$$\n"
   ]
  },
  {
   "cell_type": "markdown",
   "metadata": {},
   "source": [
    "The eigenvector for $\\lambda_2=5$\n",
    "\n",
    "$$\n",
    "x_2=\\left[\\begin{matrix}k\\\\k\\\\\\end{matrix}\\right]\\ and\\ the\\ smallest:\\ x_2=\\left[\\begin{matrix}1\\\\1\\\\\\end{matrix}\\right]\n",
    "$$\n"
   ]
  },
  {
   "cell_type": "markdown",
   "metadata": {},
   "source": [
    "# Exercises\n"
   ]
  },
  {
   "cell_type": "markdown",
   "metadata": {},
   "source": [
    "### Exercise 3\n",
    "\n",
    "$$\n",
    "A=\\left(\\begin{matrix}1&-1&-1\\\\0&-2&3\\\\2&1&5\\\\\\end{matrix}\\right)\n",
    "$$\n",
    "\n",
    "Find the determinant of A:\n"
   ]
  },
  {
   "cell_type": "code",
   "execution_count": 1,
   "metadata": {
    "dotnet_interactive": {
     "language": "csharp"
    }
   },
   "outputs": [
    {
     "data": {
      "text/plain": [
       "-227.99999999999986"
      ]
     },
     "execution_count": 1,
     "metadata": {},
     "output_type": "execute_result"
    }
   ],
   "source": [
    "import numpy as np\n",
    "\n",
    "A = np.array(\n",
    "    [\n",
    "        [1, -1, -1, 0],\n",
    "        [0, -2, 3, 2],\n",
    "        [2, 1, 5, 1],\n",
    "        [-2, 1, -2, 9],\n",
    "    ]\n",
    ")\n",
    "\n",
    "np.linalg.det(A)\n"
   ]
  },
  {
   "cell_type": "code",
   "execution_count": 49,
   "metadata": {
    "dotnet_interactive": {
     "language": "csharp"
    }
   },
   "outputs": [
    {
     "data": {
      "text/latex": [
       "$\\displaystyle -228$"
      ],
      "text/plain": [
       "-228"
      ]
     },
     "execution_count": 49,
     "metadata": {},
     "output_type": "execute_result"
    }
   ],
   "source": [
    "from sympy import *\n",
    "\n",
    "A = Matrix(\n",
    "    [\n",
    "        [1, -1, -1, 0],\n",
    "        [0, -2, 3, 2],\n",
    "        [2, 1, 5, 1],\n",
    "        [-2, 1, -2, 9],\n",
    "    ]\n",
    ")\n",
    "\n",
    "A.det()\n"
   ]
  },
  {
   "cell_type": "code",
   "execution_count": 50,
   "metadata": {
    "dotnet_interactive": {
     "language": "csharp"
    }
   },
   "outputs": [
    {
     "data": {
      "text/latex": [
       "$\\displaystyle -228.0$"
      ],
      "text/plain": [
       "-228.000000000000"
      ]
     },
     "execution_count": 50,
     "metadata": {},
     "output_type": "execute_result"
    }
   ],
   "source": [
    "from sympy import *\n",
    "\n",
    "A = Matrix(\n",
    "    [\n",
    "        [1.0, -1, -1, 0],\n",
    "        [0, -2, 3, 2],\n",
    "        [2, 1, 5, 1],\n",
    "        [-2, 1, -2, 9],\n",
    "    ]\n",
    ")\n",
    "\n",
    "A.det()\n"
   ]
  },
  {
   "cell_type": "markdown",
   "metadata": {},
   "source": [
    "### Exercise 4\n",
    "\n",
    "$$\n",
    "A . x = b \\\\\n",
    "$$\n",
    "\n",
    "$$\n",
    "A=  \\left(\n",
    "        \\begin{matrix}\n",
    "            1 & -1 & -1 & 0\\\\\n",
    "            0 & -2 & 3 & 2\\\\\n",
    "            2 & 1 & 5 & 1\\\\\n",
    "            -2 & 1 & -2 & 9\\\n",
    "        \\end{matrix}\n",
    "    \\right) \\\\\n",
    "b=  \\left(\n",
    "        \\begin{matrix}\n",
    "            4\\\\\n",
    "            4\\\\\n",
    "            4\\\\\n",
    "            4\\\\\n",
    "        \\end{matrix}\n",
    "    \\right)\n",
    "$$\n"
   ]
  },
  {
   "cell_type": "code",
   "execution_count": 4,
   "metadata": {
    "dotnet_interactive": {
     "language": "csharp"
    }
   },
   "outputs": [
    {
     "name": "stdout",
     "output_type": "stream",
     "text": [
      "x = \n",
      " [[ 2.57894737]\n",
      " [-1.21052632]\n",
      " [-0.21052632]\n",
      " [ 1.10526316]]\n"
     ]
    }
   ],
   "source": [
    "import numpy as np\n",
    "\n",
    "A = np.array(\n",
    "    [\n",
    "        [1, -1, -1, 0],\n",
    "        [0, -2, 3, 2],\n",
    "        [2, 1, 5, 1],\n",
    "        [-2, 1, -2, 9],\n",
    "    ]\n",
    ")\n",
    "\n",
    "b = np.array(\n",
    "    [\n",
    "        [4],\n",
    "        [4],\n",
    "        [4],\n",
    "        [4],\n",
    "    ]\n",
    ")\n",
    "\n",
    "x = np.linalg.solve(A, b)\n",
    "\n",
    "print('x = \\n', x)\n"
   ]
  },
  {
   "cell_type": "code",
   "execution_count": 3,
   "metadata": {
    "dotnet_interactive": {
     "language": "csharp"
    }
   },
   "outputs": [
    {
     "data": {
      "text/latex": [
       "$\\displaystyle \\left\\{\\left( \\frac{49}{19}, \\  - \\frac{23}{19}, \\  - \\frac{4}{19}, \\  \\frac{21}{19}\\right)\\right\\}$"
      ],
      "text/plain": [
       "{(49/19, -23/19, -4/19, 21/19)}"
      ]
     },
     "execution_count": 3,
     "metadata": {},
     "output_type": "execute_result"
    }
   ],
   "source": [
    "from sympy import *\n",
    "\n",
    "a, b, c, d = symbols('a b c d')\n",
    "\n",
    "linsolve(Matrix((\n",
    "    [1, -1, -1, 0, 4],\n",
    "    [0, -2, 3, 2, 4],\n",
    "    [2, 1, 5, 1, 4],\n",
    "    [-2, 1, -2, 9, 4])), (a, b, c, d))\n"
   ]
  },
  {
   "cell_type": "code",
   "execution_count": 59,
   "metadata": {
    "dotnet_interactive": {
     "language": "csharp"
    }
   },
   "outputs": [
    {
     "data": {
      "text/plain": [
       "(2.5789473684210527,\n",
       " -1.2105263157894737,\n",
       " -0.21052631578947367,\n",
       " 1.105263157894737)"
      ]
     },
     "execution_count": 59,
     "metadata": {},
     "output_type": "execute_result"
    }
   ],
   "source": [
    "a = 49/19\n",
    "b = -23/19\n",
    "c = -4/19\n",
    "d = 21/19\n",
    "\n",
    "a, b, c, d\n"
   ]
  },
  {
   "cell_type": "markdown",
   "metadata": {},
   "source": [
    "### Exercise 5\n",
    "\n",
    "Solve for $x, y, z$ in the augment matrix $M$.\n",
    "\n",
    "$$\n",
    "M =  \\left(\n",
    "        \\begin{matrix}\n",
    "            8 & 4 & -1 & 3\\\\\n",
    "            1 & 6 & 2 & 3\\\\\n",
    "            4 & 0 & 2 & 3\\\\\n",
    "        \\end{matrix}\n",
    "    \\right)\n",
    "$$\n"
   ]
  },
  {
   "cell_type": "code",
   "execution_count": 60,
   "metadata": {
    "dotnet_interactive": {
     "language": "csharp"
    }
   },
   "outputs": [
    {
     "name": "stdout",
     "output_type": "stream",
     "text": [
      "x = \n",
      " [[0.375 ]\n",
      " [0.1875]\n",
      " [0.75  ]]\n"
     ]
    }
   ],
   "source": [
    "import numpy as np\n",
    "\n",
    "A = np.array(\n",
    "    [\n",
    "        [8, 4, -1],\n",
    "        [1, 6, 2],\n",
    "        [4, 0, 2],\n",
    "    ]\n",
    ")\n",
    "\n",
    "b = np.array(\n",
    "    [\n",
    "        [3],\n",
    "        [3],\n",
    "        [3],\n",
    "    ]\n",
    ")\n",
    "\n",
    "x = np.linalg.solve(A, b)\n",
    "\n",
    "print('x = \\n', x)\n"
   ]
  },
  {
   "cell_type": "code",
   "execution_count": 8,
   "metadata": {
    "dotnet_interactive": {
     "language": "csharp"
    }
   },
   "outputs": [
    {
     "data": {
      "text/latex": [
       "$\\displaystyle \\left\\{\\left( \\frac{3}{8}, \\  \\frac{3}{16}, \\  \\frac{3}{4}\\right)\\right\\}$"
      ],
      "text/plain": [
       "FiniteSet((3/8, 3/16, 3/4))"
      ]
     },
     "execution_count": 8,
     "metadata": {},
     "output_type": "execute_result"
    }
   ],
   "source": [
    "from sympy import *\n",
    "\n",
    "x, y, z = symbols('x y z')\n",
    "\n",
    "linsolve(Matrix((\n",
    "    [8, 4, -1, 3],\n",
    "    [1, 6, 2, 3],\n",
    "    [4, 0, 2, 3])), (x, y, z))\n"
   ]
  },
  {
   "cell_type": "code",
   "execution_count": 61,
   "metadata": {
    "dotnet_interactive": {
     "language": "csharp"
    }
   },
   "outputs": [
    {
     "data": {
      "text/plain": [
       "(0.375, 0.1875, 0.75)"
      ]
     },
     "execution_count": 61,
     "metadata": {},
     "output_type": "execute_result"
    }
   ],
   "source": [
    "x = 3/8\n",
    "y = 3/16\n",
    "z = 3/4\n",
    "\n",
    "x, y, z\n"
   ]
  },
  {
   "cell_type": "markdown",
   "metadata": {},
   "source": [
    "### Exercise 6\n",
    "\n",
    "Solve for $x, y, z$ in the augment matrix $M$.\n",
    "\n",
    "$$\n",
    "M =  \\left(\n",
    "        \\begin{matrix}\n",
    "            3 & -1 & -1 & 4\\\\\n",
    "            4 & -2 & 3 & 2\\\\\n",
    "            2 & 1 & -5 & -1\\\\\n",
    "        \\end{matrix}\n",
    "    \\right)\n",
    "$$\n"
   ]
  },
  {
   "cell_type": "code",
   "execution_count": 24,
   "metadata": {
    "dotnet_interactive": {
     "language": "csharp"
    }
   },
   "outputs": [
    {
     "name": "stdout",
     "output_type": "stream",
     "text": [
      "M =\n",
      " [[ 3. -1. -1.  4.]\n",
      " [ 4. -2.  3.  2.]\n",
      " [ 2.  1. -5. -1.]]\n",
      "mxn =\n",
      " 3 x 4\n",
      "|A| = \n",
      " [[ 3. -1. -1.]\n",
      " [ 4. -2.  3.]\n",
      " [ 2.  1. -5.]] \n",
      " = -13.0\n",
      "M =\n",
      " [[ 3.         -1.         -1.          4.        ]\n",
      " [ 0.         -0.66666667  4.33333333 -3.33333333]\n",
      " [ 2.          1.         -5.         -1.        ]]\n",
      "M =\n",
      " [[ 3.         -1.         -1.          4.        ]\n",
      " [ 0.         -0.66666667  4.33333333 -3.33333333]\n",
      " [ 0.          1.66666667 -4.33333333 -3.66666667]]\n",
      "M =\n",
      " [[  3.          -1.          -1.           4.        ]\n",
      " [  0.          -0.66666667   4.33333333  -3.33333333]\n",
      " [  0.           0.           6.5        -12.        ]]\n",
      "|A| = -12.999999999999995\n"
     ]
    }
   ],
   "source": [
    "import numpy as np\n",
    "from fractions import Fraction\n",
    "\n",
    "M = np.array(\n",
    "    [\n",
    "        [3, -1, -1, 4],\n",
    "        [4, -2, 3, 2],\n",
    "        [2, 1, -5, -1],\n",
    "    ], dtype=float\n",
    ")\n",
    "\n",
    "print('M =\\n', M)\n",
    "(m, n) = M.shape\n",
    "print('mxn =\\n', m, 'x', n)\n",
    "print('|A| = \\n', M[:3, :3], '\\n =', np.linalg.det(M[:3, :3]))\n",
    "\n",
    "k = 0\n",
    "p = 0\n",
    "\n",
    "for p in range(0, m-1):\n",
    "    for i in range(p+1, m):\n",
    "        if M[p, p] == 0:\n",
    "            # change row\n",
    "            for j in range(i, m):\n",
    "                if M[j, p] != 0:\n",
    "                    k += 1\n",
    "                    Mp = np.copy(M[p])\n",
    "                    M[p] = M[j]\n",
    "                    M[j] = Mp\n",
    "\n",
    "                    print('Mx =\\n', M)\n",
    "                    break\n",
    "\n",
    "        M[i] = M[i, :] - M[p, :]*M[i, p]/M[p, p]\n",
    "        print('M =\\n', M)\n",
    "\n",
    "detA = 1\n",
    "for p in range(m):\n",
    "    detA *= M[p, p]\n",
    "\n",
    "print('|A| =', detA)\n"
   ]
  },
  {
   "cell_type": "code",
   "execution_count": 63,
   "metadata": {
    "dotnet_interactive": {
     "language": "csharp"
    }
   },
   "outputs": [
    {
     "data": {
      "text/latex": [
       "$\\displaystyle \\left\\{\\left( - \\frac{21}{13}, \\  -7, \\  - \\frac{24}{13}\\right)\\right\\}$"
      ],
      "text/plain": [
       "{(-21/13, -7, -24/13)}"
      ]
     },
     "execution_count": 63,
     "metadata": {},
     "output_type": "execute_result"
    }
   ],
   "source": [
    "from sympy import *\n",
    "\n",
    "x, y, z = symbols('x y z')\n",
    "\n",
    "linsolve(\n",
    "    Matrix(\n",
    "        (\n",
    "            [3, -1, -1, 4],\n",
    "            [4, -2, 3, 2],\n",
    "            [2, 1, -5, -1]\n",
    "        )\n",
    "    ),\n",
    "    (x, y, z)\n",
    ")\n"
   ]
  },
  {
   "cell_type": "code",
   "execution_count": 65,
   "metadata": {
    "dotnet_interactive": {
     "language": "csharp"
    }
   },
   "outputs": [
    {
     "data": {
      "text/latex": [
       "$\\displaystyle \\left\\{\\left( -1, \\  0, \\  2\\right)\\right\\}$"
      ],
      "text/plain": [
       "{(-1, 0, 2)}"
      ]
     },
     "execution_count": 65,
     "metadata": {},
     "output_type": "execute_result"
    }
   ],
   "source": [
    "from sympy import *\n",
    "x, y, z = symbols('x y z')\n",
    "\n",
    "linsolve(Matrix((\n",
    "    [1, 1, 1, 1],\n",
    "    [1, 1, 2, 3],\n",
    "    [1, 0, 2, 3])), (x, y, z))\n"
   ]
  },
  {
   "cell_type": "markdown",
   "metadata": {},
   "source": [
    "# Test 2 Make Up\n",
    "\n",
    "Consider the system of linear equation below:\n",
    "\n",
    "$$\n",
    "\\begin{matrix}\n",
    "3x & - & y & - & 2 & - & z &= & 4 \\\\\n",
    "4z & - & 2y & + & 3x & + & y & = & 2 \\\\\n",
    "2x & + & y & - & 5y & - & 1 & + & z & + & x & = & -1 \\\\\n",
    "\\end{matrix}\n",
    "\n",
    "\n",
    "$$\n",
    "\n",
    "Q1.  \n",
    " Write the matrices form. $A\\bullet x=b$  \n",
    " What is the order of matrix $A$  \n",
    " What is the order of matrix $b$.  \n",
    " Determinant of matrix $A$  \n",
    " Rank of $A$\n",
    "\n",
    "Q2.\n",
    "Write the augment matrix $A_b$, $A_b=\\left[A|b\\right]$  \n",
    " What is the order of matrix $A_b$.  \n",
    " Solve the system of linear equation using Gaussian Elimination.\n"
   ]
  },
  {
   "cell_type": "code",
   "execution_count": 6,
   "metadata": {
    "dotnet_interactive": {
     "language": "csharp"
    }
   },
   "outputs": [
    {
     "name": "stdout",
     "output_type": "stream",
     "text": [
      "x = \n",
      " [[ 2. ]\n",
      " [ 0.8]\n",
      " [-0.8]]\n",
      "det(A) =  50.000000000000014\n"
     ]
    }
   ],
   "source": [
    "import numpy as np\n",
    "\n",
    "A = np.array(\n",
    "    [\n",
    "        [3.0, -1., -1.],\n",
    "        [3., -1., 4.],\n",
    "        [2., -4., 1.],\n",
    "    ]\n",
    ")\n",
    "\n",
    "b = np.array(\n",
    "    [\n",
    "        [6.0],\n",
    "        [2.0],\n",
    "        [0.0],\n",
    "    ]\n",
    ")\n",
    "\n",
    "x = np.linalg.solve(A, b)\n",
    "print('x = \\n', x)\n",
    "\n",
    "d = np.linalg.det(A)\n",
    "print('det(A) = ', d)\n"
   ]
  },
  {
   "cell_type": "code",
   "execution_count": 7,
   "metadata": {
    "dotnet_interactive": {
     "language": "csharp"
    }
   },
   "outputs": [
    {
     "data": {
      "text/latex": [
       "$\\displaystyle \\left\\{\\left( 2.0, \\  0.8, \\  -0.8\\right)\\right\\}$"
      ],
      "text/plain": [
       "FiniteSet((2.0, 0.8, -0.8))"
      ]
     },
     "execution_count": 7,
     "metadata": {},
     "output_type": "execute_result"
    }
   ],
   "source": [
    "from sympy import *\n",
    "x, y, z = symbols('x y z')\n",
    "\n",
    "linsolve(Matrix((\n",
    "    [3.0, -1., -1., 6.0],\n",
    "    [3., -1., 4., 2.0],\n",
    "    [2., -4., 1., 0],\n",
    ")), (x, y, z))\n"
   ]
  },
  {
   "cell_type": "markdown",
   "metadata": {},
   "source": []
  }
 ],
 "metadata": {
  "interpreter": {
   "hash": "daf545e9c8d1f6d971c9121d175f68d500da6da1b984137958b2bb126fd81e67"
  },
  "kernelspec": {
   "display_name": "Python 3 (ipykernel)",
   "language": "python",
   "name": "python3"
  },
  "language_info": {
   "codemirror_mode": {
    "name": "ipython",
    "version": 3
   },
   "file_extension": ".py",
   "mimetype": "text/x-python",
   "name": "python",
   "nbconvert_exporter": "python",
   "pygments_lexer": "ipython3",
   "version": "3.10.6"
  }
 },
 "nbformat": 4,
 "nbformat_minor": 4
}
