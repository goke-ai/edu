{
 "cells": [
  {
   "cell_type": "code",
   "execution_count": null,
   "metadata": {},
   "outputs": [],
   "source": [
    "import numpy as np\n",
    "\n",
    "A = np.array([\n",
    "    [-1, 2, 4, 7, 8],\n",
    "    [1, 0, 5, -2, 8],\n",
    "    [0, 2, -4, 7, 8],\n",
    "    [2, 0, 3, 7, 8],\n",
    "    [3, 3, 4, 0, 8],\n",
    "])\n",
    "\n",
    "b = np.array([\n",
    "    [1],\n",
    "    [2],\n",
    "    [3],\n",
    "    [4],\n",
    "    [5],\n",
    "])\n"
   ]
  },
  {
   "cell_type": "code",
   "execution_count": 56,
   "metadata": {},
   "outputs": [
    {
     "data": {
      "text/plain": [
       "array([0.7, 0.5, 0.2, 0.2, 0.5, 0.7, 0. ])"
      ]
     },
     "execution_count": 56,
     "metadata": {},
     "output_type": "execute_result"
    }
   ],
   "source": [
    "a = np.array([-1.7, -1.5, -0.2, 0.2, 1.5, 1.7, 2.0])\n",
    "a1 = np.trunc(a)\n",
    "a2 = abs(a-a1)\n",
    "a2 > 1\n",
    "\n",
    "abs(a) % 1"
   ]
  },
  {
   "cell_type": "code",
   "execution_count": 52,
   "metadata": {},
   "outputs": [
    {
     "data": {
      "text/plain": [
       "array([ True,  True,  True])"
      ]
     },
     "execution_count": 52,
     "metadata": {},
     "output_type": "execute_result"
    }
   ],
   "source": [
    "a = np.array([0.0, 0.0, 0.0])\n",
    "a == 0"
   ]
  },
  {
   "cell_type": "code",
   "execution_count": 11,
   "metadata": {},
   "outputs": [],
   "source": [
    "import numpy as np\n",
    "\n",
    "for i in range(2000000):\n",
    "    \n",
    "    A = np.random.randint(-9,9,(5,5))\n",
    "    \n",
    "    if np.linalg.det(A) == 0:\n",
    "        continue;\n",
    "    \n",
    "    \n",
    "    b = np.random.randint(-12,12,(5,1))\n",
    "\n",
    "    # M = np.concatenate((A, b), axis=1)\n",
    "\n",
    "    # print()\n",
    "    # print(\"M = \\n\", M)\n",
    "\n",
    "    x = np.linalg.solve(A, b)\n",
    "    \n",
    "    x2 = abs(x)%1\n",
    "    if (x2 == 0).all() == False:\n",
    "        continue    \n",
    "\n",
    "    # print(\"run \", i+1)\n",
    "        \n",
    "    # print(\"A = \\n\", A)\n",
    "    # print()\n",
    "    # print(\"b = \\n\", b)\n",
    "\n",
    "    # print()\n",
    "    # print(\"x = \\n\", x)\n",
    "    \n",
    "    # get 3x3\n",
    "    E = A[:3, : 3]\n",
    "\n",
    "    # eigen\n",
    "    ei_val, ei_vec = np.linalg.eig(E)\n",
    "    \n",
    "    if(np.iscomplex(ei_val).any() or np.iscomplex(ei_vec).any()):\n",
    "        continue;\n",
    "    \n",
    "    else:    \n",
    "        a = ei_val\n",
    "        # a1 = np.trunc(a)\n",
    "        # a2 = abs(a-a1)\n",
    "        a2 = abs(a) % 1\n",
    "        \n",
    "        if (a2 == 0).all() == False:\n",
    "            continue\n",
    "        \n",
    "        print(\"run \", i+1)\n",
    "        \n",
    "        print(\"A = \\n\", A)\n",
    "        print()\n",
    "        print(\"b = \\n\", b)\n",
    "\n",
    "        print()\n",
    "        print(\"x = \\n\", x)\n",
    "\n",
    "        print()\n",
    "        print(\"E = \\n\", E)\n",
    "        \n",
    "        print()\n",
    "        print(\"eigen-values = \\n\", ei_val)\n",
    "\n",
    "        print()\n",
    "        print(\"eigen-vectors = \\n\", ei_vec)\n",
    "        \n",
    "        print(\"/////////////////////////////////////////////////////\")\n",
    "        # break\n",
    "        \n"
   ]
  },
  {
   "cell_type": "code",
   "execution_count": 7,
   "metadata": {},
   "outputs": [
    {
     "name": "stdout",
     "output_type": "stream",
     "text": [
      "[[-2.35383065]\n",
      " [ 2.25100806]\n",
      " [ 0.28629032]\n",
      " [ 0.74798387]\n",
      " [-0.62197581]]\n",
      "[[0.35383065]\n",
      " [0.25100806]\n",
      " [0.28629032]\n",
      " [0.74798387]\n",
      " [0.62197581]]\n"
     ]
    },
    {
     "data": {
      "text/plain": [
       "array([[False],\n",
       "       [False],\n",
       "       [False],\n",
       "       [False],\n",
       "       [False]])"
      ]
     },
     "execution_count": 7,
     "metadata": {},
     "output_type": "execute_result"
    }
   ],
   "source": [
    "print(x)\n",
    "x2 = abs(x)%1\n",
    "print(x2)\n",
    "x2 == 0"
   ]
  },
  {
   "cell_type": "code",
   "execution_count": 39,
   "metadata": {},
   "outputs": [
    {
     "name": "stdout",
     "output_type": "stream",
     "text": [
      "complex\n"
     ]
    },
    {
     "data": {
      "text/plain": [
       "array([False,  True])"
      ]
     },
     "execution_count": 39,
     "metadata": {},
     "output_type": "execute_result"
    }
   ],
   "source": [
    "c = np.array([1, 2+2j],)\n",
    "if(np.iscomplex(c).any() == True):\n",
    "    print(\"complex\")\n",
    "    \n",
    "c.dtype\n",
    "np.iscomplex(c)\n"
   ]
  },
  {
   "cell_type": "code",
   "execution_count": 38,
   "metadata": {},
   "outputs": [
    {
     "data": {
      "text/plain": [
       "True"
      ]
     },
     "execution_count": 38,
     "metadata": {},
     "output_type": "execute_result"
    }
   ],
   "source": [
    "np.iscomplex(c).any()"
   ]
  },
  {
   "cell_type": "code",
   "execution_count": null,
   "metadata": {},
   "outputs": [],
   "source": [
    "\n",
    "print()\n",
    "print(\"eigen-values = \\n\", ei_val)\n",
    "\n",
    "print()\n",
    "print(\"eigen-vectors = \\n\", ei_vec)\n",
    "\n",
    "for i in range(len(ei_val)):\n",
    "    print()\n",
    "    print(\"eigen-value = \", ei_val[i])\n",
    "    print()\n",
    "    print(\"eigen-vector = \\n\", ei_vec[:,i])\n",
    "    \n"
   ]
  },
  {
   "cell_type": "code",
   "execution_count": null,
   "metadata": {},
   "outputs": [],
   "source": [
    "from sympy import *\n",
    "\n",
    "AA = Matrix((\n",
    "    (-1, 2, 4, 7, 8),\n",
    "    (1, 0, 5, -2, 8),\n",
    "    (0, 2, -4, 7, 8),\n",
    "    (2, 0, 3, 7, 8),\n",
    "    (3, 3, 4, 0, 8),\n",
    "))\n",
    "\n",
    "bb = Matrix((\n",
    "    (1),\n",
    "    (2),\n",
    "    (3),\n",
    "    (4),\n",
    "    (5),\n",
    "))\n",
    "\n",
    "MM = AA.col_insert(5, bb)\n",
    "\n",
    "v, w, x, y, z = symbols('v,w,x,y,z')\n",
    "\n",
    "system = MM[:, :-1], MM[:, -1]\n",
    "\n",
    "linsolve(system, v, w, x, y, z)\n"
   ]
  },
  {
   "cell_type": "code",
   "execution_count": null,
   "metadata": {},
   "outputs": [],
   "source": [
    "MM.rref()\n"
   ]
  },
  {
   "cell_type": "code",
   "execution_count": null,
   "metadata": {},
   "outputs": [],
   "source": [
    "EE = MM[:3, :3]\n",
    "\n",
    "EE\n"
   ]
  },
  {
   "cell_type": "code",
   "execution_count": null,
   "metadata": {},
   "outputs": [],
   "source": [
    "EE.eigenvals()\n"
   ]
  },
  {
   "cell_type": "code",
   "execution_count": null,
   "metadata": {},
   "outputs": [],
   "source": [
    "EE.eigenvects()\n"
   ]
  },
  {
   "cell_type": "code",
   "execution_count": null,
   "metadata": {},
   "outputs": [],
   "source": [
    "EE[0, 0] = -1.0\n"
   ]
  },
  {
   "cell_type": "code",
   "execution_count": null,
   "metadata": {},
   "outputs": [],
   "source": [
    "EE\n"
   ]
  },
  {
   "cell_type": "code",
   "execution_count": null,
   "metadata": {},
   "outputs": [],
   "source": [
    "EE.eigenvals()\n"
   ]
  },
  {
   "cell_type": "code",
   "execution_count": null,
   "metadata": {},
   "outputs": [],
   "source": [
    "EE.eigenvects()\n"
   ]
  },
  {
   "cell_type": "code",
   "execution_count": null,
   "metadata": {},
   "outputs": [],
   "source": []
  }
 ],
 "metadata": {
  "kernelspec": {
   "display_name": "Python 3.10.5 64-bit",
   "language": "python",
   "name": "python3"
  },
  "language_info": {
   "codemirror_mode": {
    "name": "ipython",
    "version": 3
   },
   "file_extension": ".py",
   "mimetype": "text/x-python",
   "name": "python",
   "nbconvert_exporter": "python",
   "pygments_lexer": "ipython3",
   "version": "3.10.5"
  },
  "orig_nbformat": 4,
  "vscode": {
   "interpreter": {
    "hash": "daf545e9c8d1f6d971c9121d175f68d500da6da1b984137958b2bb126fd81e67"
   }
  }
 },
 "nbformat": 4,
 "nbformat_minor": 2
}
