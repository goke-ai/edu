{
 "cells": [
  {
   "cell_type": "code",
   "execution_count": 72,
   "metadata": {},
   "outputs": [],
   "source": [
    "import numpy as np\n",
    "\n",
    "A = np.array(\n",
    "    [\n",
    "        [-1, 2, 4, 7, 8],\n",
    "        [1, 0, 5, -2, 8],\n",
    "        [0, 2, -4, 7, 8],\n",
    "        [2, 0, 3, 7, 8],\n",
    "        [3, 3, 4, 0, 8],\n",
    "    ]\n",
    ")\n",
    "\n",
    "b = np.array(\n",
    "    [\n",
    "        [1],\n",
    "        [2],\n",
    "        [3],\n",
    "        [4],\n",
    "        [5],\n",
    "    ]\n",
    ")\n"
   ]
  },
  {
   "cell_type": "code",
   "execution_count": 73,
   "metadata": {},
   "outputs": [
    {
     "data": {
      "text/plain": [
       "array([0.7, 0.5, 0.2, 0.2, 0.5, 0.7, 0. ])"
      ]
     },
     "execution_count": 73,
     "metadata": {},
     "output_type": "execute_result"
    }
   ],
   "source": [
    "a = np.array([-1.7, -1.5, -0.2, 0.2, 1.5, 1.7, 2.0])\n",
    "a1 = np.trunc(a)\n",
    "a2 = abs(a - a1)\n",
    "a2 > 1\n",
    "\n",
    "abs(a) % 1\n"
   ]
  },
  {
   "cell_type": "code",
   "execution_count": 74,
   "metadata": {},
   "outputs": [
    {
     "data": {
      "text/plain": [
       "array([ True,  True,  True])"
      ]
     },
     "execution_count": 74,
     "metadata": {},
     "output_type": "execute_result"
    }
   ],
   "source": [
    "a = np.array([0.0, 0.0, 0.0])\n",
    "a == 0\n"
   ]
  },
  {
   "cell_type": "code",
   "execution_count": 75,
   "metadata": {},
   "outputs": [],
   "source": [
    "import numpy as np\n",
    "\n",
    "for i in range(20):\n",
    "\n",
    "    A = np.random.randint(-9, 9, (5, 5))\n",
    "\n",
    "    if np.linalg.det(A) == 0:\n",
    "        continue\n",
    "\n",
    "    b = np.random.randint(-12, 12, (5, 1))\n",
    "\n",
    "    # M = np.concatenate((A, b), axis=1)\n",
    "\n",
    "    # print()\n",
    "    # print(\"M = \\n\", M)\n",
    "\n",
    "    x = np.linalg.solve(A, b)\n",
    "\n",
    "    x2 = abs(x) % 1\n",
    "    if (x2 == 0).all() == False:\n",
    "        continue\n",
    "\n",
    "    # print(\"run \", i+1)\n",
    "\n",
    "    # print(\"A = \\n\", A)\n",
    "    # print()\n",
    "    # print(\"b = \\n\", b)\n",
    "\n",
    "    # print()\n",
    "    # print(\"x = \\n\", x)\n",
    "\n",
    "    # get 3x3\n",
    "    E = A[:3, :3]\n",
    "\n",
    "    # eigen\n",
    "    ei_val, ei_vec = np.linalg.eig(E)\n",
    "\n",
    "    if np.iscomplex(ei_val).any() or np.iscomplex(ei_vec).any():\n",
    "        continue\n",
    "\n",
    "    else:\n",
    "        a = ei_val\n",
    "        # a1 = np.trunc(a)\n",
    "        # a2 = abs(a-a1)\n",
    "        a2 = abs(a) % 1\n",
    "\n",
    "        if (a2 == 0).all() == False:\n",
    "            continue\n",
    "\n",
    "        print(\"run \", i + 1)\n",
    "\n",
    "        print(\"A = \\n\", A)\n",
    "        print()\n",
    "        print(\"b = \\n\", b)\n",
    "\n",
    "        print()\n",
    "        print(\"x = \\n\", x)\n",
    "\n",
    "        print()\n",
    "        print(\"E = \\n\", E)\n",
    "\n",
    "        print()\n",
    "        print(\"eigen-values = \\n\", ei_val)\n",
    "\n",
    "        print()\n",
    "        print(\"eigen-vectors = \\n\", ei_vec)\n",
    "\n",
    "        print(\"/////////////////////////////////////////////////////\")\n",
    "        # break\n"
   ]
  },
  {
   "cell_type": "code",
   "execution_count": 76,
   "metadata": {},
   "outputs": [
    {
     "name": "stdout",
     "output_type": "stream",
     "text": [
      "[[-0.5052177 ]\n",
      " [ 1.28463476]\n",
      " [ 2.71104714]\n",
      " [-0.42821159]\n",
      " [-2.95897805]]\n",
      "[[0.5052177 ]\n",
      " [0.28463476]\n",
      " [0.71104714]\n",
      " [0.42821159]\n",
      " [0.95897805]]\n"
     ]
    },
    {
     "data": {
      "text/plain": [
       "array([[False],\n",
       "       [False],\n",
       "       [False],\n",
       "       [False],\n",
       "       [False]])"
      ]
     },
     "execution_count": 76,
     "metadata": {},
     "output_type": "execute_result"
    }
   ],
   "source": [
    "print(x)\n",
    "x2 = abs(x) % 1\n",
    "print(x2)\n",
    "x2 == 0\n"
   ]
  },
  {
   "cell_type": "code",
   "execution_count": 77,
   "metadata": {},
   "outputs": [
    {
     "name": "stdout",
     "output_type": "stream",
     "text": [
      "complex\n"
     ]
    },
    {
     "data": {
      "text/plain": [
       "array([False,  True])"
      ]
     },
     "execution_count": 77,
     "metadata": {},
     "output_type": "execute_result"
    }
   ],
   "source": [
    "c = np.array(\n",
    "    [1, 2 + 2j],\n",
    ")\n",
    "if np.iscomplex(c).any() == True:\n",
    "    print(\"complex\")\n",
    "\n",
    "c.dtype\n",
    "np.iscomplex(c)\n"
   ]
  },
  {
   "cell_type": "code",
   "execution_count": 78,
   "metadata": {},
   "outputs": [
    {
     "data": {
      "text/plain": [
       "True"
      ]
     },
     "execution_count": 78,
     "metadata": {},
     "output_type": "execute_result"
    }
   ],
   "source": [
    "np.iscomplex(c).any()\n"
   ]
  },
  {
   "cell_type": "code",
   "execution_count": 79,
   "metadata": {},
   "outputs": [
    {
     "name": "stdout",
     "output_type": "stream",
     "text": [
      "\n"
     ]
    },
    {
     "ename": "NameError",
     "evalue": "name 'ei_val' is not defined",
     "output_type": "error",
     "traceback": [
      "\u001b[1;31m---------------------------------------------------------------------------\u001b[0m",
      "\u001b[1;31mNameError\u001b[0m                                 Traceback (most recent call last)",
      "\u001b[1;32mc:\\zs\\edu\\gec220\\exam2021_2022.ipynb Cell 8\u001b[0m in \u001b[0;36m<cell line: 2>\u001b[1;34m()\u001b[0m\n\u001b[0;32m      <a href='vscode-notebook-cell:/c%3A/zs/edu/gec220/exam2021_2022.ipynb#ch0000007?line=0'>1</a>\u001b[0m \u001b[39mprint\u001b[39m()\n\u001b[1;32m----> <a href='vscode-notebook-cell:/c%3A/zs/edu/gec220/exam2021_2022.ipynb#ch0000007?line=1'>2</a>\u001b[0m \u001b[39mprint\u001b[39m(\u001b[39m\"\u001b[39m\u001b[39meigen-values = \u001b[39m\u001b[39m\\n\u001b[39;00m\u001b[39m\"\u001b[39m, ei_val)\n\u001b[0;32m      <a href='vscode-notebook-cell:/c%3A/zs/edu/gec220/exam2021_2022.ipynb#ch0000007?line=3'>4</a>\u001b[0m \u001b[39mprint\u001b[39m()\n\u001b[0;32m      <a href='vscode-notebook-cell:/c%3A/zs/edu/gec220/exam2021_2022.ipynb#ch0000007?line=4'>5</a>\u001b[0m \u001b[39mprint\u001b[39m(\u001b[39m\"\u001b[39m\u001b[39meigen-vectors = \u001b[39m\u001b[39m\\n\u001b[39;00m\u001b[39m\"\u001b[39m, ei_vec)\n",
      "\u001b[1;31mNameError\u001b[0m: name 'ei_val' is not defined"
     ]
    }
   ],
   "source": [
    "print()\n",
    "print(\"eigen-values = \\n\", ei_val)\n",
    "\n",
    "print()\n",
    "print(\"eigen-vectors = \\n\", ei_vec)\n",
    "\n",
    "for i in range(len(ei_val)):\n",
    "    print()\n",
    "    print(\"eigen-value = \", ei_val[i])\n",
    "    print()\n",
    "    print(\"eigen-vector = \\n\", ei_vec[:, i])\n"
   ]
  },
  {
   "cell_type": "code",
   "execution_count": null,
   "metadata": {},
   "outputs": [],
   "source": [
    "from sympy import *\n",
    "\n",
    "AA = Matrix(\n",
    "    (\n",
    "        (-1, 2, 4, 7, 8),\n",
    "        (1, 0, 5, -2, 8),\n",
    "        (0, 2, -4, 7, 8),\n",
    "        (2, 0, 3, 7, 8),\n",
    "        (3, 3, 4, 0, 8),\n",
    "    )\n",
    ")\n",
    "\n",
    "bb = Matrix(\n",
    "    (\n",
    "        (1),\n",
    "        (2),\n",
    "        (3),\n",
    "        (4),\n",
    "        (5),\n",
    "    )\n",
    ")\n",
    "\n",
    "MM = AA.col_insert(5, bb)\n",
    "\n",
    "v, w, x, y, z = symbols(\"v,w,x,y,z\")\n",
    "\n",
    "system = MAb[:, :-1], MAb[:, -1]\n",
    "\n",
    "linsolve(system, v, w, x, y, z)\n"
   ]
  },
  {
   "cell_type": "code",
   "execution_count": null,
   "metadata": {},
   "outputs": [],
   "source": [
    "MM.rref()\n"
   ]
  },
  {
   "cell_type": "code",
   "execution_count": null,
   "metadata": {},
   "outputs": [],
   "source": [
    "EE = MAb[:3, :3]\n",
    "\n",
    "EE\n"
   ]
  },
  {
   "cell_type": "code",
   "execution_count": null,
   "metadata": {},
   "outputs": [],
   "source": [
    "EE.eigenvals()\n"
   ]
  },
  {
   "cell_type": "code",
   "execution_count": null,
   "metadata": {},
   "outputs": [],
   "source": [
    "EE.eigenvects()\n"
   ]
  },
  {
   "cell_type": "code",
   "execution_count": null,
   "metadata": {},
   "outputs": [],
   "source": [
    "EE[0, 0] = -1.0\n"
   ]
  },
  {
   "cell_type": "code",
   "execution_count": null,
   "metadata": {},
   "outputs": [],
   "source": [
    "EE\n"
   ]
  },
  {
   "cell_type": "code",
   "execution_count": null,
   "metadata": {},
   "outputs": [],
   "source": [
    "EE.eigenvals()\n"
   ]
  },
  {
   "cell_type": "code",
   "execution_count": null,
   "metadata": {},
   "outputs": [],
   "source": [
    "EE.eigenvects()\n"
   ]
  },
  {
   "cell_type": "code",
   "execution_count": 21,
   "metadata": {},
   "outputs": [
    {
     "name": "stdout",
     "output_type": "stream",
     "text": [
      "A: \n",
      " [[ 0  1 -9  7  0]\n",
      " [ 2  1 -2 -4 -7]\n",
      " [ 0  0 -9 -5 -1]\n",
      " [-1  1  1 -1  7]\n",
      " [ 1 -6  5 -9  7]]\n",
      "b:  [[-6]\n",
      " [ 7]\n",
      " [ 5]\n",
      " [-2]\n",
      " [ 4]]\n",
      "x=\n",
      " [['a']\n",
      " ['b']\n",
      " ['c']\n",
      " ['d']\n",
      " ['e']]\n",
      "a. A.x=b \n",
      " [['0' '1' '-9' '7' '0' 'a' '-6']\n",
      " ['2' '1' '-2' '-4' '-7' 'b' '7']\n",
      " ['0' '0' '-9' '-5' '-1' 'c' '5']\n",
      " ['-1' '1' '1' '-1' '7' 'd' '-2']\n",
      " ['1' '-6' '5' '-9' '7' 'e' '4']]\n",
      "b. order of A: (5, 5)\n",
      "c. order of b: (5, 1)\n",
      "d. Ab: \n",
      " [['0' '1' '-9' '7' '0' '|' '-6']\n",
      " ['2' '1' '-2' '-4' '-7' '|' '7']\n",
      " ['0' '0' '-9' '-5' '-1' '|' '5']\n",
      " ['-1' '1' '1' '-1' '7' '|' '-2']\n",
      " ['1' '-6' '5' '-9' '7' '|' '4']]\n",
      "e. order of Ab:  (5, 6)\n",
      "Ab=\n",
      " [[ 0.  1. -9.  7.  0. -6.]\n",
      " [ 2.  1. -2. -4. -7.  7.]\n",
      " [ 0.  0. -9. -5. -1.  5.]\n",
      " [-1.  1.  1. -1.  7. -2.]\n",
      " [ 1. -6.  5. -9.  7.  4.]]\n",
      "p= 1 k= 1\n",
      "Ab=\n",
      " [[ 2.  1. -2. -4. -7.  7.]\n",
      " [ 0.  1. -9.  7.  0. -6.]\n",
      " [ 0.  0. -9. -5. -1.  5.]\n",
      " [-1.  1.  1. -1.  7. -2.]\n",
      " [ 1. -6.  5. -9.  7.  4.]]\n",
      "p= 1 i= 2\n",
      "Ab=\n",
      " [[ 2.  1. -2. -4. -7.  7.]\n",
      " [ 0.  1. -9.  7.  0. -6.]\n",
      " [ 0.  0. -9. -5. -1.  5.]\n",
      " [-1.  1.  1. -1.  7. -2.]\n",
      " [ 1. -6.  5. -9.  7.  4.]]\n",
      "p= 1 i= 3\n",
      "Ab=\n",
      " [[ 2.  1. -2. -4. -7.  7.]\n",
      " [ 0.  1. -9.  7.  0. -6.]\n",
      " [ 0.  0. -9. -5. -1.  5.]\n",
      " [-1.  1.  1. -1.  7. -2.]\n",
      " [ 1. -6.  5. -9.  7.  4.]]\n",
      "p= 1 i= 4\n",
      "Ab=\n",
      " [[ 2.   1.  -2.  -4.  -7.   7. ]\n",
      " [ 0.   1.  -9.   7.   0.  -6. ]\n",
      " [ 0.   0.  -9.  -5.  -1.   5. ]\n",
      " [ 0.   1.5  0.  -3.   3.5  1.5]\n",
      " [ 1.  -6.   5.  -9.   7.   4. ]]\n",
      "p= 1 i= 5\n",
      "Ab=\n",
      " [[ 2.   1.  -2.  -4.  -7.   7. ]\n",
      " [ 0.   1.  -9.   7.   0.  -6. ]\n",
      " [ 0.   0.  -9.  -5.  -1.   5. ]\n",
      " [ 0.   1.5  0.  -3.   3.5  1.5]\n",
      " [ 0.  -6.5  6.  -7.  10.5  0.5]]\n",
      "p= 2 i= 3\n",
      "Ab=\n",
      " [[ 2.   1.  -2.  -4.  -7.   7. ]\n",
      " [ 0.   1.  -9.   7.   0.  -6. ]\n",
      " [ 0.   0.  -9.  -5.  -1.   5. ]\n",
      " [ 0.   1.5  0.  -3.   3.5  1.5]\n",
      " [ 0.  -6.5  6.  -7.  10.5  0.5]]\n",
      "p= 2 i= 4\n",
      "Ab=\n",
      " [[  2.    1.   -2.   -4.   -7.    7. ]\n",
      " [  0.    1.   -9.    7.    0.   -6. ]\n",
      " [  0.    0.   -9.   -5.   -1.    5. ]\n",
      " [  0.    0.   13.5 -13.5   3.5  10.5]\n",
      " [  0.   -6.5   6.   -7.   10.5   0.5]]\n",
      "p= 2 i= 5\n",
      "Ab=\n",
      " [[  2.    1.   -2.   -4.   -7.    7. ]\n",
      " [  0.    1.   -9.    7.    0.   -6. ]\n",
      " [  0.    0.   -9.   -5.   -1.    5. ]\n",
      " [  0.    0.   13.5 -13.5   3.5  10.5]\n",
      " [  0.    0.  -52.5  38.5  10.5 -38.5]]\n",
      "p= 3 i= 4\n",
      "Ab=\n",
      " [[  2.    1.   -2.   -4.   -7.    7. ]\n",
      " [  0.    1.   -9.    7.    0.   -6. ]\n",
      " [  0.    0.   -9.   -5.   -1.    5. ]\n",
      " [  0.    0.    0.  -21.    2.   18. ]\n",
      " [  0.    0.  -52.5  38.5  10.5 -38.5]]\n",
      "p= 3 i= 5\n",
      "Ab=\n",
      " [[  2.           1.          -2.          -4.          -7.\n",
      "    7.        ]\n",
      " [  0.           1.          -9.           7.           0.\n",
      "   -6.        ]\n",
      " [  0.           0.          -9.          -5.          -1.\n",
      "    5.        ]\n",
      " [  0.           0.           0.         -21.           2.\n",
      "   18.        ]\n",
      " [  0.           0.           0.          67.66666667  16.33333333\n",
      "  -67.66666667]]\n",
      "p= 4 i= 5\n",
      "Ab=\n",
      " [[  2.           1.          -2.          -4.          -7.\n",
      "    7.        ]\n",
      " [  0.           1.          -9.           7.           0.\n",
      "   -6.        ]\n",
      " [  0.           0.          -9.          -5.          -1.\n",
      "    5.        ]\n",
      " [  0.           0.           0.         -21.           2.\n",
      "   18.        ]\n",
      " [  0.           0.           0.           0.          22.77777778\n",
      "   -9.66666667]]\n",
      "Ab=\n",
      " [[  2.           1.          -2.          -4.          -7.\n",
      "    7.        ]\n",
      " [  0.           1.          -9.           7.           0.\n",
      "   -6.        ]\n",
      " [  0.           0.          -9.          -5.          -1.\n",
      "    5.        ]\n",
      " [  0.           0.           0.         -21.           2.\n",
      "   18.        ]\n",
      " [  0.           0.           0.           0.          22.77777778\n",
      "   -9.66666667]]\n",
      "g. x=\n",
      " [[ 0.        ]\n",
      " [ 0.19512195]\n",
      " [-0.0097561 ]\n",
      " [-0.89756098]\n",
      " [-0.42439024]]\n",
      "g. Determinant=  -8610.0\n",
      "h. rank=  5\n",
      "i. A is full rank=  True\n",
      "E=\n",
      " [[ 0  1 -9]\n",
      " [ 2  1 -2]\n",
      " [ 0  0 -9]]\n",
      "[-1.  2. -9.]\n",
      "eigen value:  -1.0\n",
      "eigen vector: \n",
      " [[-0.70710678]\n",
      " [ 0.70710678]\n",
      " [ 0.        ]]\n",
      "eigen vector: \n",
      " [[ 1.]\n",
      " [-1.]\n",
      " [-0.]]\n",
      "eigen value:  2.0\n",
      "eigen vector: \n",
      " [[-0.4472136 ]\n",
      " [-0.89442719]\n",
      " [ 0.        ]]\n",
      "eigen vector: \n",
      " [[ 1.]\n",
      " [ 2.]\n",
      " [-0.]]\n",
      "eigen value:  -9.0\n",
      "eigen vector: \n",
      " [[7.07106781e-01]\n",
      " [1.58187870e-17]\n",
      " [7.07106781e-01]]\n",
      "eigen vector: \n",
      " [[1.00000000e+00]\n",
      " [2.23711432e-17]\n",
      " [1.00000000e+00]]\n"
     ]
    },
    {
     "data": {
      "text/plain": [
       "(array([-1.,  2., -9.]),\n",
       " array([[-7.07106781e-01, -4.47213595e-01,  7.07106781e-01],\n",
       "        [ 7.07106781e-01, -8.94427191e-01,  1.58187870e-17],\n",
       "        [ 0.00000000e+00,  0.00000000e+00,  7.07106781e-01]]))"
      ]
     },
     "execution_count": 21,
     "metadata": {},
     "output_type": "execute_result"
    }
   ],
   "source": [
    "import numpy as np\n",
    "\n",
    "A = np.array(\n",
    "    [\n",
    "        [0, 1, -9, 7, 0],\n",
    "        [2, 1, -2, -4, -7],\n",
    "        [0, 0, -9, -5, -1],\n",
    "        [(3 - 4), 1, 1, -1, 7],\n",
    "        [1, -6, 5, -9, 7],\n",
    "    ]\n",
    ")\n",
    "print('A: \\n', A)\n",
    "\n",
    "\n",
    "b = np.array(\n",
    "    [\n",
    "        [-6],\n",
    "        [7],\n",
    "        [5],\n",
    "        [-2],\n",
    "        [4],\n",
    "    ]\n",
    ")\n",
    "print('b: ', b)\n",
    "\n",
    "x = np.array(\n",
    "    [\n",
    "        ['a'],\n",
    "        ['b'],\n",
    "        ['c'],\n",
    "        ['d'],\n",
    "        ['e'],\n",
    "    ]\n",
    ")\n",
    "print('x=\\n',x)\n",
    "\n",
    "Ax = np.append(A, x, axis=1)\n",
    "Axb = np.append(Ax, b, axis=1)\n",
    "\n",
    "print('a. A.x=b \\n', Axb)\n",
    "\n",
    "print('b. order of A:', A.shape)\n",
    "print('c. order of b:', b.shape)\n",
    "\n",
    "x[:] = '|'\n",
    "Ax = np.append(A, x, axis=1)\n",
    "Axb = np.append(Ax, b, axis=1)\n",
    "\n",
    "print('d. Ab: \\n', Axb)\n",
    "\n",
    "Ab = np.append(A, b, axis=1)\n",
    "print('e. order of Ab: ', Ab.shape)\n",
    "\n",
    "Ab = np.append(A.astype(float), b.astype(float), axis=1)\n",
    "# Ab = np.append(A, b, axis=1)\n",
    "\n",
    "M, N = Ab.shape\n",
    "P = M-1\n",
    "k = 0\n",
    "i = 0\n",
    "j = 0\n",
    "p = 0\n",
    "print('Ab=\\n', Ab)\n",
    "\n",
    "for p in range(P):\n",
    "    if(Ab[p, p] == 0):\n",
    "        for j in range(p+1, M):\n",
    "            if Ab[j, p] != 0:\n",
    "                temp = Ab[j].copy()\n",
    "                Ab[j] = Ab[p]\n",
    "                Ab[p] = temp\n",
    "                k += 1\n",
    "                print('p=', p+1, 'k=', k)\n",
    "                print('Ab=\\n', Ab)\n",
    "                break\n",
    "\n",
    "    for i in range(p+1, M):\n",
    "        Ab[i] = Ab[i] - (Ab[p]*Ab[i, p]/Ab[p, p])\n",
    "\n",
    "        print('p=', p+1, 'i=', i+1)\n",
    "        print('Ab=\\n', Ab)\n",
    "\n",
    "print('Ab=\\n', Ab)\n",
    "\n",
    "# backward substitution\n",
    "x = np.zeros_like(b).astype(float)\n",
    "for i in range(M-1, 0, -1):\n",
    "    x[i] = Ab[i, M]\n",
    "    for j in range(i+1, M):\n",
    "        x[i] -= Ab[i, j]*x[j]\n",
    "\n",
    "    x[i] /= Ab[i, i]\n",
    "\n",
    "print('g. x=\\n', x)\n",
    "\n",
    "# determinant\n",
    "D = -1**k\n",
    "for p in range(M):\n",
    "    D *= Ab[p,p]\n",
    "\n",
    "print('g. Determinant= ', D)\n",
    "\n",
    "# rank\n",
    "r=0\n",
    "for p in range(M):\n",
    "    if Ab[p,p] != 0:\n",
    "        r+=1\n",
    "\n",
    "print('h. rank= ', r)\n",
    "print('i. A is full rank= ', r == M)\n",
    "\n",
    "\n",
    "# eigen matrix\n",
    "E = A[:3,:3]\n",
    "print('E=\\n', E)\n",
    "\n",
    "Ev = np.linalg.eig(E)\n",
    "\n",
    "print(Ev[0])\n",
    "\n",
    "for i in range(len(Ev[0])):\n",
    "    print('eigen value: ', Ev[0][i])\n",
    "    print('eigen vector: \\n', (Ev[1][:,i].reshape(3,1)))\n",
    "    y = (Ev[1][:,i]/Ev[1][0,i])\n",
    "    print('eigen vector: \\n', y.reshape(3,1))\n",
    "    \n",
    "Ev"
   ]
  },
  {
   "cell_type": "code",
   "execution_count": 6,
   "metadata": {},
   "outputs": [
    {
     "data": {
      "text/plain": [
       "array([[ 0.11219512],\n",
       "       [ 0.19512195],\n",
       "       [-0.0097561 ],\n",
       "       [-0.89756098],\n",
       "       [-0.42439024]])"
      ]
     },
     "execution_count": 6,
     "metadata": {},
     "output_type": "execute_result"
    }
   ],
   "source": [
    "np.linalg.solve(A, b)\n"
   ]
  },
  {
   "cell_type": "code",
   "execution_count": 7,
   "metadata": {},
   "outputs": [
    {
     "data": {
      "text/plain": [
       "-8610.0"
      ]
     },
     "execution_count": 7,
     "metadata": {},
     "output_type": "execute_result"
    }
   ],
   "source": [
    "np.linalg.det(A)\n"
   ]
  },
  {
   "cell_type": "code",
   "execution_count": null,
   "metadata": {},
   "outputs": [],
   "source": []
  }
 ],
 "metadata": {
  "kernelspec": {
   "display_name": "Python 3.10.5 64-bit",
   "language": "python",
   "name": "python3"
  },
  "language_info": {
   "codemirror_mode": {
    "name": "ipython",
    "version": 3
   },
   "file_extension": ".py",
   "mimetype": "text/x-python",
   "name": "python",
   "nbconvert_exporter": "python",
   "pygments_lexer": "ipython3",
   "version": "3.10.5"
  },
  "orig_nbformat": 4,
  "vscode": {
   "interpreter": {
    "hash": "daf545e9c8d1f6d971c9121d175f68d500da6da1b984137958b2bb126fd81e67"
   }
  }
 },
 "nbformat": 4,
 "nbformat_minor": 2
}
