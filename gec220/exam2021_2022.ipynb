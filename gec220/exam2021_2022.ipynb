{
 "cells": [
  {
   "cell_type": "code",
   "execution_count": 1,
   "metadata": {},
   "outputs": [
    {
     "data": {
      "text/plain": [
       "array([[-1,  2,  4,  7,  8,  1],\n",
       "       [ 1,  0,  5, -2,  8,  2],\n",
       "       [ 0,  2, -4,  7,  8,  3],\n",
       "       [ 2,  0,  3,  7,  8,  4],\n",
       "       [ 3,  3,  4,  0,  8,  5]])"
      ]
     },
     "execution_count": 1,
     "metadata": {},
     "output_type": "execute_result"
    }
   ],
   "source": [
    "import numpy as np\n",
    "\n",
    "A = np.array([\n",
    "    [-1, 2, 4, 7, 8],\n",
    "    [1, 0, 5, -2, 8],\n",
    "    [0, 2, -4, 7, 8],\n",
    "    [2, 0, 3, 7, 8],\n",
    "    [3, 3, 4, 0, 8],\n",
    "])\n",
    "\n",
    "b = np.array([\n",
    "    [1],\n",
    "    [2],\n",
    "    [3],\n",
    "    [4],\n",
    "    [5],\n",
    "])\n",
    "\n",
    "M = np.concatenate((A, b), axis=1)\n",
    "M\n"
   ]
  },
  {
   "cell_type": "code",
   "execution_count": 2,
   "metadata": {},
   "outputs": [
    {
     "data": {
      "text/plain": [
       "array([[ 1.08650519],\n",
       "       [ 0.18685121],\n",
       "       [-0.11418685],\n",
       "       [ 0.07612457],\n",
       "       [ 0.20458478]])"
      ]
     },
     "execution_count": 2,
     "metadata": {},
     "output_type": "execute_result"
    }
   ],
   "source": [
    "np.linalg.solve(A, b)\n"
   ]
  },
  {
   "cell_type": "code",
   "execution_count": 3,
   "metadata": {},
   "outputs": [
    {
     "data": {
      "text/plain": [
       "array([[-1,  2,  4],\n",
       "       [ 1,  0,  5],\n",
       "       [ 0,  2, -4]])"
      ]
     },
     "execution_count": 3,
     "metadata": {},
     "output_type": "execute_result"
    }
   ],
   "source": [
    "E = A[:3, : 3]\n",
    "E\n"
   ]
  },
  {
   "cell_type": "code",
   "execution_count": 4,
   "metadata": {},
   "outputs": [
    {
     "data": {
      "text/plain": [
       "(array([ 2.47531178, -1.87584381, -5.59946797]),\n",
       " array([[-0.66462793,  0.97892329, -0.37744996],\n",
       "        [-0.71389788, -0.14869129, -0.57836903],\n",
       "        [-0.22049838, -0.14000033,  0.72320176]]))"
      ]
     },
     "execution_count": 4,
     "metadata": {},
     "output_type": "execute_result"
    }
   ],
   "source": [
    "np.linalg.eig(E)\n"
   ]
  },
  {
   "cell_type": "code",
   "execution_count": 5,
   "metadata": {},
   "outputs": [
    {
     "data": {
      "text/latex": [
       "$\\displaystyle \\left\\{\\left( \\frac{314}{289}, \\  \\frac{54}{289}, \\  - \\frac{33}{289}, \\  \\frac{22}{289}, \\  \\frac{473}{2312}\\right)\\right\\}$"
      ],
      "text/plain": [
       "{(314/289, 54/289, -33/289, 22/289, 473/2312)}"
      ]
     },
     "execution_count": 5,
     "metadata": {},
     "output_type": "execute_result"
    }
   ],
   "source": [
    "from sympy import *\n",
    "\n",
    "AA = Matrix((\n",
    "    (-1, 2, 4, 7, 8),\n",
    "    (1, 0, 5, -2, 8),\n",
    "    (0, 2, -4, 7, 8),\n",
    "    (2, 0, 3, 7, 8),\n",
    "    (3, 3, 4, 0, 8),\n",
    "))\n",
    "\n",
    "bb = Matrix((\n",
    "    (1),\n",
    "    (2),\n",
    "    (3),\n",
    "    (4),\n",
    "    (5),\n",
    "))\n",
    "\n",
    "MM = AA.col_insert(5, bb)\n",
    "\n",
    "v, w, x, y, z = symbols('v,w,x,y,z')\n",
    "\n",
    "system = MM[:, :-1], MM[:, -1]\n",
    "\n",
    "linsolve(system, v, w, x, y, z)\n"
   ]
  },
  {
   "cell_type": "code",
   "execution_count": 6,
   "metadata": {},
   "outputs": [
    {
     "data": {
      "text/plain": [
       "(Matrix([\n",
       " [1, 0, 0, 0, 0,  314/289],\n",
       " [0, 1, 0, 0, 0,   54/289],\n",
       " [0, 0, 1, 0, 0,  -33/289],\n",
       " [0, 0, 0, 1, 0,   22/289],\n",
       " [0, 0, 0, 0, 1, 473/2312]]),\n",
       " (0, 1, 2, 3, 4))"
      ]
     },
     "execution_count": 6,
     "metadata": {},
     "output_type": "execute_result"
    }
   ],
   "source": [
    "MM.rref()\n"
   ]
  },
  {
   "cell_type": "code",
   "execution_count": 7,
   "metadata": {},
   "outputs": [
    {
     "data": {
      "text/latex": [
       "$\\displaystyle \\left[\\begin{matrix}-1 & 2 & 4\\\\1 & 0 & 5\\\\0 & 2 & -4\\end{matrix}\\right]$"
      ],
      "text/plain": [
       "Matrix([\n",
       "[-1, 2,  4],\n",
       "[ 1, 0,  5],\n",
       "[ 0, 2, -4]])"
      ]
     },
     "execution_count": 7,
     "metadata": {},
     "output_type": "execute_result"
    }
   ],
   "source": [
    "EE = MM[:3,:3]\n",
    "\n",
    "EE"
   ]
  },
  {
   "cell_type": "code",
   "execution_count": 8,
   "metadata": {},
   "outputs": [
    {
     "data": {
      "text/plain": [
       "{-5/3 + 49/(9*(46/27 + sqrt(12837)*I/9)**(1/3)) + (46/27 + sqrt(12837)*I/9)**(1/3): 1,\n",
       " -5/3 + 49/(9*(-1/2 + sqrt(3)*I/2)*(46/27 + sqrt(12837)*I/9)**(1/3)) + (-1/2 + sqrt(3)*I/2)*(46/27 + sqrt(12837)*I/9)**(1/3): 1,\n",
       " -5/3 + (-1/2 - sqrt(3)*I/2)*(46/27 + sqrt(12837)*I/9)**(1/3) + 49/(9*(-1/2 - sqrt(3)*I/2)*(46/27 + sqrt(12837)*I/9)**(1/3)): 1}"
      ]
     },
     "execution_count": 8,
     "metadata": {},
     "output_type": "execute_result"
    }
   ],
   "source": [
    "EE.eigenvals()"
   ]
  },
  {
   "cell_type": "code",
   "execution_count": 9,
   "metadata": {},
   "outputs": [
    {
     "data": {
      "text/plain": [
       "[(-5/3 + (-1/2 - sqrt(3)*I/2)*(46/27 + sqrt(12837)*I/9)**(1/3) + 49/(9*(-1/2 - sqrt(3)*I/2)*(46/27 + sqrt(12837)*I/9)**(1/3)),\n",
       "  1,\n",
       "  [Matrix([\n",
       "   [-25/3 + 2*(-1/2 - sqrt(3)*I/2)*(46/27 + sqrt(12837)*I/9)**(1/3) + (-5/3 + (-1/2 - sqrt(3)*I/2)*(46/27 + sqrt(12837)*I/9)**(1/3) + 49/(9*(-1/2 - sqrt(3)*I/2)*(46/27 + sqrt(12837)*I/9)**(1/3)))**2/2 + 98/(9*(-1/2 - sqrt(3)*I/2)*(46/27 + sqrt(12837)*I/9)**(1/3))],\n",
       "   [                                                                                                                                      7/6 + (-1/2 - sqrt(3)*I/2)*(46/27 + sqrt(12837)*I/9)**(1/3)/2 + 49/(18*(-1/2 - sqrt(3)*I/2)*(46/27 + sqrt(12837)*I/9)**(1/3))],\n",
       "   [                                                                                                                                                                                                                                                                  1]])]),\n",
       " (-5/3 + 49/(9*(-1/2 + sqrt(3)*I/2)*(46/27 + sqrt(12837)*I/9)**(1/3)) + (-1/2 + sqrt(3)*I/2)*(46/27 + sqrt(12837)*I/9)**(1/3),\n",
       "  1,\n",
       "  [Matrix([\n",
       "   [-25/3 + 98/(9*(-1/2 + sqrt(3)*I/2)*(46/27 + sqrt(12837)*I/9)**(1/3)) + (-5/3 + 49/(9*(-1/2 + sqrt(3)*I/2)*(46/27 + sqrt(12837)*I/9)**(1/3)) + (-1/2 + sqrt(3)*I/2)*(46/27 + sqrt(12837)*I/9)**(1/3))**2/2 + 2*(-1/2 + sqrt(3)*I/2)*(46/27 + sqrt(12837)*I/9)**(1/3)],\n",
       "   [                                                                                                                                      7/6 + 49/(18*(-1/2 + sqrt(3)*I/2)*(46/27 + sqrt(12837)*I/9)**(1/3)) + (-1/2 + sqrt(3)*I/2)*(46/27 + sqrt(12837)*I/9)**(1/3)/2],\n",
       "   [                                                                                                                                                                                                                                                                  1]])]),\n",
       " (-5/3 + 49/(9*(46/27 + sqrt(12837)*I/9)**(1/3)) + (46/27 + sqrt(12837)*I/9)**(1/3),\n",
       "  1,\n",
       "  [Matrix([\n",
       "   [-25/3 + 98/(9*(46/27 + sqrt(12837)*I/9)**(1/3)) + (-5/3 + 49/(9*(46/27 + sqrt(12837)*I/9)**(1/3)) + (46/27 + sqrt(12837)*I/9)**(1/3))**2/2 + 2*(46/27 + sqrt(12837)*I/9)**(1/3)],\n",
       "   [                                                                                            7/6 + 49/(18*(46/27 + sqrt(12837)*I/9)**(1/3)) + (46/27 + sqrt(12837)*I/9)**(1/3)/2],\n",
       "   [                                                                                                                                                                              1]])])]"
      ]
     },
     "execution_count": 9,
     "metadata": {},
     "output_type": "execute_result"
    }
   ],
   "source": [
    "EE.eigenvects()"
   ]
  },
  {
   "cell_type": "code",
   "execution_count": 10,
   "metadata": {},
   "outputs": [],
   "source": [
    "EE[0,0] = -1.0"
   ]
  },
  {
   "cell_type": "code",
   "execution_count": 11,
   "metadata": {},
   "outputs": [
    {
     "data": {
      "text/latex": [
       "$\\displaystyle \\left[\\begin{matrix}-1.0 & 2 & 4\\\\1 & 0 & 5\\\\0 & 2 & -4\\end{matrix}\\right]$"
      ],
      "text/plain": [
       "Matrix([\n",
       "[-1.0, 2,  4],\n",
       "[   1, 0,  5],\n",
       "[   0, 2, -4]])"
      ]
     },
     "execution_count": 11,
     "metadata": {},
     "output_type": "execute_result"
    }
   ],
   "source": [
    "EE"
   ]
  },
  {
   "cell_type": "code",
   "execution_count": 12,
   "metadata": {},
   "outputs": [
    {
     "data": {
      "text/plain": [
       "{2.47531178171022: 1, -1.87584380763636: 1, -5.59946797407387: 1}"
      ]
     },
     "execution_count": 12,
     "metadata": {},
     "output_type": "execute_result"
    }
   ],
   "source": [
    "EE.eigenvals()"
   ]
  },
  {
   "cell_type": "code",
   "execution_count": 13,
   "metadata": {},
   "outputs": [
    {
     "data": {
      "text/plain": [
       "[(2.47531178171022,\n",
       "  1,\n",
       "  [Matrix([\n",
       "   [0.664627929548358],\n",
       "   [0.713897877741399],\n",
       "   [0.220498379632571]])]),\n",
       " (-1.87584380763636,\n",
       "  1,\n",
       "  [Matrix([\n",
       "   [   -1.14089630343],\n",
       "   [0.173293802154503],\n",
       "   [0.163164839551344]])]),\n",
       " (-5.59946797407387,\n",
       "  1,\n",
       "  [Matrix([\n",
       "   [ 0.443533856823003],\n",
       "   [ 0.679629818130322],\n",
       "   [-0.849819851533877]])])]"
      ]
     },
     "execution_count": 13,
     "metadata": {},
     "output_type": "execute_result"
    }
   ],
   "source": [
    "EE.eigenvects()"
   ]
  },
  {
   "cell_type": "code",
   "execution_count": null,
   "metadata": {},
   "outputs": [],
   "source": []
  }
 ],
 "metadata": {
  "kernelspec": {
   "display_name": "Python 3.10.5 64-bit",
   "language": "python",
   "name": "python3"
  },
  "language_info": {
   "codemirror_mode": {
    "name": "ipython",
    "version": 3
   },
   "file_extension": ".py",
   "mimetype": "text/x-python",
   "name": "python",
   "nbconvert_exporter": "python",
   "pygments_lexer": "ipython3",
   "version": "3.10.5"
  },
  "orig_nbformat": 4,
  "vscode": {
   "interpreter": {
    "hash": "daf545e9c8d1f6d971c9121d175f68d500da6da1b984137958b2bb126fd81e67"
   }
  }
 },
 "nbformat": 4,
 "nbformat_minor": 2
}
