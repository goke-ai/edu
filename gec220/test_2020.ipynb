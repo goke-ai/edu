{
 "cells": [
  {
   "cell_type": "code",
   "execution_count": 24,
   "id": "93c6b2c2",
   "metadata": {},
   "outputs": [
    {
     "name": "stdout",
     "output_type": "stream",
     "text": [
      "order of \n",
      " [[-1.  2. -3.]] =  1 x 3\n"
     ]
    }
   ],
   "source": [
    "import numpy as np\n",
    "\n",
    "A = np.array(\n",
    "    [\n",
    "    [-1, 2, -3]\n",
    "    ], dtype=float\n",
    ")\n",
    "\n",
    "(m,n) = np.shape(A)\n",
    "\n",
    "print('order of \\n', A, '= ', f'{m} x {n}')"
   ]
  },
  {
   "cell_type": "code",
   "execution_count": 21,
   "id": "978e2425",
   "metadata": {},
   "outputs": [
    {
     "name": "stdout",
     "output_type": "stream",
     "text": [
      "order =  15 x 5\n"
     ]
    }
   ],
   "source": [
    "columns = 5\n",
    "rows = 15\n",
    "\n",
    "m = rows\n",
    "n = columns\n",
    "\n",
    "print('order = ', f'{m} x {n}')"
   ]
  },
  {
   "cell_type": "code",
   "execution_count": null,
   "id": "c8d3d8a8",
   "metadata": {},
   "outputs": [],
   "source": []
  },
  {
   "cell_type": "code",
   "execution_count": 23,
   "id": "68e69cb5",
   "metadata": {},
   "outputs": [
    {
     "name": "stdout",
     "output_type": "stream",
     "text": [
      "A*B=\n",
      "Error multiplying A*B\n",
      "\n",
      "B*A=\n",
      " [[ 3. -2.  7.]\n",
      " [ 3. -2.  7.]]\n",
      "\n",
      "A*B^T=\n",
      " [[-1. -1.]\n",
      " [ 1.  1.]\n",
      " [ 8.  8.]]\n",
      "\n",
      "B*A^T=\n",
      " [[-1.  1.  8.]\n",
      " [-1.  1.  8.]]\n"
     ]
    }
   ],
   "source": [
    "import numpy as np\n",
    "\n",
    "A = np.array(\n",
    "    [\n",
    "        [1, -1, -1],\n",
    "        [0, -2, 3],\n",
    "        [2, 1, 5],\n",
    "    ], dtype=float\n",
    ")\n",
    "\n",
    "B = np.array(\n",
    "    [\n",
    "        [1, 1, 1],\n",
    "        [1, 1, 1],\n",
    "    ], dtype=float\n",
    ")\n",
    "\n",
    "try:\n",
    "    print('A*B=\\n', A * B)\n",
    "except ValueError:\n",
    "    print('A*B=\\nError multiplying A*B')\n",
    "\n",
    "print()\n",
    "\n",
    "try:\n",
    "    print('B*A=\\n', B @ A)\n",
    "except ValueError:\n",
    "    print('B*A=\\nError multiplying B*A')\n",
    "\n",
    "print()\n",
    "\n",
    "try:\n",
    "    print('A*B^T=\\n', A @ np.transpose(B))\n",
    "except ValueError:\n",
    "    print('A*B^T=\\nError multiplying A*B^T')\n",
    "\n",
    "print()\n",
    "\n",
    "try:\n",
    "    print('B*A^T=\\n', B @ np.transpose(A))\n",
    "except ValueError:\n",
    "    print('B*A^T=\\nError multiplying B*A^T=')\n"
   ]
  },
  {
   "cell_type": "code",
   "execution_count": 26,
   "id": "8d4d6511",
   "metadata": {},
   "outputs": [
    {
     "data": {
      "text/plain": [
       "-227.99999999999986"
      ]
     },
     "execution_count": 26,
     "metadata": {},
     "output_type": "execute_result"
    }
   ],
   "source": [
    "import numpy as np\n",
    "\n",
    "A = np.array(\n",
    "    [\n",
    "        [1, -1, -1, 0],\n",
    "        [0, -2, 3, 2],\n",
    "        [2, 1, 5, 1],\n",
    "        [-2, 1, -2, 9],\n",
    "    ], dtype=float\n",
    ")\n",
    "\n",
    "np.linalg.det(A)"
   ]
  },
  {
   "cell_type": "code",
   "execution_count": 27,
   "id": "52030c5d",
   "metadata": {},
   "outputs": [
    {
     "name": "stdout",
     "output_type": "stream",
     "text": [
      "x = \n",
      " [[ 2.57894737]\n",
      " [-1.21052632]\n",
      " [-0.21052632]\n",
      " [ 1.10526316]]\n"
     ]
    }
   ],
   "source": [
    "import numpy as np\n",
    "\n",
    "A = np.array(\n",
    "    [\n",
    "        [1, -1, -1, 0],\n",
    "        [0, -2, 3, 2],\n",
    "        [2, 1, 5, 1],\n",
    "        [-2, 1, -2, 9],\n",
    "    ]\n",
    ")\n",
    "\n",
    "b = np.array(\n",
    "    [\n",
    "        [4],\n",
    "        [4],\n",
    "        [4],\n",
    "        [4],\n",
    "    ]\n",
    ")\n",
    "\n",
    "x = np.linalg.solve(A,b)\n",
    "\n",
    "print('x = \\n', x)\n"
   ]
  },
  {
   "cell_type": "code",
   "execution_count": 29,
   "id": "ccd8ab7b",
   "metadata": {},
   "outputs": [
    {
     "data": {
      "text/latex": [
       "$\\displaystyle \\left\\{\\left( - \\frac{21}{13}, \\  -7, \\  - \\frac{24}{13}\\right)\\right\\}$"
      ],
      "text/plain": [
       "FiniteSet((-21/13, -7, -24/13))"
      ]
     },
     "execution_count": 29,
     "metadata": {},
     "output_type": "execute_result"
    }
   ],
   "source": [
    "from sympy import *\n",
    "\n",
    "x,y,z=symbols('x y z')\n",
    "\n",
    "linsolve(\n",
    "    Matrix(\n",
    "        (\n",
    "            [3, -1, -1, 4],\n",
    "            [4, -2, 3, 2],\n",
    "            [2, 1, -5, -1]\n",
    "        )\n",
    "    ), \n",
    "    (x, y, z)\n",
    ")\n"
   ]
  },
  {
   "cell_type": "code",
   "execution_count": 28,
   "id": "e2f26ccb",
   "metadata": {},
   "outputs": [
    {
     "name": "stdout",
     "output_type": "stream",
     "text": [
      "M =\n",
      " [[ 3. -1. -1.  4.]\n",
      " [ 4. -2.  3.  2.]\n",
      " [ 2.  1. -5. -1.]]\n",
      "mxn =\n",
      " 3 x 4\n",
      "|A| = \n",
      " [[ 3. -1. -1.]\n",
      " [ 4. -2.  3.]\n",
      " [ 2.  1. -5.]] \n",
      " = -13.0\n",
      "M =\n",
      " [[ 3.         -1.         -1.          4.        ]\n",
      " [ 0.         -0.66666667  4.33333333 -3.33333333]\n",
      " [ 2.          1.         -5.         -1.        ]]\n",
      "M =\n",
      " [[ 3.         -1.         -1.          4.        ]\n",
      " [ 0.         -0.66666667  4.33333333 -3.33333333]\n",
      " [ 0.          1.66666667 -4.33333333 -3.66666667]]\n",
      "M =\n",
      " [[  3.          -1.          -1.           4.        ]\n",
      " [  0.          -0.66666667   4.33333333  -3.33333333]\n",
      " [  0.           0.           6.5        -12.        ]]\n",
      "|A| = -12.999999999999995\n"
     ]
    }
   ],
   "source": [
    "import numpy as np\n",
    "from fractions import Fraction\n",
    "\n",
    "M = np.array(\n",
    "    [\n",
    "        [3, -1, -1, 4],\n",
    "        [4, -2, 3, 2],\n",
    "        [2, 1, -5, -1],\n",
    "    ],dtype=float\n",
    ")\n",
    "\n",
    "print('M =\\n', M)\n",
    "(m,n) = M.shape\n",
    "print('mxn =\\n', m, 'x', n)\n",
    "print('|A| = \\n', M[:3,:3], '\\n =', np.linalg.det(M[:3,:3]))\n",
    "\n",
    "k = 0\n",
    "p = 0\n",
    "\n",
    "for p in range(0,m-1):\n",
    "    for i in range(p+1,m):\n",
    "        if M[p,p] == 0:\n",
    "            # change row\n",
    "            for j in range(i,m):\n",
    "                if M[j,p] != 0:\n",
    "                    k += 1\n",
    "                    Mp = np.copy(M[p])\n",
    "                    M[p] = M[j]\n",
    "                    M[j] = Mp\n",
    "\n",
    "                    print('Mx =\\n', M)\n",
    "                    break\n",
    "\n",
    "        M[i] = M[i,:] - M[p,:]*M[i,p]/M[p,p]\n",
    "        print('M =\\n', M)\n",
    "\n",
    "detA = 1\n",
    "for p in range(m):\n",
    "    detA *= M[p,p]\n",
    "\n",
    "print('|A| =', detA)\n"
   ]
  },
  {
   "cell_type": "code",
   "execution_count": null,
   "id": "3aa0a17d",
   "metadata": {},
   "outputs": [],
   "source": []
  },
  {
   "cell_type": "markdown",
   "id": "63a71ecf",
   "metadata": {},
   "source": [
    "$$\n",
    "\\left[\n",
    "    \\begin{matrix}\n",
    "        (1-\\alpha_{11k}) & -\\alpha_{12k} & -\\alpha_{13k} & -\\alpha_{14k} & -\\alpha_{15k} & -\\alpha_{16k} & -\\alpha_{17k} & -\\alpha_{18k} & -\\alpha_{19k} & -\\alpha_{110k} \\\\\n",
    "        \n",
    "    \\end{matrix}\n",
    "\\right]\n",
    "$$  "
   ]
  },
  {
   "cell_type": "markdown",
   "id": "5282bceb",
   "metadata": {},
   "source": [
    "$$\n",
    "\\left[\n",
    "    \\begin{matrix}\n",
    "        (1-\\alpha_{11k}) & -\\alpha_{12k} & -\\alpha_{13k} & -\\alpha_{14k} & -\\alpha_{15k} & -\\alpha_{16k} & -\\alpha_{17k} & -\\alpha_{18k} & -\\alpha_{19k} & -\\alpha_{110k} \\\\\n",
    "        -\\alpha_{21k} & (1-\\alpha_{21k}) & -\\alpha_{23k} & -\\alpha_{24k} & -\\alpha_{25k} & -\\alpha_{26k} & -\\alpha_{27k} & -\\alpha_{28k} & -\\alpha_{29k} & -\\alpha_{210k} \\\\\n",
    "        -\\alpha_{31k} & -\\alpha_{31k} & (1-\\alpha_{33k}) & -\\alpha_{34k} & -\\alpha_{35k} & -\\alpha_{36k} & -\\alpha_{37k} & -\\alpha_{38k} & -\\alpha_{39k} & -\\alpha_{310k} \\\\\n",
    "        -\\alpha_{41k} & (1-\\alpha_{41k}) & -\\alpha_{43k} & (1-\\alpha_{44k}) & -\\alpha_{45k} & -\\alpha_{46k} & -\\alpha_{47k} & -\\alpha_{48k} & -\\alpha_{49k} & -\\alpha_{410k} \\\\\n",
    "        \n",
    "    \\end{matrix}\n",
    "\\right]\n",
    "$$  "
   ]
  },
  {
   "cell_type": "code",
   "execution_count": 1,
   "id": "4a4bc02e",
   "metadata": {},
   "outputs": [
    {
     "data": {
      "text/latex": [
       "$\\displaystyle \\left\\{\\left( \\frac{20}{9}, \\  \\frac{22}{15}, \\  - \\frac{4}{5}\\right)\\right\\}$"
      ],
      "text/plain": [
       "FiniteSet((20/9, 22/15, -4/5))"
      ]
     },
     "execution_count": 1,
     "metadata": {},
     "output_type": "execute_result"
    }
   ],
   "source": [
    "from sympy import *\n",
    "\n",
    "a, b, c = symbols('a b c')\n",
    "\n",
    "linsolve(Matrix((\n",
    "        [3, -1, -1, 6],\n",
    "        [3, -1, 4, 2],\n",
    "        [3, -4, 1, 0],\n",
    "        )), (a,b,c))"
   ]
  },
  {
   "cell_type": "markdown",
   "id": "5b6bd373-404d-45a7-a185-fcc92583cf25",
   "metadata": {},
   "source": [
    "# 2021/2022 Test 1"
   ]
  },
  {
   "cell_type": "code",
   "execution_count": null,
   "id": "e437c21a-b836-42f4-98c2-5a3ddf2e0aeb",
   "metadata": {},
   "outputs": [],
   "source": []
  },
  {
   "cell_type": "markdown",
   "id": "e72a94ad-1c4f-412f-b9ce-b8d2c2eb6f2e",
   "metadata": {},
   "source": [
    "# 2021/2022 Test 2"
   ]
  },
  {
   "cell_type": "code",
   "execution_count": 3,
   "id": "84c19e09-f07e-4cfb-a94c-a8e3d004e2ac",
   "metadata": {},
   "outputs": [
    {
     "name": "stdout",
     "output_type": "stream",
     "text": [
      "M =\n",
      " [[ 2. -3. -4.  1.]\n",
      " [ 3.  2. -1.  2.]\n",
      " [-2.  1. -5.  3.]]\n",
      "mxn =  3 x 4\n",
      "A = \n",
      " [[ 2. -3. -4.]\n",
      " [ 3.  2. -1.]\n",
      " [-2.  1. -5.]]\n",
      "|A| =  -97.0\n",
      "rank(A) =  3\n",
      "p = 1, i=2\n",
      "M =\n",
      " [[ 2.  -3.  -4.   1. ]\n",
      " [ 0.   6.5  5.   0.5]\n",
      " [-2.   1.  -5.   3. ]]\n",
      "p = 1, i=3\n",
      "M =\n",
      " [[ 2.  -3.  -4.   1. ]\n",
      " [ 0.   6.5  5.   0.5]\n",
      " [ 0.  -2.  -9.   4. ]]\n",
      "p = 2, i=3\n",
      "M =\n",
      " [[ 2.         -3.         -4.          1.        ]\n",
      " [ 0.          6.5         5.          0.5       ]\n",
      " [ 0.          0.         -7.46153846  4.15384615]]\n",
      "|A| = -97.0\n"
     ]
    }
   ],
   "source": [
    "import numpy as np\n",
    "from fractions import Fraction\n",
    "\n",
    "M = np.array(\n",
    "    [\n",
    "        [2, -3, -4, 1],\n",
    "        [3, 2, -1, 2],\n",
    "        [-2, 1, -5, 3],\n",
    "    ],dtype=float\n",
    ")\n",
    "#M = np.append(A,b, axis=1)\n",
    "\n",
    "print('M =\\n', M)\n",
    "(m,n) = M.shape\n",
    "print('mxn = ', m, 'x', n)\n",
    "print('A = \\n', M[:m,:m])\n",
    "print('|A| = ', np.linalg.det(M[:m,:m]))\n",
    "print('rank(A) = ', np.linalg.matrix_rank(M[:m,:m]))\n",
    "\n",
    "k = 0\n",
    "p = 0\n",
    "\n",
    "for p in range(0,m-1):\n",
    "    for i in range(p+1,m):\n",
    "        if M[p,p] == 0:\n",
    "            # change row\n",
    "            for j in range(i,m):\n",
    "                if M[j,p] != 0:\n",
    "                    k += 1\n",
    "                    Mp = np.copy(M[p])\n",
    "                    M[p] = M[j]\n",
    "                    M[j] = Mp\n",
    "\n",
    "                    print('Mx =\\n', M)\n",
    "                    break\n",
    "\n",
    "        M[i] = M[i,:] - M[p,:]*M[i,p]/M[p,p]\n",
    "        print(f'p = {p+1}, i={i+1}')\n",
    "        print('M =\\n', M)\n",
    "\n",
    "detA =1\n",
    "for p in range(0,m):\n",
    "    detA *= M[p,p]\n",
    "\n",
    "print('|A| =', detA)"
   ]
  },
  {
   "cell_type": "code",
   "execution_count": 13,
   "id": "1d13b22b-7173-4b53-91a4-60e7b7f7007b",
   "metadata": {},
   "outputs": [
    {
     "name": "stdout",
     "output_type": "stream",
     "text": [
      "M =\n",
      " [[ 2. -3. -4.  1.]\n",
      " [ 3. -2. -1.  2.]\n",
      " [-2.  1.  0.  3.]]\n",
      "mxn =  3 x 4\n",
      "A = \n",
      " [[ 2. -3. -4.]\n",
      " [ 3. -2. -1.]\n",
      " [-2.  1.  0.]]\n",
      "|A| =  -5.551115123125802e-16\n",
      "rank(A) =  2\n",
      "p = 1, i=2\n",
      "M =\n",
      " [[ 2.  -3.  -4.   1. ]\n",
      " [ 0.   2.5  5.   0.5]\n",
      " [-2.   1.   0.   3. ]]\n",
      "p = 1, i=3\n",
      "M =\n",
      " [[ 2.  -3.  -4.   1. ]\n",
      " [ 0.   2.5  5.   0.5]\n",
      " [ 0.  -2.  -4.   4. ]]\n",
      "p = 2, i=3\n",
      "M =\n",
      " [[ 2.  -3.  -4.   1. ]\n",
      " [ 0.   2.5  5.   0.5]\n",
      " [ 0.   0.   0.   4.4]]\n",
      "|A| = 0.0\n"
     ]
    }
   ],
   "source": [
    "import numpy as np\n",
    "from fractions import Fraction\n",
    "\n",
    "M = np.array(\n",
    "    [\n",
    "        [2, -3, -4, 1],\n",
    "        [3, -2, -1, 2],\n",
    "        [-2, 1, 0, 3],\n",
    "    ],dtype=float\n",
    ")\n",
    "#M = np.append(A,b, axis=1)\n",
    "\n",
    "print('M =\\n', M)\n",
    "(m,n) = M.shape\n",
    "print('mxn = ', m, 'x', n)\n",
    "print('A = \\n', M[:m,:m])\n",
    "print('|A| = ', np.linalg.det(M[:m,:m]))\n",
    "print('rank(A) = ', np.linalg.matrix_rank(M[:m,:m]))\n",
    "\n",
    "k = 0\n",
    "p = 0\n",
    "\n",
    "for p in range(0,m-1):\n",
    "    for i in range(p+1,m):\n",
    "        if M[p,p] == 0:\n",
    "            # change row\n",
    "            for j in range(i,m):\n",
    "                if M[j,p] != 0:\n",
    "                    k += 1\n",
    "                    Mp = np.copy(M[p])\n",
    "                    M[p] = M[j]\n",
    "                    M[j] = Mp\n",
    "\n",
    "                    print('Mx =\\n', M)\n",
    "                    break\n",
    "\n",
    "        M[i] = M[i,:] - M[p,:]*M[i,p]/M[p,p]\n",
    "        print(f'p = {p+1}, i={i+1}')\n",
    "        print('M =\\n', M)\n",
    "\n",
    "detA =1\n",
    "for p in range(0,m):\n",
    "    detA *= M[p,p]\n",
    "\n",
    "print('|A| =', detA)"
   ]
  },
  {
   "cell_type": "code",
   "execution_count": null,
   "id": "19d9a913-8360-4ce4-b55e-ab03145e0ab4",
   "metadata": {},
   "outputs": [],
   "source": []
  }
 ],
 "metadata": {
  "interpreter": {
   "hash": "c1a7846af735771808fbc8272134e7984cc669109ae413ca91ad8b74a534aa1b"
  },
  "kernelspec": {
   "display_name": "Python 3 (ipykernel)",
   "language": "python",
   "name": "python3"
  },
  "language_info": {
   "codemirror_mode": {
    "name": "ipython",
    "version": 3
   },
   "file_extension": ".py",
   "mimetype": "text/x-python",
   "name": "python",
   "nbconvert_exporter": "python",
   "pygments_lexer": "ipython3",
   "version": "3.10.5"
  }
 },
 "nbformat": 4,
 "nbformat_minor": 5
}
