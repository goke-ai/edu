{
 "cells": [
  {
   "cell_type": "code",
   "execution_count": 24,
   "source": [
    "import numpy as np\r\n",
    "\r\n",
    "A = np.array(\r\n",
    "    [\r\n",
    "    [-1, 2, -3]\r\n",
    "    ], dtype=float\r\n",
    ")\r\n",
    "\r\n",
    "(m,n) = np.shape(A)\r\n",
    "\r\n",
    "print('order of \\n', A, '= ', f'{m} x {n}')"
   ],
   "outputs": [
    {
     "output_type": "stream",
     "name": "stdout",
     "text": [
      "order of \n",
      " [[-1.  2. -3.]] =  1 x 3\n"
     ]
    }
   ],
   "metadata": {}
  },
  {
   "cell_type": "code",
   "execution_count": 21,
   "source": [
    "columns = 5\r\n",
    "rows = 15\r\n",
    "\r\n",
    "m = rows\r\n",
    "n = columns\r\n",
    "\r\n",
    "print('order = ', f'{m} x {n}')"
   ],
   "outputs": [
    {
     "output_type": "stream",
     "name": "stdout",
     "text": [
      "order =  15 x 5\n"
     ]
    }
   ],
   "metadata": {}
  },
  {
   "cell_type": "code",
   "execution_count": null,
   "source": [],
   "outputs": [],
   "metadata": {}
  },
  {
   "cell_type": "code",
   "execution_count": 23,
   "source": [
    "import numpy as np\r\n",
    "\r\n",
    "A = np.array(\r\n",
    "    [\r\n",
    "        [1, -1, -1],\r\n",
    "        [0, -2, 3],\r\n",
    "        [2, 1, 5],\r\n",
    "    ], dtype=float\r\n",
    ")\r\n",
    "\r\n",
    "B = np.array(\r\n",
    "    [\r\n",
    "        [1, 1, 1],\r\n",
    "        [1, 1, 1],\r\n",
    "    ], dtype=float\r\n",
    ")\r\n",
    "\r\n",
    "try:\r\n",
    "    print('A*B=\\n', A * B)\r\n",
    "except ValueError:\r\n",
    "    print('A*B=\\nError multiplying A*B')\r\n",
    "\r\n",
    "print()\r\n",
    "\r\n",
    "try:\r\n",
    "    print('B*A=\\n', B @ A)\r\n",
    "except ValueError:\r\n",
    "    print('B*A=\\nError multiplying B*A')\r\n",
    "\r\n",
    "print()\r\n",
    "\r\n",
    "try:\r\n",
    "    print('A*B^T=\\n', A @ np.transpose(B))\r\n",
    "except ValueError:\r\n",
    "    print('A*B^T=\\nError multiplying A*B^T')\r\n",
    "\r\n",
    "print()\r\n",
    "\r\n",
    "try:\r\n",
    "    print('B*A^T=\\n', B @ np.transpose(A))\r\n",
    "except ValueError:\r\n",
    "    print('B*A^T=\\nError multiplying B*A^T=')\r\n"
   ],
   "outputs": [
    {
     "output_type": "stream",
     "name": "stdout",
     "text": [
      "A*B=\n",
      "Error multiplying A*B\n",
      "\n",
      "B*A=\n",
      " [[ 3. -2.  7.]\n",
      " [ 3. -2.  7.]]\n",
      "\n",
      "A*B^T=\n",
      " [[-1. -1.]\n",
      " [ 1.  1.]\n",
      " [ 8.  8.]]\n",
      "\n",
      "B*A^T=\n",
      " [[-1.  1.  8.]\n",
      " [-1.  1.  8.]]\n"
     ]
    }
   ],
   "metadata": {}
  },
  {
   "cell_type": "code",
   "execution_count": 26,
   "source": [
    "import numpy as np\r\n",
    "\r\n",
    "A = np.array(\r\n",
    "    [\r\n",
    "        [1, -1, -1, 0],\r\n",
    "        [0, -2, 3, 2],\r\n",
    "        [2, 1, 5, 1],\r\n",
    "        [-2, 1, -2, 9],\r\n",
    "    ], dtype=float\r\n",
    ")\r\n",
    "\r\n",
    "np.linalg.det(A)"
   ],
   "outputs": [
    {
     "output_type": "execute_result",
     "data": {
      "text/plain": [
       "-227.99999999999986"
      ]
     },
     "metadata": {},
     "execution_count": 26
    }
   ],
   "metadata": {}
  },
  {
   "cell_type": "code",
   "execution_count": 27,
   "source": [
    "import numpy as np\r\n",
    "\r\n",
    "A = np.array(\r\n",
    "    [\r\n",
    "        [1, -1, -1, 0],\r\n",
    "        [0, -2, 3, 2],\r\n",
    "        [2, 1, 5, 1],\r\n",
    "        [-2, 1, -2, 9],\r\n",
    "    ]\r\n",
    ")\r\n",
    "\r\n",
    "b = np.array(\r\n",
    "    [\r\n",
    "        [4],\r\n",
    "        [4],\r\n",
    "        [4],\r\n",
    "        [4],\r\n",
    "    ]\r\n",
    ")\r\n",
    "\r\n",
    "x = np.linalg.solve(A,b)\r\n",
    "\r\n",
    "print('x = \\n', x)\r\n"
   ],
   "outputs": [
    {
     "output_type": "stream",
     "name": "stdout",
     "text": [
      "x = \n",
      " [[ 2.57894737]\n",
      " [-1.21052632]\n",
      " [-0.21052632]\n",
      " [ 1.10526316]]\n"
     ]
    }
   ],
   "metadata": {}
  },
  {
   "cell_type": "code",
   "execution_count": 29,
   "source": [
    "from sympy import *\r\n",
    "\r\n",
    "x,y,z=symbols('x y z')\r\n",
    "\r\n",
    "linsolve(\r\n",
    "    Matrix(\r\n",
    "        (\r\n",
    "            [3, -1, -1, 4],\r\n",
    "            [4, -2, 3, 2],\r\n",
    "            [2, 1, -5, -1]\r\n",
    "        )\r\n",
    "    ), \r\n",
    "    (x, y, z)\r\n",
    ")\r\n"
   ],
   "outputs": [
    {
     "output_type": "execute_result",
     "data": {
      "text/plain": [
       "FiniteSet((-21/13, -7, -24/13))"
      ],
      "text/latex": [
       "$\\displaystyle \\left\\{\\left( - \\frac{21}{13}, \\  -7, \\  - \\frac{24}{13}\\right)\\right\\}$"
      ]
     },
     "metadata": {},
     "execution_count": 29
    }
   ],
   "metadata": {}
  },
  {
   "cell_type": "code",
   "execution_count": 28,
   "source": [
    "import numpy as np\r\n",
    "from fractions import Fraction\r\n",
    "\r\n",
    "M = np.array(\r\n",
    "    [\r\n",
    "        [3, -1, -1, 4],\r\n",
    "        [4, -2, 3, 2],\r\n",
    "        [2, 1, -5, -1],\r\n",
    "    ],dtype=float\r\n",
    ")\r\n",
    "\r\n",
    "print('M =\\n', M)\r\n",
    "(m,n) = M.shape\r\n",
    "print('mxn =\\n', m, 'x', n)\r\n",
    "print('|A| = \\n', M[:3,:3], '\\n =', np.linalg.det(M[:3,:3]))\r\n",
    "\r\n",
    "k = 0\r\n",
    "p = 0\r\n",
    "\r\n",
    "for p in range(0,m-1):\r\n",
    "    for i in range(p+1,m):\r\n",
    "        if M[p,p] == 0:\r\n",
    "            # change row\r\n",
    "            for j in range(i,m):\r\n",
    "                if M[j,p] != 0:\r\n",
    "                    k += 1\r\n",
    "                    Mp = np.copy(M[p])\r\n",
    "                    M[p] = M[j]\r\n",
    "                    M[j] = Mp\r\n",
    "\r\n",
    "                    print('Mx =\\n', M)\r\n",
    "                    break\r\n",
    "\r\n",
    "        M[i] = M[i,:] - M[p,:]*M[i,p]/M[p,p]\r\n",
    "        print('M =\\n', M)\r\n",
    "\r\n",
    "detA = 1\r\n",
    "for p in range(m):\r\n",
    "    detA *= M[p,p]\r\n",
    "\r\n",
    "print('|A| =', detA)\r\n"
   ],
   "outputs": [
    {
     "output_type": "stream",
     "name": "stdout",
     "text": [
      "M =\n",
      " [[ 3. -1. -1.  4.]\n",
      " [ 4. -2.  3.  2.]\n",
      " [ 2.  1. -5. -1.]]\n",
      "mxn =\n",
      " 3 x 4\n",
      "|A| = \n",
      " [[ 3. -1. -1.]\n",
      " [ 4. -2.  3.]\n",
      " [ 2.  1. -5.]] \n",
      " = -13.0\n",
      "M =\n",
      " [[ 3.         -1.         -1.          4.        ]\n",
      " [ 0.         -0.66666667  4.33333333 -3.33333333]\n",
      " [ 2.          1.         -5.         -1.        ]]\n",
      "M =\n",
      " [[ 3.         -1.         -1.          4.        ]\n",
      " [ 0.         -0.66666667  4.33333333 -3.33333333]\n",
      " [ 0.          1.66666667 -4.33333333 -3.66666667]]\n",
      "M =\n",
      " [[  3.          -1.          -1.           4.        ]\n",
      " [  0.          -0.66666667   4.33333333  -3.33333333]\n",
      " [  0.           0.           6.5        -12.        ]]\n",
      "|A| = -12.999999999999995\n"
     ]
    }
   ],
   "metadata": {}
  },
  {
   "cell_type": "code",
   "execution_count": null,
   "source": [],
   "outputs": [],
   "metadata": {}
  },
  {
   "cell_type": "markdown",
   "source": [
    "$$\n",
    "\\left[\n",
    "    \\begin{matrix}\n",
    "        (1-\\alpha_{11k}) & -\\alpha_{12k} & -\\alpha_{13k} & -\\alpha_{14k} & -\\alpha_{15k} & -\\alpha_{16k} & -\\alpha_{17k} & -\\alpha_{18k} & -\\alpha_{19k} & -\\alpha_{110k} \\\\\n",
    "        \n",
    "    \\end{matrix}\n",
    "\\right]\n",
    "$$  "
   ],
   "metadata": {}
  },
  {
   "cell_type": "markdown",
   "source": [
    "$$\n",
    "\\left[\n",
    "    \\begin{matrix}\n",
    "        (1-\\alpha_{11k}) & -\\alpha_{12k} & -\\alpha_{13k} & -\\alpha_{14k} & -\\alpha_{15k} & -\\alpha_{16k} & -\\alpha_{17k} & -\\alpha_{18k} & -\\alpha_{19k} & -\\alpha_{110k} \\\\\n",
    "        -\\alpha_{21k} & (1-\\alpha_{21k}) & -\\alpha_{23k} & -\\alpha_{24k} & -\\alpha_{25k} & -\\alpha_{26k} & -\\alpha_{27k} & -\\alpha_{28k} & -\\alpha_{29k} & -\\alpha_{210k} \\\\\n",
    "        -\\alpha_{31k} & -\\alpha_{31k} & (1-\\alpha_{33k}) & -\\alpha_{34k} & -\\alpha_{35k} & -\\alpha_{36k} & -\\alpha_{37k} & -\\alpha_{38k} & -\\alpha_{39k} & -\\alpha_{310k} \\\\\n",
    "        -\\alpha_{41k} & (1-\\alpha_{41k}) & -\\alpha_{43k} & (1-\\alpha_{44k}) & -\\alpha_{45k} & -\\alpha_{46k} & -\\alpha_{47k} & -\\alpha_{48k} & -\\alpha_{49k} & -\\alpha_{410k} \\\\\n",
    "        \n",
    "    \\end{matrix}\n",
    "\\right]\n",
    "$$  "
   ],
   "metadata": {}
  },
  {
   "cell_type": "code",
   "execution_count": 1,
   "source": [
    "from sympy import *\r\n",
    "\r\n",
    "a, b, c = symbols('a b c')\r\n",
    "\r\n",
    "linsolve(Matrix((\r\n",
    "        [3, -1, -1, 6],\r\n",
    "        [3, -1, 4, 2],\r\n",
    "        [3, -4, 1, 0],\r\n",
    "        )), (a,b,c))"
   ],
   "outputs": [
    {
     "output_type": "execute_result",
     "data": {
      "text/plain": [
       "FiniteSet((20/9, 22/15, -4/5))"
      ],
      "text/latex": [
       "$\\displaystyle \\left\\{\\left( \\frac{20}{9}, \\  \\frac{22}{15}, \\  - \\frac{4}{5}\\right)\\right\\}$"
      ]
     },
     "metadata": {},
     "execution_count": 1
    }
   ],
   "metadata": {}
  },
  {
   "cell_type": "code",
   "execution_count": null,
   "source": [],
   "outputs": [],
   "metadata": {}
  }
 ],
 "metadata": {
  "kernelspec": {
   "name": "python3",
   "display_name": "Python 3.9.6 64-bit"
  },
  "language_info": {
   "codemirror_mode": {
    "name": "ipython",
    "version": 3
   },
   "file_extension": ".py",
   "mimetype": "text/x-python",
   "name": "python",
   "nbconvert_exporter": "python",
   "pygments_lexer": "ipython3",
   "version": "3.9.6"
  },
  "interpreter": {
   "hash": "c1a7846af735771808fbc8272134e7984cc669109ae413ca91ad8b74a534aa1b"
  }
 },
 "nbformat": 4,
 "nbformat_minor": 5
}