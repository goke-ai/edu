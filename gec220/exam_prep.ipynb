{
 "cells": [
  {
   "cell_type": "code",
   "execution_count": null,
   "metadata": {},
   "outputs": [],
   "source": [
    "!pip install numpy -q\n",
    "!pip install sympy -q"
   ]
  },
  {
   "cell_type": "code",
   "execution_count": null,
   "metadata": {},
   "outputs": [],
   "source": [
    "import numpy as np\n",
    "\n",
    "A = np.random.randint(-9, 9, (5, 5))\n",
    "\n",
    "print(A)\n",
    "\n",
    "D0 = np.linalg.det(A)\n",
    "print(D0)\n",
    "\n",
    "b = np.random.randint(-12, 12, (5, 1))\n",
    "print(b)\n",
    "\n",
    "# M = np.concatenate((A, b), axis=1)\n",
    "\n",
    "# print()\n",
    "# print(\"M = \\n\", M)\n",
    "\n",
    "x = np.linalg.solve(A, b)\n",
    "print(x)\n",
    "\n",
    "# x2 = abs(x) % 1\n",
    "# if (x2 == 0).all() == False:\n",
    "#     continue"
   ]
  },
  {
   "cell_type": "code",
   "execution_count": null,
   "metadata": {},
   "outputs": [],
   "source": [
    "# get 3x3\n",
    "E = A[:2, :2]\n",
    "\n",
    "# eigen\n",
    "ei_val, ei_vec = np.linalg.eig(E)\n",
    "\n",
    "print(\"E= \", E)\n",
    "\n",
    "print(\"ei_val= \", ei_val)\n",
    "print(\"ei_vec= \", ei_vec)"
   ]
  },
  {
   "cell_type": "code",
   "execution_count": null,
   "metadata": {},
   "outputs": [],
   "source": [
    "import numpy as np\n",
    "\n",
    "for i in range(20):\n",
    "    A = np.random.randint(-9, 9, (5, 5))\n",
    "\n",
    "    if np.linalg.det(A) == 0:\n",
    "        continue\n",
    "\n",
    "    b = np.random.randint(-12, 12, (5, 1))\n",
    "\n",
    "    # M = np.concatenate((A, b), axis=1)\n",
    "\n",
    "    # print()\n",
    "    # print(\"M = \\n\", M)\n",
    "\n",
    "    x = np.linalg.solve(A, b)\n",
    "\n",
    "    x2 = abs(x) % 1\n",
    "    if (x2 == 0).all() == False:\n",
    "        continue\n",
    "\n",
    "    # print(\"run \", _i)\n",
    "\n",
    "    # print(\"A = \\n\", A)\n",
    "    # print()\n",
    "    # print(\"b = \\n\", b)\n",
    "\n",
    "    # print()\n",
    "    # print(\"x = \\n\", x)\n",
    "\n",
    "    # get 3x3\n",
    "    E = A[:3, :3]\n",
    "\n",
    "    # eigen\n",
    "    ei_val, ei_vec = np.linalg.eig(E)\n",
    "\n",
    "    if np.iscomplex(ei_val).any() or np.iscomplex(ei_vec).any():\n",
    "        continue\n",
    "\n",
    "    else:\n",
    "        a = ei_val\n",
    "        # a1 = np.trunc(a)\n",
    "        # a2 = abs(a-a1)\n",
    "        a2 = abs(a) % 1\n",
    "\n",
    "        if (a2 == 0).all() == False:\n",
    "            continue\n",
    "\n",
    "        print(\"run \", i + 1)\n",
    "\n",
    "        print(\"A = \\n\", A)\n",
    "        print()\n",
    "        print(\"b = \\n\", b)\n",
    "\n",
    "        print()\n",
    "        print(\"x = \\n\", x)\n",
    "\n",
    "        print()\n",
    "        print(\"E = \\n\", E)\n",
    "\n",
    "        print()\n",
    "        print(\"eigen-values = \\n\", ei_val)\n",
    "\n",
    "        print()\n",
    "        print(\"eigen-vectors = \\n\", ei_vec)\n",
    "\n",
    "        print(\"/////////////////////////////////////////////////////\")\n",
    "        # break"
   ]
  },
  {
   "cell_type": "code",
   "execution_count": null,
   "metadata": {},
   "outputs": [],
   "source": [
    "print(x)\n",
    "x2 = abs(x) % 1\n",
    "print(x2)\n",
    "x2 == 0"
   ]
  },
  {
   "cell_type": "code",
   "execution_count": null,
   "metadata": {},
   "outputs": [],
   "source": [
    "c = np.array(\n",
    "    [1, 2 + 2j],\n",
    ")\n",
    "if np.iscomplex(c).any() == True:\n",
    "    print(\"complex\")\n",
    "\n",
    "c.dtype\n",
    "np.iscomplex(c)"
   ]
  },
  {
   "cell_type": "code",
   "execution_count": null,
   "metadata": {},
   "outputs": [],
   "source": [
    "np.iscomplex(c).any()"
   ]
  },
  {
   "cell_type": "code",
   "execution_count": null,
   "metadata": {},
   "outputs": [],
   "source": [
    "print()\n",
    "print(\"eigen-values = \\n\", ei_val)\n",
    "\n",
    "print()\n",
    "print(\"eigen-vectors = \\n\", ei_vec)\n",
    "\n",
    "for i in range(len(ei_val)):\n",
    "    print()\n",
    "    print(\"eigen-value = \", ei_val[i])\n",
    "    print()\n",
    "    print(\"eigen-vector = \\n\", ei_vec[:, i])"
   ]
  },
  {
   "cell_type": "code",
   "execution_count": null,
   "metadata": {},
   "outputs": [],
   "source": [
    "import numpy as np\n",
    "\n",
    "A = np.array(\n",
    "    [\n",
    "        [-2, -7, -6, 0, 3],\n",
    "        [-9, -3, 8, 0, 5],\n",
    "        [-7, 2, 1, -8, 7],\n",
    "        [1, 4, 1, -3, 7],\n",
    "        [0, -2, -3, -6, -9],\n",
    "    ]\n",
    ")\n",
    "print(\"A= \\n\", A)\n",
    "\n",
    "X = np.array(\n",
    "    [\n",
    "        [\"a\"],\n",
    "        [\"b\"],\n",
    "        [\"c\"],\n",
    "        [\"d\"],\n",
    "        [\"e\"],\n",
    "    ]\n",
    ")\n",
    "print(\"x= \\n\", X)\n",
    "\n",
    "b = np.array(\n",
    "    [\n",
    "        [7],\n",
    "        [-9],\n",
    "        [-7],\n",
    "        [2],\n",
    "        [-5],\n",
    "    ]\n",
    ")\n",
    "print(\"b= \\n\", b)"
   ]
  },
  {
   "cell_type": "code",
   "execution_count": null,
   "metadata": {},
   "outputs": [],
   "source": [
    "print(\"Write the matrices form. A∙x=b\\n\")\n",
    "print(A, \"\\n.\", \"\\n\", X, \"\\n=\", \"\\n\", b)\n",
    "print(\"A.x = b\")"
   ]
  },
  {
   "cell_type": "code",
   "execution_count": null,
   "metadata": {},
   "outputs": [],
   "source": [
    "print(\"What is the order of matrix A\")\n",
    "\n",
    "(m, n) = A.shape\n",
    "\n",
    "print(f\"{m} x {n}\")"
   ]
  },
  {
   "cell_type": "code",
   "execution_count": null,
   "metadata": {},
   "outputs": [],
   "source": [
    "print(\"What is the order of matrix b\")\n",
    "\n",
    "(m, n) = b.shape\n",
    "\n",
    "print(f\"{m} x {n}\")"
   ]
  },
  {
   "cell_type": "code",
   "execution_count": null,
   "metadata": {},
   "outputs": [],
   "source": [
    "print(\"Write the augment matrix A_b,\tA_b=[A|b]\")\n",
    "\n",
    "Ab = np.hstack((A, b))\n",
    "\n",
    "Ab = np.round(Ab, 2)\n",
    "\n",
    "print(\"Ab =\\n\", Ab)"
   ]
  },
  {
   "cell_type": "code",
   "execution_count": null,
   "metadata": {},
   "outputs": [],
   "source": [
    "print(\"What is the order of matrix Ab\")\n",
    "\n",
    "(m, n) = Ab.shape\n",
    "\n",
    "print(f\"{m} x {n}\")"
   ]
  },
  {
   "cell_type": "code",
   "execution_count": null,
   "metadata": {},
   "outputs": [],
   "source": [
    "print('Solve the system of linear equation using Gaussian Elimination')"
   ]
  },
  {
   "cell_type": "code",
   "execution_count": null,
   "metadata": {},
   "outputs": [],
   "source": [
    "P = m\n",
    "k = 0\n",
    "i = 0\n",
    "j = 0\n",
    "p = 0\n",
    "\n",
    "wAb = Ab.astype(float).copy()\n",
    "\n",
    "print('Ab=\\n', wAb)\n",
    "\n",
    "for p in range(P):\n",
    "    _p=p+1\n",
    "    if(wAb[p, p] == 0):\n",
    "        print(f'\\na{_p}{_p} = 0')\n",
    "        for j in range(_p, m):\n",
    "            _j = j+1\n",
    "            if wAb[j, p] != 0:\n",
    "                print(f'a{_j}{_p} = {wAb[j,p]}. (it is not equal to zero, swap R{_p} and R{_j})')\n",
    "                temp = wAb[j].copy()\n",
    "                wAb[j] = wAb[p]\n",
    "                wAb[p] = temp\n",
    "                k += 1\n",
    "                print('p=', _p, 'k=', k)\n",
    "                print('Ab=\\n', wAb)\n",
    "                break\n",
    "\n",
    "    for i in range(_p, m):\n",
    "        _i=i+1\n",
    "        print()\n",
    "        print(f'p={_p}, i={_i}, k={k}')\n",
    "        print(f'R{_i} = R{_i} - R{_p}*(a{_i}{_p}/a{_p}{_p})')\n",
    "        print(f'R{_i} = {wAb[i]} - {wAb[p]} * ({wAb[i, p]}/{wAb[p, p]})')\n",
    "        \n",
    "        wAb[i] = wAb[i] - (wAb[p]*wAb[i, p]/wAb[p, p])\n",
    "\n",
    "        print(f'R{_i} = {wAb[i]}')\n",
    "        \n",
    "        wAb = np.round(wAb, 2)\n",
    "        print('Ab=\\n', wAb)\n",
    "\n",
    "print('Ab=\\n', wAb)\n"
   ]
  },
  {
   "cell_type": "code",
   "execution_count": null,
   "metadata": {},
   "outputs": [],
   "source": [
    "\n",
    "# backward substitution\n",
    "m,n = wAb.shape\n",
    "x = np.zeros_like(b).astype(float)\n",
    "\n",
    "for i in range(m-1, 0, -1):\n",
    "    _i = i+1    \n",
    "    print(f'\\ni= {_i}, m={m}')\n",
    "    x[i] = wAb[i, m]\n",
    "\n",
    "    for j in range(_i, m):\n",
    "        _j = j+1\n",
    "        print(f'x{_i} = x{_i} - (T{_i}{_j} * x{_j})')\n",
    "        print(f'x{_i} = {x[i,0]} - ({wAb[i,j]} * {x[j,0]})')\n",
    "        \n",
    "        x[i] -= wAb[i, j]*x[j]\n",
    "        print(f'x{_i} = {x[i,0]}')\n",
    "        \n",
    "\n",
    "    print(f'x{_i} = x{_i} / T{_i}{_i}')\n",
    "    print(f'x{_i} = {x[i,0]} / {wAb[i,i]}')\n",
    "    x[i] /= wAb[i, i]\n",
    "    print(f'x{_i} = {x[i,0]}')\n",
    "\n",
    "print('x=\\n', x)\n"
   ]
  },
  {
   "cell_type": "code",
   "execution_count": null,
   "metadata": {},
   "outputs": [],
   "source": [
    "\n",
    "# determinant\n",
    "D = -1**k\n",
    "for p in range(m):\n",
    "    D *= Ab[p,p]\n",
    "\n",
    "print('g. Determinant= ', D)\n",
    "\n",
    "# rank\n",
    "r=0\n",
    "for p in range(m):\n",
    "    if Ab[p,p] != 0:\n",
    "        r+=1\n",
    "\n",
    "print('h. rank= ', r)\n",
    "print('i. A is full rank= ', r == m)\n"
   ]
  },
  {
   "cell_type": "code",
   "execution_count": null,
   "metadata": {},
   "outputs": [],
   "source": [
    "print(A, \"\\n.\", \"\\n\", X, \"\\n=\", \"\\n\", b)\n",
    "\n",
    "D0 = np.linalg.det(A)\n",
    "print(\"\\nD0= \", D0)\n",
    "\n",
    "x = np.linalg.solve(A, b)\n",
    "print(\"x= \\n\", x)"
   ]
  },
  {
   "cell_type": "code",
   "execution_count": null,
   "metadata": {},
   "outputs": [],
   "source": [
    "E = A[:2, :2]\n",
    "\n",
    "# eigen\n",
    "ei_val, ei_vec = np.linalg.eig(E)\n",
    "\n",
    "print(\"E= \\n\", E)\n",
    "\n",
    "print(\"ei_val= \\n\", ei_val)\n",
    "print(\"ei_vec= \\n\", ei_vec)"
   ]
  },
  {
   "cell_type": "code",
   "execution_count": null,
   "metadata": {},
   "outputs": [],
   "source": [
    "n = 4\n",
    "An = A[:n, :n]\n",
    "Dn = np.linalg.det(An)\n",
    "print(\"D0= \", Dn)"
   ]
  },
  {
   "cell_type": "code",
   "execution_count": null,
   "metadata": {},
   "outputs": [],
   "source": [
    "from sympy import *\n",
    "\n",
    "AA = Matrix(\n",
    "    (\n",
    "        (-2, -7, -6, 0, 3),\n",
    "        (-9, -3, 8, 0, 5),\n",
    "        (-7, 2, 1, -8, 7),\n",
    "        (1, 4, 1, -3, 7),\n",
    "        (0, -2, -3, -6, -9),\n",
    "    )\n",
    ")\n",
    "AA"
   ]
  },
  {
   "cell_type": "code",
   "execution_count": null,
   "metadata": {},
   "outputs": [],
   "source": [
    "xx = Matrix(\n",
    "    (\n",
    "        (\"a\"),\n",
    "        (\"b\"),\n",
    "        (\"c\"),\n",
    "        (\"d\"),\n",
    "        (\"e\"),\n",
    "    )\n",
    ")\n",
    "xx"
   ]
  },
  {
   "cell_type": "code",
   "execution_count": null,
   "metadata": {},
   "outputs": [],
   "source": [
    "bb = Matrix(\n",
    "    (\n",
    "        (7),\n",
    "        (-9),\n",
    "        (-7),\n",
    "        (2),\n",
    "        (-5),\n",
    "    )\n",
    ")\n",
    "bb"
   ]
  },
  {
   "cell_type": "code",
   "execution_count": null,
   "metadata": {},
   "outputs": [],
   "source": [
    "MM = AA.col_insert(5, bb)\n",
    "\n",
    "v, w, x, y, z = symbols(\"v,w,x,y,z\")\n",
    "\n",
    "system = MM[:, :-1], MM[:, -1]\n",
    "\n",
    "linsolve(system, v, w, x, y, z)"
   ]
  },
  {
   "cell_type": "code",
   "execution_count": null,
   "metadata": {},
   "outputs": [],
   "source": [
    "MM.rref()"
   ]
  },
  {
   "cell_type": "code",
   "execution_count": null,
   "metadata": {},
   "outputs": [],
   "source": [
    "d = AA.det()\n",
    "print(d)"
   ]
  },
  {
   "cell_type": "code",
   "execution_count": null,
   "metadata": {},
   "outputs": [],
   "source": [
    "EE = MM[:2, :2]\n",
    "\n",
    "EE"
   ]
  },
  {
   "cell_type": "code",
   "execution_count": null,
   "metadata": {},
   "outputs": [],
   "source": [
    "EE.eigenvals()"
   ]
  },
  {
   "cell_type": "code",
   "execution_count": null,
   "metadata": {},
   "outputs": [],
   "source": [
    "EE.eigenvects()"
   ]
  },
  {
   "cell_type": "code",
   "execution_count": null,
   "metadata": {},
   "outputs": [],
   "source": [
    "import numpy as np\n",
    "\n",
    "x = np.array(\n",
    "    [\n",
    "        [\"a\"],\n",
    "        [\"b\"],\n",
    "        [\"c\"],\n",
    "        [\"d\"],\n",
    "        [\"e\"],\n",
    "    ]\n",
    ")\n",
    "print(\"x=\\n\", x)\n",
    "\n",
    "Ax = np.append(A, x, axis=1)\n",
    "Axb = np.append(Ax, b, axis=1)\n",
    "\n",
    "print(\"a. A.x=b \\n\", Axb)\n",
    "\n",
    "print(\"b. order of A:\", A.shape)\n",
    "print(\"c. order of b:\", b.shape)\n",
    "\n",
    "x[:] = \"|\"\n",
    "Ax = np.append(A, x, axis=1)\n",
    "Axb = np.append(Ax, b, axis=1)\n",
    "\n",
    "print(\"d. Ab: \\n\", Axb)\n",
    "\n",
    "Ab = np.append(A, b, axis=1)\n",
    "print(\"e. order of Ab: \", Ab.shape)\n",
    "\n",
    "Ab = np.append(A.astype(float), b.astype(float), axis=1)\n",
    "# Ab = np.append(A, b, axis=1)\n",
    "\n",
    "M, N = Ab.shape\n",
    "P = M - 1\n",
    "k = 0\n",
    "i = 0\n",
    "j = 0\n",
    "p = 0\n",
    "print(\"Ab=\\n\", Ab)\n",
    "\n",
    "for p in range(P):\n",
    "    if Ab[p, p] == 0:\n",
    "        for j in range(p + 1, M):\n",
    "            if Ab[j, p] != 0:\n",
    "                temp = Ab[j].copy()\n",
    "                Ab[j] = Ab[p]\n",
    "                Ab[p] = temp\n",
    "                k += 1\n",
    "                print(\"p=\", p + 1, \"k=\", k)\n",
    "                print(\"Ab=\\n\", Ab)\n",
    "                break\n",
    "\n",
    "    for i in range(p + 1, M):\n",
    "        Ab[i] = Ab[i] - (Ab[p] * Ab[i, p] / Ab[p, p])\n",
    "\n",
    "        print(\"p=\", p + 1, \"i=\", i + 1)\n",
    "        print(\"Ab=\\n\", Ab)\n",
    "\n",
    "print(\"Ab=\\n\", Ab)\n",
    "\n",
    "# backward substitution\n",
    "x = np.zeros_like(b).astype(float)\n",
    "for i in range(M - 1, 0, -1):\n",
    "    x[i] = Ab[i, M]\n",
    "    for j in range(i + 1, M):\n",
    "        x[i] -= Ab[i, j] * x[j]\n",
    "\n",
    "    x[i] /= Ab[i, i]\n",
    "\n",
    "print(\"g. x=\\n\", x)\n",
    "\n",
    "# determinant\n",
    "D = -(1**k)\n",
    "for p in range(M):\n",
    "    D *= Ab[p, p]\n",
    "\n",
    "print(\"g. Determinant= \", D)\n",
    "\n",
    "# rank\n",
    "r = 0\n",
    "for p in range(M):\n",
    "    if Ab[p, p] != 0:\n",
    "        r += 1\n",
    "\n",
    "print(\"h. rank= \", r)\n",
    "print(\"i. A is full rank= \", r == M)\n",
    "\n",
    "\n",
    "# eigen matrix\n",
    "Ne = 2\n",
    "E = A[:Ne, :Ne]\n",
    "print(\"E=\\n\", E)\n",
    "\n",
    "Ev = np.linalg.eig(E)\n",
    "\n",
    "print(Ev[0])\n",
    "\n",
    "for i in range(len(Ev[0])):\n",
    "    print(\"eigen value: \", Ev[0][i])\n",
    "    print(\"eigen vector: \\n\", (Ev[1][:, i].reshape(Ne, 1)))\n",
    "    y = Ev[1][:, i] / Ev[1][0, i]\n",
    "    print(\"eigen vector: \\n\", y.reshape(Ne, 1))\n",
    "\n",
    "Ev"
   ]
  },
  {
   "cell_type": "code",
   "execution_count": null,
   "metadata": {},
   "outputs": [],
   "source": [
    "np.linalg.solve(A, b)"
   ]
  },
  {
   "cell_type": "code",
   "execution_count": null,
   "metadata": {},
   "outputs": [],
   "source": [
    "np.linalg.det(A)"
   ]
  },
  {
   "cell_type": "code",
   "execution_count": null,
   "metadata": {},
   "outputs": [],
   "source": []
  }
 ],
 "metadata": {
  "kernelspec": {
   "display_name": "Python 3.10.5 64-bit",
   "language": "python",
   "name": "python3"
  },
  "language_info": {
   "codemirror_mode": {
    "name": "ipython",
    "version": 3
   },
   "file_extension": ".py",
   "mimetype": "text/x-python",
   "name": "python",
   "nbconvert_exporter": "python",
   "pygments_lexer": "ipython3",
   "version": "3.11.2"
  },
  "orig_nbformat": 4,
  "vscode": {
   "interpreter": {
    "hash": "daf545e9c8d1f6d971c9121d175f68d500da6da1b984137958b2bb126fd81e67"
   }
  }
 },
 "nbformat": 4,
 "nbformat_minor": 2
}
