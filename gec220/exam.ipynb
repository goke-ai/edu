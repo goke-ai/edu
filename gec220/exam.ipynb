{
 "cells": [
  {
   "cell_type": "markdown",
   "id": "673922cb",
   "metadata": {},
   "source": [
    "$$\n",
    "A=\\left[\n",
    "    \\begin{matrix}\n",
    "        1 & -1 & -1 & 1 \\\\ \n",
    "        3 & 1 & 1 & -4 \\\\ \n",
    "        -2 & 1 & -5 & 1 \\\\ \n",
    "        3 & 1 & -2 & -1 \\\\ \n",
    "    \\end{matrix}\n",
    "    \\right]\t\n",
    "$$"
   ]
  },
  {
   "cell_type": "markdown",
   "id": "734bfd8b",
   "metadata": {},
   "source": [
    "$$\n",
    "b=\\left[\n",
    "    \\begin{matrix}\n",
    "        1  \\\\ \n",
    "        2  \\\\ \n",
    "        -3  \\\\ \n",
    "        4  \\\\ \n",
    "    \\end{matrix}\n",
    "    \\right]\t\n",
    "$$"
   ]
  },
  {
   "cell_type": "markdown",
   "id": "6c08335f",
   "metadata": {},
   "source": [
    "$$\n",
    "\\left[\n",
    "    \\begin{matrix}\n",
    "        1 & -1 & -1 & 1 \\\\ \n",
    "        3 & 1 & 1 & -4 \\\\ \n",
    "        -2 & 1 & -5 & 1 \\\\ \n",
    "        3 & 1 & -2 & -1 \\\\ \n",
    "    \\end{matrix}\n",
    "    \\right]\t\n",
    "\\left[\n",
    "    \\begin{matrix}\n",
    "        a \\\\ \n",
    "        b \\\\ \n",
    "        c \\\\ \n",
    "        d \\\\ \n",
    "    \\end{matrix}\n",
    "    \\right]\t\n",
    "=\n",
    "\\left[\n",
    "    \\begin{matrix}\n",
    "        1 \\\\ \n",
    "        2 \\\\ \n",
    "        -3 \\\\ \n",
    "        4 \\\\ \n",
    "    \\end{matrix}\n",
    "    \\right]\t\n",
    "$$"
   ]
  },
  {
   "cell_type": "code",
   "execution_count": 1,
   "id": "1621fe80",
   "metadata": {},
   "outputs": [],
   "source": [
    "import numpy as np\r\n",
    "\r\n",
    "A = np.array(\r\n",
    "    [\r\n",
    "        [1, -1, -1, 1],\r\n",
    "        [3, 1, 1, -4],\r\n",
    "        [-2, 1, -5, 1],\r\n",
    "        [3, 1, -2, -1],\r\n",
    "    ], dtype=float\r\n",
    ")\r\n",
    "\r\n",
    "b = np.array(\r\n",
    "    [\r\n",
    "        [1],\r\n",
    "        [2],\r\n",
    "        [-3],\r\n",
    "        [4],\r\n",
    "    ], dtype=float\r\n",
    ")"
   ]
  },
  {
   "cell_type": "code",
   "execution_count": 2,
   "id": "c10f7c7d",
   "metadata": {},
   "outputs": [
    {
     "name": "stdout",
     "output_type": "stream",
     "text": [
      "order of A=\n",
      " [[ 1. -1. -1.  1.]\n",
      " [ 3.  1.  1. -4.]\n",
      " [-2.  1. -5.  1.]\n",
      " [ 3.  1. -2. -1.]] =  4 x 4\n"
     ]
    }
   ],
   "source": [
    "import numpy as np\r\n",
    "\r\n",
    "(m,n) = np.shape(A)\r\n",
    "print('order of A=\\n', A, '= ', f'{m} x {n}')"
   ]
  },
  {
   "cell_type": "markdown",
   "id": "f1392ff0",
   "metadata": {},
   "source": [
    "$$\n",
    "A=\n",
    "\\left[\n",
    "    \\begin{matrix}\n",
    "        1 & -1 & -1 & 1 \\\\ \n",
    "        3 & 1 & 1 & -4 \\\\ \n",
    "        -2 & 1 & -5 & 1 \\\\ \n",
    "        3 & 1 & -2 & -1 \\\\ \n",
    "    \\end{matrix}\n",
    "    \\right]\t\n",
    "= 4 \\times 4\n",
    "$$"
   ]
  },
  {
   "cell_type": "code",
   "execution_count": 3,
   "id": "55e0db97",
   "metadata": {},
   "outputs": [
    {
     "name": "stdout",
     "output_type": "stream",
     "text": [
      "order of b= \n",
      " [[ 1.]\n",
      " [ 2.]\n",
      " [-3.]\n",
      " [ 4.]] =  4 x 1\n"
     ]
    }
   ],
   "source": [
    "import numpy as np\r\n",
    "\r\n",
    "(m,n) = np.shape(b)\r\n",
    "print('order of b= \\n', b, '= ', f'{m} x {n}')"
   ]
  },
  {
   "cell_type": "markdown",
   "id": "a067ac16",
   "metadata": {},
   "source": [
    "$$ \n",
    "b=\n",
    "\\left[\n",
    "    \\begin{matrix}\n",
    "        1 \\\\ \n",
    "        2 \\\\ \n",
    "        -3 \\\\ \n",
    "        4 \\\\ \n",
    "    \\end{matrix}\n",
    "    \\right]\t\n",
    "= 4 \\times 1\n",
    "$$"
   ]
  },
  {
   "cell_type": "markdown",
   "id": "713caed1-11f3-46f0-b7c5-80404747cabd",
   "metadata": {},
   "source": [
    "$$\n",
    "A_b=[A|b]=\\left[\n",
    "    \\begin{matrix}\n",
    "        1 & -1 & -1 & 1 & | & 1 \\\\ \n",
    "        3 & 1 & 1 & -4 & | & 2 \\\\ \n",
    "        -2 & 1 & -5 & 1 & | & -3 \\\\ \n",
    "        3 & 1 & -2 & -1 & | & 4 \\\\ \n",
    "    \\end{matrix}\n",
    "    \\right]\t\n",
    "$$"
   ]
  },
  {
   "cell_type": "markdown",
   "id": "37c4f189-1308-4d16-aa04-55bfc5dc7a68",
   "metadata": {},
   "source": [
    "$$\n",
    "A_b=\\left[\n",
    "    \\begin{matrix}\n",
    "        1 & -1 & -1 & 1 & | & 1 \\\\ \n",
    "        3 & 1 & 1 & -4 & | & 2 \\\\ \n",
    "        -2 & 1 & -5 & 1 & | & -3 \\\\ \n",
    "        3 & 1 & -2 & -1 & | & 4 \\\\ \n",
    "    \\end{matrix}\n",
    "    \\right]\t\n",
    "= 4 \\times 5\n",
    "$$"
   ]
  },
  {
   "cell_type": "code",
   "execution_count": 4,
   "id": "e98ab2f0",
   "metadata": {},
   "outputs": [
    {
     "name": "stdout",
     "output_type": "stream",
     "text": [
      "x = \n",
      " [[1.57894737]\n",
      " [1.24561404]\n",
      " [0.43859649]\n",
      " [1.10526316]]\n"
     ]
    }
   ],
   "source": [
    "x = np.linalg.solve(A,b)\r\n",
    "\r\n",
    "print('x = \\n', x)\r\n"
   ]
  },
  {
   "cell_type": "code",
   "execution_count": 5,
   "id": "3fbbd4d2",
   "metadata": {},
   "outputs": [
    {
     "data": {
      "text/latex": [
       "$\\displaystyle \\left\\{\\left( \\frac{30}{19}, \\  \\frac{71}{57}, \\  \\frac{25}{57}, \\  \\frac{21}{19}\\right)\\right\\}$"
      ],
      "text/plain": [
       "FiniteSet((30/19, 71/57, 25/57, 21/19))"
      ]
     },
     "execution_count": 5,
     "metadata": {},
     "output_type": "execute_result"
    }
   ],
   "source": [
    "from sympy import *\r\n",
    "\r\n",
    "x1, x2, x3, x4 =symbols('a b c d')\r\n",
    "\r\n",
    "linsolve(\r\n",
    "    Matrix(\r\n",
    "        (\r\n",
    "           [1, -1, -1, 1, 1],\r\n",
    "            [3, 1, 1, -4, 2],\r\n",
    "            [-2, 1, -5, 1, -3],\r\n",
    "            [3, 1, -2, -1, 4],\r\n",
    "        )\r\n",
    "    ), \r\n",
    "    (x1, x2, x3, x4)\r\n",
    ")\r\n"
   ]
  },
  {
   "cell_type": "code",
   "execution_count": 6,
   "id": "424faec1",
   "metadata": {},
   "outputs": [
    {
     "name": "stdout",
     "output_type": "stream",
     "text": [
      "M =\n",
      " [[ 1. -1. -1.  1.  1.]\n",
      " [ 3.  1.  1. -4.  2.]\n",
      " [-2.  1. -5.  1. -3.]\n",
      " [ 3.  1. -2. -1.  4.]]\n",
      "mxn =  4 x 5\n",
      "A = \n",
      " [[ 1. -1. -1.  1.]\n",
      " [ 3.  1.  1. -4.]\n",
      " [-2.  1. -5.  1.]\n",
      " [ 3.  1. -2. -1.]]\n",
      "|A| =  -57.00000000000001\n",
      "rank(A) =  4\n",
      "p = 1, i=2\n",
      "M =\n",
      " [[ 1. -1. -1.  1.  1.]\n",
      " [ 0.  4.  4. -7. -1.]\n",
      " [-2.  1. -5.  1. -3.]\n",
      " [ 3.  1. -2. -1.  4.]]\n",
      "p = 1, i=3\n",
      "M =\n",
      " [[ 1. -1. -1.  1.  1.]\n",
      " [ 0.  4.  4. -7. -1.]\n",
      " [ 0. -1. -7.  3. -1.]\n",
      " [ 3.  1. -2. -1.  4.]]\n",
      "p = 1, i=4\n",
      "M =\n",
      " [[ 1. -1. -1.  1.  1.]\n",
      " [ 0.  4.  4. -7. -1.]\n",
      " [ 0. -1. -7.  3. -1.]\n",
      " [ 0.  4.  1. -4.  1.]]\n",
      "p = 2, i=3\n",
      "M =\n",
      " [[ 1.   -1.   -1.    1.    1.  ]\n",
      " [ 0.    4.    4.   -7.   -1.  ]\n",
      " [ 0.    0.   -6.    1.25 -1.25]\n",
      " [ 0.    4.    1.   -4.    1.  ]]\n",
      "p = 2, i=4\n",
      "M =\n",
      " [[ 1.   -1.   -1.    1.    1.  ]\n",
      " [ 0.    4.    4.   -7.   -1.  ]\n",
      " [ 0.    0.   -6.    1.25 -1.25]\n",
      " [ 0.    0.   -3.    3.    2.  ]]\n",
      "p = 3, i=4\n",
      "M =\n",
      " [[ 1.    -1.    -1.     1.     1.   ]\n",
      " [ 0.     4.     4.    -7.    -1.   ]\n",
      " [ 0.     0.    -6.     1.25  -1.25 ]\n",
      " [ 0.     0.     0.     2.375  2.625]]\n",
      "|A| = -57.0\n"
     ]
    }
   ],
   "source": [
    "import numpy as np\r\n",
    "from fractions import Fraction\r\n",
    "\r\n",
    "# M = np.array(\r\n",
    "#     [\r\n",
    "#         [1, -1, -1, 1, 1],\r\n",
    "#         [3, 1, 1, -4, 2],\r\n",
    "#         [-2, 1, -5, 1, -3],\r\n",
    "#         [3, 1, -2, -1, 4],\r\n",
    "#     ],dtype=float\r\n",
    "# )\r\n",
    "M = np.append(A,b, axis=1)\r\n",
    "\r\n",
    "print('M =\\n', M)\r\n",
    "(m,n) = M.shape\r\n",
    "print('mxn = ', m, 'x', n)\r\n",
    "print('A = \\n', M[:m,:m])\r\n",
    "print('|A| = ', np.linalg.det(M[:m,:m]))\r\n",
    "print('rank(A) = ', np.linalg.matrix_rank(M[:m,:m]))\r\n",
    "\r\n",
    "k = 0\r\n",
    "p = 0\r\n",
    "\r\n",
    "for p in range(0,m-1):\r\n",
    "    for i in range(p+1,m):\r\n",
    "        if M[p,p] == 0:\r\n",
    "            # change row\r\n",
    "            for j in range(i,m):\r\n",
    "                if M[j,p] != 0:\r\n",
    "                    k += 1\r\n",
    "                    Mp = np.copy(M[p])\r\n",
    "                    M[p] = M[j]\r\n",
    "                    M[j] = Mp\r\n",
    "\r\n",
    "                    print('Mx =\\n', M)\r\n",
    "                    break\r\n",
    "\r\n",
    "        M[i] = M[i,:] - M[p,:]*M[i,p]/M[p,p]\r\n",
    "        print(f'p = {p+1}, i={i+1}')\r\n",
    "        print('M =\\n', M)\r\n",
    "\r\n",
    "detA =1\r\n",
    "for p in range(0,m):\r\n",
    "    detA *= M[p,p]\r\n",
    "\r\n",
    "print('|A| =', detA)"
   ]
  },
  {
   "cell_type": "code",
   "execution_count": 7,
   "id": "550f3320",
   "metadata": {},
   "outputs": [
    {
     "name": "stdout",
     "output_type": "stream",
     "text": [
      "|A| = -57.0\n"
     ]
    }
   ],
   "source": [
    "detA = 1\r\n",
    "for p in range(m):\r\n",
    "    detA *= M[p,p]\r\n",
    "\r\n",
    "print('|A| =', detA)\r\n"
   ]
  },
  {
   "cell_type": "code",
   "execution_count": 8,
   "id": "a3e77795",
   "metadata": {},
   "outputs": [
    {
     "name": "stdout",
     "output_type": "stream",
     "text": [
      "rank(A) =  4\n"
     ]
    }
   ],
   "source": [
    "rankA = np.linalg.matrix_rank(A)\r\n",
    "print('rank(A) = ', rankA)"
   ]
  },
  {
   "cell_type": "code",
   "execution_count": 9,
   "id": "b97fb391",
   "metadata": {},
   "outputs": [
    {
     "name": "stdout",
     "output_type": "stream",
     "text": [
      "Is full rank=  True\n"
     ]
    }
   ],
   "source": [
    "(m,n) = np.shape(A)\r\n",
    "print('Is full rank= ', rankA == m)"
   ]
  },
  {
   "cell_type": "code",
   "execution_count": 10,
   "id": "1cfc36ff",
   "metadata": {},
   "outputs": [
    {
     "ename": "SyntaxError",
     "evalue": "invalid syntax (Temp/ipykernel_11900/892402566.py, line 4)",
     "output_type": "error",
     "traceback": [
      "\u001b[1;36m  File \u001b[1;32m\"C:\\Users\\gokel\\AppData\\Local\\Temp/ipykernel_11900/892402566.py\"\u001b[1;36m, line \u001b[1;32m4\u001b[0m\n\u001b[1;33m    detA1 = np.linalg.det(A1)\u001b[0m\n\u001b[1;37m    ^\u001b[0m\n\u001b[1;31mSyntaxError\u001b[0m\u001b[1;31m:\u001b[0m invalid syntax\n"
     ]
    }
   ],
   "source": [
    "m=2\r\n",
    "A1 = A[1:1+m,1:1+m]\r\n",
    "print('A = \\n', A\r\n",
    "detA1 = np.linalg.det(A1) \r\n",
    "1)\r\n",
    "print('|A| = detA1A\r\n",
    "rankA1 = np.linalg.matrix_rank(A1)1))\r\n",
    "print('rank(A) =rankA1(\r\n",
    "eigenVal, eigenVec = np.linalg.eig(A1)Aprint('eigenVal = ', eigenVal )\r\n",
    "print('eigenVec = ', eigenVec )\r\n",
    "A1))\r\n"
   ]
  },
  {
   "cell_type": "code",
   "execution_count": null,
   "id": "360f5470",
   "metadata": {},
   "outputs": [],
   "source": []
  }
 ],
 "metadata": {
  "interpreter": {
   "hash": "c1a7846af735771808fbc8272134e7984cc669109ae413ca91ad8b74a534aa1b"
  },
  "kernelspec": {
   "display_name": "Python 3 (ipykernel)",
   "language": "python",
   "name": "python3"
  },
  "language_info": {
   "codemirror_mode": {
    "name": "ipython",
    "version": 3
   },
   "file_extension": ".py",
   "mimetype": "text/x-python",
   "name": "python",
   "nbconvert_exporter": "python",
   "pygments_lexer": "ipython3",
   "version": "3.9.6"
  }
 },
 "nbformat": 4,
 "nbformat_minor": 5
}
