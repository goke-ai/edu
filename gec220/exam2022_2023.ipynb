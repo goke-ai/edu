{
 "cells": [
  {
   "cell_type": "code",
   "execution_count": 1,
   "metadata": {},
   "outputs": [],
   "source": [
    "import numpy as np\n",
    "\n",
    "\n",
    "def quick_check(A, b, X):\n",
    "    print(A, \"\\n.\", \"\\n\", X, \"\\n=\", \"\\n\", b)\n",
    "\n",
    "    D0 = np.linalg.det(A)\n",
    "    print(\"\\nD0= \", D0)\n",
    "\n",
    "    x = np.linalg.solve(A, b)\n",
    "    print(\"x= \\n\", x)\n",
    "\n",
    "    invA = np.linalg.inv(A)\n",
    "    print(\"invA= \\n\", invA)"
   ]
  },
  {
   "cell_type": "code",
   "execution_count": 2,
   "metadata": {},
   "outputs": [
    {
     "name": "stdout",
     "output_type": "stream",
     "text": [
      "A= \n",
      " [[-2 -7 -6  0  3]\n",
      " [-9 -3  8  0  5]\n",
      " [-7  2  1 -8  7]\n",
      " [ 1  4  1 -3  7]\n",
      " [ 0 -2 -2 -6 -9]]\n",
      "x= \n",
      " [['a']\n",
      " ['b']\n",
      " ['c']\n",
      " ['d']\n",
      " ['e']]\n",
      "b= \n",
      " [[ 7]\n",
      " [-9]\n",
      " [-7]\n",
      " [ 2]\n",
      " [-5]]\n"
     ]
    }
   ],
   "source": [
    "import numpy as np\n",
    "\n",
    "dp = 2\n",
    "\n",
    "A = np.array(\n",
    "    [\n",
    "        [-2, -7, -6, 0, 3],\n",
    "        [-9, -3, 8, 0, 5],\n",
    "        [-7, 2, 1, -8, 7],\n",
    "        [1, 4, 1, -3, 7],\n",
    "        [0, -2, -2, -6, -9],\n",
    "    ]\n",
    ")\n",
    "print(\"A= \\n\", A)\n",
    "\n",
    "X = np.array(\n",
    "    [\n",
    "        [\"a\"],\n",
    "        [\"b\"],\n",
    "        [\"c\"],\n",
    "        [\"d\"],\n",
    "        [\"e\"],\n",
    "    ]\n",
    ")\n",
    "print(\"x= \\n\", X)\n",
    "\n",
    "b = np.array(\n",
    "    [\n",
    "        [7],\n",
    "        [-9],\n",
    "        [-7],\n",
    "        [2],\n",
    "        [-5],\n",
    "    ]\n",
    ")\n",
    "print(\"b= \\n\", b)"
   ]
  },
  {
   "cell_type": "code",
   "execution_count": 3,
   "metadata": {},
   "outputs": [
    {
     "name": "stdout",
     "output_type": "stream",
     "text": [
      "Write the matrices form. A∙x=b\n",
      "\n",
      "[[-2 -7 -6  0  3]\n",
      " [-9 -3  8  0  5]\n",
      " [-7  2  1 -8  7]\n",
      " [ 1  4  1 -3  7]\n",
      " [ 0 -2 -2 -6 -9]] \n",
      ". \n",
      " [['a']\n",
      " ['b']\n",
      " ['c']\n",
      " ['d']\n",
      " ['e']] \n",
      "= \n",
      " [[ 7]\n",
      " [-9]\n",
      " [-7]\n",
      " [ 2]\n",
      " [-5]]\n",
      "A.x = b\n"
     ]
    }
   ],
   "source": [
    "print(\"Write the matrices form. A∙x=b\\n\")\n",
    "print(A, \"\\n.\", \"\\n\", X, \"\\n=\", \"\\n\", b)\n",
    "print(\"A.x = b\")"
   ]
  },
  {
   "cell_type": "code",
   "execution_count": 4,
   "metadata": {},
   "outputs": [
    {
     "name": "stdout",
     "output_type": "stream",
     "text": [
      "What is the order of matrix A\n",
      "5 x 5\n"
     ]
    }
   ],
   "source": [
    "print(\"What is the order of matrix A\")\n",
    "\n",
    "(m, n) = A.shape\n",
    "\n",
    "print(f\"{m} x {n}\")"
   ]
  },
  {
   "cell_type": "code",
   "execution_count": 5,
   "metadata": {},
   "outputs": [
    {
     "name": "stdout",
     "output_type": "stream",
     "text": [
      "What is the order of matrix b\n",
      "5 x 1\n"
     ]
    }
   ],
   "source": [
    "print(\"What is the order of matrix b\")\n",
    "\n",
    "(m, n) = b.shape\n",
    "\n",
    "print(f\"{m} x {n}\")"
   ]
  },
  {
   "cell_type": "code",
   "execution_count": 6,
   "metadata": {},
   "outputs": [
    {
     "name": "stdout",
     "output_type": "stream",
     "text": [
      "Write the augment matrix A_b,\tA_b=[A|b]\n",
      "Ab =\n",
      " [[-2 -7 -6  0  3  7]\n",
      " [-9 -3  8  0  5 -9]\n",
      " [-7  2  1 -8  7 -7]\n",
      " [ 1  4  1 -3  7  2]\n",
      " [ 0 -2 -2 -6 -9 -5]]\n"
     ]
    }
   ],
   "source": [
    "print(\"Write the augment matrix A_b,\tA_b=[A|b]\")\n",
    "\n",
    "Ab = np.hstack((A, b))\n",
    "\n",
    "Ab = np.round(Ab, dp)\n",
    "\n",
    "print(\"Ab =\\n\", Ab)"
   ]
  },
  {
   "cell_type": "code",
   "execution_count": 7,
   "metadata": {},
   "outputs": [
    {
     "name": "stdout",
     "output_type": "stream",
     "text": [
      "What is the order of matrix Ab\n",
      "5 x 6\n"
     ]
    }
   ],
   "source": [
    "print(\"What is the order of matrix Ab\")\n",
    "\n",
    "(m, n) = Ab.shape\n",
    "\n",
    "print(f\"{m} x {n}\")"
   ]
  },
  {
   "cell_type": "code",
   "execution_count": 8,
   "metadata": {},
   "outputs": [
    {
     "name": "stdout",
     "output_type": "stream",
     "text": [
      "Solve the system of linear equation using Gaussian Elimination\n"
     ]
    }
   ],
   "source": [
    "print(\"Solve the system of linear equation using Gaussian Elimination\")"
   ]
  },
  {
   "cell_type": "code",
   "execution_count": 9,
   "metadata": {},
   "outputs": [
    {
     "name": "stdout",
     "output_type": "stream",
     "text": [
      "Ab=\n",
      " [[-2. -7. -6.  0.  3.  7.]\n",
      " [-9. -3.  8.  0.  5. -9.]\n",
      " [-7.  2.  1. -8.  7. -7.]\n",
      " [ 1.  4.  1. -3.  7.  2.]\n",
      " [ 0. -2. -2. -6. -9. -5.]]\n",
      "\n",
      "p=1, i=2, k=0\n",
      "R2 = R2 - R1*(a21/a11)\n",
      "R2 = [-9. -3.  8.  0.  5. -9.] - [-2. -7. -6.  0.  3.  7.] * (-9.0/-2.0)\n",
      "R2 = [  0.   28.5  35.    0.   -8.5 -40.5]\n",
      "Ab=\n",
      " [[ -2.   -7.   -6.    0.    3.    7. ]\n",
      " [  0.   28.5  35.    0.   -8.5 -40.5]\n",
      " [ -7.    2.    1.   -8.    7.   -7. ]\n",
      " [  1.    4.    1.   -3.    7.    2. ]\n",
      " [  0.   -2.   -2.   -6.   -9.   -5. ]]\n",
      "\n",
      "p=1, i=3, k=0\n",
      "R3 = R3 - R1*(a31/a11)\n",
      "R3 = [-7.  2.  1. -8.  7. -7.] - [-2. -7. -6.  0.  3.  7.] * (-7.0/-2.0)\n",
      "R3 = [  0.   26.5  22.   -8.   -3.5 -31.5]\n",
      "Ab=\n",
      " [[ -2.   -7.   -6.    0.    3.    7. ]\n",
      " [  0.   28.5  35.    0.   -8.5 -40.5]\n",
      " [  0.   26.5  22.   -8.   -3.5 -31.5]\n",
      " [  1.    4.    1.   -3.    7.    2. ]\n",
      " [  0.   -2.   -2.   -6.   -9.   -5. ]]\n",
      "\n",
      "p=1, i=4, k=0\n",
      "R4 = R4 - R1*(a41/a11)\n",
      "R4 = [ 1.  4.  1. -3.  7.  2.] - [-2. -7. -6.  0.  3.  7.] * (1.0/-2.0)\n",
      "R4 = [ 0.   0.5 -2.  -3.   8.5  5.5]\n",
      "Ab=\n",
      " [[ -2.   -7.   -6.    0.    3.    7. ]\n",
      " [  0.   28.5  35.    0.   -8.5 -40.5]\n",
      " [  0.   26.5  22.   -8.   -3.5 -31.5]\n",
      " [  0.    0.5  -2.   -3.    8.5   5.5]\n",
      " [  0.   -2.   -2.   -6.   -9.   -5. ]]\n",
      "\n",
      "p=1, i=5, k=0\n",
      "R5 = R5 - R1*(a51/a11)\n",
      "R5 = [ 0. -2. -2. -6. -9. -5.] - [-2. -7. -6.  0.  3.  7.] * (0.0/-2.0)\n",
      "R5 = [ 0. -2. -2. -6. -9. -5.]\n",
      "Ab=\n",
      " [[ -2.   -7.   -6.    0.    3.    7. ]\n",
      " [  0.   28.5  35.    0.   -8.5 -40.5]\n",
      " [  0.   26.5  22.   -8.   -3.5 -31.5]\n",
      " [  0.    0.5  -2.   -3.    8.5   5.5]\n",
      " [  0.   -2.   -2.   -6.   -9.   -5. ]]\n",
      "\n",
      "p=2, i=3, k=0\n",
      "R3 = R3 - R2*(a32/a22)\n",
      "R3 = [  0.   26.5  22.   -8.   -3.5 -31.5] - [  0.   28.5  35.    0.   -8.5 -40.5] * (26.5/28.5)\n",
      "R3 = [  0.           0.         -10.54385965  -8.           4.40350877\n",
      "   6.15789474]\n",
      "Ab=\n",
      " [[ -2.    -7.    -6.     0.     3.     7.  ]\n",
      " [  0.    28.5   35.     0.    -8.5  -40.5 ]\n",
      " [  0.     0.   -10.54  -8.     4.4    6.16]\n",
      " [  0.     0.5   -2.    -3.     8.5    5.5 ]\n",
      " [  0.    -2.    -2.    -6.    -9.    -5.  ]]\n",
      "\n",
      "p=2, i=4, k=0\n",
      "R4 = R4 - R2*(a42/a22)\n",
      "R4 = [ 0.   0.5 -2.  -3.   8.5  5.5] - [  0.   28.5  35.    0.   -8.5 -40.5] * (0.5/28.5)\n",
      "R4 = [ 0.          0.         -2.61403509 -3.          8.64912281  6.21052632]\n",
      "Ab=\n",
      " [[ -2.    -7.    -6.     0.     3.     7.  ]\n",
      " [  0.    28.5   35.     0.    -8.5  -40.5 ]\n",
      " [  0.     0.   -10.54  -8.     4.4    6.16]\n",
      " [  0.     0.    -2.61  -3.     8.65   6.21]\n",
      " [  0.    -2.    -2.    -6.    -9.    -5.  ]]\n",
      "\n",
      "p=2, i=5, k=0\n",
      "R5 = R5 - R2*(a52/a22)\n",
      "R5 = [ 0. -2. -2. -6. -9. -5.] - [  0.   28.5  35.    0.   -8.5 -40.5] * (-2.0/28.5)\n",
      "R5 = [ 0.          0.          0.45614035 -6.         -9.59649123 -7.84210526]\n",
      "Ab=\n",
      " [[ -2.    -7.    -6.     0.     3.     7.  ]\n",
      " [  0.    28.5   35.     0.    -8.5  -40.5 ]\n",
      " [  0.     0.   -10.54  -8.     4.4    6.16]\n",
      " [  0.     0.    -2.61  -3.     8.65   6.21]\n",
      " [  0.     0.     0.46  -6.    -9.6   -7.84]]\n",
      "\n",
      "p=3, i=4, k=0\n",
      "R4 = R4 - R3*(a43/a33)\n",
      "R4 = [ 0.    0.   -2.61 -3.    8.65  6.21] - [  0.     0.   -10.54  -8.     4.4    6.16] * (-2.61/-10.54)\n",
      "R4 = [ 0.          0.          0.         -1.01897533  7.56043643  4.68461101]\n",
      "Ab=\n",
      " [[ -2.    -7.    -6.     0.     3.     7.  ]\n",
      " [  0.    28.5   35.     0.    -8.5  -40.5 ]\n",
      " [  0.     0.   -10.54  -8.     4.4    6.16]\n",
      " [  0.     0.     0.    -1.02   7.56   4.68]\n",
      " [  0.     0.     0.46  -6.    -9.6   -7.84]]\n",
      "\n",
      "p=3, i=5, k=0\n",
      "R5 = R5 - R3*(a53/a33)\n",
      "R5 = [ 0.    0.    0.46 -6.   -9.6  -7.84] - [  0.     0.   -10.54  -8.     4.4    6.16] * (0.46/-10.54)\n",
      "R5 = [ 0.          0.          0.         -6.34914611 -9.40796964 -7.5711575 ]\n",
      "Ab=\n",
      " [[ -2.    -7.    -6.     0.     3.     7.  ]\n",
      " [  0.    28.5   35.     0.    -8.5  -40.5 ]\n",
      " [  0.     0.   -10.54  -8.     4.4    6.16]\n",
      " [  0.     0.     0.    -1.02   7.56   4.68]\n",
      " [  0.     0.     0.    -6.35  -9.41  -7.57]]\n",
      "\n",
      "p=4, i=5, k=0\n",
      "R5 = R5 - R4*(a54/a44)\n",
      "R5 = [ 0.    0.    0.   -6.35 -9.41 -7.57] - [ 0.    0.    0.   -1.02  7.56  4.68] * (-6.35/-1.02)\n",
      "R5 = [  0.           0.           0.           0.         -56.47470588\n",
      " -36.70529412]\n",
      "Ab=\n",
      " [[ -2.    -7.    -6.     0.     3.     7.  ]\n",
      " [  0.    28.5   35.     0.    -8.5  -40.5 ]\n",
      " [  0.     0.   -10.54  -8.     4.4    6.16]\n",
      " [  0.     0.     0.    -1.02   7.56   4.68]\n",
      " [  0.     0.     0.     0.   -56.47 -36.71]]\n",
      "Ab=\n",
      " [[ -2.    -7.    -6.     0.     3.     7.  ]\n",
      " [  0.    28.5   35.     0.    -8.5  -40.5 ]\n",
      " [  0.     0.   -10.54  -8.     4.4    6.16]\n",
      " [  0.     0.     0.    -1.02   7.56   4.68]\n",
      " [  0.     0.     0.     0.   -56.47 -36.71]]\n"
     ]
    }
   ],
   "source": [
    "P = m\n",
    "k = 0\n",
    "i = 0\n",
    "j = 0\n",
    "p = 0\n",
    "\n",
    "wAb = Ab.astype(float).copy()\n",
    "\n",
    "print(\"Ab=\\n\", wAb)\n",
    "\n",
    "for p in range(P):\n",
    "    _p = p + 1\n",
    "    if wAb[p, p] == 0:\n",
    "        print(f\"\\na{_p}{_p} = 0\")\n",
    "        for j in range(_p, m):\n",
    "            _j = j + 1\n",
    "            if wAb[j, p] != 0:\n",
    "                print(\n",
    "                    f\"a{_j}{_p} = {wAb[j,p]}. (it is not equal to zero, swap R{_p} and R{_j})\"\n",
    "                )\n",
    "                temp = wAb[j].copy()\n",
    "                wAb[j] = wAb[p]\n",
    "                wAb[p] = temp\n",
    "                k += 1\n",
    "                print(\"p=\", _p, \"k=\", k)\n",
    "                print(\"Ab=\\n\", wAb)\n",
    "                break\n",
    "\n",
    "    for i in range(_p, m):\n",
    "        _i = i + 1\n",
    "        print()\n",
    "        print(f\"p={_p}, i={_i}, k={k}\")\n",
    "        print(f\"R{_i} = R{_i} - R{_p}*(a{_i}{_p}/a{_p}{_p})\")\n",
    "        print(f\"R{_i} = {wAb[i]} - {wAb[p]} * ({wAb[i, p]}/{wAb[p, p]})\")\n",
    "\n",
    "        wAb[i] = wAb[i] - (wAb[p] * wAb[i, p] / wAb[p, p])\n",
    "\n",
    "        print(f\"R{_i} = {wAb[i]}\")\n",
    "\n",
    "        wAb = np.round(wAb, dp)\n",
    "        print(\"Ab=\\n\", wAb)\n",
    "\n",
    "print(\"Ab=\\n\", wAb)"
   ]
  },
  {
   "cell_type": "code",
   "execution_count": 10,
   "metadata": {},
   "outputs": [
    {
     "name": "stdout",
     "output_type": "stream",
     "text": [
      "\n",
      "i= 5, m=5\n",
      "x5 = -36.71\n",
      "x5 = x5 / T55\n",
      "x5 = -36.71 / -56.47\n",
      "x5 = 0.6500796883300868\n",
      "x5 = 0.65\n",
      "\n",
      "i= 4, m=5\n",
      "x4 = 4.68\n",
      "x4 = x4 - (T45 * x5)\n",
      "x4 = 4.68 - (7.56 * 0.65)\n",
      "x4 = -0.23399999999999999\n",
      "x4 = x4 / T44\n",
      "x4 = -0.23399999999999999 / -1.02\n",
      "x4 = 0.22941176470588234\n",
      "x4 = 0.23\n",
      "\n",
      "i= 3, m=5\n",
      "x3 = 6.16\n",
      "x3 = x3 - (T34 * x4)\n",
      "x3 = 6.16 - (-8.0 * 0.23)\n",
      "x3 = 8.0\n",
      "x3 = x3 - (T35 * x5)\n",
      "x3 = 8.0 - (4.4 * 0.65)\n",
      "x3 = 5.14\n",
      "x3 = x3 / T33\n",
      "x3 = 5.14 / -10.54\n",
      "x3 = -0.4876660341555977\n",
      "x3 = -0.49\n",
      "\n",
      "i= 2, m=5\n",
      "x2 = -40.5\n",
      "x2 = x2 - (T23 * x3)\n",
      "x2 = -40.5 - (35.0 * -0.49)\n",
      "x2 = -23.35\n",
      "x2 = x2 - (T24 * x4)\n",
      "x2 = -23.35 - (0.0 * 0.23)\n",
      "x2 = -23.35\n",
      "x2 = x2 - (T25 * x5)\n",
      "x2 = -23.35 - (-8.5 * 0.65)\n",
      "x2 = -17.825000000000003\n",
      "x2 = x2 / T22\n",
      "x2 = -17.825000000000003 / 28.5\n",
      "x2 = -0.6254385964912281\n",
      "x2 = -0.63\n",
      "\n",
      "i= 1, m=5\n",
      "x1 = 7.0\n",
      "x1 = x1 - (T12 * x2)\n",
      "x1 = 7.0 - (-7.0 * -0.63)\n",
      "x1 = 2.59\n",
      "x1 = x1 - (T13 * x3)\n",
      "x1 = 2.59 - (-6.0 * -0.49)\n",
      "x1 = -0.3500000000000001\n",
      "x1 = x1 - (T14 * x4)\n",
      "x1 = -0.3500000000000001 - (0.0 * 0.23)\n",
      "x1 = -0.3500000000000001\n",
      "x1 = x1 - (T15 * x5)\n",
      "x1 = -0.3500000000000001 - (3.0 * 0.65)\n",
      "x1 = -2.3000000000000003\n",
      "x1 = x1 / T11\n",
      "x1 = -2.3000000000000003 / -2.0\n",
      "x1 = 1.1500000000000001\n",
      "x1 = 1.15\n",
      "\n",
      "x=\n",
      " [[ 1.15]\n",
      " [-0.63]\n",
      " [-0.49]\n",
      " [ 0.23]\n",
      " [ 0.65]]\n"
     ]
    }
   ],
   "source": [
    "# backward substitution\n",
    "T = wAb.copy()\n",
    "\n",
    "m, n = T.shape\n",
    "x = np.zeros_like(b).astype(float)\n",
    "\n",
    "for i in range(m - 1, -1, -1):\n",
    "    _i = i + 1\n",
    "    print(f\"\\ni= {_i}, m={m}\")\n",
    "    x[i] = T[i, m]\n",
    "    print(f\"x{_i} = {x[i,0]}\")\n",
    "\n",
    "    for j in range(_i, m):\n",
    "        _j = j + 1\n",
    "        print(f\"x{_i} = x{_i} - (T{_i}{_j} * x{_j})\")\n",
    "        print(f\"x{_i} = {x[i,0]} - ({T[i,j]} * {x[j,0]})\")\n",
    "\n",
    "        x[i] -= T[i, j] * x[j]\n",
    "        print(f\"x{_i} = {x[i,0]}\")\n",
    "\n",
    "    print(f\"x{_i} = x{_i} / T{_i}{_i}\")\n",
    "    print(f\"x{_i} = {x[i,0]} / {T[i,i]}\")\n",
    "    x[i] /= T[i, i]\n",
    "    print(f\"x{_i} = {x[i,0]}\")\n",
    "\n",
    "    x[i] = np.round(x[i], dp)\n",
    "    print(f\"x{_i} = {x[i,0]}\")\n",
    "\n",
    "print(\"\\nx=\\n\", x)"
   ]
  },
  {
   "cell_type": "code",
   "execution_count": 11,
   "metadata": {},
   "outputs": [
    {
     "name": "stdout",
     "output_type": "stream",
     "text": [
      "g. Determinant=  -162\n",
      "h. rank=  5\n",
      "i. A is full rank=  True\n"
     ]
    }
   ],
   "source": [
    "# determinant\n",
    "D = -(1**k)\n",
    "for p in range(m):\n",
    "    D *= Ab[p, p]\n",
    "\n",
    "print(\"g. Determinant= \", D)\n",
    "\n",
    "# rank\n",
    "r = 0\n",
    "for p in range(m):\n",
    "    if Ab[p, p] != 0:\n",
    "        r += 1\n",
    "\n",
    "print(\"h. rank= \", r)\n",
    "print(\"i. A is full rank= \", r == m)"
   ]
  },
  {
   "cell_type": "code",
   "execution_count": 12,
   "metadata": {},
   "outputs": [
    {
     "name": "stdout",
     "output_type": "stream",
     "text": [
      "5a. Extract matrix C (3×3) from the coefficient A, in question 4 starting with element a_11 to a_33\n",
      "C= \n",
      " [[-2 -7 -6]\n",
      " [-9 -3  8]\n",
      " [-7  2  1]]\n"
     ]
    }
   ],
   "source": [
    "print(\n",
    "    \"5a. Extract matrix C (3×3) from the coefficient A, in question 4 starting with element a_11 to a_33\"\n",
    ")\n",
    "\n",
    "m = n = 3\n",
    "C = A[0:m, 0:n]\n",
    "print(\"C= \\n\", C)"
   ]
  },
  {
   "cell_type": "code",
   "execution_count": 13,
   "metadata": {},
   "outputs": [
    {
     "name": "stdout",
     "output_type": "stream",
     "text": [
      "Find the determinant of matrix C\t\n",
      "Sub-matrice \n",
      "\n",
      "c11 = -2\n",
      "C1 = \n",
      "[[-3  8]\n",
      " [ 2  1]]\n",
      "d1 = -2 * -19 = 38\n",
      "\n",
      "c12 = -7\n",
      "C2 = \n",
      "[[-9  8]\n",
      " [-7  1]]\n",
      "d2 = 7 * 47 = 329\n",
      "\n",
      "c13 = -6\n",
      "C3 = \n",
      "[[-9 -3]\n",
      " [-7  2]]\n",
      "d3 = -6 * -39 = 234\n",
      "\n",
      "D =  601\n"
     ]
    }
   ],
   "source": [
    "print(\"Find the determinant of matrix C\t\")\n",
    "\n",
    "olist = []\n",
    "alist = []\n",
    "\n",
    "for i in range(m):\n",
    "    _i = i + 1\n",
    "    o = C[0, i]\n",
    "    olist.append(o)\n",
    "    a = C.copy()\n",
    "    a = np.delete(a, 0, 0)\n",
    "    a = np.delete(a, i, 1)\n",
    "    alist.append(a.copy())\n",
    "\n",
    "print(\"Sub-matrice \")\n",
    "detC = 0\n",
    "for i in range(m):\n",
    "    _i = i + 1\n",
    "    o = olist[i]\n",
    "    s = alist[i]\n",
    "    d1 = ((-1) ** i) * o\n",
    "    d2 = s[0, 0] * s[1, 1] - s[0, 1] * s[1, 0]\n",
    "    d = d1 * d2\n",
    "    print()\n",
    "    print(f\"c1{_i} = {o}\")\n",
    "    print(f\"C{_i} = \\n{s}\")\n",
    "    print(f\"d{_i} = {d1} * {d2} = {d}\")\n",
    "\n",
    "    detC += d\n",
    "print(\"\\nD = \", detC)"
   ]
  },
  {
   "cell_type": "code",
   "execution_count": 14,
   "metadata": {},
   "outputs": [
    {
     "name": "stdout",
     "output_type": "stream",
     "text": [
      "What is the Rank of C\n",
      "rank=  3\n"
     ]
    }
   ],
   "source": [
    "print(\"What is the Rank of C\")\n",
    "r = 0\n",
    "if detC > 0 or detC < 0:\n",
    "    m, n = C.shape\n",
    "    r = m\n",
    "\n",
    "print(\"rank= \", r)"
   ]
  },
  {
   "cell_type": "code",
   "execution_count": 15,
   "metadata": {},
   "outputs": [
    {
     "name": "stdout",
     "output_type": "stream",
     "text": [
      "Find the inverse of matrix C\n",
      "C= \n",
      " [[-2 -7 -6]\n",
      " [-9 -3  8]\n",
      " [-7  2  1]]\n",
      "Find co-factor of C\n",
      "\n",
      "c11 = -2\n",
      "C11 = \n",
      "[[-3  8]\n",
      " [ 2  1]]\n",
      "d11 = 1 * -19 = -19\n",
      "\n",
      "c12 = -7\n",
      "C12 = \n",
      "[[-9  8]\n",
      " [-7  1]]\n",
      "d12 = -1 * 47 = -47\n",
      "\n",
      "c13 = -6\n",
      "C13 = \n",
      "[[-9 -3]\n",
      " [-7  2]]\n",
      "d13 = 1 * -39 = -39\n",
      "\n",
      "c21 = -9\n",
      "C21 = \n",
      "[[-7 -6]\n",
      " [ 2  1]]\n",
      "d21 = -1 * 5 = -5\n",
      "\n",
      "c22 = -3\n",
      "C22 = \n",
      "[[-2 -6]\n",
      " [-7  1]]\n",
      "d22 = 1 * -44 = -44\n",
      "\n",
      "c23 = 8\n",
      "C23 = \n",
      "[[-2 -7]\n",
      " [-7  2]]\n",
      "d23 = -1 * -53 = 53\n",
      "\n",
      "c31 = -7\n",
      "C31 = \n",
      "[[-7 -6]\n",
      " [-3  8]]\n",
      "d31 = 1 * -74 = -74\n",
      "\n",
      "c32 = 2\n",
      "C32 = \n",
      "[[-2 -6]\n",
      " [-9  8]]\n",
      "d32 = -1 * -70 = 70\n",
      "\n",
      "c33 = 1\n",
      "C33 = \n",
      "[[-2 -7]\n",
      " [-9 -3]]\n",
      "d33 = 1 * -57 = -57\n",
      "Co-factor= \n",
      " [[-19 -47 -39]\n",
      " [ -5 -44  53]\n",
      " [-74  70 -57]]\n",
      "Adj= \n",
      " [[-19  -5 -74]\n",
      " [-47 -44  70]\n",
      " [-39  53 -57]]\n",
      "\n",
      "det C =  601\n",
      "invA = \n",
      " [[-0.03161398 -0.00831947 -0.12312812]\n",
      " [-0.078203   -0.07321131  0.11647255]\n",
      " [-0.06489185  0.08818636 -0.09484193]]\n",
      "=check==========================\n"
     ]
    },
    {
     "data": {
      "text/plain": [
       "array([[-0.03161398, -0.00831947, -0.12312812],\n",
       "       [-0.078203  , -0.07321131,  0.11647255],\n",
       "       [-0.06489185,  0.08818636, -0.09484193]])"
      ]
     },
     "execution_count": 15,
     "metadata": {},
     "output_type": "execute_result"
    }
   ],
   "source": [
    "print(\"Find the inverse of matrix C\")\n",
    "\n",
    "m, n = C.shape\n",
    "\n",
    "print(\"C= \\n\", C)\n",
    "\n",
    "\n",
    "if m != n:\n",
    "    exit\n",
    "\n",
    "print(\"Find co-factor of C\")\n",
    "\n",
    "olist = []\n",
    "slist = []\n",
    "\n",
    "Cf = np.zeros_like(C)\n",
    "\n",
    "isign = 0\n",
    "\n",
    "for i in range(m):\n",
    "    _i = i + 1\n",
    "    for j in range(n):\n",
    "        _j = j + 1\n",
    "        o = C[i, j]\n",
    "        olist.append(o)\n",
    "        s = C.copy()\n",
    "        s = np.delete(s, i, 0)\n",
    "        s = np.delete(s, j, 1)\n",
    "        slist.append(s.copy())\n",
    "\n",
    "        #\n",
    "        d1 = (-1) ** isign\n",
    "        d2 = s[0, 0] * s[1, 1] - s[0, 1] * s[1, 0]\n",
    "        d = d1 * d2\n",
    "        print()\n",
    "        print(f\"c{_i}{_j} = {o}\")\n",
    "        print(f\"C{_i}{_j} = \\n{s}\")\n",
    "        print(f\"d{_i}{_j} = {d1} * {d2} = {d}\")\n",
    "\n",
    "        Cf[i, j] = d\n",
    "\n",
    "        isign = isign + 1\n",
    "\n",
    "print(\"Co-factor= \\n\", Cf)\n",
    "\n",
    "Adj = Cf.T\n",
    "print(\"Adj= \\n\", Adj)\n",
    "\n",
    "print(\"\\ndet C = \", detC)\n",
    "\n",
    "invA = Adj / detC\n",
    "print(\"invA = \\n\", invA)\n",
    "\n",
    "# check\n",
    "print(\"=check==========================\")\n",
    "np.linalg.inv(C)"
   ]
  },
  {
   "cell_type": "code",
   "execution_count": 16,
   "metadata": {},
   "outputs": [
    {
     "name": "stdout",
     "output_type": "stream",
     "text": [
      "Find the eigen values of sub-matrix E from C and order 2×2 (starting with element c_11 to c_22).\n",
      "E = \n",
      " [[-2 -7]\n",
      " [-9 -3]]\n"
     ]
    }
   ],
   "source": [
    "print(\n",
    "    \"Find the eigen values of sub-matrix E from C and order 2×2 (starting with element c_11 to c_22).\"\n",
    ")\n",
    "\n",
    "E = C[:2, :2]\n",
    "\n",
    "print(\"E = \\n\", E)"
   ]
  },
  {
   "cell_type": "code",
   "execution_count": 17,
   "metadata": {},
   "outputs": [
    {
     "name": "stdout",
     "output_type": "stream",
     "text": [
      "I = \n",
      " [[1. 0.]\n",
      " [0. 1.]]\n"
     ]
    }
   ],
   "source": [
    "I = np.identity(2)\n",
    "\n",
    "print(\"I = \\n\", I)"
   ]
  },
  {
   "cell_type": "code",
   "execution_count": 18,
   "metadata": {},
   "outputs": [
    {
     "name": "stdout",
     "output_type": "stream",
     "text": [
      "|A - yI| = 0\n",
      "\n",
      "|[[-2 -7]\n",
      " [-9 -3]] - y[[1. 0.]\n",
      " [0. 1.]]| = 0\n"
     ]
    }
   ],
   "source": [
    "print(f\"|A - yI| = 0\")\n",
    "\n",
    "print()\n",
    "\n",
    "print(f\"|{E} - y{I}| = 0\")"
   ]
  },
  {
   "cell_type": "code",
   "execution_count": 19,
   "metadata": {},
   "outputs": [
    {
     "data": {
      "text/plain": [
       "array([-10.45298686,   5.45298686])"
      ]
     },
     "execution_count": 19,
     "metadata": {},
     "output_type": "execute_result"
    }
   ],
   "source": [
    "# coeff = [3.2, 2, 1]\n",
    "# np.roots(coeff)\n",
    "import numpy.polynomial.polynomial as poly\n",
    "\n",
    "poly.polyroots([-57, 5, 1])"
   ]
  },
  {
   "cell_type": "code",
   "execution_count": 20,
   "metadata": {},
   "outputs": [
    {
     "data": {
      "text/plain": [
       "(5.452986860293433, -10.452986860293432)"
      ]
     },
     "execution_count": 20,
     "metadata": {},
     "output_type": "execute_result"
    }
   ],
   "source": [
    "import math\n",
    "\n",
    "a = 1\n",
    "b = 5\n",
    "c = -57\n",
    "\n",
    "D = b**2 - 4 * a * c\n",
    "x1 = (-b + math.sqrt(D)) / (2 * a)\n",
    "x2 = (-b - math.sqrt(D)) / (2 * a)\n",
    "\n",
    "x1, x2"
   ]
  },
  {
   "cell_type": "code",
   "execution_count": null,
   "metadata": {},
   "outputs": [],
   "source": []
  },
  {
   "cell_type": "code",
   "execution_count": 21,
   "metadata": {},
   "outputs": [
    {
     "ename": "TypeError",
     "evalue": "'int' object is not subscriptable",
     "output_type": "error",
     "traceback": [
      "\u001b[1;31m---------------------------------------------------------------------------\u001b[0m",
      "\u001b[1;31mTypeError\u001b[0m                                 Traceback (most recent call last)",
      "Cell \u001b[1;32mIn[21], line 1\u001b[0m\n\u001b[1;32m----> 1\u001b[0m quick_check(C, b[:\u001b[39m3\u001b[39;49m], X[:\u001b[39m3\u001b[39m])\n",
      "\u001b[1;31mTypeError\u001b[0m: 'int' object is not subscriptable"
     ]
    }
   ],
   "source": [
    "quick_check(C, b[:3], X[:3])"
   ]
  },
  {
   "cell_type": "code",
   "execution_count": null,
   "metadata": {},
   "outputs": [],
   "source": [
    "E = A[:2, :2]\n",
    "\n",
    "# eigen\n",
    "ei_val, ei_vec = np.linalg.eig(E)\n",
    "\n",
    "print(\"E= \\n\", E)\n",
    "\n",
    "print(\"ei_val= \\n\", ei_val)\n",
    "print(\"ei_vec= \\n\", ei_vec)"
   ]
  },
  {
   "cell_type": "code",
   "execution_count": null,
   "metadata": {},
   "outputs": [],
   "source": [
    "n = 4\n",
    "An = A[:n, :n]\n",
    "Dn = np.linalg.det(An)\n",
    "print(\"D0= \", Dn)"
   ]
  },
  {
   "cell_type": "code",
   "execution_count": null,
   "metadata": {},
   "outputs": [],
   "source": [
    "from sympy import *\n",
    "\n",
    "AA = Matrix(\n",
    "    (\n",
    "        (-2, -7, -6, 0, 3),\n",
    "        (-9, -3, 8, 0, 5),\n",
    "        (-7, 2, 1, -8, 7),\n",
    "        (1, 4, 1, -3, 7),\n",
    "        (0, -2, -3, -6, -9),\n",
    "    )\n",
    ")\n",
    "AA"
   ]
  },
  {
   "cell_type": "code",
   "execution_count": null,
   "metadata": {},
   "outputs": [],
   "source": [
    "xx = Matrix(\n",
    "    (\n",
    "        (\"a\"),\n",
    "        (\"b\"),\n",
    "        (\"c\"),\n",
    "        (\"d\"),\n",
    "        (\"e\"),\n",
    "    )\n",
    ")\n",
    "xx"
   ]
  },
  {
   "cell_type": "code",
   "execution_count": null,
   "metadata": {},
   "outputs": [],
   "source": [
    "bb = Matrix(\n",
    "    (\n",
    "        (7),\n",
    "        (-9),\n",
    "        (-7),\n",
    "        (2),\n",
    "        (-5),\n",
    "    )\n",
    ")\n",
    "bb"
   ]
  },
  {
   "cell_type": "code",
   "execution_count": null,
   "metadata": {},
   "outputs": [],
   "source": [
    "MM = AA.col_insert(5, bb)\n",
    "\n",
    "v, w, x, y, z = symbols(\"v,w,x,y,z\")\n",
    "\n",
    "system = MM[:, :-1], MM[:, -1]\n",
    "\n",
    "linsolve(system, v, w, x, y, z)"
   ]
  },
  {
   "cell_type": "code",
   "execution_count": null,
   "metadata": {},
   "outputs": [],
   "source": [
    "MM.rref()"
   ]
  },
  {
   "cell_type": "code",
   "execution_count": null,
   "metadata": {},
   "outputs": [],
   "source": [
    "d = AA.det()\n",
    "print(d)"
   ]
  },
  {
   "cell_type": "code",
   "execution_count": null,
   "metadata": {},
   "outputs": [],
   "source": [
    "EE = MM[:2, :2]\n",
    "\n",
    "EE"
   ]
  },
  {
   "cell_type": "code",
   "execution_count": null,
   "metadata": {},
   "outputs": [],
   "source": [
    "EE.eigenvals()"
   ]
  },
  {
   "cell_type": "code",
   "execution_count": null,
   "metadata": {},
   "outputs": [],
   "source": [
    "EE.eigenvects()"
   ]
  },
  {
   "cell_type": "code",
   "execution_count": null,
   "metadata": {},
   "outputs": [],
   "source": [
    "from sympy import roots\n",
    "from sympy.abc import x, a, b, c\n",
    "\n",
    "roots(1 * x**2 + 5 * x - 57, x)"
   ]
  },
  {
   "cell_type": "code",
   "execution_count": null,
   "metadata": {},
   "outputs": [],
   "source": [
    "import numpy as np\n",
    "\n",
    "x = np.array(\n",
    "    [\n",
    "        [\"a\"],\n",
    "        [\"b\"],\n",
    "        [\"c\"],\n",
    "        [\"d\"],\n",
    "        [\"e\"],\n",
    "    ]\n",
    ")\n",
    "print(\"x=\\n\", x)\n",
    "\n",
    "Ax = np.append(A, x, axis=1)\n",
    "Axb = np.append(Ax, b, axis=1)\n",
    "\n",
    "print(\"a. A.x=b \\n\", Axb)\n",
    "\n",
    "print(\"b. order of A:\", A.shape)\n",
    "print(\"c. order of b:\", b.shape)\n",
    "\n",
    "x[:] = \"|\"\n",
    "Ax = np.append(A, x, axis=1)\n",
    "Axb = np.append(Ax, b, axis=1)\n",
    "\n",
    "print(\"d. Ab: \\n\", Axb)\n",
    "\n",
    "Ab = np.append(A, b, axis=1)\n",
    "print(\"e. order of Ab: \", Ab.shape)\n",
    "\n",
    "Ab = np.append(A.astype(float), b.astype(float), axis=1)\n",
    "# Ab = np.append(A, b, axis=1)\n",
    "\n",
    "M, N = Ab.shape\n",
    "P = M - 1\n",
    "k = 0\n",
    "i = 0\n",
    "j = 0\n",
    "p = 0\n",
    "print(\"Ab=\\n\", Ab)\n",
    "\n",
    "for p in range(P):\n",
    "    if Ab[p, p] == 0:\n",
    "        for j in range(p + 1, M):\n",
    "            if Ab[j, p] != 0:\n",
    "                temp = Ab[j].copy()\n",
    "                Ab[j] = Ab[p]\n",
    "                Ab[p] = temp\n",
    "                k += 1\n",
    "                print(\"p=\", p + 1, \"k=\", k)\n",
    "                print(\"Ab=\\n\", Ab)\n",
    "                break\n",
    "\n",
    "    for i in range(p + 1, M):\n",
    "        Ab[i] = Ab[i] - (Ab[p] * Ab[i, p] / Ab[p, p])\n",
    "\n",
    "        print(\"p=\", p + 1, \"i=\", i + 1)\n",
    "        print(\"Ab=\\n\", Ab)\n",
    "\n",
    "print(\"Ab=\\n\", Ab)\n",
    "\n",
    "# backward substitution\n",
    "x = np.zeros_like(b).astype(float)\n",
    "for i in range(M - 1, 0, -1):\n",
    "    x[i] = Ab[i, M]\n",
    "    for j in range(i + 1, M):\n",
    "        x[i] -= Ab[i, j] * x[j]\n",
    "\n",
    "    x[i] /= Ab[i, i]\n",
    "\n",
    "print(\"g. x=\\n\", x)\n",
    "\n",
    "# determinant\n",
    "D = -(1**k)\n",
    "for p in range(M):\n",
    "    D *= Ab[p, p]\n",
    "\n",
    "print(\"g. Determinant= \", D)\n",
    "\n",
    "# rank\n",
    "r = 0\n",
    "for p in range(M):\n",
    "    if Ab[p, p] != 0:\n",
    "        r += 1\n",
    "\n",
    "print(\"h. rank= \", r)\n",
    "print(\"i. A is full rank= \", r == M)\n",
    "\n",
    "\n",
    "# eigen matrix\n",
    "Ne = 2\n",
    "E = A[:Ne, :Ne]\n",
    "print(\"E=\\n\", E)\n",
    "\n",
    "Ev = np.linalg.eig(E)\n",
    "\n",
    "print(Ev[0])\n",
    "\n",
    "for i in range(len(Ev[0])):\n",
    "    print(\"eigen value: \", Ev[0][i])\n",
    "    print(\"eigen vector: \\n\", (Ev[1][:, i].reshape(Ne, 1)))\n",
    "    y = Ev[1][:, i] / Ev[1][0, i]\n",
    "    print(\"eigen vector: \\n\", y.reshape(Ne, 1))\n",
    "\n",
    "Ev"
   ]
  },
  {
   "cell_type": "code",
   "execution_count": null,
   "metadata": {},
   "outputs": [],
   "source": [
    "np.linalg.solve(A, b)"
   ]
  },
  {
   "cell_type": "code",
   "execution_count": null,
   "metadata": {},
   "outputs": [],
   "source": [
    "np.linalg.det(A)"
   ]
  },
  {
   "cell_type": "code",
   "execution_count": null,
   "metadata": {},
   "outputs": [],
   "source": []
  }
 ],
 "metadata": {
  "kernelspec": {
   "display_name": "Python 3.10.5 64-bit",
   "language": "python",
   "name": "python3"
  },
  "language_info": {
   "codemirror_mode": {
    "name": "ipython",
    "version": 3
   },
   "file_extension": ".py",
   "mimetype": "text/x-python",
   "name": "python",
   "nbconvert_exporter": "python",
   "pygments_lexer": "ipython3",
   "version": "3.11.2"
  },
  "orig_nbformat": 4,
  "vscode": {
   "interpreter": {
    "hash": "daf545e9c8d1f6d971c9121d175f68d500da6da1b984137958b2bb126fd81e67"
   }
  }
 },
 "nbformat": 4,
 "nbformat_minor": 2
}
