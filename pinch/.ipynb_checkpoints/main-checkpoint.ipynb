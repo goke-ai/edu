{
 "cells": [
  {
   "cell_type": "code",
   "execution_count": null,
   "id": "daeaa65a-ff88-4e32-8106-a4b347f5c2f4",
   "metadata": {},
   "outputs": [],
   "source": [
    "!pip install -q numpy\n",
    "!pip install -q scipy\n",
    "!pip install -q matplotlib\n",
    "!pip install -q pandas\n",
    "!pip install -q sympy"
   ]
  },
  {
   "cell_type": "code",
   "execution_count": null,
   "id": "01b75c59-96d8-4c36-91f3-babee5519374",
   "metadata": {},
   "outputs": [],
   "source": [
    "dictData = {\n",
    "    \"StreamNo\":[1,2,3,4],\n",
    "    \"Type\":['hot', 'cold', 'hot', 'cold'],\n",
    "    \"CP\":[3.0,1.0,2.0,4.5],\n",
    "    \"Ts\":[180,150,20,80],\n",
    "    \"Tt\":[60,30,135,140],\n",
    "}\n",
    "dictData"
   ]
  },
  {
   "cell_type": "code",
   "execution_count": null,
   "id": "71fba69c-0cb7-4165-8feb-687ce27f28a3",
   "metadata": {},
   "outputs": [],
   "source": []
  }
 ],
 "metadata": {
  "kernelspec": {
   "display_name": "Python 3 (ipykernel)",
   "language": "python",
   "name": "python3"
  },
  "language_info": {
   "codemirror_mode": {
    "name": "ipython",
    "version": 3
   },
   "file_extension": ".py",
   "mimetype": "text/x-python",
   "name": "python",
   "nbconvert_exporter": "python",
   "pygments_lexer": "ipython3",
   "version": "3.9.6"
  },
  "toc-autonumbering": true,
  "toc-showcode": false,
  "toc-showmarkdowntxt": false
 },
 "nbformat": 4,
 "nbformat_minor": 5
}
